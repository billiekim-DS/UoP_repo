{
 "cells": [
  {
   "cell_type": "markdown",
   "metadata": {
    "id": "OGYgp_L0Mg8I"
   },
   "source": [
    "# Predicting NFL Vested Veterans: 3YearsThreshold Classifier\n",
    "\n",
    "Billie Kim\n",
    "\n",
    "Casey Ng\n",
    "\n",
    "Ethan Panal\n",
    "\n",
    "Data Source: https://www.kaggle.com/datasets/trevyoungquist/2020-nfl-stats-active-and-retired-players"
   ]
  },
  {
   "cell_type": "markdown",
   "metadata": {
    "id": "VJQ7FUhWBZaL"
   },
   "source": [
    "## Objective of Analysis\n",
    "**Target Audience: NFL Team Managers**\n",
    "\n",
    "This analysis aims to uncover insights on NFL offensive player career length and predict career longevity based on a player's rookie season. This can provide NFL team managers with valuable information to enhance their roster strategy and manage their salary budget appropriately. Specifically, for players who are \"vested veterans,\" meaning they have played at least 3 NFL seasons, teams are required to provide them with more benefits such as a pension, health insurance, 401K, life insurance, etc. This requires careful planning by teams to budget based on expected career length. Some questions this analysis will help reveal include:\n",
    "* What are the average career lengths for offensive players?\n",
    "* Do most rookies who have played in an NFL game and have registered at least one in-game statistic make it at least 3 years in the NFL?\n",
    "* Which offensive rookie statistics are more correlated with a longer career in the NFL?\n",
    "* Can a predictive model accurately predict if a rookie will become a vested veteran (at least 3 years in the league)?\n",
    "* Which type of predictive model is best for predicting longevity for a rookie?\n"
   ]
  },
  {
   "cell_type": "markdown",
   "metadata": {
    "id": "GQAq4c6J88W7"
   },
   "source": [
    "**Dataset:**\n",
    "This dataset was sourced from Kaggle.com and was scraped from basic and career statistics on the NFL’s official website. The original dataset includes statistics for active players and over 40,000 retired players from 1920 - 2018. The dataset only includes players with statistics on the NFL website, i.e. they have registered at least one in game statistics. For the purposes of this analysis, the missing data for rookies without statistics (Missing data not at random) is not a concern since team managers would only be interested in evaluating career longevity on players that have earned a coach’s trust with enough talent and skill to play in a game."
   ]
  },
  {
   "cell_type": "markdown",
   "metadata": {
    "id": "IoDTAIkZM4R1"
   },
   "source": [
    "## Contents\n",
    "1. [Data Exploration](#1.-Data-Exploration)\n",
    "2. [Data Wrangling](#2.-Data-Wrangling)\n",
    "  * [2.1 Merge 1](#2.1-Merge-1)\n",
    "  * [2.2 Merge 2](#2.2-Merge-2)\n",
    "3. [Data Cleaning](#3.-Data-Cleaning)\n",
    "  * [3.1 Height and Weight](#3.1-Height-and-Weight)\n",
    "  * [3.2 Positions](#3.1-Positions)\n",
    "4. [Exploratory Data Analysis](#4.-Exploratory-Data-Analysis)\n",
    "  * [4.1 Countplot of Target Feature](#4.1-Countplot-of-Target-Feature)\n",
    "  * [4.2 Distributions of Numerical Variables](#4.2-Distributions-of-Numerical-Variables)\n",
    "  * [4.3 Feature Correlation Heatmap](#4.3-Feature-Correlation-Heatmap)\n",
    "  * [4.4 Barplot of NumYearsPlayed by Position](#4.4-Barplot-of-NumYearsPlayed-by-Position)\n",
    "  * [4.5 Barplot of New Players by Year](#4.5-Barplot-of-New-Players-by-Year)\n",
    "5. [Preprocessing](#5.-Preprocessing)\n",
    "  * [5.1 Scale Numerical Features](#5.1-Scale-Numerical-Features)\n",
    "  * [5.2 Encode Target Feature](#5.2-Encode-Target-Feature)\n",
    "  * [5.3 Split Train & Test Sets](#5.3-Split-Train-&-Test-Sets)\n",
    "  * [5.4 Feature Selection](#5.4-Feature-Selection)\n",
    "6. [Modeling](#6.-Modeling)\n",
    "  * [6.1 Baseline Accuracy](#6.1-Baseline-Accuracy)\n",
    "  * [6.2 Machine Learning Algorithm Comparison](#6.2-Machine-Learning-Algorithm-Comparison)\n",
    "  * [6.3 Random Forest Model](#6.3-Random-Forest-Model)\n",
    "  * [6.4 Gradient Boosting Model](#6.4-Gradient-Boosting-Model)\n",
    "  * [6.5 SVC Model](#6.5-SVC-Model)\n",
    "7. [Performance Metrics Evaluation](#7.-Performance-Metrics-Evaluation)\n",
    "8. [Modeling Scenario: Active Players](#8.-Modeling-Scenario:-Active-Players)\n",
    "9. [Conclusion](#9.-Conclusion)\n",
    "10. [References](#10.-References)"
   ]
  },
  {
   "cell_type": "code",
   "execution_count": 1,
   "metadata": {
    "id": "kQpmHSNxNP0F"
   },
   "outputs": [],
   "source": [
    "# imports\n",
    "import pandas as pd\n",
    "import numpy as np\n",
    "import seaborn as sns\n",
    "import matplotlib.pyplot as plt\n",
    "from sklearn.preprocessing import StandardScaler, LabelEncoder\n",
    "from sklearn.feature_selection import SelectKBest, f_classif\n",
    "from sklearn.ensemble import RandomForestClassifier\n",
    "from sklearn.linear_model import LogisticRegression\n",
    "from sklearn.metrics import classification_report, confusion_matrix, accuracy_score, recall_score, precision_score, f1_score\n",
    "from sklearn.ensemble import RandomForestClassifier,GradientBoostingClassifier\n",
    "from sklearn.neighbors import KNeighborsClassifier\n",
    "from sklearn.naive_bayes import GaussianNB\n",
    "from sklearn.model_selection import train_test_split, cross_val_score, RandomizedSearchCV, GridSearchCV\n",
    "from sklearn.tree import DecisionTreeClassifier, export_text\n",
    "from sklearn import metrics, tree, svm\n",
    "import warnings\n",
    "warnings.filterwarnings('ignore')\n",
    "\n",
    "%matplotlib inline"
   ]
  },
  {
   "cell_type": "markdown",
   "metadata": {
    "id": "C5F-hbknA03N"
   },
   "source": [
    "## 1. Data Exploration"
   ]
  },
  {
   "cell_type": "code",
   "execution_count": 2,
   "metadata": {
    "id": "iAW5Zwwcz3nx"
   },
   "outputs": [],
   "source": [
    "# from google.colab import drive\n",
    "# drive.mount('/content/drive')"
   ]
  },
  {
   "cell_type": "code",
   "execution_count": 3,
   "metadata": {
    "id": "oFO55KFWNhlN"
   },
   "outputs": [],
   "source": [
    "# read in data files\n",
    "df_basic = pd.read_csv('/content/Retired_Player_Basic_Stats.csv')\n",
    "df_rush = pd.read_csv('/content/RetiredPlayer_Rushing_Stats.csv')\n",
    "df_receive = pd.read_csv('/content/RetiredPlayer_Receiving_Stats.csv')"
   ]
  },
  {
   "cell_type": "markdown",
   "metadata": {
    "id": "EvyDoCwu9qbv"
   },
   "source": [
    "**Comment:** The data is separated by statistic type. We'll import basic, rushing, and receiving statistics and later join together on the player's ID."
   ]
  },
  {
   "cell_type": "code",
   "execution_count": 4,
   "metadata": {
    "colab": {
     "base_uri": "https://localhost:8080/",
     "height": 206
    },
    "id": "NX95c_JzjDYi",
    "outputId": "bca083d9-e91b-4dcc-ad9e-7f80a72b989c"
   },
   "outputs": [
    {
     "data": {
      "text/html": [
       "\n",
       "  <div id=\"df-1091a819-49cb-4654-8de5-40ca36f4ed5b\" class=\"colab-df-container\">\n",
       "    <div>\n",
       "<style scoped>\n",
       "    .dataframe tbody tr th:only-of-type {\n",
       "        vertical-align: middle;\n",
       "    }\n",
       "\n",
       "    .dataframe tbody tr th {\n",
       "        vertical-align: top;\n",
       "    }\n",
       "\n",
       "    .dataframe thead th {\n",
       "        text-align: right;\n",
       "    }\n",
       "</style>\n",
       "<table border=\"1\" class=\"dataframe\">\n",
       "  <thead>\n",
       "    <tr style=\"text-align: right;\">\n",
       "      <th></th>\n",
       "      <th>Player_Id</th>\n",
       "      <th>Year</th>\n",
       "      <th>Team</th>\n",
       "      <th>Games_Played</th>\n",
       "      <th>Attempts</th>\n",
       "      <th>Yards</th>\n",
       "      <th>Average</th>\n",
       "      <th>Long</th>\n",
       "      <th>TDs</th>\n",
       "      <th>First_Downs</th>\n",
       "      <th>First_Down_Percentage</th>\n",
       "      <th>Rushes_Over_Twenty_Yards</th>\n",
       "      <th>Rushes_Over_Forty_Yards</th>\n",
       "      <th>Fumbles</th>\n",
       "    </tr>\n",
       "  </thead>\n",
       "  <tbody>\n",
       "    <tr>\n",
       "      <th>0</th>\n",
       "      <td>abdul-karim-al-jabbar</td>\n",
       "      <td>1996</td>\n",
       "      <td>MiamiDolphins</td>\n",
       "      <td>16</td>\n",
       "      <td>307</td>\n",
       "      <td>1116</td>\n",
       "      <td>3.6</td>\n",
       "      <td>29</td>\n",
       "      <td>11</td>\n",
       "      <td>64</td>\n",
       "      <td>20.85</td>\n",
       "      <td>3</td>\n",
       "      <td>0</td>\n",
       "      <td>4</td>\n",
       "    </tr>\n",
       "    <tr>\n",
       "      <th>1</th>\n",
       "      <td>abdul-karim-al-jabbar</td>\n",
       "      <td>1997</td>\n",
       "      <td>MiamiDolphins</td>\n",
       "      <td>16</td>\n",
       "      <td>283</td>\n",
       "      <td>892</td>\n",
       "      <td>3.2</td>\n",
       "      <td>22</td>\n",
       "      <td>15</td>\n",
       "      <td>64</td>\n",
       "      <td>22.61</td>\n",
       "      <td>2</td>\n",
       "      <td>0</td>\n",
       "      <td>3</td>\n",
       "    </tr>\n",
       "    <tr>\n",
       "      <th>2</th>\n",
       "      <td>abdul-karim-al-jabbar</td>\n",
       "      <td>1998</td>\n",
       "      <td>MiamiDolphins</td>\n",
       "      <td>15</td>\n",
       "      <td>270</td>\n",
       "      <td>960</td>\n",
       "      <td>3.6</td>\n",
       "      <td>45</td>\n",
       "      <td>6</td>\n",
       "      <td>43</td>\n",
       "      <td>15.93</td>\n",
       "      <td>9</td>\n",
       "      <td>2</td>\n",
       "      <td>2</td>\n",
       "    </tr>\n",
       "    <tr>\n",
       "      <th>3</th>\n",
       "      <td>abdul-karim-al-jabbar</td>\n",
       "      <td>1999</td>\n",
       "      <td>ClevelandBrowns</td>\n",
       "      <td>13</td>\n",
       "      <td>143</td>\n",
       "      <td>445</td>\n",
       "      <td>3.1</td>\n",
       "      <td>21</td>\n",
       "      <td>1</td>\n",
       "      <td>20</td>\n",
       "      <td>13.99</td>\n",
       "      <td>1</td>\n",
       "      <td>0</td>\n",
       "      <td>0</td>\n",
       "    </tr>\n",
       "    <tr>\n",
       "      <th>4</th>\n",
       "      <td>abdul-karim-al-jabbar</td>\n",
       "      <td>2000</td>\n",
       "      <td>IndianapolisColts</td>\n",
       "      <td>1</td>\n",
       "      <td>1</td>\n",
       "      <td>-2</td>\n",
       "      <td>-2</td>\n",
       "      <td>-2</td>\n",
       "      <td>0</td>\n",
       "      <td>0</td>\n",
       "      <td>0</td>\n",
       "      <td>0</td>\n",
       "      <td>0</td>\n",
       "      <td>0</td>\n",
       "    </tr>\n",
       "  </tbody>\n",
       "</table>\n",
       "</div>\n",
       "    <div class=\"colab-df-buttons\">\n",
       "\n",
       "  <div class=\"colab-df-container\">\n",
       "    <button class=\"colab-df-convert\" onclick=\"convertToInteractive('df-1091a819-49cb-4654-8de5-40ca36f4ed5b')\"\n",
       "            title=\"Convert this dataframe to an interactive table.\"\n",
       "            style=\"display:none;\">\n",
       "\n",
       "  <svg xmlns=\"http://www.w3.org/2000/svg\" height=\"24px\" viewBox=\"0 -960 960 960\">\n",
       "    <path d=\"M120-120v-720h720v720H120Zm60-500h600v-160H180v160Zm220 220h160v-160H400v160Zm0 220h160v-160H400v160ZM180-400h160v-160H180v160Zm440 0h160v-160H620v160ZM180-180h160v-160H180v160Zm440 0h160v-160H620v160Z\"/>\n",
       "  </svg>\n",
       "    </button>\n",
       "\n",
       "  <style>\n",
       "    .colab-df-container {\n",
       "      display:flex;\n",
       "      gap: 12px;\n",
       "    }\n",
       "\n",
       "    .colab-df-convert {\n",
       "      background-color: #E8F0FE;\n",
       "      border: none;\n",
       "      border-radius: 50%;\n",
       "      cursor: pointer;\n",
       "      display: none;\n",
       "      fill: #1967D2;\n",
       "      height: 32px;\n",
       "      padding: 0 0 0 0;\n",
       "      width: 32px;\n",
       "    }\n",
       "\n",
       "    .colab-df-convert:hover {\n",
       "      background-color: #E2EBFA;\n",
       "      box-shadow: 0px 1px 2px rgba(60, 64, 67, 0.3), 0px 1px 3px 1px rgba(60, 64, 67, 0.15);\n",
       "      fill: #174EA6;\n",
       "    }\n",
       "\n",
       "    .colab-df-buttons div {\n",
       "      margin-bottom: 4px;\n",
       "    }\n",
       "\n",
       "    [theme=dark] .colab-df-convert {\n",
       "      background-color: #3B4455;\n",
       "      fill: #D2E3FC;\n",
       "    }\n",
       "\n",
       "    [theme=dark] .colab-df-convert:hover {\n",
       "      background-color: #434B5C;\n",
       "      box-shadow: 0px 1px 3px 1px rgba(0, 0, 0, 0.15);\n",
       "      filter: drop-shadow(0px 1px 2px rgba(0, 0, 0, 0.3));\n",
       "      fill: #FFFFFF;\n",
       "    }\n",
       "  </style>\n",
       "\n",
       "    <script>\n",
       "      const buttonEl =\n",
       "        document.querySelector('#df-1091a819-49cb-4654-8de5-40ca36f4ed5b button.colab-df-convert');\n",
       "      buttonEl.style.display =\n",
       "        google.colab.kernel.accessAllowed ? 'block' : 'none';\n",
       "\n",
       "      async function convertToInteractive(key) {\n",
       "        const element = document.querySelector('#df-1091a819-49cb-4654-8de5-40ca36f4ed5b');\n",
       "        const dataTable =\n",
       "          await google.colab.kernel.invokeFunction('convertToInteractive',\n",
       "                                                    [key], {});\n",
       "        if (!dataTable) return;\n",
       "\n",
       "        const docLinkHtml = 'Like what you see? Visit the ' +\n",
       "          '<a target=\"_blank\" href=https://colab.research.google.com/notebooks/data_table.ipynb>data table notebook</a>'\n",
       "          + ' to learn more about interactive tables.';\n",
       "        element.innerHTML = '';\n",
       "        dataTable['output_type'] = 'display_data';\n",
       "        await google.colab.output.renderOutput(dataTable, element);\n",
       "        const docLink = document.createElement('div');\n",
       "        docLink.innerHTML = docLinkHtml;\n",
       "        element.appendChild(docLink);\n",
       "      }\n",
       "    </script>\n",
       "  </div>\n",
       "\n",
       "\n",
       "<div id=\"df-cca2343f-a566-4320-a667-89a3f3b4d99c\">\n",
       "  <button class=\"colab-df-quickchart\" onclick=\"quickchart('df-cca2343f-a566-4320-a667-89a3f3b4d99c')\"\n",
       "            title=\"Suggest charts\"\n",
       "            style=\"display:none;\">\n",
       "\n",
       "<svg xmlns=\"http://www.w3.org/2000/svg\" height=\"24px\"viewBox=\"0 0 24 24\"\n",
       "     width=\"24px\">\n",
       "    <g>\n",
       "        <path d=\"M19 3H5c-1.1 0-2 .9-2 2v14c0 1.1.9 2 2 2h14c1.1 0 2-.9 2-2V5c0-1.1-.9-2-2-2zM9 17H7v-7h2v7zm4 0h-2V7h2v10zm4 0h-2v-4h2v4z\"/>\n",
       "    </g>\n",
       "</svg>\n",
       "  </button>\n",
       "\n",
       "<style>\n",
       "  .colab-df-quickchart {\n",
       "      --bg-color: #E8F0FE;\n",
       "      --fill-color: #1967D2;\n",
       "      --hover-bg-color: #E2EBFA;\n",
       "      --hover-fill-color: #174EA6;\n",
       "      --disabled-fill-color: #AAA;\n",
       "      --disabled-bg-color: #DDD;\n",
       "  }\n",
       "\n",
       "  [theme=dark] .colab-df-quickchart {\n",
       "      --bg-color: #3B4455;\n",
       "      --fill-color: #D2E3FC;\n",
       "      --hover-bg-color: #434B5C;\n",
       "      --hover-fill-color: #FFFFFF;\n",
       "      --disabled-bg-color: #3B4455;\n",
       "      --disabled-fill-color: #666;\n",
       "  }\n",
       "\n",
       "  .colab-df-quickchart {\n",
       "    background-color: var(--bg-color);\n",
       "    border: none;\n",
       "    border-radius: 50%;\n",
       "    cursor: pointer;\n",
       "    display: none;\n",
       "    fill: var(--fill-color);\n",
       "    height: 32px;\n",
       "    padding: 0;\n",
       "    width: 32px;\n",
       "  }\n",
       "\n",
       "  .colab-df-quickchart:hover {\n",
       "    background-color: var(--hover-bg-color);\n",
       "    box-shadow: 0 1px 2px rgba(60, 64, 67, 0.3), 0 1px 3px 1px rgba(60, 64, 67, 0.15);\n",
       "    fill: var(--button-hover-fill-color);\n",
       "  }\n",
       "\n",
       "  .colab-df-quickchart-complete:disabled,\n",
       "  .colab-df-quickchart-complete:disabled:hover {\n",
       "    background-color: var(--disabled-bg-color);\n",
       "    fill: var(--disabled-fill-color);\n",
       "    box-shadow: none;\n",
       "  }\n",
       "\n",
       "  .colab-df-spinner {\n",
       "    border: 2px solid var(--fill-color);\n",
       "    border-color: transparent;\n",
       "    border-bottom-color: var(--fill-color);\n",
       "    animation:\n",
       "      spin 1s steps(1) infinite;\n",
       "  }\n",
       "\n",
       "  @keyframes spin {\n",
       "    0% {\n",
       "      border-color: transparent;\n",
       "      border-bottom-color: var(--fill-color);\n",
       "      border-left-color: var(--fill-color);\n",
       "    }\n",
       "    20% {\n",
       "      border-color: transparent;\n",
       "      border-left-color: var(--fill-color);\n",
       "      border-top-color: var(--fill-color);\n",
       "    }\n",
       "    30% {\n",
       "      border-color: transparent;\n",
       "      border-left-color: var(--fill-color);\n",
       "      border-top-color: var(--fill-color);\n",
       "      border-right-color: var(--fill-color);\n",
       "    }\n",
       "    40% {\n",
       "      border-color: transparent;\n",
       "      border-right-color: var(--fill-color);\n",
       "      border-top-color: var(--fill-color);\n",
       "    }\n",
       "    60% {\n",
       "      border-color: transparent;\n",
       "      border-right-color: var(--fill-color);\n",
       "    }\n",
       "    80% {\n",
       "      border-color: transparent;\n",
       "      border-right-color: var(--fill-color);\n",
       "      border-bottom-color: var(--fill-color);\n",
       "    }\n",
       "    90% {\n",
       "      border-color: transparent;\n",
       "      border-bottom-color: var(--fill-color);\n",
       "    }\n",
       "  }\n",
       "</style>\n",
       "\n",
       "  <script>\n",
       "    async function quickchart(key) {\n",
       "      const quickchartButtonEl =\n",
       "        document.querySelector('#' + key + ' button');\n",
       "      quickchartButtonEl.disabled = true;  // To prevent multiple clicks.\n",
       "      quickchartButtonEl.classList.add('colab-df-spinner');\n",
       "      try {\n",
       "        const charts = await google.colab.kernel.invokeFunction(\n",
       "            'suggestCharts', [key], {});\n",
       "      } catch (error) {\n",
       "        console.error('Error during call to suggestCharts:', error);\n",
       "      }\n",
       "      quickchartButtonEl.classList.remove('colab-df-spinner');\n",
       "      quickchartButtonEl.classList.add('colab-df-quickchart-complete');\n",
       "    }\n",
       "    (() => {\n",
       "      let quickchartButtonEl =\n",
       "        document.querySelector('#df-cca2343f-a566-4320-a667-89a3f3b4d99c button');\n",
       "      quickchartButtonEl.style.display =\n",
       "        google.colab.kernel.accessAllowed ? 'block' : 'none';\n",
       "    })();\n",
       "  </script>\n",
       "</div>\n",
       "    </div>\n",
       "  </div>\n"
      ],
      "text/plain": [
       "               Player_Id  Year               Team Games_Played Attempts Yards  \\\n",
       "0  abdul-karim-al-jabbar  1996      MiamiDolphins           16      307  1116   \n",
       "1  abdul-karim-al-jabbar  1997      MiamiDolphins           16      283   892   \n",
       "2  abdul-karim-al-jabbar  1998      MiamiDolphins           15      270   960   \n",
       "3  abdul-karim-al-jabbar  1999    ClevelandBrowns           13      143   445   \n",
       "4  abdul-karim-al-jabbar  2000  IndianapolisColts            1        1    -2   \n",
       "\n",
       "  Average Long TDs First_Downs First_Down_Percentage Rushes_Over_Twenty_Yards  \\\n",
       "0     3.6   29  11          64                 20.85                        3   \n",
       "1     3.2   22  15          64                 22.61                        2   \n",
       "2     3.6   45   6          43                 15.93                        9   \n",
       "3     3.1   21   1          20                 13.99                        1   \n",
       "4      -2   -2   0           0                     0                        0   \n",
       "\n",
       "  Rushes_Over_Forty_Yards Fumbles  \n",
       "0                       0       4  \n",
       "1                       0       3  \n",
       "2                       2       2  \n",
       "3                       0       0  \n",
       "4                       0       0  "
      ]
     },
     "execution_count": 4,
     "metadata": {},
     "output_type": "execute_result"
    }
   ],
   "source": [
    "# print top rows of rush df\n",
    "df_rush.head(5)"
   ]
  },
  {
   "cell_type": "code",
   "execution_count": 5,
   "metadata": {
    "colab": {
     "base_uri": "https://localhost:8080/",
     "height": 206
    },
    "id": "g0EdwDPAjDV7",
    "outputId": "96055afa-e1f2-4c16-d47c-e29f954c88f9"
   },
   "outputs": [
    {
     "data": {
      "text/html": [
       "\n",
       "  <div id=\"df-a34103f4-b591-4e4e-9503-3e8612441e6e\" class=\"colab-df-container\">\n",
       "    <div>\n",
       "<style scoped>\n",
       "    .dataframe tbody tr th:only-of-type {\n",
       "        vertical-align: middle;\n",
       "    }\n",
       "\n",
       "    .dataframe tbody tr th {\n",
       "        vertical-align: top;\n",
       "    }\n",
       "\n",
       "    .dataframe thead th {\n",
       "        text-align: right;\n",
       "    }\n",
       "</style>\n",
       "<table border=\"1\" class=\"dataframe\">\n",
       "  <thead>\n",
       "    <tr style=\"text-align: right;\">\n",
       "      <th></th>\n",
       "      <th>Player_Id</th>\n",
       "      <th>Year</th>\n",
       "      <th>Team</th>\n",
       "      <th>Games_Played</th>\n",
       "      <th>Receptions</th>\n",
       "      <th>Yards</th>\n",
       "      <th>Average</th>\n",
       "      <th>Long</th>\n",
       "      <th>TDs</th>\n",
       "      <th>First_Downs</th>\n",
       "      <th>First_Down_Percentage</th>\n",
       "      <th>Receptions_Over_Twenty_Yards</th>\n",
       "      <th>Receptions_Over_Forty_Yards</th>\n",
       "    </tr>\n",
       "  </thead>\n",
       "  <tbody>\n",
       "    <tr>\n",
       "      <th>0</th>\n",
       "      <td>arrowhead</td>\n",
       "      <td>1923</td>\n",
       "      <td>OorangIndians</td>\n",
       "      <td>4</td>\n",
       "      <td>0</td>\n",
       "      <td>0</td>\n",
       "      <td>0</td>\n",
       "      <td>0</td>\n",
       "      <td>2</td>\n",
       "      <td>0</td>\n",
       "      <td>0</td>\n",
       "      <td>0</td>\n",
       "      <td>0</td>\n",
       "    </tr>\n",
       "    <tr>\n",
       "      <th>1</th>\n",
       "      <td>arrowhead</td>\n",
       "      <td>TOTAL</td>\n",
       "      <td>--</td>\n",
       "      <td>4</td>\n",
       "      <td>0</td>\n",
       "      <td>0</td>\n",
       "      <td>0</td>\n",
       "      <td>0</td>\n",
       "      <td>2</td>\n",
       "      <td>0</td>\n",
       "      <td>0</td>\n",
       "      <td>0</td>\n",
       "      <td>0</td>\n",
       "    </tr>\n",
       "    <tr>\n",
       "      <th>2</th>\n",
       "      <td>abdul-karim-al-jabbar</td>\n",
       "      <td>1996</td>\n",
       "      <td>MiamiDolphins</td>\n",
       "      <td>16</td>\n",
       "      <td>23</td>\n",
       "      <td>139</td>\n",
       "      <td>6</td>\n",
       "      <td>23</td>\n",
       "      <td>0</td>\n",
       "      <td>6</td>\n",
       "      <td>26.09</td>\n",
       "      <td>1</td>\n",
       "      <td>0</td>\n",
       "    </tr>\n",
       "    <tr>\n",
       "      <th>3</th>\n",
       "      <td>abdul-karim-al-jabbar</td>\n",
       "      <td>1997</td>\n",
       "      <td>MiamiDolphins</td>\n",
       "      <td>16</td>\n",
       "      <td>29</td>\n",
       "      <td>261</td>\n",
       "      <td>9</td>\n",
       "      <td>36</td>\n",
       "      <td>1</td>\n",
       "      <td>10</td>\n",
       "      <td>34.48</td>\n",
       "      <td>3</td>\n",
       "      <td>0</td>\n",
       "    </tr>\n",
       "    <tr>\n",
       "      <th>4</th>\n",
       "      <td>abdul-karim-al-jabbar</td>\n",
       "      <td>1998</td>\n",
       "      <td>MiamiDolphins</td>\n",
       "      <td>15</td>\n",
       "      <td>21</td>\n",
       "      <td>102</td>\n",
       "      <td>4.9</td>\n",
       "      <td>18</td>\n",
       "      <td>0</td>\n",
       "      <td>3</td>\n",
       "      <td>14.29</td>\n",
       "      <td>0</td>\n",
       "      <td>0</td>\n",
       "    </tr>\n",
       "  </tbody>\n",
       "</table>\n",
       "</div>\n",
       "    <div class=\"colab-df-buttons\">\n",
       "\n",
       "  <div class=\"colab-df-container\">\n",
       "    <button class=\"colab-df-convert\" onclick=\"convertToInteractive('df-a34103f4-b591-4e4e-9503-3e8612441e6e')\"\n",
       "            title=\"Convert this dataframe to an interactive table.\"\n",
       "            style=\"display:none;\">\n",
       "\n",
       "  <svg xmlns=\"http://www.w3.org/2000/svg\" height=\"24px\" viewBox=\"0 -960 960 960\">\n",
       "    <path d=\"M120-120v-720h720v720H120Zm60-500h600v-160H180v160Zm220 220h160v-160H400v160Zm0 220h160v-160H400v160ZM180-400h160v-160H180v160Zm440 0h160v-160H620v160ZM180-180h160v-160H180v160Zm440 0h160v-160H620v160Z\"/>\n",
       "  </svg>\n",
       "    </button>\n",
       "\n",
       "  <style>\n",
       "    .colab-df-container {\n",
       "      display:flex;\n",
       "      gap: 12px;\n",
       "    }\n",
       "\n",
       "    .colab-df-convert {\n",
       "      background-color: #E8F0FE;\n",
       "      border: none;\n",
       "      border-radius: 50%;\n",
       "      cursor: pointer;\n",
       "      display: none;\n",
       "      fill: #1967D2;\n",
       "      height: 32px;\n",
       "      padding: 0 0 0 0;\n",
       "      width: 32px;\n",
       "    }\n",
       "\n",
       "    .colab-df-convert:hover {\n",
       "      background-color: #E2EBFA;\n",
       "      box-shadow: 0px 1px 2px rgba(60, 64, 67, 0.3), 0px 1px 3px 1px rgba(60, 64, 67, 0.15);\n",
       "      fill: #174EA6;\n",
       "    }\n",
       "\n",
       "    .colab-df-buttons div {\n",
       "      margin-bottom: 4px;\n",
       "    }\n",
       "\n",
       "    [theme=dark] .colab-df-convert {\n",
       "      background-color: #3B4455;\n",
       "      fill: #D2E3FC;\n",
       "    }\n",
       "\n",
       "    [theme=dark] .colab-df-convert:hover {\n",
       "      background-color: #434B5C;\n",
       "      box-shadow: 0px 1px 3px 1px rgba(0, 0, 0, 0.15);\n",
       "      filter: drop-shadow(0px 1px 2px rgba(0, 0, 0, 0.3));\n",
       "      fill: #FFFFFF;\n",
       "    }\n",
       "  </style>\n",
       "\n",
       "    <script>\n",
       "      const buttonEl =\n",
       "        document.querySelector('#df-a34103f4-b591-4e4e-9503-3e8612441e6e button.colab-df-convert');\n",
       "      buttonEl.style.display =\n",
       "        google.colab.kernel.accessAllowed ? 'block' : 'none';\n",
       "\n",
       "      async function convertToInteractive(key) {\n",
       "        const element = document.querySelector('#df-a34103f4-b591-4e4e-9503-3e8612441e6e');\n",
       "        const dataTable =\n",
       "          await google.colab.kernel.invokeFunction('convertToInteractive',\n",
       "                                                    [key], {});\n",
       "        if (!dataTable) return;\n",
       "\n",
       "        const docLinkHtml = 'Like what you see? Visit the ' +\n",
       "          '<a target=\"_blank\" href=https://colab.research.google.com/notebooks/data_table.ipynb>data table notebook</a>'\n",
       "          + ' to learn more about interactive tables.';\n",
       "        element.innerHTML = '';\n",
       "        dataTable['output_type'] = 'display_data';\n",
       "        await google.colab.output.renderOutput(dataTable, element);\n",
       "        const docLink = document.createElement('div');\n",
       "        docLink.innerHTML = docLinkHtml;\n",
       "        element.appendChild(docLink);\n",
       "      }\n",
       "    </script>\n",
       "  </div>\n",
       "\n",
       "\n",
       "<div id=\"df-2e212fff-c0cb-4b97-b706-95d154b0e47b\">\n",
       "  <button class=\"colab-df-quickchart\" onclick=\"quickchart('df-2e212fff-c0cb-4b97-b706-95d154b0e47b')\"\n",
       "            title=\"Suggest charts\"\n",
       "            style=\"display:none;\">\n",
       "\n",
       "<svg xmlns=\"http://www.w3.org/2000/svg\" height=\"24px\"viewBox=\"0 0 24 24\"\n",
       "     width=\"24px\">\n",
       "    <g>\n",
       "        <path d=\"M19 3H5c-1.1 0-2 .9-2 2v14c0 1.1.9 2 2 2h14c1.1 0 2-.9 2-2V5c0-1.1-.9-2-2-2zM9 17H7v-7h2v7zm4 0h-2V7h2v10zm4 0h-2v-4h2v4z\"/>\n",
       "    </g>\n",
       "</svg>\n",
       "  </button>\n",
       "\n",
       "<style>\n",
       "  .colab-df-quickchart {\n",
       "      --bg-color: #E8F0FE;\n",
       "      --fill-color: #1967D2;\n",
       "      --hover-bg-color: #E2EBFA;\n",
       "      --hover-fill-color: #174EA6;\n",
       "      --disabled-fill-color: #AAA;\n",
       "      --disabled-bg-color: #DDD;\n",
       "  }\n",
       "\n",
       "  [theme=dark] .colab-df-quickchart {\n",
       "      --bg-color: #3B4455;\n",
       "      --fill-color: #D2E3FC;\n",
       "      --hover-bg-color: #434B5C;\n",
       "      --hover-fill-color: #FFFFFF;\n",
       "      --disabled-bg-color: #3B4455;\n",
       "      --disabled-fill-color: #666;\n",
       "  }\n",
       "\n",
       "  .colab-df-quickchart {\n",
       "    background-color: var(--bg-color);\n",
       "    border: none;\n",
       "    border-radius: 50%;\n",
       "    cursor: pointer;\n",
       "    display: none;\n",
       "    fill: var(--fill-color);\n",
       "    height: 32px;\n",
       "    padding: 0;\n",
       "    width: 32px;\n",
       "  }\n",
       "\n",
       "  .colab-df-quickchart:hover {\n",
       "    background-color: var(--hover-bg-color);\n",
       "    box-shadow: 0 1px 2px rgba(60, 64, 67, 0.3), 0 1px 3px 1px rgba(60, 64, 67, 0.15);\n",
       "    fill: var(--button-hover-fill-color);\n",
       "  }\n",
       "\n",
       "  .colab-df-quickchart-complete:disabled,\n",
       "  .colab-df-quickchart-complete:disabled:hover {\n",
       "    background-color: var(--disabled-bg-color);\n",
       "    fill: var(--disabled-fill-color);\n",
       "    box-shadow: none;\n",
       "  }\n",
       "\n",
       "  .colab-df-spinner {\n",
       "    border: 2px solid var(--fill-color);\n",
       "    border-color: transparent;\n",
       "    border-bottom-color: var(--fill-color);\n",
       "    animation:\n",
       "      spin 1s steps(1) infinite;\n",
       "  }\n",
       "\n",
       "  @keyframes spin {\n",
       "    0% {\n",
       "      border-color: transparent;\n",
       "      border-bottom-color: var(--fill-color);\n",
       "      border-left-color: var(--fill-color);\n",
       "    }\n",
       "    20% {\n",
       "      border-color: transparent;\n",
       "      border-left-color: var(--fill-color);\n",
       "      border-top-color: var(--fill-color);\n",
       "    }\n",
       "    30% {\n",
       "      border-color: transparent;\n",
       "      border-left-color: var(--fill-color);\n",
       "      border-top-color: var(--fill-color);\n",
       "      border-right-color: var(--fill-color);\n",
       "    }\n",
       "    40% {\n",
       "      border-color: transparent;\n",
       "      border-right-color: var(--fill-color);\n",
       "      border-top-color: var(--fill-color);\n",
       "    }\n",
       "    60% {\n",
       "      border-color: transparent;\n",
       "      border-right-color: var(--fill-color);\n",
       "    }\n",
       "    80% {\n",
       "      border-color: transparent;\n",
       "      border-right-color: var(--fill-color);\n",
       "      border-bottom-color: var(--fill-color);\n",
       "    }\n",
       "    90% {\n",
       "      border-color: transparent;\n",
       "      border-bottom-color: var(--fill-color);\n",
       "    }\n",
       "  }\n",
       "</style>\n",
       "\n",
       "  <script>\n",
       "    async function quickchart(key) {\n",
       "      const quickchartButtonEl =\n",
       "        document.querySelector('#' + key + ' button');\n",
       "      quickchartButtonEl.disabled = true;  // To prevent multiple clicks.\n",
       "      quickchartButtonEl.classList.add('colab-df-spinner');\n",
       "      try {\n",
       "        const charts = await google.colab.kernel.invokeFunction(\n",
       "            'suggestCharts', [key], {});\n",
       "      } catch (error) {\n",
       "        console.error('Error during call to suggestCharts:', error);\n",
       "      }\n",
       "      quickchartButtonEl.classList.remove('colab-df-spinner');\n",
       "      quickchartButtonEl.classList.add('colab-df-quickchart-complete');\n",
       "    }\n",
       "    (() => {\n",
       "      let quickchartButtonEl =\n",
       "        document.querySelector('#df-2e212fff-c0cb-4b97-b706-95d154b0e47b button');\n",
       "      quickchartButtonEl.style.display =\n",
       "        google.colab.kernel.accessAllowed ? 'block' : 'none';\n",
       "    })();\n",
       "  </script>\n",
       "</div>\n",
       "    </div>\n",
       "  </div>\n"
      ],
      "text/plain": [
       "               Player_Id   Year           Team Games_Played Receptions Yards  \\\n",
       "0              arrowhead   1923  OorangIndians            4          0     0   \n",
       "1              arrowhead  TOTAL             --            4          0     0   \n",
       "2  abdul-karim-al-jabbar   1996  MiamiDolphins           16         23   139   \n",
       "3  abdul-karim-al-jabbar   1997  MiamiDolphins           16         29   261   \n",
       "4  abdul-karim-al-jabbar   1998  MiamiDolphins           15         21   102   \n",
       "\n",
       "  Average Long TDs First_Downs First_Down_Percentage  \\\n",
       "0       0    0   2           0                     0   \n",
       "1       0    0   2           0                     0   \n",
       "2       6   23   0           6                 26.09   \n",
       "3       9   36   1          10                 34.48   \n",
       "4     4.9   18   0           3                 14.29   \n",
       "\n",
       "  Receptions_Over_Twenty_Yards Receptions_Over_Forty_Yards  \n",
       "0                            0                           0  \n",
       "1                            0                           0  \n",
       "2                            1                           0  \n",
       "3                            3                           0  \n",
       "4                            0                           0  "
      ]
     },
     "execution_count": 5,
     "metadata": {},
     "output_type": "execute_result"
    }
   ],
   "source": [
    "# print top rows of receive df\n",
    "df_receive.head(5)"
   ]
  },
  {
   "cell_type": "code",
   "execution_count": 6,
   "metadata": {
    "colab": {
     "base_uri": "https://localhost:8080/",
     "height": 206
    },
    "id": "Knft6KGkiQcs",
    "outputId": "c3f6be9f-d70e-4e4a-aac6-81573c181270"
   },
   "outputs": [
    {
     "data": {
      "text/html": [
       "\n",
       "  <div id=\"df-b74249a1-104c-4712-b471-d33c066d0cf4\" class=\"colab-df-container\">\n",
       "    <div>\n",
       "<style scoped>\n",
       "    .dataframe tbody tr th:only-of-type {\n",
       "        vertical-align: middle;\n",
       "    }\n",
       "\n",
       "    .dataframe tbody tr th {\n",
       "        vertical-align: top;\n",
       "    }\n",
       "\n",
       "    .dataframe thead th {\n",
       "        text-align: right;\n",
       "    }\n",
       "</style>\n",
       "<table border=\"1\" class=\"dataframe\">\n",
       "  <thead>\n",
       "    <tr style=\"text-align: right;\">\n",
       "      <th></th>\n",
       "      <th>Player_Id</th>\n",
       "      <th>Full_Name</th>\n",
       "      <th>Position</th>\n",
       "      <th>Height</th>\n",
       "      <th>Weight</th>\n",
       "      <th>College</th>\n",
       "      <th>Hall_Of_Fame</th>\n",
       "    </tr>\n",
       "  </thead>\n",
       "  <tbody>\n",
       "    <tr>\n",
       "      <th>0</th>\n",
       "      <td>anderson</td>\n",
       "      <td>Anderson</td>\n",
       "      <td>WB</td>\n",
       "      <td>--</td>\n",
       "      <td>0</td>\n",
       "      <td>No College</td>\n",
       "      <td>False</td>\n",
       "    </tr>\n",
       "    <tr>\n",
       "      <th>1</th>\n",
       "      <td>arrowhead</td>\n",
       "      <td>Arrowhead</td>\n",
       "      <td>E</td>\n",
       "      <td>5-7</td>\n",
       "      <td>160</td>\n",
       "      <td>No College</td>\n",
       "      <td>False</td>\n",
       "    </tr>\n",
       "    <tr>\n",
       "      <th>2</th>\n",
       "      <td>aaron-adams-2</td>\n",
       "      <td>Aaron Adams</td>\n",
       "      <td>--</td>\n",
       "      <td>--</td>\n",
       "      <td>--</td>\n",
       "      <td>LSU</td>\n",
       "      <td>False</td>\n",
       "    </tr>\n",
       "    <tr>\n",
       "      <th>3</th>\n",
       "      <td>aaron-adams</td>\n",
       "      <td>Aaron Adams</td>\n",
       "      <td>OT</td>\n",
       "      <td>6-5</td>\n",
       "      <td>303</td>\n",
       "      <td>Eastern Kentucky</td>\n",
       "      <td>False</td>\n",
       "    </tr>\n",
       "    <tr>\n",
       "      <th>4</th>\n",
       "      <td>abdul-karim-al-jabbar</td>\n",
       "      <td>Abdul-Karim al-Jabbar</td>\n",
       "      <td>RB</td>\n",
       "      <td>5-11</td>\n",
       "      <td>205</td>\n",
       "      <td>UCLA</td>\n",
       "      <td>False</td>\n",
       "    </tr>\n",
       "  </tbody>\n",
       "</table>\n",
       "</div>\n",
       "    <div class=\"colab-df-buttons\">\n",
       "\n",
       "  <div class=\"colab-df-container\">\n",
       "    <button class=\"colab-df-convert\" onclick=\"convertToInteractive('df-b74249a1-104c-4712-b471-d33c066d0cf4')\"\n",
       "            title=\"Convert this dataframe to an interactive table.\"\n",
       "            style=\"display:none;\">\n",
       "\n",
       "  <svg xmlns=\"http://www.w3.org/2000/svg\" height=\"24px\" viewBox=\"0 -960 960 960\">\n",
       "    <path d=\"M120-120v-720h720v720H120Zm60-500h600v-160H180v160Zm220 220h160v-160H400v160Zm0 220h160v-160H400v160ZM180-400h160v-160H180v160Zm440 0h160v-160H620v160ZM180-180h160v-160H180v160Zm440 0h160v-160H620v160Z\"/>\n",
       "  </svg>\n",
       "    </button>\n",
       "\n",
       "  <style>\n",
       "    .colab-df-container {\n",
       "      display:flex;\n",
       "      gap: 12px;\n",
       "    }\n",
       "\n",
       "    .colab-df-convert {\n",
       "      background-color: #E8F0FE;\n",
       "      border: none;\n",
       "      border-radius: 50%;\n",
       "      cursor: pointer;\n",
       "      display: none;\n",
       "      fill: #1967D2;\n",
       "      height: 32px;\n",
       "      padding: 0 0 0 0;\n",
       "      width: 32px;\n",
       "    }\n",
       "\n",
       "    .colab-df-convert:hover {\n",
       "      background-color: #E2EBFA;\n",
       "      box-shadow: 0px 1px 2px rgba(60, 64, 67, 0.3), 0px 1px 3px 1px rgba(60, 64, 67, 0.15);\n",
       "      fill: #174EA6;\n",
       "    }\n",
       "\n",
       "    .colab-df-buttons div {\n",
       "      margin-bottom: 4px;\n",
       "    }\n",
       "\n",
       "    [theme=dark] .colab-df-convert {\n",
       "      background-color: #3B4455;\n",
       "      fill: #D2E3FC;\n",
       "    }\n",
       "\n",
       "    [theme=dark] .colab-df-convert:hover {\n",
       "      background-color: #434B5C;\n",
       "      box-shadow: 0px 1px 3px 1px rgba(0, 0, 0, 0.15);\n",
       "      filter: drop-shadow(0px 1px 2px rgba(0, 0, 0, 0.3));\n",
       "      fill: #FFFFFF;\n",
       "    }\n",
       "  </style>\n",
       "\n",
       "    <script>\n",
       "      const buttonEl =\n",
       "        document.querySelector('#df-b74249a1-104c-4712-b471-d33c066d0cf4 button.colab-df-convert');\n",
       "      buttonEl.style.display =\n",
       "        google.colab.kernel.accessAllowed ? 'block' : 'none';\n",
       "\n",
       "      async function convertToInteractive(key) {\n",
       "        const element = document.querySelector('#df-b74249a1-104c-4712-b471-d33c066d0cf4');\n",
       "        const dataTable =\n",
       "          await google.colab.kernel.invokeFunction('convertToInteractive',\n",
       "                                                    [key], {});\n",
       "        if (!dataTable) return;\n",
       "\n",
       "        const docLinkHtml = 'Like what you see? Visit the ' +\n",
       "          '<a target=\"_blank\" href=https://colab.research.google.com/notebooks/data_table.ipynb>data table notebook</a>'\n",
       "          + ' to learn more about interactive tables.';\n",
       "        element.innerHTML = '';\n",
       "        dataTable['output_type'] = 'display_data';\n",
       "        await google.colab.output.renderOutput(dataTable, element);\n",
       "        const docLink = document.createElement('div');\n",
       "        docLink.innerHTML = docLinkHtml;\n",
       "        element.appendChild(docLink);\n",
       "      }\n",
       "    </script>\n",
       "  </div>\n",
       "\n",
       "\n",
       "<div id=\"df-24a64e9f-2388-4f4d-9027-9ae8a3d4ab75\">\n",
       "  <button class=\"colab-df-quickchart\" onclick=\"quickchart('df-24a64e9f-2388-4f4d-9027-9ae8a3d4ab75')\"\n",
       "            title=\"Suggest charts\"\n",
       "            style=\"display:none;\">\n",
       "\n",
       "<svg xmlns=\"http://www.w3.org/2000/svg\" height=\"24px\"viewBox=\"0 0 24 24\"\n",
       "     width=\"24px\">\n",
       "    <g>\n",
       "        <path d=\"M19 3H5c-1.1 0-2 .9-2 2v14c0 1.1.9 2 2 2h14c1.1 0 2-.9 2-2V5c0-1.1-.9-2-2-2zM9 17H7v-7h2v7zm4 0h-2V7h2v10zm4 0h-2v-4h2v4z\"/>\n",
       "    </g>\n",
       "</svg>\n",
       "  </button>\n",
       "\n",
       "<style>\n",
       "  .colab-df-quickchart {\n",
       "      --bg-color: #E8F0FE;\n",
       "      --fill-color: #1967D2;\n",
       "      --hover-bg-color: #E2EBFA;\n",
       "      --hover-fill-color: #174EA6;\n",
       "      --disabled-fill-color: #AAA;\n",
       "      --disabled-bg-color: #DDD;\n",
       "  }\n",
       "\n",
       "  [theme=dark] .colab-df-quickchart {\n",
       "      --bg-color: #3B4455;\n",
       "      --fill-color: #D2E3FC;\n",
       "      --hover-bg-color: #434B5C;\n",
       "      --hover-fill-color: #FFFFFF;\n",
       "      --disabled-bg-color: #3B4455;\n",
       "      --disabled-fill-color: #666;\n",
       "  }\n",
       "\n",
       "  .colab-df-quickchart {\n",
       "    background-color: var(--bg-color);\n",
       "    border: none;\n",
       "    border-radius: 50%;\n",
       "    cursor: pointer;\n",
       "    display: none;\n",
       "    fill: var(--fill-color);\n",
       "    height: 32px;\n",
       "    padding: 0;\n",
       "    width: 32px;\n",
       "  }\n",
       "\n",
       "  .colab-df-quickchart:hover {\n",
       "    background-color: var(--hover-bg-color);\n",
       "    box-shadow: 0 1px 2px rgba(60, 64, 67, 0.3), 0 1px 3px 1px rgba(60, 64, 67, 0.15);\n",
       "    fill: var(--button-hover-fill-color);\n",
       "  }\n",
       "\n",
       "  .colab-df-quickchart-complete:disabled,\n",
       "  .colab-df-quickchart-complete:disabled:hover {\n",
       "    background-color: var(--disabled-bg-color);\n",
       "    fill: var(--disabled-fill-color);\n",
       "    box-shadow: none;\n",
       "  }\n",
       "\n",
       "  .colab-df-spinner {\n",
       "    border: 2px solid var(--fill-color);\n",
       "    border-color: transparent;\n",
       "    border-bottom-color: var(--fill-color);\n",
       "    animation:\n",
       "      spin 1s steps(1) infinite;\n",
       "  }\n",
       "\n",
       "  @keyframes spin {\n",
       "    0% {\n",
       "      border-color: transparent;\n",
       "      border-bottom-color: var(--fill-color);\n",
       "      border-left-color: var(--fill-color);\n",
       "    }\n",
       "    20% {\n",
       "      border-color: transparent;\n",
       "      border-left-color: var(--fill-color);\n",
       "      border-top-color: var(--fill-color);\n",
       "    }\n",
       "    30% {\n",
       "      border-color: transparent;\n",
       "      border-left-color: var(--fill-color);\n",
       "      border-top-color: var(--fill-color);\n",
       "      border-right-color: var(--fill-color);\n",
       "    }\n",
       "    40% {\n",
       "      border-color: transparent;\n",
       "      border-right-color: var(--fill-color);\n",
       "      border-top-color: var(--fill-color);\n",
       "    }\n",
       "    60% {\n",
       "      border-color: transparent;\n",
       "      border-right-color: var(--fill-color);\n",
       "    }\n",
       "    80% {\n",
       "      border-color: transparent;\n",
       "      border-right-color: var(--fill-color);\n",
       "      border-bottom-color: var(--fill-color);\n",
       "    }\n",
       "    90% {\n",
       "      border-color: transparent;\n",
       "      border-bottom-color: var(--fill-color);\n",
       "    }\n",
       "  }\n",
       "</style>\n",
       "\n",
       "  <script>\n",
       "    async function quickchart(key) {\n",
       "      const quickchartButtonEl =\n",
       "        document.querySelector('#' + key + ' button');\n",
       "      quickchartButtonEl.disabled = true;  // To prevent multiple clicks.\n",
       "      quickchartButtonEl.classList.add('colab-df-spinner');\n",
       "      try {\n",
       "        const charts = await google.colab.kernel.invokeFunction(\n",
       "            'suggestCharts', [key], {});\n",
       "      } catch (error) {\n",
       "        console.error('Error during call to suggestCharts:', error);\n",
       "      }\n",
       "      quickchartButtonEl.classList.remove('colab-df-spinner');\n",
       "      quickchartButtonEl.classList.add('colab-df-quickchart-complete');\n",
       "    }\n",
       "    (() => {\n",
       "      let quickchartButtonEl =\n",
       "        document.querySelector('#df-24a64e9f-2388-4f4d-9027-9ae8a3d4ab75 button');\n",
       "      quickchartButtonEl.style.display =\n",
       "        google.colab.kernel.accessAllowed ? 'block' : 'none';\n",
       "    })();\n",
       "  </script>\n",
       "</div>\n",
       "    </div>\n",
       "  </div>\n"
      ],
      "text/plain": [
       "               Player_Id              Full_Name Position Height Weight  \\\n",
       "0               anderson               Anderson       WB     --      0   \n",
       "1              arrowhead              Arrowhead        E    5-7    160   \n",
       "2          aaron-adams-2            Aaron Adams       --     --     --   \n",
       "3            aaron-adams            Aaron Adams       OT    6-5    303   \n",
       "4  abdul-karim-al-jabbar  Abdul-Karim al-Jabbar       RB   5-11    205   \n",
       "\n",
       "            College  Hall_Of_Fame  \n",
       "0        No College         False  \n",
       "1        No College         False  \n",
       "2               LSU         False  \n",
       "3  Eastern Kentucky         False  \n",
       "4              UCLA         False  "
      ]
     },
     "execution_count": 6,
     "metadata": {},
     "output_type": "execute_result"
    }
   ],
   "source": [
    "# print top rows of basic df\n",
    "df_basic.head(5)"
   ]
  },
  {
   "cell_type": "markdown",
   "metadata": {
    "id": "JrjnzaRi-Mgo"
   },
   "source": [
    "**Comment:** Exploring the first few rows of each dataset, the data is mostly numerical performance values but also include numerical physical traits (Height and Weight)."
   ]
  },
  {
   "cell_type": "markdown",
   "metadata": {
    "id": "-FHUOOvqspLX"
   },
   "source": [
    "## 2. Data Wrangling"
   ]
  },
  {
   "cell_type": "markdown",
   "metadata": {
    "id": "h46HRQOOojZs"
   },
   "source": [
    "### 2.1 Merge 1\n",
    "\n",
    "This section merges the rushing and receiving statistics together."
   ]
  },
  {
   "cell_type": "code",
   "execution_count": 7,
   "metadata": {
    "id": "Mh6Hr2a6leLn"
   },
   "outputs": [],
   "source": [
    "# drop redundant columns\n",
    "df_receive.drop(columns=['Team','Games_Played'], inplace=True)\n",
    "\n",
    "# merge on player id and year\n",
    "df_merge = pd.merge(df_rush, df_receive, on=['Player_Id','Year'], how='inner', suffixes=('_Rush','_Receptions'))\n",
    "\n",
    "# keep only the 1st record of each player_id: rookie year\n",
    "df = df_merge.groupby('Player_Id').first()"
   ]
  },
  {
   "cell_type": "markdown",
   "metadata": {
    "id": "dTA-hIp_-vK4"
   },
   "source": [
    "**Comment:** The two retired player rushing and receiving datasets are joined together on the Player_ID. After merging the datasets, we group by the Player_ID and only select their rookie year or the first row of dataset available for a player. We do this for making longevity predictions later on solely on a player's rookie statistics."
   ]
  },
  {
   "cell_type": "code",
   "execution_count": 8,
   "metadata": {
    "id": "rcx-4UJKjv81"
   },
   "outputs": [],
   "source": [
    "# create new field to calculate the total number of years played : NumYearsPlayed (Since there is a TOTAL row for every player, we subtract by 1)\n",
    "df['NumYearsPlayed'] = (df_merge.groupby('Player_Id')['Year'].count().values) - 1\n",
    "\n",
    "# reset dataframe index\n",
    "df.reset_index(inplace=True)\n",
    "\n",
    "# create new field from NumYearsPlayed using a threshold of 3 years: 3YearsThreshold\n",
    "df['3YearsThreshold'] = np.where(df.NumYearsPlayed > 3, 1, 0)"
   ]
  },
  {
   "cell_type": "markdown",
   "metadata": {
    "id": "DKdtXllU_dn4"
   },
   "source": [
    "**Comment:** Above we create two variables. One is a continuous variable which is the number of years played based on a count of season records for a player.\n",
    "The other variable is a boolean called 3YearThreshold and will be used as our output variable. This field is 1 or 0 depending on whether the player last more than 3 years in the league or not. As mentioned earlier, teams have to allocate more budget towards \"Vested Veterans\" who make it at least 3 years in the NFL."
   ]
  },
  {
   "cell_type": "markdown",
   "metadata": {
    "id": "PGwjqCC1nCJi"
   },
   "source": [
    "### 2.2 Merge 2"
   ]
  },
  {
   "cell_type": "markdown",
   "metadata": {
    "id": "IHc4sSiXfjEk"
   },
   "source": [
    "This sections merges the players basic stats with the rushing and receiving dataframe."
   ]
  },
  {
   "cell_type": "code",
   "execution_count": 9,
   "metadata": {
    "id": "uH2VTOWJn6Sm"
   },
   "outputs": [],
   "source": [
    "# subset basic stats features\n",
    "df_basic = df_basic[['Player_Id','Position','Height','Weight']]\n",
    "\n",
    "# merge dataframes\n",
    "df = pd.merge(df, df_basic, on='Player_Id', how='inner')"
   ]
  },
  {
   "cell_type": "markdown",
   "metadata": {
    "id": "6A_nxdoqASvO"
   },
   "source": [
    "**Comment:** We merge in the third dataset we contains basic information about the player's position, height and weight."
   ]
  },
  {
   "cell_type": "markdown",
   "metadata": {
    "id": "OexNqov5pgvU"
   },
   "source": [
    "## 3. Data Cleaning"
   ]
  },
  {
   "cell_type": "code",
   "execution_count": 10,
   "metadata": {
    "colab": {
     "base_uri": "https://localhost:8080/",
     "height": 0
    },
    "id": "Hrs0kjXHpnBE",
    "outputId": "8cf0eb98-dd6d-4da1-a52a-421026cc923b"
   },
   "outputs": [
    {
     "name": "stdout",
     "output_type": "stream",
     "text": [
      "<class 'pandas.core.frame.DataFrame'>\n",
      "Int64Index: 4187 entries, 0 to 4186\n",
      "Data columns (total 28 columns):\n",
      " #   Column                            Non-Null Count  Dtype \n",
      "---  ------                            --------------  ----- \n",
      " 0   Player_Id                         4187 non-null   object\n",
      " 1   Year                              4187 non-null   object\n",
      " 2   Team                              4187 non-null   object\n",
      " 3   Games_Played                      4187 non-null   object\n",
      " 4   Attempts                          4187 non-null   object\n",
      " 5   Yards_Rush                        4187 non-null   object\n",
      " 6   Average_Rush                      4187 non-null   object\n",
      " 7   Long_Rush                         4187 non-null   object\n",
      " 8   TDs_Rush                          4187 non-null   object\n",
      " 9   First_Downs_Rush                  4187 non-null   object\n",
      " 10  First_Down_Percentage_Rush        4187 non-null   object\n",
      " 11  Rushes_Over_Twenty_Yards          4187 non-null   object\n",
      " 12  Rushes_Over_Forty_Yards           4187 non-null   object\n",
      " 13  Fumbles                           4187 non-null   object\n",
      " 14  Receptions                        4187 non-null   object\n",
      " 15  Yards_Receptions                  4187 non-null   object\n",
      " 16  Average_Receptions                4187 non-null   object\n",
      " 17  Long_Receptions                   4187 non-null   object\n",
      " 18  TDs_Receptions                    4187 non-null   object\n",
      " 19  First_Downs_Receptions            4187 non-null   object\n",
      " 20  First_Down_Percentage_Receptions  4187 non-null   object\n",
      " 21  Receptions_Over_Twenty_Yards      4187 non-null   object\n",
      " 22  Receptions_Over_Forty_Yards       4187 non-null   object\n",
      " 23  NumYearsPlayed                    4187 non-null   int64 \n",
      " 24  3YearsThreshold                   4187 non-null   int64 \n",
      " 25  Position                          4187 non-null   object\n",
      " 26  Height                            4187 non-null   object\n",
      " 27  Weight                            4187 non-null   object\n",
      "dtypes: int64(2), object(26)\n",
      "memory usage: 948.6+ KB\n"
     ]
    }
   ],
   "source": [
    "df.info()"
   ]
  },
  {
   "cell_type": "code",
   "execution_count": 11,
   "metadata": {
    "id": "Pmy1knWoppB8"
   },
   "outputs": [],
   "source": [
    "# convert column datatypes to numerics\n",
    "numeric_cols = ['Games_Played', 'Attempts', 'Yards_Rush',\n",
    "               'Average_Rush', 'Long_Rush', 'TDs_Rush', 'First_Downs_Rush',\n",
    "               'First_Down_Percentage_Rush', 'Rushes_Over_Twenty_Yards',\n",
    "               'Rushes_Over_Forty_Yards', 'Fumbles', 'Receptions', 'Yards_Receptions',\n",
    "               'Average_Receptions', 'Long_Receptions', 'TDs_Receptions',\n",
    "               'First_Downs_Receptions', 'First_Down_Percentage_Receptions',\n",
    "               'Receptions_Over_Twenty_Yards', 'Receptions_Over_Forty_Yards']\n",
    "\n",
    "df[numeric_cols] = df[numeric_cols].apply(pd.to_numeric, errors='coerce')"
   ]
  },
  {
   "cell_type": "code",
   "execution_count": 12,
   "metadata": {
    "colab": {
     "base_uri": "https://localhost:8080/",
     "height": 0
    },
    "id": "Fr95ql1fqYea",
    "outputId": "eeda60db-98aa-4a52-eb51-60a5ada439fb"
   },
   "outputs": [
    {
     "data": {
      "text/plain": [
       "0"
      ]
     },
     "execution_count": 12,
     "metadata": {},
     "output_type": "execute_result"
    }
   ],
   "source": [
    "# check duplicate records\n",
    "df.duplicated().sum()"
   ]
  },
  {
   "cell_type": "code",
   "execution_count": 13,
   "metadata": {
    "colab": {
     "base_uri": "https://localhost:8080/",
     "height": 0
    },
    "id": "vMt8tG5YqjP_",
    "outputId": "7788d4c7-7eef-421a-81c5-00960d13b84c"
   },
   "outputs": [
    {
     "data": {
      "text/plain": [
       "First_Downs_Rush                    1\n",
       "Attempts                            1\n",
       "Yards_Rush                          1\n",
       "Average_Rush                        1\n",
       "Long_Rush                           1\n",
       "TDs_Rush                            1\n",
       "First_Down_Percentage_Rush          1\n",
       "Rushes_Over_Twenty_Yards            1\n",
       "Rushes_Over_Forty_Yards             1\n",
       "Fumbles                             1\n",
       "3YearsThreshold                     0\n",
       "Receptions_Over_Twenty_Yards        0\n",
       "Receptions_Over_Forty_Yards         0\n",
       "NumYearsPlayed                      0\n",
       "Player_Id                           0\n",
       "First_Downs_Receptions              0\n",
       "Position                            0\n",
       "Height                              0\n",
       "First_Down_Percentage_Receptions    0\n",
       "Receptions                          0\n",
       "TDs_Receptions                      0\n",
       "Long_Receptions                     0\n",
       "Average_Receptions                  0\n",
       "Yards_Receptions                    0\n",
       "Year                                0\n",
       "Games_Played                        0\n",
       "Team                                0\n",
       "Weight                              0\n",
       "dtype: int64"
      ]
     },
     "execution_count": 13,
     "metadata": {},
     "output_type": "execute_result"
    }
   ],
   "source": [
    "# check missing values\n",
    "df.isnull().sum().sort_values(ascending=False)"
   ]
  },
  {
   "cell_type": "markdown",
   "metadata": {
    "id": "YkzzIaOJrVuH"
   },
   "source": [
    "**Comment:** Overall, the dataset is extremely clean. There appears to be a few records with NaN values."
   ]
  },
  {
   "cell_type": "code",
   "execution_count": 14,
   "metadata": {
    "colab": {
     "base_uri": "https://localhost:8080/",
     "height": 130
    },
    "id": "h5ZB57iaqml1",
    "outputId": "ac425bba-17a4-41a3-cde4-6b57e950a97a"
   },
   "outputs": [
    {
     "data": {
      "text/html": [
       "\n",
       "  <div id=\"df-9c1c24a4-ff3d-4bfa-b8cb-46a750c3b037\" class=\"colab-df-container\">\n",
       "    <div>\n",
       "<style scoped>\n",
       "    .dataframe tbody tr th:only-of-type {\n",
       "        vertical-align: middle;\n",
       "    }\n",
       "\n",
       "    .dataframe tbody tr th {\n",
       "        vertical-align: top;\n",
       "    }\n",
       "\n",
       "    .dataframe thead th {\n",
       "        text-align: right;\n",
       "    }\n",
       "</style>\n",
       "<table border=\"1\" class=\"dataframe\">\n",
       "  <thead>\n",
       "    <tr style=\"text-align: right;\">\n",
       "      <th></th>\n",
       "      <th>Player_Id</th>\n",
       "      <th>Year</th>\n",
       "      <th>Team</th>\n",
       "      <th>Games_Played</th>\n",
       "      <th>Attempts</th>\n",
       "      <th>Yards_Rush</th>\n",
       "      <th>Average_Rush</th>\n",
       "      <th>Long_Rush</th>\n",
       "      <th>TDs_Rush</th>\n",
       "      <th>First_Downs_Rush</th>\n",
       "      <th>...</th>\n",
       "      <th>TDs_Receptions</th>\n",
       "      <th>First_Downs_Receptions</th>\n",
       "      <th>First_Down_Percentage_Receptions</th>\n",
       "      <th>Receptions_Over_Twenty_Yards</th>\n",
       "      <th>Receptions_Over_Forty_Yards</th>\n",
       "      <th>NumYearsPlayed</th>\n",
       "      <th>3YearsThreshold</th>\n",
       "      <th>Position</th>\n",
       "      <th>Height</th>\n",
       "      <th>Weight</th>\n",
       "    </tr>\n",
       "  </thead>\n",
       "  <tbody>\n",
       "    <tr>\n",
       "      <th>3970</th>\n",
       "      <td>tre-madden</td>\n",
       "      <td>2017</td>\n",
       "      <td>SeattleSeahawks</td>\n",
       "      <td>8</td>\n",
       "      <td>NaN</td>\n",
       "      <td>NaN</td>\n",
       "      <td>NaN</td>\n",
       "      <td>NaN</td>\n",
       "      <td>NaN</td>\n",
       "      <td>NaN</td>\n",
       "      <td>...</td>\n",
       "      <td>0</td>\n",
       "      <td>1</td>\n",
       "      <td>50.0</td>\n",
       "      <td>1</td>\n",
       "      <td>1</td>\n",
       "      <td>2</td>\n",
       "      <td>0</td>\n",
       "      <td>FB</td>\n",
       "      <td>6-0</td>\n",
       "      <td>235</td>\n",
       "    </tr>\n",
       "  </tbody>\n",
       "</table>\n",
       "<p>1 rows × 28 columns</p>\n",
       "</div>\n",
       "    <div class=\"colab-df-buttons\">\n",
       "\n",
       "  <div class=\"colab-df-container\">\n",
       "    <button class=\"colab-df-convert\" onclick=\"convertToInteractive('df-9c1c24a4-ff3d-4bfa-b8cb-46a750c3b037')\"\n",
       "            title=\"Convert this dataframe to an interactive table.\"\n",
       "            style=\"display:none;\">\n",
       "\n",
       "  <svg xmlns=\"http://www.w3.org/2000/svg\" height=\"24px\" viewBox=\"0 -960 960 960\">\n",
       "    <path d=\"M120-120v-720h720v720H120Zm60-500h600v-160H180v160Zm220 220h160v-160H400v160Zm0 220h160v-160H400v160ZM180-400h160v-160H180v160Zm440 0h160v-160H620v160ZM180-180h160v-160H180v160Zm440 0h160v-160H620v160Z\"/>\n",
       "  </svg>\n",
       "    </button>\n",
       "\n",
       "  <style>\n",
       "    .colab-df-container {\n",
       "      display:flex;\n",
       "      gap: 12px;\n",
       "    }\n",
       "\n",
       "    .colab-df-convert {\n",
       "      background-color: #E8F0FE;\n",
       "      border: none;\n",
       "      border-radius: 50%;\n",
       "      cursor: pointer;\n",
       "      display: none;\n",
       "      fill: #1967D2;\n",
       "      height: 32px;\n",
       "      padding: 0 0 0 0;\n",
       "      width: 32px;\n",
       "    }\n",
       "\n",
       "    .colab-df-convert:hover {\n",
       "      background-color: #E2EBFA;\n",
       "      box-shadow: 0px 1px 2px rgba(60, 64, 67, 0.3), 0px 1px 3px 1px rgba(60, 64, 67, 0.15);\n",
       "      fill: #174EA6;\n",
       "    }\n",
       "\n",
       "    .colab-df-buttons div {\n",
       "      margin-bottom: 4px;\n",
       "    }\n",
       "\n",
       "    [theme=dark] .colab-df-convert {\n",
       "      background-color: #3B4455;\n",
       "      fill: #D2E3FC;\n",
       "    }\n",
       "\n",
       "    [theme=dark] .colab-df-convert:hover {\n",
       "      background-color: #434B5C;\n",
       "      box-shadow: 0px 1px 3px 1px rgba(0, 0, 0, 0.15);\n",
       "      filter: drop-shadow(0px 1px 2px rgba(0, 0, 0, 0.3));\n",
       "      fill: #FFFFFF;\n",
       "    }\n",
       "  </style>\n",
       "\n",
       "    <script>\n",
       "      const buttonEl =\n",
       "        document.querySelector('#df-9c1c24a4-ff3d-4bfa-b8cb-46a750c3b037 button.colab-df-convert');\n",
       "      buttonEl.style.display =\n",
       "        google.colab.kernel.accessAllowed ? 'block' : 'none';\n",
       "\n",
       "      async function convertToInteractive(key) {\n",
       "        const element = document.querySelector('#df-9c1c24a4-ff3d-4bfa-b8cb-46a750c3b037');\n",
       "        const dataTable =\n",
       "          await google.colab.kernel.invokeFunction('convertToInteractive',\n",
       "                                                    [key], {});\n",
       "        if (!dataTable) return;\n",
       "\n",
       "        const docLinkHtml = 'Like what you see? Visit the ' +\n",
       "          '<a target=\"_blank\" href=https://colab.research.google.com/notebooks/data_table.ipynb>data table notebook</a>'\n",
       "          + ' to learn more about interactive tables.';\n",
       "        element.innerHTML = '';\n",
       "        dataTable['output_type'] = 'display_data';\n",
       "        await google.colab.output.renderOutput(dataTable, element);\n",
       "        const docLink = document.createElement('div');\n",
       "        docLink.innerHTML = docLinkHtml;\n",
       "        element.appendChild(docLink);\n",
       "      }\n",
       "    </script>\n",
       "  </div>\n",
       "\n",
       "    </div>\n",
       "  </div>\n"
      ],
      "text/plain": [
       "       Player_Id  Year             Team  Games_Played  Attempts  Yards_Rush  \\\n",
       "3970  tre-madden  2017  SeattleSeahawks             8       NaN         NaN   \n",
       "\n",
       "      Average_Rush  Long_Rush  TDs_Rush  First_Downs_Rush  ...  \\\n",
       "3970           NaN        NaN       NaN               NaN  ...   \n",
       "\n",
       "      TDs_Receptions  First_Downs_Receptions  \\\n",
       "3970               0                       1   \n",
       "\n",
       "      First_Down_Percentage_Receptions  Receptions_Over_Twenty_Yards  \\\n",
       "3970                              50.0                             1   \n",
       "\n",
       "      Receptions_Over_Forty_Yards  NumYearsPlayed  3YearsThreshold  Position  \\\n",
       "3970                            1               2                0        FB   \n",
       "\n",
       "      Height  Weight  \n",
       "3970     6-0     235  \n",
       "\n",
       "[1 rows x 28 columns]"
      ]
     },
     "execution_count": 14,
     "metadata": {},
     "output_type": "execute_result"
    }
   ],
   "source": [
    "# print rows w/ NaN values\n",
    "df[df.isna().any(axis=1)]"
   ]
  },
  {
   "cell_type": "code",
   "execution_count": 15,
   "metadata": {
    "id": "sqYZkoBExf_3"
   },
   "outputs": [],
   "source": [
    "# replace NaN value with 0\n",
    "df = df.fillna(0)"
   ]
  },
  {
   "cell_type": "markdown",
   "metadata": {
    "id": "AXH9saskq_5r"
   },
   "source": [
    "**Comment:** Tre Madden is the player in the dataset with NaN rushing values. We replaced the NaN values with 0's for this record. Reasoning: our domain knowledge and expertise in American Football."
   ]
  },
  {
   "cell_type": "markdown",
   "metadata": {
    "id": "3HF-BcEguPa8"
   },
   "source": [
    "### 3.1 Height and Weight"
   ]
  },
  {
   "cell_type": "markdown",
   "metadata": {
    "id": "Iy6hzhMwBDdO"
   },
   "source": [
    "**Comment:** We found missing data that neeeded to be filled in. Below are cleaning steps for Height and Weight to ensure the data is in a numerical format valid for data processing."
   ]
  },
  {
   "cell_type": "code",
   "execution_count": 16,
   "metadata": {
    "id": "EZU6FaEdtAug"
   },
   "outputs": [],
   "source": [
    "# replace '--' with NaN\n",
    "df[['Height','Weight']] = df[['Height','Weight']].replace('--', np.NaN)\n",
    "\n",
    "# height_conversion function: convert ft-in to total inches\n",
    "def height_conversion(height):\n",
    "  if height is np.NaN:\n",
    "    return height\n",
    "  else:\n",
    "    feet,inch = height.split('-')\n",
    "    total = 12*int(feet) + int(inch)\n",
    "    return total\n",
    "\n",
    "# apply height_conversion function to height column\n",
    "df['Height'] = df['Height'].apply(height_conversion)\n",
    "\n",
    "# convert datatypes to numeric for height and weight\n",
    "df[['Height','Weight']] = df[['Height','Weight']].apply(pd.to_numeric, errors='coerce')"
   ]
  },
  {
   "cell_type": "markdown",
   "metadata": {
    "id": "bDWCz5jKBYk7"
   },
   "source": [
    "**Comment:** Exploring null values, it looks like one player still has a record missing height and weight."
   ]
  },
  {
   "cell_type": "code",
   "execution_count": 17,
   "metadata": {
    "colab": {
     "base_uri": "https://localhost:8080/",
     "height": 147
    },
    "id": "25oGhU5QyiE1",
    "outputId": "07d7c8c6-89c3-43ed-e4fe-0cedb3f0afdc"
   },
   "outputs": [
    {
     "data": {
      "text/html": [
       "\n",
       "  <div id=\"df-95b3592a-04a5-4e55-8523-d172b8bfbdad\" class=\"colab-df-container\">\n",
       "    <div>\n",
       "<style scoped>\n",
       "    .dataframe tbody tr th:only-of-type {\n",
       "        vertical-align: middle;\n",
       "    }\n",
       "\n",
       "    .dataframe tbody tr th {\n",
       "        vertical-align: top;\n",
       "    }\n",
       "\n",
       "    .dataframe thead th {\n",
       "        text-align: right;\n",
       "    }\n",
       "</style>\n",
       "<table border=\"1\" class=\"dataframe\">\n",
       "  <thead>\n",
       "    <tr style=\"text-align: right;\">\n",
       "      <th></th>\n",
       "      <th>Player_Id</th>\n",
       "      <th>Year</th>\n",
       "      <th>Team</th>\n",
       "      <th>Games_Played</th>\n",
       "      <th>Attempts</th>\n",
       "      <th>Yards_Rush</th>\n",
       "      <th>Average_Rush</th>\n",
       "      <th>Long_Rush</th>\n",
       "      <th>TDs_Rush</th>\n",
       "      <th>First_Downs_Rush</th>\n",
       "      <th>...</th>\n",
       "      <th>TDs_Receptions</th>\n",
       "      <th>First_Downs_Receptions</th>\n",
       "      <th>First_Down_Percentage_Receptions</th>\n",
       "      <th>Receptions_Over_Twenty_Yards</th>\n",
       "      <th>Receptions_Over_Forty_Yards</th>\n",
       "      <th>NumYearsPlayed</th>\n",
       "      <th>3YearsThreshold</th>\n",
       "      <th>Position</th>\n",
       "      <th>Height</th>\n",
       "      <th>Weight</th>\n",
       "    </tr>\n",
       "  </thead>\n",
       "  <tbody>\n",
       "    <tr>\n",
       "      <th>4024</th>\n",
       "      <td>vernon-davis</td>\n",
       "      <td>2006</td>\n",
       "      <td>SanFrancisco49ers</td>\n",
       "      <td>10</td>\n",
       "      <td>2.0</td>\n",
       "      <td>5.0</td>\n",
       "      <td>2.5</td>\n",
       "      <td>9.0</td>\n",
       "      <td>0.0</td>\n",
       "      <td>0.0</td>\n",
       "      <td>...</td>\n",
       "      <td>3</td>\n",
       "      <td>9</td>\n",
       "      <td>45.0</td>\n",
       "      <td>5</td>\n",
       "      <td>2</td>\n",
       "      <td>14</td>\n",
       "      <td>1</td>\n",
       "      <td>TE</td>\n",
       "      <td>NaN</td>\n",
       "      <td>NaN</td>\n",
       "    </tr>\n",
       "  </tbody>\n",
       "</table>\n",
       "<p>1 rows × 28 columns</p>\n",
       "</div>\n",
       "    <div class=\"colab-df-buttons\">\n",
       "\n",
       "  <div class=\"colab-df-container\">\n",
       "    <button class=\"colab-df-convert\" onclick=\"convertToInteractive('df-95b3592a-04a5-4e55-8523-d172b8bfbdad')\"\n",
       "            title=\"Convert this dataframe to an interactive table.\"\n",
       "            style=\"display:none;\">\n",
       "\n",
       "  <svg xmlns=\"http://www.w3.org/2000/svg\" height=\"24px\" viewBox=\"0 -960 960 960\">\n",
       "    <path d=\"M120-120v-720h720v720H120Zm60-500h600v-160H180v160Zm220 220h160v-160H400v160Zm0 220h160v-160H400v160ZM180-400h160v-160H180v160Zm440 0h160v-160H620v160ZM180-180h160v-160H180v160Zm440 0h160v-160H620v160Z\"/>\n",
       "  </svg>\n",
       "    </button>\n",
       "\n",
       "  <style>\n",
       "    .colab-df-container {\n",
       "      display:flex;\n",
       "      gap: 12px;\n",
       "    }\n",
       "\n",
       "    .colab-df-convert {\n",
       "      background-color: #E8F0FE;\n",
       "      border: none;\n",
       "      border-radius: 50%;\n",
       "      cursor: pointer;\n",
       "      display: none;\n",
       "      fill: #1967D2;\n",
       "      height: 32px;\n",
       "      padding: 0 0 0 0;\n",
       "      width: 32px;\n",
       "    }\n",
       "\n",
       "    .colab-df-convert:hover {\n",
       "      background-color: #E2EBFA;\n",
       "      box-shadow: 0px 1px 2px rgba(60, 64, 67, 0.3), 0px 1px 3px 1px rgba(60, 64, 67, 0.15);\n",
       "      fill: #174EA6;\n",
       "    }\n",
       "\n",
       "    .colab-df-buttons div {\n",
       "      margin-bottom: 4px;\n",
       "    }\n",
       "\n",
       "    [theme=dark] .colab-df-convert {\n",
       "      background-color: #3B4455;\n",
       "      fill: #D2E3FC;\n",
       "    }\n",
       "\n",
       "    [theme=dark] .colab-df-convert:hover {\n",
       "      background-color: #434B5C;\n",
       "      box-shadow: 0px 1px 3px 1px rgba(0, 0, 0, 0.15);\n",
       "      filter: drop-shadow(0px 1px 2px rgba(0, 0, 0, 0.3));\n",
       "      fill: #FFFFFF;\n",
       "    }\n",
       "  </style>\n",
       "\n",
       "    <script>\n",
       "      const buttonEl =\n",
       "        document.querySelector('#df-95b3592a-04a5-4e55-8523-d172b8bfbdad button.colab-df-convert');\n",
       "      buttonEl.style.display =\n",
       "        google.colab.kernel.accessAllowed ? 'block' : 'none';\n",
       "\n",
       "      async function convertToInteractive(key) {\n",
       "        const element = document.querySelector('#df-95b3592a-04a5-4e55-8523-d172b8bfbdad');\n",
       "        const dataTable =\n",
       "          await google.colab.kernel.invokeFunction('convertToInteractive',\n",
       "                                                    [key], {});\n",
       "        if (!dataTable) return;\n",
       "\n",
       "        const docLinkHtml = 'Like what you see? Visit the ' +\n",
       "          '<a target=\"_blank\" href=https://colab.research.google.com/notebooks/data_table.ipynb>data table notebook</a>'\n",
       "          + ' to learn more about interactive tables.';\n",
       "        element.innerHTML = '';\n",
       "        dataTable['output_type'] = 'display_data';\n",
       "        await google.colab.output.renderOutput(dataTable, element);\n",
       "        const docLink = document.createElement('div');\n",
       "        docLink.innerHTML = docLinkHtml;\n",
       "        element.appendChild(docLink);\n",
       "      }\n",
       "    </script>\n",
       "  </div>\n",
       "\n",
       "    </div>\n",
       "  </div>\n"
      ],
      "text/plain": [
       "         Player_Id  Year               Team  Games_Played  Attempts  \\\n",
       "4024  vernon-davis  2006  SanFrancisco49ers            10       2.0   \n",
       "\n",
       "      Yards_Rush  Average_Rush  Long_Rush  TDs_Rush  First_Downs_Rush  ...  \\\n",
       "4024         5.0           2.5        9.0       0.0               0.0  ...   \n",
       "\n",
       "      TDs_Receptions  First_Downs_Receptions  \\\n",
       "4024               3                       9   \n",
       "\n",
       "      First_Down_Percentage_Receptions  Receptions_Over_Twenty_Yards  \\\n",
       "4024                              45.0                             5   \n",
       "\n",
       "      Receptions_Over_Forty_Yards  NumYearsPlayed  3YearsThreshold  Position  \\\n",
       "4024                            2              14                1        TE   \n",
       "\n",
       "      Height  Weight  \n",
       "4024     NaN     NaN  \n",
       "\n",
       "[1 rows x 28 columns]"
      ]
     },
     "execution_count": 17,
     "metadata": {},
     "output_type": "execute_result"
    }
   ],
   "source": [
    "# sanity check: print rows w/ NaN values\n",
    "df[df.isna().any(axis=1)]"
   ]
  },
  {
   "cell_type": "code",
   "execution_count": 18,
   "metadata": {
    "colab": {
     "base_uri": "https://localhost:8080/",
     "height": 147
    },
    "id": "nqYQ0zvuy5Q6",
    "outputId": "bd94ace3-afa3-46ed-842e-99cea9adeb43"
   },
   "outputs": [
    {
     "data": {
      "text/html": [
       "\n",
       "  <div id=\"df-35c6b848-80cb-44ee-b711-158352024d07\" class=\"colab-df-container\">\n",
       "    <div>\n",
       "<style scoped>\n",
       "    .dataframe tbody tr th:only-of-type {\n",
       "        vertical-align: middle;\n",
       "    }\n",
       "\n",
       "    .dataframe tbody tr th {\n",
       "        vertical-align: top;\n",
       "    }\n",
       "\n",
       "    .dataframe thead th {\n",
       "        text-align: right;\n",
       "    }\n",
       "</style>\n",
       "<table border=\"1\" class=\"dataframe\">\n",
       "  <thead>\n",
       "    <tr style=\"text-align: right;\">\n",
       "      <th></th>\n",
       "      <th>Player_Id</th>\n",
       "      <th>Year</th>\n",
       "      <th>Team</th>\n",
       "      <th>Games_Played</th>\n",
       "      <th>Attempts</th>\n",
       "      <th>Yards_Rush</th>\n",
       "      <th>Average_Rush</th>\n",
       "      <th>Long_Rush</th>\n",
       "      <th>TDs_Rush</th>\n",
       "      <th>First_Downs_Rush</th>\n",
       "      <th>...</th>\n",
       "      <th>TDs_Receptions</th>\n",
       "      <th>First_Downs_Receptions</th>\n",
       "      <th>First_Down_Percentage_Receptions</th>\n",
       "      <th>Receptions_Over_Twenty_Yards</th>\n",
       "      <th>Receptions_Over_Forty_Yards</th>\n",
       "      <th>NumYearsPlayed</th>\n",
       "      <th>3YearsThreshold</th>\n",
       "      <th>Position</th>\n",
       "      <th>Height</th>\n",
       "      <th>Weight</th>\n",
       "    </tr>\n",
       "  </thead>\n",
       "  <tbody>\n",
       "    <tr>\n",
       "      <th>4024</th>\n",
       "      <td>vernon-davis</td>\n",
       "      <td>2006</td>\n",
       "      <td>SanFrancisco49ers</td>\n",
       "      <td>10</td>\n",
       "      <td>2.0</td>\n",
       "      <td>5.0</td>\n",
       "      <td>2.5</td>\n",
       "      <td>9.0</td>\n",
       "      <td>0.0</td>\n",
       "      <td>0.0</td>\n",
       "      <td>...</td>\n",
       "      <td>3</td>\n",
       "      <td>9</td>\n",
       "      <td>45.0</td>\n",
       "      <td>5</td>\n",
       "      <td>2</td>\n",
       "      <td>14</td>\n",
       "      <td>1</td>\n",
       "      <td>TE</td>\n",
       "      <td>75.0</td>\n",
       "      <td>253.0</td>\n",
       "    </tr>\n",
       "  </tbody>\n",
       "</table>\n",
       "<p>1 rows × 28 columns</p>\n",
       "</div>\n",
       "    <div class=\"colab-df-buttons\">\n",
       "\n",
       "  <div class=\"colab-df-container\">\n",
       "    <button class=\"colab-df-convert\" onclick=\"convertToInteractive('df-35c6b848-80cb-44ee-b711-158352024d07')\"\n",
       "            title=\"Convert this dataframe to an interactive table.\"\n",
       "            style=\"display:none;\">\n",
       "\n",
       "  <svg xmlns=\"http://www.w3.org/2000/svg\" height=\"24px\" viewBox=\"0 -960 960 960\">\n",
       "    <path d=\"M120-120v-720h720v720H120Zm60-500h600v-160H180v160Zm220 220h160v-160H400v160Zm0 220h160v-160H400v160ZM180-400h160v-160H180v160Zm440 0h160v-160H620v160ZM180-180h160v-160H180v160Zm440 0h160v-160H620v160Z\"/>\n",
       "  </svg>\n",
       "    </button>\n",
       "\n",
       "  <style>\n",
       "    .colab-df-container {\n",
       "      display:flex;\n",
       "      gap: 12px;\n",
       "    }\n",
       "\n",
       "    .colab-df-convert {\n",
       "      background-color: #E8F0FE;\n",
       "      border: none;\n",
       "      border-radius: 50%;\n",
       "      cursor: pointer;\n",
       "      display: none;\n",
       "      fill: #1967D2;\n",
       "      height: 32px;\n",
       "      padding: 0 0 0 0;\n",
       "      width: 32px;\n",
       "    }\n",
       "\n",
       "    .colab-df-convert:hover {\n",
       "      background-color: #E2EBFA;\n",
       "      box-shadow: 0px 1px 2px rgba(60, 64, 67, 0.3), 0px 1px 3px 1px rgba(60, 64, 67, 0.15);\n",
       "      fill: #174EA6;\n",
       "    }\n",
       "\n",
       "    .colab-df-buttons div {\n",
       "      margin-bottom: 4px;\n",
       "    }\n",
       "\n",
       "    [theme=dark] .colab-df-convert {\n",
       "      background-color: #3B4455;\n",
       "      fill: #D2E3FC;\n",
       "    }\n",
       "\n",
       "    [theme=dark] .colab-df-convert:hover {\n",
       "      background-color: #434B5C;\n",
       "      box-shadow: 0px 1px 3px 1px rgba(0, 0, 0, 0.15);\n",
       "      filter: drop-shadow(0px 1px 2px rgba(0, 0, 0, 0.3));\n",
       "      fill: #FFFFFF;\n",
       "    }\n",
       "  </style>\n",
       "\n",
       "    <script>\n",
       "      const buttonEl =\n",
       "        document.querySelector('#df-35c6b848-80cb-44ee-b711-158352024d07 button.colab-df-convert');\n",
       "      buttonEl.style.display =\n",
       "        google.colab.kernel.accessAllowed ? 'block' : 'none';\n",
       "\n",
       "      async function convertToInteractive(key) {\n",
       "        const element = document.querySelector('#df-35c6b848-80cb-44ee-b711-158352024d07');\n",
       "        const dataTable =\n",
       "          await google.colab.kernel.invokeFunction('convertToInteractive',\n",
       "                                                    [key], {});\n",
       "        if (!dataTable) return;\n",
       "\n",
       "        const docLinkHtml = 'Like what you see? Visit the ' +\n",
       "          '<a target=\"_blank\" href=https://colab.research.google.com/notebooks/data_table.ipynb>data table notebook</a>'\n",
       "          + ' to learn more about interactive tables.';\n",
       "        element.innerHTML = '';\n",
       "        dataTable['output_type'] = 'display_data';\n",
       "        await google.colab.output.renderOutput(dataTable, element);\n",
       "        const docLink = document.createElement('div');\n",
       "        docLink.innerHTML = docLinkHtml;\n",
       "        element.appendChild(docLink);\n",
       "      }\n",
       "    </script>\n",
       "  </div>\n",
       "\n",
       "    </div>\n",
       "  </div>\n"
      ],
      "text/plain": [
       "         Player_Id  Year               Team  Games_Played  Attempts  \\\n",
       "4024  vernon-davis  2006  SanFrancisco49ers            10       2.0   \n",
       "\n",
       "      Yards_Rush  Average_Rush  Long_Rush  TDs_Rush  First_Downs_Rush  ...  \\\n",
       "4024         5.0           2.5        9.0       0.0               0.0  ...   \n",
       "\n",
       "      TDs_Receptions  First_Downs_Receptions  \\\n",
       "4024               3                       9   \n",
       "\n",
       "      First_Down_Percentage_Receptions  Receptions_Over_Twenty_Yards  \\\n",
       "4024                              45.0                             5   \n",
       "\n",
       "      Receptions_Over_Forty_Yards  NumYearsPlayed  3YearsThreshold  Position  \\\n",
       "4024                            2              14                1        TE   \n",
       "\n",
       "      Height  Weight  \n",
       "4024    75.0   253.0  \n",
       "\n",
       "[1 rows x 28 columns]"
      ]
     },
     "execution_count": 18,
     "metadata": {},
     "output_type": "execute_result"
    }
   ],
   "source": [
    "# googled vernon davis height and weight in 2006: ht=6'3, wt=253\n",
    "df.loc[df['Player_Id'] == 'vernon-davis', 'Height'] = 75\n",
    "df.loc[df['Player_Id'] == 'vernon-davis', 'Weight'] = 253\n",
    "\n",
    "df[df['Player_Id'] == 'vernon-davis']"
   ]
  },
  {
   "cell_type": "markdown",
   "metadata": {
    "id": "JkGk5Rnuzcha"
   },
   "source": [
    "**Comment:** The lone player with null Height and Weight values is Vernon Davis of the 2006 49ers. When you're dealing with large amounts of null values, web scraping to find datapoints of missing values isn't ideal/optimal; however, since we are only dealing with  only 1 record, it can be an exception in this case. We enter in Vernon's height and weight based on data found on footballsfuture.com."
   ]
  },
  {
   "cell_type": "markdown",
   "metadata": {
    "id": "H3bkxs7juLUe"
   },
   "source": [
    "### 3.2 Positions"
   ]
  },
  {
   "cell_type": "code",
   "execution_count": 19,
   "metadata": {
    "colab": {
     "base_uri": "https://localhost:8080/",
     "height": 0
    },
    "id": "uaQUd_RXtrpJ",
    "outputId": "825dc245-fc84-4508-f490-498d67cb80e5"
   },
   "outputs": [
    {
     "data": {
      "text/plain": [
       "array(['RB', 'WR', 'QB', 'FB', 'TE', 'HB', 'WB', 'DB', 'TB', 'BB', 'LB',\n",
       "       'OE', 'DE', 'CB', 'SS', 'E', 'P', 'FL', 'G', 'C', 'FS', 'OG', 'K',\n",
       "       'T', 'OT', 'MLB', 'DT'], dtype=object)"
      ]
     },
     "execution_count": 19,
     "metadata": {},
     "output_type": "execute_result"
    }
   ],
   "source": [
    "# Exploring football positions in dataset\n",
    "df.Position.unique()"
   ]
  },
  {
   "cell_type": "markdown",
   "metadata": {
    "id": "TOH0Nzy1ve8f"
   },
   "source": [
    "**Comment:** Exploring the various position types, some positions are defensive positions who have registered a statistics on turnover playes. Moving forward, we are only going to deal with the 5 offensive skill positions that mainly accumulate recieving and rushing stats as their primary role on the team.\n",
    "\n",
    "- RB = Running Back\n",
    "- WR = Wide Receiver\n",
    "- FB = Full Back\n",
    "- HB = Half Back\n",
    "- TE = Tight End"
   ]
  },
  {
   "cell_type": "code",
   "execution_count": 20,
   "metadata": {
    "id": "aBwhGX7GuvzF"
   },
   "outputs": [],
   "source": [
    "# subset df on skill positions\n",
    "skill_positions = ['WR','RB','TE','HB','FB']\n",
    "\n",
    "df = df[df.Position.isin(skill_positions)]"
   ]
  },
  {
   "cell_type": "markdown",
   "metadata": {
    "id": "jGk9DNnKC6-9"
   },
   "source": [
    "**Comment:** Now we have a clean dataset!"
   ]
  },
  {
   "cell_type": "markdown",
   "metadata": {
    "id": "3tpep-BpxKd1"
   },
   "source": [
    "## 4. Exploratory Data Analysis"
   ]
  },
  {
   "cell_type": "code",
   "execution_count": 21,
   "metadata": {
    "colab": {
     "base_uri": "https://localhost:8080/",
     "height": 0
    },
    "id": "z1PepKKWAzQO",
    "outputId": "c3346f3c-ef4d-45e8-8bb4-9f5e1df36bcc"
   },
   "outputs": [
    {
     "data": {
      "text/plain": [
       "(3404, 28)"
      ]
     },
     "execution_count": 21,
     "metadata": {},
     "output_type": "execute_result"
    }
   ],
   "source": [
    "# check dimensions of cleaned dataframe\n",
    "df.shape"
   ]
  },
  {
   "cell_type": "code",
   "execution_count": 22,
   "metadata": {
    "colab": {
     "base_uri": "https://localhost:8080/",
     "height": 349
    },
    "id": "V8lh0UJfwNt4",
    "outputId": "1ecf6382-8b29-410c-be50-c2acad8f99f3"
   },
   "outputs": [
    {
     "data": {
      "text/html": [
       "\n",
       "  <div id=\"df-99fba9db-7daf-4237-b36a-2a16e1ade566\" class=\"colab-df-container\">\n",
       "    <div>\n",
       "<style scoped>\n",
       "    .dataframe tbody tr th:only-of-type {\n",
       "        vertical-align: middle;\n",
       "    }\n",
       "\n",
       "    .dataframe tbody tr th {\n",
       "        vertical-align: top;\n",
       "    }\n",
       "\n",
       "    .dataframe thead th {\n",
       "        text-align: right;\n",
       "    }\n",
       "</style>\n",
       "<table border=\"1\" class=\"dataframe\">\n",
       "  <thead>\n",
       "    <tr style=\"text-align: right;\">\n",
       "      <th></th>\n",
       "      <th>Games_Played</th>\n",
       "      <th>Attempts</th>\n",
       "      <th>Yards_Rush</th>\n",
       "      <th>Average_Rush</th>\n",
       "      <th>Long_Rush</th>\n",
       "      <th>TDs_Rush</th>\n",
       "      <th>First_Downs_Rush</th>\n",
       "      <th>First_Down_Percentage_Rush</th>\n",
       "      <th>Rushes_Over_Twenty_Yards</th>\n",
       "      <th>Rushes_Over_Forty_Yards</th>\n",
       "      <th>...</th>\n",
       "      <th>Long_Receptions</th>\n",
       "      <th>TDs_Receptions</th>\n",
       "      <th>First_Downs_Receptions</th>\n",
       "      <th>First_Down_Percentage_Receptions</th>\n",
       "      <th>Receptions_Over_Twenty_Yards</th>\n",
       "      <th>Receptions_Over_Forty_Yards</th>\n",
       "      <th>NumYearsPlayed</th>\n",
       "      <th>3YearsThreshold</th>\n",
       "      <th>Height</th>\n",
       "      <th>Weight</th>\n",
       "    </tr>\n",
       "  </thead>\n",
       "  <tbody>\n",
       "    <tr>\n",
       "      <th>count</th>\n",
       "      <td>3404.000000</td>\n",
       "      <td>3404.000000</td>\n",
       "      <td>3404.000000</td>\n",
       "      <td>3404.000000</td>\n",
       "      <td>3404.000000</td>\n",
       "      <td>3404.000000</td>\n",
       "      <td>3404.000000</td>\n",
       "      <td>3404.000000</td>\n",
       "      <td>3404.000000</td>\n",
       "      <td>3404.000000</td>\n",
       "      <td>...</td>\n",
       "      <td>3404.000000</td>\n",
       "      <td>3404.000000</td>\n",
       "      <td>3404.000000</td>\n",
       "      <td>3404.000000</td>\n",
       "      <td>3404.000000</td>\n",
       "      <td>3404.000000</td>\n",
       "      <td>3404.000000</td>\n",
       "      <td>3404.000000</td>\n",
       "      <td>3404.000000</td>\n",
       "      <td>3404.000000</td>\n",
       "    </tr>\n",
       "    <tr>\n",
       "      <th>mean</th>\n",
       "      <td>10.650999</td>\n",
       "      <td>32.534371</td>\n",
       "      <td>131.790834</td>\n",
       "      <td>2.968390</td>\n",
       "      <td>8.995593</td>\n",
       "      <td>0.920388</td>\n",
       "      <td>2.308461</td>\n",
       "      <td>5.668854</td>\n",
       "      <td>0.253525</td>\n",
       "      <td>0.055229</td>\n",
       "      <td>...</td>\n",
       "      <td>13.910106</td>\n",
       "      <td>0.737074</td>\n",
       "      <td>2.214160</td>\n",
       "      <td>12.795943</td>\n",
       "      <td>0.590188</td>\n",
       "      <td>0.122797</td>\n",
       "      <td>5.404524</td>\n",
       "      <td>0.645123</td>\n",
       "      <td>71.931257</td>\n",
       "      <td>207.541716</td>\n",
       "    </tr>\n",
       "    <tr>\n",
       "      <th>std</th>\n",
       "      <td>4.734297</td>\n",
       "      <td>54.722797</td>\n",
       "      <td>231.993885</td>\n",
       "      <td>3.874029</td>\n",
       "      <td>15.915651</td>\n",
       "      <td>1.992598</td>\n",
       "      <td>8.467221</td>\n",
       "      <td>15.070441</td>\n",
       "      <td>1.074947</td>\n",
       "      <td>0.327780</td>\n",
       "      <td>...</td>\n",
       "      <td>19.402010</td>\n",
       "      <td>1.521487</td>\n",
       "      <td>6.461597</td>\n",
       "      <td>25.549080</td>\n",
       "      <td>2.053881</td>\n",
       "      <td>0.614898</td>\n",
       "      <td>3.373418</td>\n",
       "      <td>0.478546</td>\n",
       "      <td>2.115384</td>\n",
       "      <td>21.220399</td>\n",
       "    </tr>\n",
       "    <tr>\n",
       "      <th>min</th>\n",
       "      <td>0.000000</td>\n",
       "      <td>0.000000</td>\n",
       "      <td>-33.000000</td>\n",
       "      <td>-15.000000</td>\n",
       "      <td>-14.000000</td>\n",
       "      <td>0.000000</td>\n",
       "      <td>0.000000</td>\n",
       "      <td>0.000000</td>\n",
       "      <td>0.000000</td>\n",
       "      <td>0.000000</td>\n",
       "      <td>...</td>\n",
       "      <td>-10.000000</td>\n",
       "      <td>0.000000</td>\n",
       "      <td>0.000000</td>\n",
       "      <td>0.000000</td>\n",
       "      <td>0.000000</td>\n",
       "      <td>0.000000</td>\n",
       "      <td>1.000000</td>\n",
       "      <td>0.000000</td>\n",
       "      <td>64.000000</td>\n",
       "      <td>142.000000</td>\n",
       "    </tr>\n",
       "    <tr>\n",
       "      <th>25%</th>\n",
       "      <td>8.000000</td>\n",
       "      <td>1.000000</td>\n",
       "      <td>0.000000</td>\n",
       "      <td>0.000000</td>\n",
       "      <td>0.000000</td>\n",
       "      <td>0.000000</td>\n",
       "      <td>0.000000</td>\n",
       "      <td>0.000000</td>\n",
       "      <td>0.000000</td>\n",
       "      <td>0.000000</td>\n",
       "      <td>...</td>\n",
       "      <td>0.000000</td>\n",
       "      <td>0.000000</td>\n",
       "      <td>0.000000</td>\n",
       "      <td>0.000000</td>\n",
       "      <td>0.000000</td>\n",
       "      <td>0.000000</td>\n",
       "      <td>3.000000</td>\n",
       "      <td>0.000000</td>\n",
       "      <td>71.000000</td>\n",
       "      <td>192.000000</td>\n",
       "    </tr>\n",
       "    <tr>\n",
       "      <th>50%</th>\n",
       "      <td>12.000000</td>\n",
       "      <td>7.000000</td>\n",
       "      <td>27.000000</td>\n",
       "      <td>3.200000</td>\n",
       "      <td>0.000000</td>\n",
       "      <td>0.000000</td>\n",
       "      <td>0.000000</td>\n",
       "      <td>0.000000</td>\n",
       "      <td>0.000000</td>\n",
       "      <td>0.000000</td>\n",
       "      <td>...</td>\n",
       "      <td>3.000000</td>\n",
       "      <td>0.000000</td>\n",
       "      <td>0.000000</td>\n",
       "      <td>0.000000</td>\n",
       "      <td>0.000000</td>\n",
       "      <td>0.000000</td>\n",
       "      <td>5.000000</td>\n",
       "      <td>1.000000</td>\n",
       "      <td>72.000000</td>\n",
       "      <td>206.000000</td>\n",
       "    </tr>\n",
       "    <tr>\n",
       "      <th>75%</th>\n",
       "      <td>14.000000</td>\n",
       "      <td>42.000000</td>\n",
       "      <td>163.000000</td>\n",
       "      <td>4.300000</td>\n",
       "      <td>13.000000</td>\n",
       "      <td>1.000000</td>\n",
       "      <td>0.000000</td>\n",
       "      <td>0.000000</td>\n",
       "      <td>0.000000</td>\n",
       "      <td>0.000000</td>\n",
       "      <td>...</td>\n",
       "      <td>22.000000</td>\n",
       "      <td>1.000000</td>\n",
       "      <td>0.000000</td>\n",
       "      <td>0.000000</td>\n",
       "      <td>0.000000</td>\n",
       "      <td>0.000000</td>\n",
       "      <td>8.000000</td>\n",
       "      <td>1.000000</td>\n",
       "      <td>73.000000</td>\n",
       "      <td>220.000000</td>\n",
       "    </tr>\n",
       "    <tr>\n",
       "      <th>max</th>\n",
       "      <td>16.000000</td>\n",
       "      <td>390.000000</td>\n",
       "      <td>1808.000000</td>\n",
       "      <td>63.000000</td>\n",
       "      <td>91.000000</td>\n",
       "      <td>18.000000</td>\n",
       "      <td>80.000000</td>\n",
       "      <td>100.000000</td>\n",
       "      <td>13.000000</td>\n",
       "      <td>5.000000</td>\n",
       "      <td>...</td>\n",
       "      <td>95.000000</td>\n",
       "      <td>17.000000</td>\n",
       "      <td>62.000000</td>\n",
       "      <td>100.000000</td>\n",
       "      <td>20.000000</td>\n",
       "      <td>14.000000</td>\n",
       "      <td>20.000000</td>\n",
       "      <td>1.000000</td>\n",
       "      <td>80.000000</td>\n",
       "      <td>301.000000</td>\n",
       "    </tr>\n",
       "  </tbody>\n",
       "</table>\n",
       "<p>8 rows × 24 columns</p>\n",
       "</div>\n",
       "    <div class=\"colab-df-buttons\">\n",
       "\n",
       "  <div class=\"colab-df-container\">\n",
       "    <button class=\"colab-df-convert\" onclick=\"convertToInteractive('df-99fba9db-7daf-4237-b36a-2a16e1ade566')\"\n",
       "            title=\"Convert this dataframe to an interactive table.\"\n",
       "            style=\"display:none;\">\n",
       "\n",
       "  <svg xmlns=\"http://www.w3.org/2000/svg\" height=\"24px\" viewBox=\"0 -960 960 960\">\n",
       "    <path d=\"M120-120v-720h720v720H120Zm60-500h600v-160H180v160Zm220 220h160v-160H400v160Zm0 220h160v-160H400v160ZM180-400h160v-160H180v160Zm440 0h160v-160H620v160ZM180-180h160v-160H180v160Zm440 0h160v-160H620v160Z\"/>\n",
       "  </svg>\n",
       "    </button>\n",
       "\n",
       "  <style>\n",
       "    .colab-df-container {\n",
       "      display:flex;\n",
       "      gap: 12px;\n",
       "    }\n",
       "\n",
       "    .colab-df-convert {\n",
       "      background-color: #E8F0FE;\n",
       "      border: none;\n",
       "      border-radius: 50%;\n",
       "      cursor: pointer;\n",
       "      display: none;\n",
       "      fill: #1967D2;\n",
       "      height: 32px;\n",
       "      padding: 0 0 0 0;\n",
       "      width: 32px;\n",
       "    }\n",
       "\n",
       "    .colab-df-convert:hover {\n",
       "      background-color: #E2EBFA;\n",
       "      box-shadow: 0px 1px 2px rgba(60, 64, 67, 0.3), 0px 1px 3px 1px rgba(60, 64, 67, 0.15);\n",
       "      fill: #174EA6;\n",
       "    }\n",
       "\n",
       "    .colab-df-buttons div {\n",
       "      margin-bottom: 4px;\n",
       "    }\n",
       "\n",
       "    [theme=dark] .colab-df-convert {\n",
       "      background-color: #3B4455;\n",
       "      fill: #D2E3FC;\n",
       "    }\n",
       "\n",
       "    [theme=dark] .colab-df-convert:hover {\n",
       "      background-color: #434B5C;\n",
       "      box-shadow: 0px 1px 3px 1px rgba(0, 0, 0, 0.15);\n",
       "      filter: drop-shadow(0px 1px 2px rgba(0, 0, 0, 0.3));\n",
       "      fill: #FFFFFF;\n",
       "    }\n",
       "  </style>\n",
       "\n",
       "    <script>\n",
       "      const buttonEl =\n",
       "        document.querySelector('#df-99fba9db-7daf-4237-b36a-2a16e1ade566 button.colab-df-convert');\n",
       "      buttonEl.style.display =\n",
       "        google.colab.kernel.accessAllowed ? 'block' : 'none';\n",
       "\n",
       "      async function convertToInteractive(key) {\n",
       "        const element = document.querySelector('#df-99fba9db-7daf-4237-b36a-2a16e1ade566');\n",
       "        const dataTable =\n",
       "          await google.colab.kernel.invokeFunction('convertToInteractive',\n",
       "                                                    [key], {});\n",
       "        if (!dataTable) return;\n",
       "\n",
       "        const docLinkHtml = 'Like what you see? Visit the ' +\n",
       "          '<a target=\"_blank\" href=https://colab.research.google.com/notebooks/data_table.ipynb>data table notebook</a>'\n",
       "          + ' to learn more about interactive tables.';\n",
       "        element.innerHTML = '';\n",
       "        dataTable['output_type'] = 'display_data';\n",
       "        await google.colab.output.renderOutput(dataTable, element);\n",
       "        const docLink = document.createElement('div');\n",
       "        docLink.innerHTML = docLinkHtml;\n",
       "        element.appendChild(docLink);\n",
       "      }\n",
       "    </script>\n",
       "  </div>\n",
       "\n",
       "\n",
       "<div id=\"df-d5260461-b8f2-413e-8abe-0d4f520aa156\">\n",
       "  <button class=\"colab-df-quickchart\" onclick=\"quickchart('df-d5260461-b8f2-413e-8abe-0d4f520aa156')\"\n",
       "            title=\"Suggest charts\"\n",
       "            style=\"display:none;\">\n",
       "\n",
       "<svg xmlns=\"http://www.w3.org/2000/svg\" height=\"24px\"viewBox=\"0 0 24 24\"\n",
       "     width=\"24px\">\n",
       "    <g>\n",
       "        <path d=\"M19 3H5c-1.1 0-2 .9-2 2v14c0 1.1.9 2 2 2h14c1.1 0 2-.9 2-2V5c0-1.1-.9-2-2-2zM9 17H7v-7h2v7zm4 0h-2V7h2v10zm4 0h-2v-4h2v4z\"/>\n",
       "    </g>\n",
       "</svg>\n",
       "  </button>\n",
       "\n",
       "<style>\n",
       "  .colab-df-quickchart {\n",
       "      --bg-color: #E8F0FE;\n",
       "      --fill-color: #1967D2;\n",
       "      --hover-bg-color: #E2EBFA;\n",
       "      --hover-fill-color: #174EA6;\n",
       "      --disabled-fill-color: #AAA;\n",
       "      --disabled-bg-color: #DDD;\n",
       "  }\n",
       "\n",
       "  [theme=dark] .colab-df-quickchart {\n",
       "      --bg-color: #3B4455;\n",
       "      --fill-color: #D2E3FC;\n",
       "      --hover-bg-color: #434B5C;\n",
       "      --hover-fill-color: #FFFFFF;\n",
       "      --disabled-bg-color: #3B4455;\n",
       "      --disabled-fill-color: #666;\n",
       "  }\n",
       "\n",
       "  .colab-df-quickchart {\n",
       "    background-color: var(--bg-color);\n",
       "    border: none;\n",
       "    border-radius: 50%;\n",
       "    cursor: pointer;\n",
       "    display: none;\n",
       "    fill: var(--fill-color);\n",
       "    height: 32px;\n",
       "    padding: 0;\n",
       "    width: 32px;\n",
       "  }\n",
       "\n",
       "  .colab-df-quickchart:hover {\n",
       "    background-color: var(--hover-bg-color);\n",
       "    box-shadow: 0 1px 2px rgba(60, 64, 67, 0.3), 0 1px 3px 1px rgba(60, 64, 67, 0.15);\n",
       "    fill: var(--button-hover-fill-color);\n",
       "  }\n",
       "\n",
       "  .colab-df-quickchart-complete:disabled,\n",
       "  .colab-df-quickchart-complete:disabled:hover {\n",
       "    background-color: var(--disabled-bg-color);\n",
       "    fill: var(--disabled-fill-color);\n",
       "    box-shadow: none;\n",
       "  }\n",
       "\n",
       "  .colab-df-spinner {\n",
       "    border: 2px solid var(--fill-color);\n",
       "    border-color: transparent;\n",
       "    border-bottom-color: var(--fill-color);\n",
       "    animation:\n",
       "      spin 1s steps(1) infinite;\n",
       "  }\n",
       "\n",
       "  @keyframes spin {\n",
       "    0% {\n",
       "      border-color: transparent;\n",
       "      border-bottom-color: var(--fill-color);\n",
       "      border-left-color: var(--fill-color);\n",
       "    }\n",
       "    20% {\n",
       "      border-color: transparent;\n",
       "      border-left-color: var(--fill-color);\n",
       "      border-top-color: var(--fill-color);\n",
       "    }\n",
       "    30% {\n",
       "      border-color: transparent;\n",
       "      border-left-color: var(--fill-color);\n",
       "      border-top-color: var(--fill-color);\n",
       "      border-right-color: var(--fill-color);\n",
       "    }\n",
       "    40% {\n",
       "      border-color: transparent;\n",
       "      border-right-color: var(--fill-color);\n",
       "      border-top-color: var(--fill-color);\n",
       "    }\n",
       "    60% {\n",
       "      border-color: transparent;\n",
       "      border-right-color: var(--fill-color);\n",
       "    }\n",
       "    80% {\n",
       "      border-color: transparent;\n",
       "      border-right-color: var(--fill-color);\n",
       "      border-bottom-color: var(--fill-color);\n",
       "    }\n",
       "    90% {\n",
       "      border-color: transparent;\n",
       "      border-bottom-color: var(--fill-color);\n",
       "    }\n",
       "  }\n",
       "</style>\n",
       "\n",
       "  <script>\n",
       "    async function quickchart(key) {\n",
       "      const quickchartButtonEl =\n",
       "        document.querySelector('#' + key + ' button');\n",
       "      quickchartButtonEl.disabled = true;  // To prevent multiple clicks.\n",
       "      quickchartButtonEl.classList.add('colab-df-spinner');\n",
       "      try {\n",
       "        const charts = await google.colab.kernel.invokeFunction(\n",
       "            'suggestCharts', [key], {});\n",
       "      } catch (error) {\n",
       "        console.error('Error during call to suggestCharts:', error);\n",
       "      }\n",
       "      quickchartButtonEl.classList.remove('colab-df-spinner');\n",
       "      quickchartButtonEl.classList.add('colab-df-quickchart-complete');\n",
       "    }\n",
       "    (() => {\n",
       "      let quickchartButtonEl =\n",
       "        document.querySelector('#df-d5260461-b8f2-413e-8abe-0d4f520aa156 button');\n",
       "      quickchartButtonEl.style.display =\n",
       "        google.colab.kernel.accessAllowed ? 'block' : 'none';\n",
       "    })();\n",
       "  </script>\n",
       "</div>\n",
       "    </div>\n",
       "  </div>\n"
      ],
      "text/plain": [
       "       Games_Played     Attempts   Yards_Rush  Average_Rush    Long_Rush  \\\n",
       "count   3404.000000  3404.000000  3404.000000   3404.000000  3404.000000   \n",
       "mean      10.650999    32.534371   131.790834      2.968390     8.995593   \n",
       "std        4.734297    54.722797   231.993885      3.874029    15.915651   \n",
       "min        0.000000     0.000000   -33.000000    -15.000000   -14.000000   \n",
       "25%        8.000000     1.000000     0.000000      0.000000     0.000000   \n",
       "50%       12.000000     7.000000    27.000000      3.200000     0.000000   \n",
       "75%       14.000000    42.000000   163.000000      4.300000    13.000000   \n",
       "max       16.000000   390.000000  1808.000000     63.000000    91.000000   \n",
       "\n",
       "          TDs_Rush  First_Downs_Rush  First_Down_Percentage_Rush  \\\n",
       "count  3404.000000       3404.000000                 3404.000000   \n",
       "mean      0.920388          2.308461                    5.668854   \n",
       "std       1.992598          8.467221                   15.070441   \n",
       "min       0.000000          0.000000                    0.000000   \n",
       "25%       0.000000          0.000000                    0.000000   \n",
       "50%       0.000000          0.000000                    0.000000   \n",
       "75%       1.000000          0.000000                    0.000000   \n",
       "max      18.000000         80.000000                  100.000000   \n",
       "\n",
       "       Rushes_Over_Twenty_Yards  Rushes_Over_Forty_Yards  ...  \\\n",
       "count               3404.000000              3404.000000  ...   \n",
       "mean                   0.253525                 0.055229  ...   \n",
       "std                    1.074947                 0.327780  ...   \n",
       "min                    0.000000                 0.000000  ...   \n",
       "25%                    0.000000                 0.000000  ...   \n",
       "50%                    0.000000                 0.000000  ...   \n",
       "75%                    0.000000                 0.000000  ...   \n",
       "max                   13.000000                 5.000000  ...   \n",
       "\n",
       "       Long_Receptions  TDs_Receptions  First_Downs_Receptions  \\\n",
       "count      3404.000000     3404.000000             3404.000000   \n",
       "mean         13.910106        0.737074                2.214160   \n",
       "std          19.402010        1.521487                6.461597   \n",
       "min         -10.000000        0.000000                0.000000   \n",
       "25%           0.000000        0.000000                0.000000   \n",
       "50%           3.000000        0.000000                0.000000   \n",
       "75%          22.000000        1.000000                0.000000   \n",
       "max          95.000000       17.000000               62.000000   \n",
       "\n",
       "       First_Down_Percentage_Receptions  Receptions_Over_Twenty_Yards  \\\n",
       "count                       3404.000000                   3404.000000   \n",
       "mean                          12.795943                      0.590188   \n",
       "std                           25.549080                      2.053881   \n",
       "min                            0.000000                      0.000000   \n",
       "25%                            0.000000                      0.000000   \n",
       "50%                            0.000000                      0.000000   \n",
       "75%                            0.000000                      0.000000   \n",
       "max                          100.000000                     20.000000   \n",
       "\n",
       "       Receptions_Over_Forty_Yards  NumYearsPlayed  3YearsThreshold  \\\n",
       "count                  3404.000000     3404.000000      3404.000000   \n",
       "mean                      0.122797        5.404524         0.645123   \n",
       "std                       0.614898        3.373418         0.478546   \n",
       "min                       0.000000        1.000000         0.000000   \n",
       "25%                       0.000000        3.000000         0.000000   \n",
       "50%                       0.000000        5.000000         1.000000   \n",
       "75%                       0.000000        8.000000         1.000000   \n",
       "max                      14.000000       20.000000         1.000000   \n",
       "\n",
       "            Height       Weight  \n",
       "count  3404.000000  3404.000000  \n",
       "mean     71.931257   207.541716  \n",
       "std       2.115384    21.220399  \n",
       "min      64.000000   142.000000  \n",
       "25%      71.000000   192.000000  \n",
       "50%      72.000000   206.000000  \n",
       "75%      73.000000   220.000000  \n",
       "max      80.000000   301.000000  \n",
       "\n",
       "[8 rows x 24 columns]"
      ]
     },
     "execution_count": 22,
     "metadata": {},
     "output_type": "execute_result"
    }
   ],
   "source": [
    "# print summary stats\n",
    "df.describe()"
   ]
  },
  {
   "cell_type": "code",
   "execution_count": 23,
   "metadata": {
    "colab": {
     "base_uri": "https://localhost:8080/",
     "height": 0
    },
    "id": "gs2s3ibTv3yB",
    "outputId": "5ac178e4-e826-4e30-d71c-f245f5323ff4"
   },
   "outputs": [
    {
     "data": {
      "text/plain": [
       "('1920', '2018')"
      ]
     },
     "execution_count": 23,
     "metadata": {},
     "output_type": "execute_result"
    }
   ],
   "source": [
    "# print timerange\n",
    "df.Year.min(), df.Year.max()"
   ]
  },
  {
   "cell_type": "markdown",
   "metadata": {
    "id": "qF7xSwS-v8-k"
   },
   "source": [
    "**Comment:** The timeline of our dataset ranges from 1920 - 2018."
   ]
  },
  {
   "cell_type": "markdown",
   "metadata": {
    "id": "7ZhNJybtpFu0"
   },
   "source": [
    "### 4.1 Countplot of Target Feature"
   ]
  },
  {
   "cell_type": "code",
   "execution_count": 24,
   "metadata": {
    "colab": {
     "base_uri": "https://localhost:8080/",
     "height": 407
    },
    "id": "RwoU13ma69Rz",
    "outputId": "05744370-5808-4053-f910-bf9d5c61b445"
   },
   "outputs": [
    {
     "data": {
      "image/png": "[encoded data removed]",
      "text/plain": [
       "<Figure size 500x400 with 1 Axes>"
      ]
     },
     "metadata": {},
     "output_type": "display_data"
    }
   ],
   "source": [
    "# plot countplot of 3YearsThreshold\n",
    "plt.figure(figsize=(5,4))\n",
    "ax = sns.countplot(x='3YearsThreshold',data=df)\n",
    "ax.bar_label(ax.containers[0],size=10,color='red')\n",
    "plt.tight_layout();"
   ]
  },
  {
   "cell_type": "markdown",
   "metadata": {
    "id": "R5DAtngWDC_U"
   },
   "source": [
    "**Comment:** Of the 3,404 rookies in our dataset, 2,196 of those rookies passed the 3 year threshold in career length."
   ]
  },
  {
   "cell_type": "markdown",
   "metadata": {
    "id": "oUlr3B96pKqR"
   },
   "source": [
    "### 4.2 Distributions of Numerical Variables"
   ]
  },
  {
   "cell_type": "code",
   "execution_count": 25,
   "metadata": {
    "colab": {
     "base_uri": "https://localhost:8080/",
     "height": 808
    },
    "id": "x_MK2vtexqmy",
    "outputId": "b4a1d46d-8c56-4f02-86bb-6e2335e5ecc6"
   },
   "outputs": [
    {
     "data": {
      "image/png": "[encoded data removed]",
      "text/plain": [
       "<Figure size 800x800 with 9 Axes>"
      ]
     },
     "metadata": {},
     "output_type": "display_data"
    }
   ],
   "source": [
    "# Display first set of numerical columns\n",
    "sns.set(style='darkgrid',context='paper')\n",
    "df.iloc[:,0:12].hist(figsize=(8,8),bins=15)\n",
    "plt.subplots_adjust(hspace=0.5)\n",
    "plt.tight_layout();"
   ]
  },
  {
   "cell_type": "code",
   "execution_count": 26,
   "metadata": {
    "colab": {
     "base_uri": "https://localhost:8080/",
     "height": 1008
    },
    "id": "ab_XDgqHyRNB",
    "outputId": "2c31d7af-dac7-4dd9-82e3-becc1bcd75fd"
   },
   "outputs": [
    {
     "data": {
      "image/png": "[encoded data removed]",
      "text/plain": [
       "<Figure size 1000x1000 with 16 Axes>"
      ]
     },
     "metadata": {},
     "output_type": "display_data"
    }
   ],
   "source": [
    "# Display next set of numerical columns\n",
    "df.iloc[:,13:].hist(figsize=(10,10),bins=15)\n",
    "plt.subplots_adjust(hspace=0.5)\n",
    "plt.tight_layout();"
   ]
  },
  {
   "cell_type": "markdown",
   "metadata": {
    "id": "hvFB9egzDcSg"
   },
   "source": [
    "**Comment:** The rushing and receiving performance statistics are right skewed. Height and Weight follow a normal distribution, while number of games played is left skewed."
   ]
  },
  {
   "cell_type": "markdown",
   "metadata": {
    "id": "eG3D822GpQdP"
   },
   "source": [
    "### 4.3 Feature Correlation Heatmap"
   ]
  },
  {
   "cell_type": "code",
   "execution_count": 27,
   "metadata": {
    "colab": {
     "base_uri": "https://localhost:8080/",
     "height": 1000
    },
    "id": "2yVl-UOv7k2v",
    "outputId": "e549c43b-fa53-40da-eb28-f5554fb32abe"
   },
   "outputs": [
    {
     "data": {
      "image/png": "[encoded data removed]",
      "text/plain": [
       "<Figure size 1500x1000 with 2 Axes>"
      ]
     },
     "metadata": {},
     "output_type": "display_data"
    }
   ],
   "source": [
    "# plot correlations\n",
    "plt.figure(figsize=(15,10))\n",
    "plt.title('Feature Correlation Heatmap')\n",
    "sns.heatmap(df.corr(),annot=True,fmt='.2f')\n",
    "plt.tight_layout();"
   ]
  },
  {
   "cell_type": "markdown",
   "metadata": {
    "id": "2nzOYZfcDyT8"
   },
   "source": [
    "**Comment:** The various rushing statistics are moderately to highly correlated with each other. We see this pattern also among the receiving statistics. We will later use feature selection techniques for the predictive models."
   ]
  },
  {
   "cell_type": "markdown",
   "metadata": {
    "id": "mBxf2zgTpVnC"
   },
   "source": [
    "### 4.4 Barplot of NumYearsPlayed by Position"
   ]
  },
  {
   "cell_type": "code",
   "execution_count": 28,
   "metadata": {
    "colab": {
     "base_uri": "https://localhost:8080/",
     "height": 609
    },
    "id": "tv4tiM2m82qT",
    "outputId": "fcfe1825-3ed6-4c2a-d5d6-ee6536aea555"
   },
   "outputs": [
    {
     "name": "stdout",
     "output_type": "stream",
     "text": [
      "Position\n",
      "TE    8.0\n",
      "WR    6.0\n",
      "FB    4.0\n",
      "RB    4.0\n",
      "HB    3.0\n",
      "Name: NumYearsPlayed, dtype: float64\n"
     ]
    },
    {
     "data": {
      "image/png": "[encoded data removed]",
      "text/plain": [
       "<Figure size 640x480 with 1 Axes>"
      ]
     },
     "metadata": {},
     "output_type": "display_data"
    }
   ],
   "source": [
    "# subset and aggregate by median\n",
    "position_years = df.groupby('Position')['NumYearsPlayed'].median().sort_values(ascending=False)\n",
    "print(position_years)\n",
    "\n",
    "# plot barplot\n",
    "sns.set_style('dark')\n",
    "ax = sns.barplot(position_years.reset_index(),x='NumYearsPlayed',y='Position',orient='h', palette=['turquoise'])\n",
    "ax.bar_label(ax.containers[0],size=10.5,color='blue')\n",
    "plt.title(\"Median Years Played by Position\")\n",
    "plt.tight_layout();"
   ]
  },
  {
   "cell_type": "markdown",
   "metadata": {
    "id": "UlhDUAoWHNYb"
   },
   "source": [
    "**Comment:** We use the median to find the best value for center since NumYearsPlayed has a skewed-right distribution. Halfbacks/running backs have the shortest careers at 3-4 years while wide receivers and tight ends have longer careers at 6-8 years."
   ]
  },
  {
   "cell_type": "markdown",
   "metadata": {
    "id": "33XjWi1BpiG6"
   },
   "source": [
    "### 4.5 Barplot of New Players by Year"
   ]
  },
  {
   "cell_type": "code",
   "execution_count": 29,
   "metadata": {
    "colab": {
     "base_uri": "https://localhost:8080/",
     "height": 508
    },
    "id": "plN4DV3NzGug",
    "outputId": "973ab800-530b-438b-c34f-568161bc6270"
   },
   "outputs": [
    {
     "data": {
      "image/png": "[encoded data removed]",
      "text/plain": [
       "<Figure size 1500x500 with 1 Axes>"
      ]
     },
     "metadata": {},
     "output_type": "display_data"
    }
   ],
   "source": [
    "# subset by year and count player_id's\n",
    "years_count = df.groupby('Year')['Player_Id'].count().reset_index()\n",
    "\n",
    "# create barplot using subset\n",
    "plt.figure(figsize=(15,5))\n",
    "plt.bar(years_count.Year,years_count.Player_Id, data=years_count, color='blue')\n",
    "plt.xticks(rotation=90)\n",
    "plt.tight_layout();"
   ]
  },
  {
   "cell_type": "markdown",
   "metadata": {
    "id": "GSRSfpCtw_eq"
   },
   "source": [
    "**Comment:** Trends in the counts of rookie players to join the NFL over time. The year 1987 seems to have a very high spike in rookie players admission. After researching, this appears to be a result of the 1987 NFL Player's Association strike which saw an influx of replacement players due to unionized players refusing to play."
   ]
  },
  {
   "cell_type": "markdown",
   "metadata": {
    "id": "1Qd5KgLlHMrQ"
   },
   "source": [
    "## 5. Preprocessing"
   ]
  },
  {
   "cell_type": "markdown",
   "metadata": {
    "id": "Q0vhqrKk3q3d"
   },
   "source": [
    "### 5.1 Scale Numerical Features"
   ]
  },
  {
   "cell_type": "code",
   "execution_count": 30,
   "metadata": {
    "id": "MGQwfOFx7iYL"
   },
   "outputs": [],
   "source": [
    "# split predictors and target variable\n",
    "X = df[['Games_Played', 'Attempts', 'Yards_Rush', 'Average_Rush',\n",
    "       'Long_Rush', 'TDs_Rush', 'First_Downs_Rush',\n",
    "       'Rushes_Over_Twenty_Yards', 'Fumbles',\n",
    "       'Receptions', 'Yards_Receptions',\n",
    "       'Average_Receptions', 'Long_Receptions',\n",
    "       'TDs_Receptions', 'First_Downs_Receptions',\n",
    "       'Receptions_Over_Twenty_Yards',\n",
    "       'Height', 'Weight']]\n",
    "\n",
    "y = df[['3YearsThreshold']]"
   ]
  },
  {
   "cell_type": "markdown",
   "metadata": {
    "id": "d2m1E4fZ2x9k"
   },
   "source": [
    "**Comment:** Here we do some feature selection based on research and domain knowledge. We drop the average rush and receptions columns because they are just calculated columns of attempts and yards (yards/attempts). We drop the first down percentage columns because they are redundant with the first down columns. For the same reason, we drop the over fourty yard columns."
   ]
  },
  {
   "cell_type": "code",
   "execution_count": 31,
   "metadata": {
    "colab": {
     "base_uri": "https://localhost:8080/",
     "height": 0
    },
    "id": "P7i-UXScz1zQ",
    "outputId": "223e9c3f-61f3-425f-8ea4-7e65c830b98a"
   },
   "outputs": [
    {
     "data": {
      "text/plain": [
       "array([[ 1.13000653, -0.37529859, -0.2965636 , ..., -0.28739476,\n",
       "        -1.38588921,  0.11586236],\n",
       "       [-1.82757208, -0.57634124, -0.56816237, ..., -0.28739476,\n",
       "        -0.91309237, -0.35545154],\n",
       "       [-1.61631646, -0.59461784, -0.56816237, ..., -0.28739476,\n",
       "         0.50529815, -0.5911085 ],\n",
       "       ...,\n",
       "       [ 1.13000653, -0.57634124, -0.56816237, ..., -0.28739476,\n",
       "         0.97809499,  1.52980407],\n",
       "       [ 0.07372846,  1.79961736,  2.17369196, ..., -0.28739476,\n",
       "         0.97809499,  0.54004487],\n",
       "       [-0.98254962, -0.41185179, -0.49056272, ...,  0.19955982,\n",
       "         0.03250131,  1.10562156]])"
      ]
     },
     "execution_count": 31,
     "metadata": {},
     "output_type": "execute_result"
    }
   ],
   "source": [
    "# instantiate StandardScaler()\n",
    "scaler = StandardScaler()\n",
    "\n",
    "# fit and transform numerical features\n",
    "X_scaled = scaler.fit_transform(X)\n",
    "X_scaled"
   ]
  },
  {
   "cell_type": "markdown",
   "metadata": {
    "id": "IUQGm4V73x3o"
   },
   "source": [
    "### 5.2 Encode Target Feature"
   ]
  },
  {
   "cell_type": "code",
   "execution_count": 32,
   "metadata": {
    "colab": {
     "base_uri": "https://localhost:8080/",
     "height": 0
    },
    "id": "L7LHDajM0CKf",
    "outputId": "115d73e2-ce91-44fc-a152-b43d12986022"
   },
   "outputs": [
    {
     "data": {
      "text/plain": [
       "array([1, 1, 0, ..., 1, 1, 0])"
      ]
     },
     "execution_count": 32,
     "metadata": {},
     "output_type": "execute_result"
    }
   ],
   "source": [
    "# instantiate LabelEncoder()\n",
    "labeler = LabelEncoder()\n",
    "\n",
    "# fit transform target feature\n",
    "y_scaled = labeler.fit_transform(y)\n",
    "y_scaled"
   ]
  },
  {
   "cell_type": "markdown",
   "metadata": {
    "id": "GrHmNr8m3SOW"
   },
   "source": [
    "### 5.3 Split Train & Test Sets"
   ]
  },
  {
   "cell_type": "code",
   "execution_count": 33,
   "metadata": {
    "id": "fS40cpsA4D8g"
   },
   "outputs": [],
   "source": [
    "# split training and testing sets with a test_size of 0.30\n",
    "X_train, X_test, y_train, y_test = train_test_split(X_scaled, y_scaled, test_size=0.3, random_state=143)"
   ]
  },
  {
   "cell_type": "code",
   "execution_count": 34,
   "metadata": {
    "colab": {
     "base_uri": "https://localhost:8080/",
     "height": 0
    },
    "id": "QFqsJldX4Qrh",
    "outputId": "ce0ac312-f34f-4fa9-f88e-4ab201251c60"
   },
   "outputs": [
    {
     "data": {
      "text/plain": [
       "((2382, 18), (2382,))"
      ]
     },
     "execution_count": 34,
     "metadata": {},
     "output_type": "execute_result"
    }
   ],
   "source": [
    "# print training dimensions\n",
    "X_train.shape, y_train.shape"
   ]
  },
  {
   "cell_type": "code",
   "execution_count": 35,
   "metadata": {
    "colab": {
     "base_uri": "https://localhost:8080/",
     "height": 0
    },
    "id": "3C-mLBcD4Sa2",
    "outputId": "930c2215-0ea2-45f2-ef2a-7d4f96bdd71e"
   },
   "outputs": [
    {
     "data": {
      "text/plain": [
       "((1022, 18), (1022,))"
      ]
     },
     "execution_count": 35,
     "metadata": {},
     "output_type": "execute_result"
    }
   ],
   "source": [
    "# print testing dimensions\n",
    "X_test.shape, y_test.shape"
   ]
  },
  {
   "cell_type": "markdown",
   "metadata": {
    "id": "kiBvm6qLVXsT"
   },
   "source": [
    "### 5.4 Feature Selection"
   ]
  },
  {
   "cell_type": "markdown",
   "metadata": {
    "id": "J202NVeV7Om9"
   },
   "source": [
    "#### 5.4.1 ANOVA f-test Feature Selection"
   ]
  },
  {
   "cell_type": "code",
   "execution_count": 36,
   "metadata": {
    "id": "fV_5khpyVK0A"
   },
   "outputs": [],
   "source": [
    "# anova feature selection function from MachineLearningMastery.com\n",
    "def select_features(X_train, y_train, X_test):\n",
    " # configure to select all features\n",
    " fs = SelectKBest(score_func=f_classif, k='all')\n",
    " # learn relationship from training data\n",
    " fs.fit(X_train, y_train)\n",
    " # transform train input data\n",
    " X_train_fs = fs.transform(X_train)\n",
    " # transform test input data\n",
    " X_test_fs = fs.transform(X_test)\n",
    " return X_train_fs, X_test_fs, fs"
   ]
  },
  {
   "cell_type": "markdown",
   "metadata": {
    "id": "-LwO78j3VSXo"
   },
   "source": [
    "**Comment:** The code above is from a MachineLearningMastery.com article to run ANOVA tests and scoring the features in the dataset based on importance. Reference for the code is found at the bottom of this notebook."
   ]
  },
  {
   "cell_type": "code",
   "execution_count": 37,
   "metadata": {
    "id": "CD3VA4fsVKxn"
   },
   "outputs": [],
   "source": [
    "# we modified this section so that fs_scores_dict can be accessed as a dictionary\n",
    "X_train_fs, X_test_fs, fs = select_features(X_train, y_train, X_test)\n",
    "\n",
    "fs_scores_dict = dict()\n",
    "for i in range(len(fs.scores_)):\n",
    "  fs_scores_dict['Feature '+str(i)] = fs.scores_[i]"
   ]
  },
  {
   "cell_type": "markdown",
   "metadata": {
    "id": "RMgtXShS8RIU"
   },
   "source": [
    "#### 5.4.2 Random Forest Feature Importance"
   ]
  },
  {
   "cell_type": "code",
   "execution_count": 38,
   "metadata": {
    "colab": {
     "base_uri": "https://localhost:8080/",
     "height": 613
    },
    "id": "-3CRQTn18Qsg",
    "outputId": "04343104-ba19-4809-83e6-0c23beae8a99"
   },
   "outputs": [
    {
     "data": {
      "text/html": [
       "\n",
       "  <div id=\"df-3b919d58-3522-4046-bcf7-981bd5cde4e1\" class=\"colab-df-container\">\n",
       "    <div>\n",
       "<style scoped>\n",
       "    .dataframe tbody tr th:only-of-type {\n",
       "        vertical-align: middle;\n",
       "    }\n",
       "\n",
       "    .dataframe tbody tr th {\n",
       "        vertical-align: top;\n",
       "    }\n",
       "\n",
       "    .dataframe thead th {\n",
       "        text-align: right;\n",
       "    }\n",
       "</style>\n",
       "<table border=\"1\" class=\"dataframe\">\n",
       "  <thead>\n",
       "    <tr style=\"text-align: right;\">\n",
       "      <th></th>\n",
       "      <th>ANOVA</th>\n",
       "      <th>Random Forest</th>\n",
       "    </tr>\n",
       "  </thead>\n",
       "  <tbody>\n",
       "    <tr>\n",
       "      <th>Weight</th>\n",
       "      <td>25.765948</td>\n",
       "      <td>0.126059</td>\n",
       "    </tr>\n",
       "    <tr>\n",
       "      <th>Games_Played</th>\n",
       "      <td>122.562439</td>\n",
       "      <td>0.108469</td>\n",
       "    </tr>\n",
       "    <tr>\n",
       "      <th>Yards_Receptions</th>\n",
       "      <td>164.037910</td>\n",
       "      <td>0.103428</td>\n",
       "    </tr>\n",
       "    <tr>\n",
       "      <th>Yards_Rush</th>\n",
       "      <td>29.793872</td>\n",
       "      <td>0.084811</td>\n",
       "    </tr>\n",
       "    <tr>\n",
       "      <th>Attempts</th>\n",
       "      <td>19.116489</td>\n",
       "      <td>0.080928</td>\n",
       "    </tr>\n",
       "    <tr>\n",
       "      <th>Average_Rush</th>\n",
       "      <td>1.417779</td>\n",
       "      <td>0.079855</td>\n",
       "    </tr>\n",
       "    <tr>\n",
       "      <th>Receptions</th>\n",
       "      <td>159.192758</td>\n",
       "      <td>0.077155</td>\n",
       "    </tr>\n",
       "    <tr>\n",
       "      <th>Average_Receptions</th>\n",
       "      <td>9.301793</td>\n",
       "      <td>0.076650</td>\n",
       "    </tr>\n",
       "    <tr>\n",
       "      <th>Height</th>\n",
       "      <td>44.161096</td>\n",
       "      <td>0.069651</td>\n",
       "    </tr>\n",
       "    <tr>\n",
       "      <th>Long_Receptions</th>\n",
       "      <td>79.716845</td>\n",
       "      <td>0.049955</td>\n",
       "    </tr>\n",
       "    <tr>\n",
       "      <th>Long_Rush</th>\n",
       "      <td>13.974476</td>\n",
       "      <td>0.045311</td>\n",
       "    </tr>\n",
       "    <tr>\n",
       "      <th>TDs_Rush</th>\n",
       "      <td>23.883879</td>\n",
       "      <td>0.026140</td>\n",
       "    </tr>\n",
       "    <tr>\n",
       "      <th>TDs_Receptions</th>\n",
       "      <td>89.453975</td>\n",
       "      <td>0.019827</td>\n",
       "    </tr>\n",
       "    <tr>\n",
       "      <th>First_Downs_Receptions</th>\n",
       "      <td>54.415906</td>\n",
       "      <td>0.017637</td>\n",
       "    </tr>\n",
       "    <tr>\n",
       "      <th>First_Downs_Rush</th>\n",
       "      <td>12.129420</td>\n",
       "      <td>0.015883</td>\n",
       "    </tr>\n",
       "    <tr>\n",
       "      <th>Receptions_Over_Twenty_Yards</th>\n",
       "      <td>41.218663</td>\n",
       "      <td>0.007487</td>\n",
       "    </tr>\n",
       "    <tr>\n",
       "      <th>Rushes_Over_Twenty_Yards</th>\n",
       "      <td>17.685941</td>\n",
       "      <td>0.006805</td>\n",
       "    </tr>\n",
       "    <tr>\n",
       "      <th>Fumbles</th>\n",
       "      <td>7.628763</td>\n",
       "      <td>0.003949</td>\n",
       "    </tr>\n",
       "  </tbody>\n",
       "</table>\n",
       "</div>\n",
       "    <div class=\"colab-df-buttons\">\n",
       "\n",
       "  <div class=\"colab-df-container\">\n",
       "    <button class=\"colab-df-convert\" onclick=\"convertToInteractive('df-3b919d58-3522-4046-bcf7-981bd5cde4e1')\"\n",
       "            title=\"Convert this dataframe to an interactive table.\"\n",
       "            style=\"display:none;\">\n",
       "\n",
       "  <svg xmlns=\"http://www.w3.org/2000/svg\" height=\"24px\" viewBox=\"0 -960 960 960\">\n",
       "    <path d=\"M120-120v-720h720v720H120Zm60-500h600v-160H180v160Zm220 220h160v-160H400v160Zm0 220h160v-160H400v160ZM180-400h160v-160H180v160Zm440 0h160v-160H620v160ZM180-180h160v-160H180v160Zm440 0h160v-160H620v160Z\"/>\n",
       "  </svg>\n",
       "    </button>\n",
       "\n",
       "  <style>\n",
       "    .colab-df-container {\n",
       "      display:flex;\n",
       "      gap: 12px;\n",
       "    }\n",
       "\n",
       "    .colab-df-convert {\n",
       "      background-color: #E8F0FE;\n",
       "      border: none;\n",
       "      border-radius: 50%;\n",
       "      cursor: pointer;\n",
       "      display: none;\n",
       "      fill: #1967D2;\n",
       "      height: 32px;\n",
       "      padding: 0 0 0 0;\n",
       "      width: 32px;\n",
       "    }\n",
       "\n",
       "    .colab-df-convert:hover {\n",
       "      background-color: #E2EBFA;\n",
       "      box-shadow: 0px 1px 2px rgba(60, 64, 67, 0.3), 0px 1px 3px 1px rgba(60, 64, 67, 0.15);\n",
       "      fill: #174EA6;\n",
       "    }\n",
       "\n",
       "    .colab-df-buttons div {\n",
       "      margin-bottom: 4px;\n",
       "    }\n",
       "\n",
       "    [theme=dark] .colab-df-convert {\n",
       "      background-color: #3B4455;\n",
       "      fill: #D2E3FC;\n",
       "    }\n",
       "\n",
       "    [theme=dark] .colab-df-convert:hover {\n",
       "      background-color: #434B5C;\n",
       "      box-shadow: 0px 1px 3px 1px rgba(0, 0, 0, 0.15);\n",
       "      filter: drop-shadow(0px 1px 2px rgba(0, 0, 0, 0.3));\n",
       "      fill: #FFFFFF;\n",
       "    }\n",
       "  </style>\n",
       "\n",
       "    <script>\n",
       "      const buttonEl =\n",
       "        document.querySelector('#df-3b919d58-3522-4046-bcf7-981bd5cde4e1 button.colab-df-convert');\n",
       "      buttonEl.style.display =\n",
       "        google.colab.kernel.accessAllowed ? 'block' : 'none';\n",
       "\n",
       "      async function convertToInteractive(key) {\n",
       "        const element = document.querySelector('#df-3b919d58-3522-4046-bcf7-981bd5cde4e1');\n",
       "        const dataTable =\n",
       "          await google.colab.kernel.invokeFunction('convertToInteractive',\n",
       "                                                    [key], {});\n",
       "        if (!dataTable) return;\n",
       "\n",
       "        const docLinkHtml = 'Like what you see? Visit the ' +\n",
       "          '<a target=\"_blank\" href=https://colab.research.google.com/notebooks/data_table.ipynb>data table notebook</a>'\n",
       "          + ' to learn more about interactive tables.';\n",
       "        element.innerHTML = '';\n",
       "        dataTable['output_type'] = 'display_data';\n",
       "        await google.colab.output.renderOutput(dataTable, element);\n",
       "        const docLink = document.createElement('div');\n",
       "        docLink.innerHTML = docLinkHtml;\n",
       "        element.appendChild(docLink);\n",
       "      }\n",
       "    </script>\n",
       "  </div>\n",
       "\n",
       "\n",
       "<div id=\"df-3774bac0-643e-4bd1-9740-75ed8b0d02c6\">\n",
       "  <button class=\"colab-df-quickchart\" onclick=\"quickchart('df-3774bac0-643e-4bd1-9740-75ed8b0d02c6')\"\n",
       "            title=\"Suggest charts\"\n",
       "            style=\"display:none;\">\n",
       "\n",
       "<svg xmlns=\"http://www.w3.org/2000/svg\" height=\"24px\"viewBox=\"0 0 24 24\"\n",
       "     width=\"24px\">\n",
       "    <g>\n",
       "        <path d=\"M19 3H5c-1.1 0-2 .9-2 2v14c0 1.1.9 2 2 2h14c1.1 0 2-.9 2-2V5c0-1.1-.9-2-2-2zM9 17H7v-7h2v7zm4 0h-2V7h2v10zm4 0h-2v-4h2v4z\"/>\n",
       "    </g>\n",
       "</svg>\n",
       "  </button>\n",
       "\n",
       "<style>\n",
       "  .colab-df-quickchart {\n",
       "      --bg-color: #E8F0FE;\n",
       "      --fill-color: #1967D2;\n",
       "      --hover-bg-color: #E2EBFA;\n",
       "      --hover-fill-color: #174EA6;\n",
       "      --disabled-fill-color: #AAA;\n",
       "      --disabled-bg-color: #DDD;\n",
       "  }\n",
       "\n",
       "  [theme=dark] .colab-df-quickchart {\n",
       "      --bg-color: #3B4455;\n",
       "      --fill-color: #D2E3FC;\n",
       "      --hover-bg-color: #434B5C;\n",
       "      --hover-fill-color: #FFFFFF;\n",
       "      --disabled-bg-color: #3B4455;\n",
       "      --disabled-fill-color: #666;\n",
       "  }\n",
       "\n",
       "  .colab-df-quickchart {\n",
       "    background-color: var(--bg-color);\n",
       "    border: none;\n",
       "    border-radius: 50%;\n",
       "    cursor: pointer;\n",
       "    display: none;\n",
       "    fill: var(--fill-color);\n",
       "    height: 32px;\n",
       "    padding: 0;\n",
       "    width: 32px;\n",
       "  }\n",
       "\n",
       "  .colab-df-quickchart:hover {\n",
       "    background-color: var(--hover-bg-color);\n",
       "    box-shadow: 0 1px 2px rgba(60, 64, 67, 0.3), 0 1px 3px 1px rgba(60, 64, 67, 0.15);\n",
       "    fill: var(--button-hover-fill-color);\n",
       "  }\n",
       "\n",
       "  .colab-df-quickchart-complete:disabled,\n",
       "  .colab-df-quickchart-complete:disabled:hover {\n",
       "    background-color: var(--disabled-bg-color);\n",
       "    fill: var(--disabled-fill-color);\n",
       "    box-shadow: none;\n",
       "  }\n",
       "\n",
       "  .colab-df-spinner {\n",
       "    border: 2px solid var(--fill-color);\n",
       "    border-color: transparent;\n",
       "    border-bottom-color: var(--fill-color);\n",
       "    animation:\n",
       "      spin 1s steps(1) infinite;\n",
       "  }\n",
       "\n",
       "  @keyframes spin {\n",
       "    0% {\n",
       "      border-color: transparent;\n",
       "      border-bottom-color: var(--fill-color);\n",
       "      border-left-color: var(--fill-color);\n",
       "    }\n",
       "    20% {\n",
       "      border-color: transparent;\n",
       "      border-left-color: var(--fill-color);\n",
       "      border-top-color: var(--fill-color);\n",
       "    }\n",
       "    30% {\n",
       "      border-color: transparent;\n",
       "      border-left-color: var(--fill-color);\n",
       "      border-top-color: var(--fill-color);\n",
       "      border-right-color: var(--fill-color);\n",
       "    }\n",
       "    40% {\n",
       "      border-color: transparent;\n",
       "      border-right-color: var(--fill-color);\n",
       "      border-top-color: var(--fill-color);\n",
       "    }\n",
       "    60% {\n",
       "      border-color: transparent;\n",
       "      border-right-color: var(--fill-color);\n",
       "    }\n",
       "    80% {\n",
       "      border-color: transparent;\n",
       "      border-right-color: var(--fill-color);\n",
       "      border-bottom-color: var(--fill-color);\n",
       "    }\n",
       "    90% {\n",
       "      border-color: transparent;\n",
       "      border-bottom-color: var(--fill-color);\n",
       "    }\n",
       "  }\n",
       "</style>\n",
       "\n",
       "  <script>\n",
       "    async function quickchart(key) {\n",
       "      const quickchartButtonEl =\n",
       "        document.querySelector('#' + key + ' button');\n",
       "      quickchartButtonEl.disabled = true;  // To prevent multiple clicks.\n",
       "      quickchartButtonEl.classList.add('colab-df-spinner');\n",
       "      try {\n",
       "        const charts = await google.colab.kernel.invokeFunction(\n",
       "            'suggestCharts', [key], {});\n",
       "      } catch (error) {\n",
       "        console.error('Error during call to suggestCharts:', error);\n",
       "      }\n",
       "      quickchartButtonEl.classList.remove('colab-df-spinner');\n",
       "      quickchartButtonEl.classList.add('colab-df-quickchart-complete');\n",
       "    }\n",
       "    (() => {\n",
       "      let quickchartButtonEl =\n",
       "        document.querySelector('#df-3774bac0-643e-4bd1-9740-75ed8b0d02c6 button');\n",
       "      quickchartButtonEl.style.display =\n",
       "        google.colab.kernel.accessAllowed ? 'block' : 'none';\n",
       "    })();\n",
       "  </script>\n",
       "</div>\n",
       "    </div>\n",
       "  </div>\n"
      ],
      "text/plain": [
       "                                   ANOVA  Random Forest\n",
       "Weight                         25.765948       0.126059\n",
       "Games_Played                  122.562439       0.108469\n",
       "Yards_Receptions              164.037910       0.103428\n",
       "Yards_Rush                     29.793872       0.084811\n",
       "Attempts                       19.116489       0.080928\n",
       "Average_Rush                    1.417779       0.079855\n",
       "Receptions                    159.192758       0.077155\n",
       "Average_Receptions              9.301793       0.076650\n",
       "Height                         44.161096       0.069651\n",
       "Long_Receptions                79.716845       0.049955\n",
       "Long_Rush                      13.974476       0.045311\n",
       "TDs_Rush                       23.883879       0.026140\n",
       "TDs_Receptions                 89.453975       0.019827\n",
       "First_Downs_Receptions         54.415906       0.017637\n",
       "First_Downs_Rush               12.129420       0.015883\n",
       "Receptions_Over_Twenty_Yards   41.218663       0.007487\n",
       "Rushes_Over_Twenty_Yards       17.685941       0.006805\n",
       "Fumbles                         7.628763       0.003949"
      ]
     },
     "execution_count": 38,
     "metadata": {},
     "output_type": "execute_result"
    }
   ],
   "source": [
    "# train rf classifer\n",
    "forest = RandomForestClassifier(random_state=0)\n",
    "forest.fit(X_train, y_train)\n",
    "\n",
    "# extract & print RF feature importance scores + anova scores\n",
    "feature_importances = pd.DataFrame({'ANOVA':fs.scores_, 'Random Forest':forest.feature_importances_}, index=X.columns)\n",
    "feature_importances.sort_values('Random Forest', ascending=False)"
   ]
  },
  {
   "cell_type": "markdown",
   "metadata": {
    "id": "B7gQDxXg7mat"
   },
   "source": [
    "### 5.4.3 Feature Selection Finalized"
   ]
  },
  {
   "cell_type": "code",
   "execution_count": 39,
   "metadata": {
    "id": "vdySUDgI7tut"
   },
   "outputs": [],
   "source": [
    "# subset top 11 features based on random forest feature importance scores\n",
    "X2 = df[['Weight','Games_Played','Yards_Receptions','Yards_Rush', 'Average_Rush',\n",
    "         'Attempts', 'Receptions','Height','Long_Receptions', 'Average_Receptions',\n",
    "         'Long_Rush']]\n",
    "\n",
    "# instantiate StandardScaler()\n",
    "scaler = StandardScaler()\n",
    "\n",
    "# scale numeric features\n",
    "X_scaled = scaler.fit_transform(X2)\n",
    "X_scaled\n",
    "\n",
    "# split training & test sets\n",
    "X_train, X_test, y_train, y_test = train_test_split(X_scaled, y_scaled, test_size=0.3, random_state=143)"
   ]
  },
  {
   "cell_type": "markdown",
   "metadata": {
    "id": "HbZNyZetCoP_"
   },
   "source": [
    "**Comment**: To do further feature selection, we used feature importance scores from a base random forest classifier. We chose the top 11 features based on the point where feature importance had a significant drop off."
   ]
  },
  {
   "cell_type": "markdown",
   "metadata": {
    "id": "ebNtiHLZ6yZM"
   },
   "source": [
    "## 6. Modeling"
   ]
  },
  {
   "cell_type": "markdown",
   "metadata": {
    "id": "XR255Toq4Tsw"
   },
   "source": [
    "### 6.1 Baseline Accuracy"
   ]
  },
  {
   "cell_type": "code",
   "execution_count": 40,
   "metadata": {
    "colab": {
     "base_uri": "https://localhost:8080/",
     "height": 0
    },
    "id": "d3_BYFh_6sYS",
    "outputId": "626e9af6-805b-459c-c2da-6cf8521cd053"
   },
   "outputs": [
    {
     "data": {
      "text/plain": [
       "1    2196\n",
       "0    1208\n",
       "Name: 3YearsThreshold, dtype: int64"
      ]
     },
     "execution_count": 40,
     "metadata": {},
     "output_type": "execute_result"
    }
   ],
   "source": [
    "# target variable value counts\n",
    "df['3YearsThreshold'].value_counts()"
   ]
  },
  {
   "cell_type": "code",
   "execution_count": 41,
   "metadata": {
    "colab": {
     "base_uri": "https://localhost:8080/",
     "height": 0
    },
    "id": "7Jpp8qnY5MkS",
    "outputId": "e4f6677d-5369-4f16-f4ce-3e68912d3caf"
   },
   "outputs": [
    {
     "data": {
      "text/plain": [
       "1    0.645123\n",
       "0    0.354877\n",
       "Name: 3YearsThreshold, dtype: float64"
      ]
     },
     "execution_count": 41,
     "metadata": {},
     "output_type": "execute_result"
    }
   ],
   "source": [
    "# target variable value counts as percentages\n",
    "df['3YearsThreshold'].value_counts(normalize=True)"
   ]
  },
  {
   "cell_type": "code",
   "execution_count": 42,
   "metadata": {
    "colab": {
     "base_uri": "https://localhost:8080/",
     "height": 0
    },
    "id": "8ZDv6rm75d3L",
    "outputId": "1c385ff5-61a2-4c00-a6b2-d9bbfbfb4eca"
   },
   "outputs": [
    {
     "name": "stdout",
     "output_type": "stream",
     "text": [
      "Zero-Rate Classifier Accuracy (Baseline) =  64.51 %\n"
     ]
    }
   ],
   "source": [
    "# print baseline accuracy\n",
    "baseline = df['3YearsThreshold'].value_counts(normalize=True).max().round(4)\n",
    "print(\"Zero-Rate Classifier Accuracy (Baseline) = \", baseline * 100, '%')"
   ]
  },
  {
   "cell_type": "markdown",
   "metadata": {
    "id": "1uCLLf-a54Nj"
   },
   "source": [
    "**Comment:** The Zero-Rate Accuracy is often used as a baseline for classification. It is simply the probability of predicting the majority class which in our case is the 'Yes' category. Our goal is to build a classifier that performs better and has an accuracy above 64.51%."
   ]
  },
  {
   "cell_type": "markdown",
   "metadata": {
    "id": "sSeBTFhOfEYm"
   },
   "source": [
    "### 6.2 Machine Learning Algorithm Comparison"
   ]
  },
  {
   "cell_type": "code",
   "execution_count": 43,
   "metadata": {
    "colab": {
     "base_uri": "https://localhost:8080/",
     "height": 0
    },
    "id": "l6FrDxecfKAj",
    "outputId": "ccd8e342-a523-45b8-b93c-8c73014fc61c"
   },
   "outputs": [
    {
     "name": "stdout",
     "output_type": "stream",
     "text": [
      "LogisticRegression()\n",
      "Accuracy Score:  0.678015608759227 \n",
      "\n",
      "DecisionTreeClassifier()\n",
      "Accuracy Score:  0.6267876962105597 \n",
      "\n",
      "RandomForestClassifier()\n",
      "Accuracy Score:  0.7178901749378997 \n",
      "\n",
      "KNeighborsClassifier()\n",
      "Accuracy Score:  0.68262424466642 \n",
      "\n",
      "GradientBoostingClassifier()\n",
      "Accuracy Score:  0.7191436322956857 \n",
      "\n",
      "GaussianNB()\n",
      "Accuracy Score:  0.5789167239222733 \n",
      "\n",
      "SVC()\n",
      "Accuracy Score:  0.7073921392456354 \n",
      "\n"
     ]
    }
   ],
   "source": [
    "# create list of ML classifiers\n",
    "alg_list = [LogisticRegression(), DecisionTreeClassifier(), RandomForestClassifier(),\n",
    "            KNeighborsClassifier(), GradientBoostingClassifier(), GaussianNB(), svm.SVC()]\n",
    "\n",
    "# run loop in alg_list and calculate mean cv scores for each algo\n",
    "for a in alg_list:\n",
    "    scores = cross_val_score(a, X_train, y_train, cv=5)\n",
    "    a_score = scores.mean()\n",
    "    print(a)\n",
    "    print(\"Accuracy Score: \", a_score, '\\n')"
   ]
  },
  {
   "cell_type": "markdown",
   "metadata": {
    "id": "xjA5EbnlKiW8"
   },
   "source": [
    "**Comment:** Based on these results, we will move forward with hyperparameter tuning the top 3 performing models: Random Forest, Gradient Boost, and SVC."
   ]
  },
  {
   "cell_type": "markdown",
   "metadata": {
    "id": "-tCWXDGcMWza"
   },
   "source": [
    "### 6.3 Random Forest Model"
   ]
  },
  {
   "cell_type": "markdown",
   "metadata": {
    "id": "sw8vnO2MOP-e"
   },
   "source": [
    "#### 6.3.1 RF Hyper-Paramater Tuning"
   ]
  },
  {
   "cell_type": "markdown",
   "metadata": {
    "id": "Wjc5hJsIPFa_"
   },
   "source": [
    "**Comment:** Starting with Random Forest, we tune for the following hyperparamters: criterion, bootstrap, max_depth, max_features, min_samples_leaf, min_samples_split, n_estimators.\n",
    "- Inspiration drawn from: https://towardsdatascience.com/hyperparameter-tuning-the-random-forest-in-python-using-scikit-learn-28d2aa77dd74"
   ]
  },
  {
   "cell_type": "code",
   "execution_count": null,
   "metadata": {
    "colab": {
     "base_uri": "https://localhost:8080/"
    },
    "id": "gZFqE2e_LIFY",
    "outputId": "e84da313-be83-44e0-bdfc-104479c826ab"
   },
   "outputs": [
    {
     "name": "stdout",
     "output_type": "stream",
     "text": [
      "Fitting 3 folds for each of 30 candidates, totalling 90 fits\n",
      "Best CV Score: 0.7317380352644837\n",
      "Best Parameters: {'n_estimators': 800, 'min_samples_split': 2, 'min_samples_leaf': 8, 'max_features': 'sqrt', 'max_depth': 60, 'criterion': 'entropy', 'bootstrap': True}\n",
      "Accuracy on Test Set: 0.7289628180039139\n"
     ]
    }
   ],
   "source": [
    "rf_param_grid = {\n",
    "    'criterion': ['gini', 'entropy', 'log_loss'],\n",
    "    'bootstrap': [True, False],\n",
    "    'max_depth': [20, 40, 60, 80, 100, None],\n",
    "    'max_features': ['auto', 'sqrt', 'log2', None],\n",
    "    'min_samples_leaf': [1, 2, 4, 8],\n",
    "    'min_samples_split': [2, 5, 10],\n",
    "    'n_estimators': [100, 200, 400, 800, 1200, 2000]\n",
    "}\n",
    "\n",
    "rf = RandomForestClassifier(random_state=143)\n",
    "rf_random = RandomizedSearchCV(estimator = rf, param_distributions=rf_param_grid, n_iter=30, cv=3, n_jobs=-1, verbose=1, random_state=42)\n",
    "rf_random.fit(X_train, y_train)\n",
    "\n",
    "print('Best CV Score:', rf_random.best_score_)\n",
    "print('Best Parameters:', rf_random.best_params_)\n",
    "print('Accuracy on Test Set:', rf_random.score(X_test, y_test))"
   ]
  },
  {
   "cell_type": "markdown",
   "metadata": {
    "id": "hCofDaU_TOHj"
   },
   "source": [
    "#### 6.3.2 RF Results"
   ]
  },
  {
   "cell_type": "code",
   "execution_count": 44,
   "metadata": {
    "colab": {
     "base_uri": "https://localhost:8080/",
     "height": 0
    },
    "id": "EoTiIEe-Y0sE",
    "outputId": "f918e325-adcb-446b-da0a-d0291b692533"
   },
   "outputs": [
    {
     "name": "stdout",
     "output_type": "stream",
     "text": [
      "              precision    recall  f1-score   support\n",
      "\n",
      "       No: 0       0.68      0.48      0.57       372\n",
      "      Yes: 1       0.75      0.87      0.80       650\n",
      "\n",
      "    accuracy                           0.73      1022\n",
      "   macro avg       0.71      0.68      0.68      1022\n",
      "weighted avg       0.72      0.73      0.72      1022\n",
      "\n"
     ]
    }
   ],
   "source": [
    "rf_best = RandomForestClassifier(n_estimators=400, min_samples_split=10,\n",
    "                            min_samples_leaf=8, max_features='sqrt',\n",
    "                            max_depth=60, criterion='log_loss', bootstrap=True, random_state=143)\n",
    "\n",
    "rf_best.fit(X_train,y_train)\n",
    "rf_ypred_best_tr = rf_best.predict(X_train)\n",
    "rf_ypred_best_te = rf_best.predict(X_test)\n",
    "\n",
    "labels = ['No: 0', 'Yes: 1']\n",
    "print(classification_report(y_test, rf_ypred_best_te, target_names=labels))\n",
    "\n",
    "# store accuracy, recall, precision, f1\n",
    "acc_rf = accuracy_score(y_test, rf_ypred_best_te)\n",
    "rec_rf = recall_score(y_test, rf_ypred_best_te)\n",
    "prec_rf = precision_score(y_test, rf_ypred_best_te)\n",
    "fsc_rf = f1_score(y_test, rf_ypred_best_te)"
   ]
  },
  {
   "cell_type": "markdown",
   "metadata": {
    "id": "feo6ze7eS32M"
   },
   "source": [
    "### 6.4 Gradient Boosting Model"
   ]
  },
  {
   "cell_type": "markdown",
   "metadata": {
    "id": "KjchMIxUVOpC"
   },
   "source": [
    "#### 6.4.1 GB Hyper-Paramater Tuning"
   ]
  },
  {
   "cell_type": "code",
   "execution_count": null,
   "metadata": {
    "colab": {
     "base_uri": "https://localhost:8080/"
    },
    "id": "m_obS4LPVSin",
    "outputId": "7496190e-fb27-4208-ff75-03db5770abd2"
   },
   "outputs": [
    {
     "name": "stdout",
     "output_type": "stream",
     "text": [
      "Fitting 3 folds for each of 30 candidates, totalling 90 fits\n",
      "Best CV Score: 0.72544080604534\n",
      "Best Parameters: {'subsample': 0.5, 'n_estimators': 2000, 'min_samples_split': 5, 'min_samples_leaf': 8, 'max_features': 'log2', 'max_depth': None, 'loss': 'log_loss', 'learning_rate': 0.001}\n",
      "Accuracy on Test Set: 0.7221135029354208\n"
     ]
    }
   ],
   "source": [
    "gb_param_grid = {\n",
    "    'loss':['log_loss', 'exponential'],\n",
    "    'learning_rate':[0.001, 0.01, 0.1, 0.2],\n",
    "    'subsample':[0.5, 0.8, 1.0],\n",
    "    'max_depth': [20, 40, 60, 80, 100, None],\n",
    "    'max_features': ['sqrt', 'log2', None],\n",
    "    'min_samples_leaf': [1, 2, 4, 8],\n",
    "    'min_samples_split': [2, 5, 10],\n",
    "    'n_estimators': [100, 400, 1000, 2000]\n",
    "}\n",
    "\n",
    "gb = GradientBoostingClassifier(random_state=143)\n",
    "gb_random = RandomizedSearchCV(estimator = gb, param_distributions=gb_param_grid, n_iter=30, cv=3, n_jobs=-1, verbose=1, random_state=42)\n",
    "gb_random.fit(X_train, y_train)\n",
    "\n",
    "print('Best CV Score:', gb_random.best_score_)\n",
    "print('Best Parameters:', gb_random.best_params_)\n",
    "print('Accuracy on Test Set:', gb_random.score(X_test, y_test))"
   ]
  },
  {
   "cell_type": "markdown",
   "metadata": {
    "id": "eH1CcrLUWXxF"
   },
   "source": [
    "#### 6.4.2 GB Results"
   ]
  },
  {
   "cell_type": "code",
   "execution_count": 45,
   "metadata": {
    "colab": {
     "base_uri": "https://localhost:8080/",
     "height": 0
    },
    "id": "98-0VyyAaYR2",
    "outputId": "b6b55b2d-43d7-4db3-99a8-0b77bf2ee25b"
   },
   "outputs": [
    {
     "name": "stdout",
     "output_type": "stream",
     "text": [
      "              precision    recall  f1-score   support\n",
      "\n",
      "       No: 0       0.67      0.46      0.54       372\n",
      "      Yes: 1       0.74      0.87      0.80       650\n",
      "\n",
      "    accuracy                           0.72      1022\n",
      "   macro avg       0.71      0.67      0.67      1022\n",
      "weighted avg       0.71      0.72      0.71      1022\n",
      "\n"
     ]
    }
   ],
   "source": [
    "gb_best = GradientBoostingClassifier(subsample=0.5, n_estimators=2000,\n",
    "                                min_samples_split=5, min_samples_leaf=8,\n",
    "                                max_features='log2', max_depth=None,\n",
    "                                loss='log_loss', learning_rate=0.001, random_state=143)\n",
    "\n",
    "gb_best.fit(X_train,y_train)\n",
    "gb_ypred_best_tr = gb_best.predict(X_train)\n",
    "gb_ypred_best_te = gb_best.predict(X_test)\n",
    "\n",
    "labels = ['No: 0', 'Yes: 1']\n",
    "print(classification_report(y_test, gb_ypred_best_te, target_names=labels))\n",
    "\n",
    "# store accuracy, recall, precision, f1\n",
    "acc_gb = accuracy_score(y_test, gb_ypred_best_te)\n",
    "rec_gb = recall_score(y_test, gb_ypred_best_te)\n",
    "prec_gb = precision_score(y_test, gb_ypred_best_te)\n",
    "fsc_gb = f1_score(y_test, gb_ypred_best_te)"
   ]
  },
  {
   "cell_type": "markdown",
   "metadata": {
    "id": "WLX1lfg0WOoF"
   },
   "source": [
    "### 6.5 SVC Model"
   ]
  },
  {
   "cell_type": "markdown",
   "metadata": {
    "id": "BFnhHOgycwQw"
   },
   "source": [
    "#### 6.5.1 SVC Hyper-Paramater Tuning"
   ]
  },
  {
   "cell_type": "code",
   "execution_count": null,
   "metadata": {
    "colab": {
     "base_uri": "https://localhost:8080/"
    },
    "id": "u1Wql3J7dapy",
    "outputId": "d0e23276-7a57-44ae-c4fb-06de274b90e4"
   },
   "outputs": [
    {
     "name": "stdout",
     "output_type": "stream",
     "text": [
      "Fitting 5 folds for each of 30 candidates, totalling 150 fits\n",
      "Best CV Score: 0.7149551644557194\n",
      "Best Parameters: {'C': 10, 'gamma': 'scale', 'kernel': 'rbf'}\n",
      "Accuracy on Test Set: 0.6966731898238747\n"
     ]
    }
   ],
   "source": [
    "svc_param_grid = {\n",
    "    'C': [0.1, 1, 10, 100, 1000],\n",
    "    'gamma': ['scale', 'auto'],\n",
    "    'kernel': ['rbf', 'poly', 'sigmoid']\n",
    "}\n",
    "\n",
    "svc = svm.SVC(random_state=143)\n",
    "svc_grid = GridSearchCV(svc, svc_param_grid, refit = True, n_jobs=-1, verbose=1)\n",
    "svc_grid.fit(X_train, y_train)\n",
    "\n",
    "print('Best CV Score:', svc_grid.best_score_)\n",
    "print('Best Parameters:', svc_grid.best_params_)\n",
    "print('Accuracy on Test Set:', svc_grid.score(X_test, y_test))"
   ]
  },
  {
   "cell_type": "markdown",
   "metadata": {
    "id": "xz1k9MAlc2q_"
   },
   "source": [
    "**SVC Hyper-Paramater Tuning Results:**\n",
    "\n",
    "- Best SVC Params:\n",
    "\n",
    "    * 'C': 10\n",
    "    * 'gamma': 'scale'\n",
    "    * 'kernel': 'rbf'\n",
    "\n",
    "- Best CV Score: 0.7149551644557194\n",
    "\n",
    "- Accuracy on Test Set: 0.6966731898238747"
   ]
  },
  {
   "cell_type": "markdown",
   "metadata": {
    "id": "K0oJQ4DCfLr1"
   },
   "source": [
    "#### 6.5.2 SVC Results"
   ]
  },
  {
   "cell_type": "code",
   "execution_count": 46,
   "metadata": {
    "colab": {
     "base_uri": "https://localhost:8080/",
     "height": 0
    },
    "id": "AtCpxTx0eoH-",
    "outputId": "466970b1-af0d-47e8-de09-d20d6c50a74d"
   },
   "outputs": [
    {
     "name": "stdout",
     "output_type": "stream",
     "text": [
      "              precision    recall  f1-score   support\n",
      "\n",
      "       No: 0       0.61      0.45      0.52       372\n",
      "      Yes: 1       0.73      0.84      0.78       650\n",
      "\n",
      "    accuracy                           0.70      1022\n",
      "   macro avg       0.67      0.64      0.65      1022\n",
      "weighted avg       0.69      0.70      0.68      1022\n",
      "\n"
     ]
    }
   ],
   "source": [
    "# RUN THIS CELL W/ BEST PARAMTERS SO WE DONT HAVE TO RERUN RANDOMSEARCHCV\n",
    "svc_best = svm.SVC(random_state=143, C=10, gamma='scale', kernel='rbf')\n",
    "\n",
    "svc_best.fit(X_train,y_train)\n",
    "svc_ypred_best_tr = svc_best.predict(X_train)\n",
    "svc_ypred_best_te = svc_best.predict(X_test)\n",
    "\n",
    "labels = ['No: 0', 'Yes: 1']\n",
    "print(classification_report(y_test, svc_ypred_best_te, target_names=labels))\n",
    "\n",
    "# store accuracy, recall, precision, f1\n",
    "acc_svc = accuracy_score(y_test, svc_ypred_best_te)\n",
    "rec_svc = recall_score(y_test, svc_ypred_best_te)\n",
    "prec_svc = precision_score(y_test, svc_ypred_best_te)\n",
    "fsc_svc = f1_score(y_test, svc_ypred_best_te)"
   ]
  },
  {
   "cell_type": "markdown",
   "metadata": {
    "id": "iVZ2kzR5eoDk"
   },
   "source": [
    "##7. Performance Metrics Evaluation"
   ]
  },
  {
   "cell_type": "code",
   "execution_count": 47,
   "metadata": {
    "colab": {
     "base_uri": "https://localhost:8080/",
     "height": 143
    },
    "id": "jrpZAJ8ExL-I",
    "outputId": "3739481b-3edd-4ea9-f309-e71eea17d31c"
   },
   "outputs": [
    {
     "data": {
      "text/html": [
       "\n",
       "  <div id=\"df-790a1fee-ae59-4b47-9f15-2d1c62de078d\" class=\"colab-df-container\">\n",
       "    <div>\n",
       "<style scoped>\n",
       "    .dataframe tbody tr th:only-of-type {\n",
       "        vertical-align: middle;\n",
       "    }\n",
       "\n",
       "    .dataframe tbody tr th {\n",
       "        vertical-align: top;\n",
       "    }\n",
       "\n",
       "    .dataframe thead th {\n",
       "        text-align: right;\n",
       "    }\n",
       "</style>\n",
       "<table border=\"1\" class=\"dataframe\">\n",
       "  <thead>\n",
       "    <tr style=\"text-align: right;\">\n",
       "      <th></th>\n",
       "      <th>Accuracy</th>\n",
       "      <th>Recall</th>\n",
       "      <th>Precision</th>\n",
       "      <th>F1 Score</th>\n",
       "    </tr>\n",
       "  </thead>\n",
       "  <tbody>\n",
       "    <tr>\n",
       "      <th>Random Forest</th>\n",
       "      <td>0.728963</td>\n",
       "      <td>0.869231</td>\n",
       "      <td>0.746367</td>\n",
       "      <td>0.803127</td>\n",
       "    </tr>\n",
       "    <tr>\n",
       "      <th>Gradient Boosting</th>\n",
       "      <td>0.722114</td>\n",
       "      <td>0.873846</td>\n",
       "      <td>0.737662</td>\n",
       "      <td>0.800000</td>\n",
       "    </tr>\n",
       "    <tr>\n",
       "      <th>Support Vector Machine</th>\n",
       "      <td>0.696673</td>\n",
       "      <td>0.836923</td>\n",
       "      <td>0.727273</td>\n",
       "      <td>0.778255</td>\n",
       "    </tr>\n",
       "  </tbody>\n",
       "</table>\n",
       "</div>\n",
       "    <div class=\"colab-df-buttons\">\n",
       "\n",
       "  <div class=\"colab-df-container\">\n",
       "    <button class=\"colab-df-convert\" onclick=\"convertToInteractive('df-790a1fee-ae59-4b47-9f15-2d1c62de078d')\"\n",
       "            title=\"Convert this dataframe to an interactive table.\"\n",
       "            style=\"display:none;\">\n",
       "\n",
       "  <svg xmlns=\"http://www.w3.org/2000/svg\" height=\"24px\" viewBox=\"0 -960 960 960\">\n",
       "    <path d=\"M120-120v-720h720v720H120Zm60-500h600v-160H180v160Zm220 220h160v-160H400v160Zm0 220h160v-160H400v160ZM180-400h160v-160H180v160Zm440 0h160v-160H620v160ZM180-180h160v-160H180v160Zm440 0h160v-160H620v160Z\"/>\n",
       "  </svg>\n",
       "    </button>\n",
       "\n",
       "  <style>\n",
       "    .colab-df-container {\n",
       "      display:flex;\n",
       "      gap: 12px;\n",
       "    }\n",
       "\n",
       "    .colab-df-convert {\n",
       "      background-color: #E8F0FE;\n",
       "      border: none;\n",
       "      border-radius: 50%;\n",
       "      cursor: pointer;\n",
       "      display: none;\n",
       "      fill: #1967D2;\n",
       "      height: 32px;\n",
       "      padding: 0 0 0 0;\n",
       "      width: 32px;\n",
       "    }\n",
       "\n",
       "    .colab-df-convert:hover {\n",
       "      background-color: #E2EBFA;\n",
       "      box-shadow: 0px 1px 2px rgba(60, 64, 67, 0.3), 0px 1px 3px 1px rgba(60, 64, 67, 0.15);\n",
       "      fill: #174EA6;\n",
       "    }\n",
       "\n",
       "    .colab-df-buttons div {\n",
       "      margin-bottom: 4px;\n",
       "    }\n",
       "\n",
       "    [theme=dark] .colab-df-convert {\n",
       "      background-color: #3B4455;\n",
       "      fill: #D2E3FC;\n",
       "    }\n",
       "\n",
       "    [theme=dark] .colab-df-convert:hover {\n",
       "      background-color: #434B5C;\n",
       "      box-shadow: 0px 1px 3px 1px rgba(0, 0, 0, 0.15);\n",
       "      filter: drop-shadow(0px 1px 2px rgba(0, 0, 0, 0.3));\n",
       "      fill: #FFFFFF;\n",
       "    }\n",
       "  </style>\n",
       "\n",
       "    <script>\n",
       "      const buttonEl =\n",
       "        document.querySelector('#df-790a1fee-ae59-4b47-9f15-2d1c62de078d button.colab-df-convert');\n",
       "      buttonEl.style.display =\n",
       "        google.colab.kernel.accessAllowed ? 'block' : 'none';\n",
       "\n",
       "      async function convertToInteractive(key) {\n",
       "        const element = document.querySelector('#df-790a1fee-ae59-4b47-9f15-2d1c62de078d');\n",
       "        const dataTable =\n",
       "          await google.colab.kernel.invokeFunction('convertToInteractive',\n",
       "                                                    [key], {});\n",
       "        if (!dataTable) return;\n",
       "\n",
       "        const docLinkHtml = 'Like what you see? Visit the ' +\n",
       "          '<a target=\"_blank\" href=https://colab.research.google.com/notebooks/data_table.ipynb>data table notebook</a>'\n",
       "          + ' to learn more about interactive tables.';\n",
       "        element.innerHTML = '';\n",
       "        dataTable['output_type'] = 'display_data';\n",
       "        await google.colab.output.renderOutput(dataTable, element);\n",
       "        const docLink = document.createElement('div');\n",
       "        docLink.innerHTML = docLinkHtml;\n",
       "        element.appendChild(docLink);\n",
       "      }\n",
       "    </script>\n",
       "  </div>\n",
       "\n",
       "\n",
       "<div id=\"df-5a408b5c-170f-4b38-9f3b-33ab2d28c241\">\n",
       "  <button class=\"colab-df-quickchart\" onclick=\"quickchart('df-5a408b5c-170f-4b38-9f3b-33ab2d28c241')\"\n",
       "            title=\"Suggest charts\"\n",
       "            style=\"display:none;\">\n",
       "\n",
       "<svg xmlns=\"http://www.w3.org/2000/svg\" height=\"24px\"viewBox=\"0 0 24 24\"\n",
       "     width=\"24px\">\n",
       "    <g>\n",
       "        <path d=\"M19 3H5c-1.1 0-2 .9-2 2v14c0 1.1.9 2 2 2h14c1.1 0 2-.9 2-2V5c0-1.1-.9-2-2-2zM9 17H7v-7h2v7zm4 0h-2V7h2v10zm4 0h-2v-4h2v4z\"/>\n",
       "    </g>\n",
       "</svg>\n",
       "  </button>\n",
       "\n",
       "<style>\n",
       "  .colab-df-quickchart {\n",
       "      --bg-color: #E8F0FE;\n",
       "      --fill-color: #1967D2;\n",
       "      --hover-bg-color: #E2EBFA;\n",
       "      --hover-fill-color: #174EA6;\n",
       "      --disabled-fill-color: #AAA;\n",
       "      --disabled-bg-color: #DDD;\n",
       "  }\n",
       "\n",
       "  [theme=dark] .colab-df-quickchart {\n",
       "      --bg-color: #3B4455;\n",
       "      --fill-color: #D2E3FC;\n",
       "      --hover-bg-color: #434B5C;\n",
       "      --hover-fill-color: #FFFFFF;\n",
       "      --disabled-bg-color: #3B4455;\n",
       "      --disabled-fill-color: #666;\n",
       "  }\n",
       "\n",
       "  .colab-df-quickchart {\n",
       "    background-color: var(--bg-color);\n",
       "    border: none;\n",
       "    border-radius: 50%;\n",
       "    cursor: pointer;\n",
       "    display: none;\n",
       "    fill: var(--fill-color);\n",
       "    height: 32px;\n",
       "    padding: 0;\n",
       "    width: 32px;\n",
       "  }\n",
       "\n",
       "  .colab-df-quickchart:hover {\n",
       "    background-color: var(--hover-bg-color);\n",
       "    box-shadow: 0 1px 2px rgba(60, 64, 67, 0.3), 0 1px 3px 1px rgba(60, 64, 67, 0.15);\n",
       "    fill: var(--button-hover-fill-color);\n",
       "  }\n",
       "\n",
       "  .colab-df-quickchart-complete:disabled,\n",
       "  .colab-df-quickchart-complete:disabled:hover {\n",
       "    background-color: var(--disabled-bg-color);\n",
       "    fill: var(--disabled-fill-color);\n",
       "    box-shadow: none;\n",
       "  }\n",
       "\n",
       "  .colab-df-spinner {\n",
       "    border: 2px solid var(--fill-color);\n",
       "    border-color: transparent;\n",
       "    border-bottom-color: var(--fill-color);\n",
       "    animation:\n",
       "      spin 1s steps(1) infinite;\n",
       "  }\n",
       "\n",
       "  @keyframes spin {\n",
       "    0% {\n",
       "      border-color: transparent;\n",
       "      border-bottom-color: var(--fill-color);\n",
       "      border-left-color: var(--fill-color);\n",
       "    }\n",
       "    20% {\n",
       "      border-color: transparent;\n",
       "      border-left-color: var(--fill-color);\n",
       "      border-top-color: var(--fill-color);\n",
       "    }\n",
       "    30% {\n",
       "      border-color: transparent;\n",
       "      border-left-color: var(--fill-color);\n",
       "      border-top-color: var(--fill-color);\n",
       "      border-right-color: var(--fill-color);\n",
       "    }\n",
       "    40% {\n",
       "      border-color: transparent;\n",
       "      border-right-color: var(--fill-color);\n",
       "      border-top-color: var(--fill-color);\n",
       "    }\n",
       "    60% {\n",
       "      border-color: transparent;\n",
       "      border-right-color: var(--fill-color);\n",
       "    }\n",
       "    80% {\n",
       "      border-color: transparent;\n",
       "      border-right-color: var(--fill-color);\n",
       "      border-bottom-color: var(--fill-color);\n",
       "    }\n",
       "    90% {\n",
       "      border-color: transparent;\n",
       "      border-bottom-color: var(--fill-color);\n",
       "    }\n",
       "  }\n",
       "</style>\n",
       "\n",
       "  <script>\n",
       "    async function quickchart(key) {\n",
       "      const quickchartButtonEl =\n",
       "        document.querySelector('#' + key + ' button');\n",
       "      quickchartButtonEl.disabled = true;  // To prevent multiple clicks.\n",
       "      quickchartButtonEl.classList.add('colab-df-spinner');\n",
       "      try {\n",
       "        const charts = await google.colab.kernel.invokeFunction(\n",
       "            'suggestCharts', [key], {});\n",
       "      } catch (error) {\n",
       "        console.error('Error during call to suggestCharts:', error);\n",
       "      }\n",
       "      quickchartButtonEl.classList.remove('colab-df-spinner');\n",
       "      quickchartButtonEl.classList.add('colab-df-quickchart-complete');\n",
       "    }\n",
       "    (() => {\n",
       "      let quickchartButtonEl =\n",
       "        document.querySelector('#df-5a408b5c-170f-4b38-9f3b-33ab2d28c241 button');\n",
       "      quickchartButtonEl.style.display =\n",
       "        google.colab.kernel.accessAllowed ? 'block' : 'none';\n",
       "    })();\n",
       "  </script>\n",
       "</div>\n",
       "    </div>\n",
       "  </div>\n"
      ],
      "text/plain": [
       "                        Accuracy    Recall  Precision  F1 Score\n",
       "Random Forest           0.728963  0.869231   0.746367  0.803127\n",
       "Gradient Boosting       0.722114  0.873846   0.737662  0.800000\n",
       "Support Vector Machine  0.696673  0.836923   0.727273  0.778255"
      ]
     },
     "execution_count": 47,
     "metadata": {},
     "output_type": "execute_result"
    }
   ],
   "source": [
    "# create metric lists for each model\n",
    "rf_list = [acc_rf, rec_rf, prec_rf, fsc_rf]\n",
    "gb_list = [acc_gb, rec_gb, prec_gb, fsc_gb]\n",
    "svc_list = [acc_svc, rec_svc, prec_svc, fsc_svc]\n",
    "\n",
    "# compile metric lists as a datadrame\n",
    "metrics = pd.DataFrame({'Random Forest':rf_list, 'Gradient Boosting': gb_list, 'Support Vector Machine':svc_list}).T\n",
    "\n",
    "# rename columns\n",
    "metrics.columns = ['Accuracy','Recall','Precision','F1 Score']\n",
    "metrics"
   ]
  },
  {
   "cell_type": "markdown",
   "metadata": {
    "id": "p1dvXxxD8ogT"
   },
   "source": [
    "## 8. Modeling Scenario: Active Players\n",
    "- *New datapoints to feed into our 3YearsThreshold Classifier!*"
   ]
  },
  {
   "cell_type": "code",
   "execution_count": 48,
   "metadata": {
    "id": "3iEASVyA-A2g"
   },
   "outputs": [],
   "source": [
    "# load active player data\n",
    "active_recieving = pd.read_csv('/content/ActivePlayer_Receiving_Stats.csv')\n",
    "active_rushing = pd.read_csv('/content/ActivePlayer_Rushing_Stats.csv')\n",
    "active_basic = pd.read_csv('/content/Active_Player_Basic_Stats.csv')\n",
    "\n",
    "# data wrangling steps\n",
    "active_recieving.drop(columns=['Team','Games_Played'], inplace=True)\n",
    "active = pd.merge(active_rushing, active_recieving, on=['Player_Id','Year'], how='inner', suffixes=('_Rush','_Receptions'))\n",
    "active_df = active.groupby('Player_Id').first()\n",
    "active_df['NumYearsPlayed'] = (active.groupby('Player_Id')['Year'].count().values) - 1\n",
    "active_df.reset_index(inplace=True)\n",
    "active_df['3YearsThreshold'] = np.where(active_df.NumYearsPlayed > 3, 'Yes', 'No')\n",
    "\n",
    "active_basic = active_basic[['Player_Id','Position','Height','Weight']]\n",
    "active_df = pd.merge(active_df, active_basic, on='Player_Id', how='left')\n",
    "\n",
    "# data cleaning steps\n",
    "active_df[numeric_cols] = active_df[numeric_cols].apply(pd.to_numeric, errors='coerce')\n",
    "active_df = active_df.fillna(0)\n",
    "active_df['Height'] = active_df['Height'].apply(height_conversion)\n",
    "active_df[['Year', 'Height','Weight']] = active_df[['Year', 'Height','Weight']].apply(pd.to_numeric, errors='coerce')\n",
    "\n",
    "active_df = active_df[active_df.Position.isin(skill_positions)]\n",
    "active_df = active_df[active_df['Year'] == 2020]\n",
    "\n",
    "# preprocessing steps\n",
    "X_active = active_df[['Weight','Games_Played','Yards_Receptions','Yards_Rush','Average_Rush',\n",
    "         'Attempts', 'Receptions','Average_Receptions','Height','Long_Receptions',\n",
    "         'Long_Rush']]\n",
    "\n",
    "y_active = active_df[['3YearsThreshold']]\n",
    "\n",
    "scaler = StandardScaler()\n",
    "labeler = LabelEncoder()\n",
    "\n",
    "X_active_scaled = scaler.fit_transform(X_active)\n",
    "y_active = labeler.fit_transform(y_active)"
   ]
  },
  {
   "cell_type": "code",
   "execution_count": 49,
   "metadata": {
    "colab": {
     "base_uri": "https://localhost:8080/",
     "height": 676
    },
    "id": "hXtd3biLHol9",
    "outputId": "9acb09d6-0d21-471a-8edc-3aa571ad1830"
   },
   "outputs": [
    {
     "data": {
      "text/html": [
       "\n",
       "  <div id=\"df-51907df2-1193-44a6-a132-6340a6c33173\" class=\"colab-df-container\">\n",
       "    <div>\n",
       "<style scoped>\n",
       "    .dataframe tbody tr th:only-of-type {\n",
       "        vertical-align: middle;\n",
       "    }\n",
       "\n",
       "    .dataframe tbody tr th {\n",
       "        vertical-align: top;\n",
       "    }\n",
       "\n",
       "    .dataframe thead th {\n",
       "        text-align: right;\n",
       "    }\n",
       "</style>\n",
       "<table border=\"1\" class=\"dataframe\">\n",
       "  <thead>\n",
       "    <tr style=\"text-align: right;\">\n",
       "      <th></th>\n",
       "      <th>Player_Id</th>\n",
       "      <th>Prediction</th>\n",
       "    </tr>\n",
       "  </thead>\n",
       "  <tbody>\n",
       "    <tr>\n",
       "      <th>1</th>\n",
       "      <td>a-j-dillon</td>\n",
       "      <td>1</td>\n",
       "    </tr>\n",
       "    <tr>\n",
       "      <th>7</th>\n",
       "      <td>adrian-killins-jr</td>\n",
       "      <td>1</td>\n",
       "    </tr>\n",
       "    <tr>\n",
       "      <th>28</th>\n",
       "      <td>anthony-mcfarland-2</td>\n",
       "      <td>0</td>\n",
       "    </tr>\n",
       "    <tr>\n",
       "      <th>33</th>\n",
       "      <td>antonio-gandy-golden</td>\n",
       "      <td>1</td>\n",
       "    </tr>\n",
       "    <tr>\n",
       "      <th>34</th>\n",
       "      <td>antonio-gibson-2</td>\n",
       "      <td>1</td>\n",
       "    </tr>\n",
       "    <tr>\n",
       "      <th>35</th>\n",
       "      <td>antonio-williams</td>\n",
       "      <td>1</td>\n",
       "    </tr>\n",
       "    <tr>\n",
       "      <th>53</th>\n",
       "      <td>brandon-aiyuk</td>\n",
       "      <td>1</td>\n",
       "    </tr>\n",
       "    <tr>\n",
       "      <th>67</th>\n",
       "      <td>cam-akers</td>\n",
       "      <td>1</td>\n",
       "    </tr>\n",
       "    <tr>\n",
       "      <th>74</th>\n",
       "      <td>ceedee-lamb</td>\n",
       "      <td>1</td>\n",
       "    </tr>\n",
       "    <tr>\n",
       "      <th>78</th>\n",
       "      <td>chase-claypool</td>\n",
       "      <td>1</td>\n",
       "    </tr>\n",
       "    <tr>\n",
       "      <th>90</th>\n",
       "      <td>clyde-edwards-helaire</td>\n",
       "      <td>1</td>\n",
       "    </tr>\n",
       "    <tr>\n",
       "      <th>93</th>\n",
       "      <td>cole-kmet</td>\n",
       "      <td>1</td>\n",
       "    </tr>\n",
       "    <tr>\n",
       "      <th>103</th>\n",
       "      <td>d-andre-swift</td>\n",
       "      <td>1</td>\n",
       "    </tr>\n",
       "    <tr>\n",
       "      <th>122</th>\n",
       "      <td>darnell-mooney</td>\n",
       "      <td>1</td>\n",
       "    </tr>\n",
       "    <tr>\n",
       "      <th>127</th>\n",
       "      <td>darrynton-evans</td>\n",
       "      <td>0</td>\n",
       "    </tr>\n",
       "    <tr>\n",
       "      <th>137</th>\n",
       "      <td>de-michael-harris</td>\n",
       "      <td>0</td>\n",
       "    </tr>\n",
       "    <tr>\n",
       "      <th>143</th>\n",
       "      <td>deejay-dallas</td>\n",
       "      <td>0</td>\n",
       "    </tr>\n",
       "    <tr>\n",
       "      <th>155</th>\n",
       "      <td>devin-duvernay</td>\n",
       "      <td>1</td>\n",
       "    </tr>\n",
       "    <tr>\n",
       "      <th>179</th>\n",
       "      <td>gabe-nabers</td>\n",
       "      <td>1</td>\n",
       "    </tr>\n",
       "    <tr>\n",
       "      <th>180</th>\n",
       "      <td>gabriel-davis</td>\n",
       "      <td>1</td>\n",
       "    </tr>\n",
       "  </tbody>\n",
       "</table>\n",
       "</div>\n",
       "    <div class=\"colab-df-buttons\">\n",
       "\n",
       "  <div class=\"colab-df-container\">\n",
       "    <button class=\"colab-df-convert\" onclick=\"convertToInteractive('df-51907df2-1193-44a6-a132-6340a6c33173')\"\n",
       "            title=\"Convert this dataframe to an interactive table.\"\n",
       "            style=\"display:none;\">\n",
       "\n",
       "  <svg xmlns=\"http://www.w3.org/2000/svg\" height=\"24px\" viewBox=\"0 -960 960 960\">\n",
       "    <path d=\"M120-120v-720h720v720H120Zm60-500h600v-160H180v160Zm220 220h160v-160H400v160Zm0 220h160v-160H400v160ZM180-400h160v-160H180v160Zm440 0h160v-160H620v160ZM180-180h160v-160H180v160Zm440 0h160v-160H620v160Z\"/>\n",
       "  </svg>\n",
       "    </button>\n",
       "\n",
       "  <style>\n",
       "    .colab-df-container {\n",
       "      display:flex;\n",
       "      gap: 12px;\n",
       "    }\n",
       "\n",
       "    .colab-df-convert {\n",
       "      background-color: #E8F0FE;\n",
       "      border: none;\n",
       "      border-radius: 50%;\n",
       "      cursor: pointer;\n",
       "      display: none;\n",
       "      fill: #1967D2;\n",
       "      height: 32px;\n",
       "      padding: 0 0 0 0;\n",
       "      width: 32px;\n",
       "    }\n",
       "\n",
       "    .colab-df-convert:hover {\n",
       "      background-color: #E2EBFA;\n",
       "      box-shadow: 0px 1px 2px rgba(60, 64, 67, 0.3), 0px 1px 3px 1px rgba(60, 64, 67, 0.15);\n",
       "      fill: #174EA6;\n",
       "    }\n",
       "\n",
       "    .colab-df-buttons div {\n",
       "      margin-bottom: 4px;\n",
       "    }\n",
       "\n",
       "    [theme=dark] .colab-df-convert {\n",
       "      background-color: #3B4455;\n",
       "      fill: #D2E3FC;\n",
       "    }\n",
       "\n",
       "    [theme=dark] .colab-df-convert:hover {\n",
       "      background-color: #434B5C;\n",
       "      box-shadow: 0px 1px 3px 1px rgba(0, 0, 0, 0.15);\n",
       "      filter: drop-shadow(0px 1px 2px rgba(0, 0, 0, 0.3));\n",
       "      fill: #FFFFFF;\n",
       "    }\n",
       "  </style>\n",
       "\n",
       "    <script>\n",
       "      const buttonEl =\n",
       "        document.querySelector('#df-51907df2-1193-44a6-a132-6340a6c33173 button.colab-df-convert');\n",
       "      buttonEl.style.display =\n",
       "        google.colab.kernel.accessAllowed ? 'block' : 'none';\n",
       "\n",
       "      async function convertToInteractive(key) {\n",
       "        const element = document.querySelector('#df-51907df2-1193-44a6-a132-6340a6c33173');\n",
       "        const dataTable =\n",
       "          await google.colab.kernel.invokeFunction('convertToInteractive',\n",
       "                                                    [key], {});\n",
       "        if (!dataTable) return;\n",
       "\n",
       "        const docLinkHtml = 'Like what you see? Visit the ' +\n",
       "          '<a target=\"_blank\" href=https://colab.research.google.com/notebooks/data_table.ipynb>data table notebook</a>'\n",
       "          + ' to learn more about interactive tables.';\n",
       "        element.innerHTML = '';\n",
       "        dataTable['output_type'] = 'display_data';\n",
       "        await google.colab.output.renderOutput(dataTable, element);\n",
       "        const docLink = document.createElement('div');\n",
       "        docLink.innerHTML = docLinkHtml;\n",
       "        element.appendChild(docLink);\n",
       "      }\n",
       "    </script>\n",
       "  </div>\n",
       "\n",
       "\n",
       "<div id=\"df-3b6f3dcd-63b7-4fdc-aba5-e5ee1667e913\">\n",
       "  <button class=\"colab-df-quickchart\" onclick=\"quickchart('df-3b6f3dcd-63b7-4fdc-aba5-e5ee1667e913')\"\n",
       "            title=\"Suggest charts\"\n",
       "            style=\"display:none;\">\n",
       "\n",
       "<svg xmlns=\"http://www.w3.org/2000/svg\" height=\"24px\"viewBox=\"0 0 24 24\"\n",
       "     width=\"24px\">\n",
       "    <g>\n",
       "        <path d=\"M19 3H5c-1.1 0-2 .9-2 2v14c0 1.1.9 2 2 2h14c1.1 0 2-.9 2-2V5c0-1.1-.9-2-2-2zM9 17H7v-7h2v7zm4 0h-2V7h2v10zm4 0h-2v-4h2v4z\"/>\n",
       "    </g>\n",
       "</svg>\n",
       "  </button>\n",
       "\n",
       "<style>\n",
       "  .colab-df-quickchart {\n",
       "      --bg-color: #E8F0FE;\n",
       "      --fill-color: #1967D2;\n",
       "      --hover-bg-color: #E2EBFA;\n",
       "      --hover-fill-color: #174EA6;\n",
       "      --disabled-fill-color: #AAA;\n",
       "      --disabled-bg-color: #DDD;\n",
       "  }\n",
       "\n",
       "  [theme=dark] .colab-df-quickchart {\n",
       "      --bg-color: #3B4455;\n",
       "      --fill-color: #D2E3FC;\n",
       "      --hover-bg-color: #434B5C;\n",
       "      --hover-fill-color: #FFFFFF;\n",
       "      --disabled-bg-color: #3B4455;\n",
       "      --disabled-fill-color: #666;\n",
       "  }\n",
       "\n",
       "  .colab-df-quickchart {\n",
       "    background-color: var(--bg-color);\n",
       "    border: none;\n",
       "    border-radius: 50%;\n",
       "    cursor: pointer;\n",
       "    display: none;\n",
       "    fill: var(--fill-color);\n",
       "    height: 32px;\n",
       "    padding: 0;\n",
       "    width: 32px;\n",
       "  }\n",
       "\n",
       "  .colab-df-quickchart:hover {\n",
       "    background-color: var(--hover-bg-color);\n",
       "    box-shadow: 0 1px 2px rgba(60, 64, 67, 0.3), 0 1px 3px 1px rgba(60, 64, 67, 0.15);\n",
       "    fill: var(--button-hover-fill-color);\n",
       "  }\n",
       "\n",
       "  .colab-df-quickchart-complete:disabled,\n",
       "  .colab-df-quickchart-complete:disabled:hover {\n",
       "    background-color: var(--disabled-bg-color);\n",
       "    fill: var(--disabled-fill-color);\n",
       "    box-shadow: none;\n",
       "  }\n",
       "\n",
       "  .colab-df-spinner {\n",
       "    border: 2px solid var(--fill-color);\n",
       "    border-color: transparent;\n",
       "    border-bottom-color: var(--fill-color);\n",
       "    animation:\n",
       "      spin 1s steps(1) infinite;\n",
       "  }\n",
       "\n",
       "  @keyframes spin {\n",
       "    0% {\n",
       "      border-color: transparent;\n",
       "      border-bottom-color: var(--fill-color);\n",
       "      border-left-color: var(--fill-color);\n",
       "    }\n",
       "    20% {\n",
       "      border-color: transparent;\n",
       "      border-left-color: var(--fill-color);\n",
       "      border-top-color: var(--fill-color);\n",
       "    }\n",
       "    30% {\n",
       "      border-color: transparent;\n",
       "      border-left-color: var(--fill-color);\n",
       "      border-top-color: var(--fill-color);\n",
       "      border-right-color: var(--fill-color);\n",
       "    }\n",
       "    40% {\n",
       "      border-color: transparent;\n",
       "      border-right-color: var(--fill-color);\n",
       "      border-top-color: var(--fill-color);\n",
       "    }\n",
       "    60% {\n",
       "      border-color: transparent;\n",
       "      border-right-color: var(--fill-color);\n",
       "    }\n",
       "    80% {\n",
       "      border-color: transparent;\n",
       "      border-right-color: var(--fill-color);\n",
       "      border-bottom-color: var(--fill-color);\n",
       "    }\n",
       "    90% {\n",
       "      border-color: transparent;\n",
       "      border-bottom-color: var(--fill-color);\n",
       "    }\n",
       "  }\n",
       "</style>\n",
       "\n",
       "  <script>\n",
       "    async function quickchart(key) {\n",
       "      const quickchartButtonEl =\n",
       "        document.querySelector('#' + key + ' button');\n",
       "      quickchartButtonEl.disabled = true;  // To prevent multiple clicks.\n",
       "      quickchartButtonEl.classList.add('colab-df-spinner');\n",
       "      try {\n",
       "        const charts = await google.colab.kernel.invokeFunction(\n",
       "            'suggestCharts', [key], {});\n",
       "      } catch (error) {\n",
       "        console.error('Error during call to suggestCharts:', error);\n",
       "      }\n",
       "      quickchartButtonEl.classList.remove('colab-df-spinner');\n",
       "      quickchartButtonEl.classList.add('colab-df-quickchart-complete');\n",
       "    }\n",
       "    (() => {\n",
       "      let quickchartButtonEl =\n",
       "        document.querySelector('#df-3b6f3dcd-63b7-4fdc-aba5-e5ee1667e913 button');\n",
       "      quickchartButtonEl.style.display =\n",
       "        google.colab.kernel.accessAllowed ? 'block' : 'none';\n",
       "    })();\n",
       "  </script>\n",
       "</div>\n",
       "    </div>\n",
       "  </div>\n"
      ],
      "text/plain": [
       "                 Player_Id  Prediction\n",
       "1               a-j-dillon           1\n",
       "7        adrian-killins-jr           1\n",
       "28     anthony-mcfarland-2           0\n",
       "33    antonio-gandy-golden           1\n",
       "34        antonio-gibson-2           1\n",
       "35        antonio-williams           1\n",
       "53           brandon-aiyuk           1\n",
       "67               cam-akers           1\n",
       "74             ceedee-lamb           1\n",
       "78          chase-claypool           1\n",
       "90   clyde-edwards-helaire           1\n",
       "93               cole-kmet           1\n",
       "103          d-andre-swift           1\n",
       "122         darnell-mooney           1\n",
       "127        darrynton-evans           0\n",
       "137      de-michael-harris           0\n",
       "143          deejay-dallas           0\n",
       "155         devin-duvernay           1\n",
       "179            gabe-nabers           1\n",
       "180          gabriel-davis           1"
      ]
     },
     "execution_count": 49,
     "metadata": {},
     "output_type": "execute_result"
    }
   ],
   "source": [
    "# use best gradient boosting model to predict on new active player data\n",
    "active_df['Prediction'] = gb_best.predict(X_active_scaled)\n",
    "active_df[['Player_Id', 'Prediction']].head(20)"
   ]
  },
  {
   "cell_type": "markdown",
   "metadata": {
    "id": "2Aw3OJ8iL6rn"
   },
   "source": [
    "# 9. Conclusion"
   ]
  },
  {
   "cell_type": "markdown",
   "metadata": {
    "id": "QE0TLbL6L-qX"
   },
   "source": [
    "In this project, we sought to analyze offensive rookie data and build a 3YearsThreshold classifier that can predict if a new player would make it past 3 years or more in the NFL to obtain the status as a Vested NFL Veteran. This could aid NFL general managers in making decisions about rookies based on their expected longevity. Some descriptive insights we found in the process include:\n",
    "\n",
    "\n",
    "*   The median career length for offensive players range from 3-8 years depending on position. Running backs were on the lower end while receivers and tight ends were on the higher end.\n",
    "*   Number of games played and offensive reception statistics ar emore correlated with a longer career in the NFL\n",
    "\n",
    "We aimed to build a predictive model with a baseline accuracy higher than 64.5%. Some insights we found in this process include:\n",
    "\n",
    "*   We were able to build several models using hyperparameter tuning that were higher than the baseline accuracy of 64.5% including random forest model, gradient boosting model, and a SVC model.\n",
    "*   Overall, we think either the random forest or gradient boosting model would be valuable models because of their predictive accuracy of around 72%.\n",
    "\n",
    "In summary, this project has proved that it is possibly to predict rookie longevity with relatively high success and these model can be used to help NFL GMs plan their budgets appropriately.\n"
   ]
  },
  {
   "cell_type": "markdown",
   "metadata": {
    "id": "1Tdxl7FD8aI7"
   },
   "source": [
    "## 10. References\n",
    "1. Michel Kana, M. K. (2020, March 4). How to find decision tree depth via cross-validation. Medium. https://towardsdatascience.com/how-to-find-decision-tree-depth-via-cross-validation-2bf143f0f3d6\n",
    "2. Davis, R. (2006). Vernon Davis. Vernon Davis 2006 NFL Draft Prospect. http://www.footballsfuture.com/2006/prospects/vernon_davis.html\n",
    "3. Wikimedia Foundation. (2023, November 20). 1987 NFL season. Wikipedia. https://en.wikipedia.org/wiki/1987_NFL_season#:~:text=of%20larger%20suites.-,The%20NFLPA%20strike,were%20played%20with%20replacement%20players.\n",
    "4. Brownlee, J. (2020, August 18). How to perform feature selection with Numerical Input Data. Feature Selection With Numerical Input data. https://machinelearningmastery.com/feature-selection-with-numerical-input-data/#:~:text=The%20two%20most%20commonly%20used,and%20the%20mutual%20information%20statistic."
   ]
  },
  {
   "cell_type": "code",
   "execution_count": 49,
   "metadata": {
    "id": "V_naK8TQ8g1n"
   },
   "outputs": [],
   "source": []
  }
 ],
 "metadata": {
  "colab": {
   "provenance": []
  },
  "kernelspec": {
   "display_name": "Python 3 (ipykernel)",
   "language": "python",
   "name": "python3"
  },
  "language_info": {
   "codemirror_mode": {
    "name": "ipython",
    "version": 3
   },
   "file_extension": ".py",
   "mimetype": "text/x-python",
   "name": "python",
   "nbconvert_exporter": "python",
   "pygments_lexer": "ipython3",
   "version": "3.9.13"
  }
 },
 "nbformat": 4,
 "nbformat_minor": 1
}
