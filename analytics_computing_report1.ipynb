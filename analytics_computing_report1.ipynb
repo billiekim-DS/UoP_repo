{
 "cells": [
  {
   "cell_type": "markdown",
   "id": "e87f00dc",
   "metadata": {
    "id": "e87f00dc"
   },
   "source": [
    "# Module 1 Report - Olympic Games\n",
    "**Analyzing the Top Sport Categories**\n",
    "\n",
    "By: Billie Kim\n",
    "\n",
    "Data Source: https://www.kaggle.com/heesoo37/120-years-of-olympic-history-athletes-and-results"
   ]
  },
  {
   "cell_type": "markdown",
   "id": "mZ0l6-kVnMXw",
   "metadata": {
    "id": "mZ0l6-kVnMXw"
   },
   "source": [
    "## Contents\n",
    "1. [Objective](#1.-Objective)\n",
    "2. [Data Exporation](#2.-Data-Exporation)\n",
    "3. [One Column Selection](#3.-One-Column-Selection)\n",
    "4. [Series](#4.-Series)\n",
    "5. [Plot](#5.-Plot)\n",
    "6. [Summary](#6.-Summary)\n",
    "7. [Recommendations](#7.-Recommendations)"
   ]
  },
  {
   "cell_type": "markdown",
   "id": "62d73af3",
   "metadata": {
    "id": "62d73af3"
   },
   "source": [
    "## 1. Objective\n",
    "The Olympic games are held every four years and hosts winter and summer competetions with athletes from all around the world. In the next upcoming games, the Kellogg Company has decided to become one of the main sponsors.\n",
    "\n",
    "Selecting the right athlete and sporting category is an important factor for brand alignment and broad viewership. Therefore, we have been tasked to analyze data collected from 120 years of Olympic history (hosted on kaggle) and find key insights that will help Kellog's business decision makers determine the right sport and athletes to sponsor.\n",
    "\n",
    "In this report, we will take a deeper dive into the top sporting categories of the Olympics which would help determine a pool of suitable and ideal choices for sponsorship from Kellogs.\n"
   ]
  },
  {
   "cell_type": "markdown",
   "id": "5573ebe0",
   "metadata": {
    "id": "5573ebe0"
   },
   "source": [
    "## 2. Data Exporation\n",
    "We will begin by loading our data and start the data exploration phase:\n",
    "- print the number of rows and columns\n",
    "- print the top 10 rows of data\n",
    "- print the classes of our features\n",
    "- print summaries (min, max, percentiles) of our numeric features"
   ]
  },
  {
   "cell_type": "code",
   "execution_count": 1,
   "id": "13779f07",
   "metadata": {
    "colab": {
     "base_uri": "https://localhost:8080/"
    },
    "id": "13779f07",
    "outputId": "5e17aa24-07ef-4766-e889-a4916e2ee194"
   },
   "outputs": [
    {
     "name": "stderr",
     "output_type": "stream",
     "text": [
      "── \u001b[1mAttaching core tidyverse packages\u001b[22m ──────────────────────── tidyverse 2.0.0 ──\n",
      "\u001b[32m✔\u001b[39m \u001b[34mdplyr    \u001b[39m 1.1.3     \u001b[32m✔\u001b[39m \u001b[34mreadr    \u001b[39m 2.1.4\n",
      "\u001b[32m✔\u001b[39m \u001b[34mforcats  \u001b[39m 1.0.0     \u001b[32m✔\u001b[39m \u001b[34mstringr  \u001b[39m 1.5.0\n",
      "\u001b[32m✔\u001b[39m \u001b[34mggplot2  \u001b[39m 3.4.3     \u001b[32m✔\u001b[39m \u001b[34mtibble   \u001b[39m 3.2.1\n",
      "\u001b[32m✔\u001b[39m \u001b[34mlubridate\u001b[39m 1.9.2     \u001b[32m✔\u001b[39m \u001b[34mtidyr    \u001b[39m 1.3.0\n",
      "\u001b[32m✔\u001b[39m \u001b[34mpurrr    \u001b[39m 1.0.2     \n",
      "── \u001b[1mConflicts\u001b[22m ────────────────────────────────────────── tidyverse_conflicts() ──\n",
      "\u001b[31m✖\u001b[39m \u001b[34mdplyr\u001b[39m::\u001b[32mfilter()\u001b[39m masks \u001b[34mstats\u001b[39m::filter()\n",
      "\u001b[31m✖\u001b[39m \u001b[34mdplyr\u001b[39m::\u001b[32mlag()\u001b[39m    masks \u001b[34mstats\u001b[39m::lag()\n",
      "\u001b[36mℹ\u001b[39m Use the conflicted package (\u001b[3m\u001b[34m<http://conflicted.r-lib.org/>\u001b[39m\u001b[23m) to force all conflicts to become errors\n"
     ]
    }
   ],
   "source": [
    "library(tidyverse)"
   ]
  },
  {
   "cell_type": "code",
   "execution_count": 2,
   "id": "49ae1542",
   "metadata": {
    "id": "49ae1542"
   },
   "outputs": [],
   "source": [
    "# Load Olympic Games Data\n",
    "df <- read.csv(\"athlete_events.csv\", stringsAsFactors=FALSE, na.strings=\"\")"
   ]
  },
  {
   "cell_type": "code",
   "execution_count": 3,
   "id": "96d6043b",
   "metadata": {
    "colab": {
     "base_uri": "https://localhost:8080/",
     "height": 87
    },
    "id": "96d6043b",
    "outputId": "398968cd-7691-4cbe-eb53-2a598c79727f"
   },
   "outputs": [
    {
     "name": "stdout",
     "output_type": "stream",
     "text": [
      "Number of Rows:"
     ]
    },
    {
     "data": {
      "text/html": [
       "271116"
      ],
      "text/latex": [
       "271116"
      ],
      "text/markdown": [
       "271116"
      ],
      "text/plain": [
       "[1] 271116"
      ]
     },
     "metadata": {},
     "output_type": "display_data"
    },
    {
     "name": "stdout",
     "output_type": "stream",
     "text": [
      "Number of Columns:"
     ]
    },
    {
     "data": {
      "text/html": [
       "15"
      ],
      "text/latex": [
       "15"
      ],
      "text/markdown": [
       "15"
      ],
      "text/plain": [
       "[1] 15"
      ]
     },
     "metadata": {},
     "output_type": "display_data"
    }
   ],
   "source": [
    "# Print the number of rows and columns\n",
    "cat(\"Number of Rows:\")\n",
    "nrow(df)\n",
    "\n",
    "cat(\"Number of Columns:\")\n",
    "ncol(df)"
   ]
  },
  {
   "cell_type": "code",
   "execution_count": 4,
   "id": "35bb436f",
   "metadata": {
    "colab": {
     "base_uri": "https://localhost:8080/",
     "height": 970
    },
    "id": "35bb436f",
    "outputId": "89be2d0d-c997-421f-8152-e36cfce25690"
   },
   "outputs": [
    {
     "data": {
      "text/html": [
       "<table class=\"dataframe\">\n",
       "<caption>A data.frame: 10 × 15</caption>\n",
       "<thead>\n",
       "\t<tr><th></th><th scope=col>ID</th><th scope=col>Name</th><th scope=col>Sex</th><th scope=col>Age</th><th scope=col>Height</th><th scope=col>Weight</th><th scope=col>Team</th><th scope=col>NOC</th><th scope=col>Games</th><th scope=col>Year</th><th scope=col>Season</th><th scope=col>City</th><th scope=col>Sport</th><th scope=col>Event</th><th scope=col>Medal</th></tr>\n",
       "\t<tr><th></th><th scope=col>&lt;int&gt;</th><th scope=col>&lt;chr&gt;</th><th scope=col>&lt;chr&gt;</th><th scope=col>&lt;chr&gt;</th><th scope=col>&lt;chr&gt;</th><th scope=col>&lt;chr&gt;</th><th scope=col>&lt;chr&gt;</th><th scope=col>&lt;chr&gt;</th><th scope=col>&lt;chr&gt;</th><th scope=col>&lt;int&gt;</th><th scope=col>&lt;chr&gt;</th><th scope=col>&lt;chr&gt;</th><th scope=col>&lt;chr&gt;</th><th scope=col>&lt;chr&gt;</th><th scope=col>&lt;chr&gt;</th></tr>\n",
       "</thead>\n",
       "<tbody>\n",
       "\t<tr><th scope=row>1</th><td>1</td><td>A Dijiang               </td><td>M</td><td>24</td><td>180</td><td>80</td><td>China         </td><td>CHN</td><td>1992 Summer</td><td>1992</td><td>Summer</td><td>Barcelona  </td><td>Basketball   </td><td>Basketball Men's Basketball       </td><td>NA  </td></tr>\n",
       "\t<tr><th scope=row>2</th><td>2</td><td>A Lamusi                </td><td>M</td><td>23</td><td>170</td><td>60</td><td>China         </td><td>CHN</td><td>2012 Summer</td><td>2012</td><td>Summer</td><td>London     </td><td>Judo         </td><td>Judo Men's Extra-Lightweight      </td><td>NA  </td></tr>\n",
       "\t<tr><th scope=row>3</th><td>3</td><td>Gunnar Nielsen Aaby     </td><td>M</td><td>24</td><td>NA </td><td>NA</td><td>Denmark       </td><td>DEN</td><td>1920 Summer</td><td>1920</td><td>Summer</td><td>Antwerpen  </td><td>Football     </td><td>Football Men's Football           </td><td>NA  </td></tr>\n",
       "\t<tr><th scope=row>4</th><td>4</td><td>Edgar Lindenau Aabye    </td><td>M</td><td>34</td><td>NA </td><td>NA</td><td>Denmark/Sweden</td><td>DEN</td><td>1900 Summer</td><td>1900</td><td>Summer</td><td>Paris      </td><td>Tug-Of-War   </td><td>Tug-Of-War Men's Tug-Of-War       </td><td>Gold</td></tr>\n",
       "\t<tr><th scope=row>5</th><td>5</td><td>Christine Jacoba Aaftink</td><td>F</td><td>21</td><td>185</td><td>82</td><td>Netherlands   </td><td>NED</td><td>1988 Winter</td><td>1988</td><td>Winter</td><td>Calgary    </td><td>Speed Skating</td><td>Speed Skating Women's 500 metres  </td><td>NA  </td></tr>\n",
       "\t<tr><th scope=row>6</th><td>5</td><td>Christine Jacoba Aaftink</td><td>F</td><td>21</td><td>185</td><td>82</td><td>Netherlands   </td><td>NED</td><td>1988 Winter</td><td>1988</td><td>Winter</td><td>Calgary    </td><td>Speed Skating</td><td>Speed Skating Women's 1,000 metres</td><td>NA  </td></tr>\n",
       "\t<tr><th scope=row>7</th><td>5</td><td>Christine Jacoba Aaftink</td><td>F</td><td>25</td><td>185</td><td>82</td><td>Netherlands   </td><td>NED</td><td>1992 Winter</td><td>1992</td><td>Winter</td><td>Albertville</td><td>Speed Skating</td><td>Speed Skating Women's 500 metres  </td><td>NA  </td></tr>\n",
       "\t<tr><th scope=row>8</th><td>5</td><td>Christine Jacoba Aaftink</td><td>F</td><td>25</td><td>185</td><td>82</td><td>Netherlands   </td><td>NED</td><td>1992 Winter</td><td>1992</td><td>Winter</td><td>Albertville</td><td>Speed Skating</td><td>Speed Skating Women's 1,000 metres</td><td>NA  </td></tr>\n",
       "\t<tr><th scope=row>9</th><td>5</td><td>Christine Jacoba Aaftink</td><td>F</td><td>27</td><td>185</td><td>82</td><td>Netherlands   </td><td>NED</td><td>1994 Winter</td><td>1994</td><td>Winter</td><td>Lillehammer</td><td>Speed Skating</td><td>Speed Skating Women's 500 metres  </td><td>NA  </td></tr>\n",
       "\t<tr><th scope=row>10</th><td>5</td><td>Christine Jacoba Aaftink</td><td>F</td><td>27</td><td>185</td><td>82</td><td>Netherlands   </td><td>NED</td><td>1994 Winter</td><td>1994</td><td>Winter</td><td>Lillehammer</td><td>Speed Skating</td><td>Speed Skating Women's 1,000 metres</td><td>NA  </td></tr>\n",
       "</tbody>\n",
       "</table>\n"
      ],
      "text/latex": [
       "A data.frame: 10 × 15\n",
       "\\begin{tabular}{r|lllllllllllllll}\n",
       "  & ID & Name & Sex & Age & Height & Weight & Team & NOC & Games & Year & Season & City & Sport & Event & Medal\\\\\n",
       "  & <int> & <chr> & <chr> & <chr> & <chr> & <chr> & <chr> & <chr> & <chr> & <int> & <chr> & <chr> & <chr> & <chr> & <chr>\\\\\n",
       "\\hline\n",
       "\t1 & 1 & A Dijiang                & M & 24 & 180 & 80 & China          & CHN & 1992 Summer & 1992 & Summer & Barcelona   & Basketball    & Basketball Men's Basketball        & NA  \\\\\n",
       "\t2 & 2 & A Lamusi                 & M & 23 & 170 & 60 & China          & CHN & 2012 Summer & 2012 & Summer & London      & Judo          & Judo Men's Extra-Lightweight       & NA  \\\\\n",
       "\t3 & 3 & Gunnar Nielsen Aaby      & M & 24 & NA  & NA & Denmark        & DEN & 1920 Summer & 1920 & Summer & Antwerpen   & Football      & Football Men's Football            & NA  \\\\\n",
       "\t4 & 4 & Edgar Lindenau Aabye     & M & 34 & NA  & NA & Denmark/Sweden & DEN & 1900 Summer & 1900 & Summer & Paris       & Tug-Of-War    & Tug-Of-War Men's Tug-Of-War        & Gold\\\\\n",
       "\t5 & 5 & Christine Jacoba Aaftink & F & 21 & 185 & 82 & Netherlands    & NED & 1988 Winter & 1988 & Winter & Calgary     & Speed Skating & Speed Skating Women's 500 metres   & NA  \\\\\n",
       "\t6 & 5 & Christine Jacoba Aaftink & F & 21 & 185 & 82 & Netherlands    & NED & 1988 Winter & 1988 & Winter & Calgary     & Speed Skating & Speed Skating Women's 1,000 metres & NA  \\\\\n",
       "\t7 & 5 & Christine Jacoba Aaftink & F & 25 & 185 & 82 & Netherlands    & NED & 1992 Winter & 1992 & Winter & Albertville & Speed Skating & Speed Skating Women's 500 metres   & NA  \\\\\n",
       "\t8 & 5 & Christine Jacoba Aaftink & F & 25 & 185 & 82 & Netherlands    & NED & 1992 Winter & 1992 & Winter & Albertville & Speed Skating & Speed Skating Women's 1,000 metres & NA  \\\\\n",
       "\t9 & 5 & Christine Jacoba Aaftink & F & 27 & 185 & 82 & Netherlands    & NED & 1994 Winter & 1994 & Winter & Lillehammer & Speed Skating & Speed Skating Women's 500 metres   & NA  \\\\\n",
       "\t10 & 5 & Christine Jacoba Aaftink & F & 27 & 185 & 82 & Netherlands    & NED & 1994 Winter & 1994 & Winter & Lillehammer & Speed Skating & Speed Skating Women's 1,000 metres & NA  \\\\\n",
       "\\end{tabular}\n"
      ],
      "text/markdown": [
       "\n",
       "A data.frame: 10 × 15\n",
       "\n",
       "| <!--/--> | ID &lt;int&gt; | Name &lt;chr&gt; | Sex &lt;chr&gt; | Age &lt;chr&gt; | Height &lt;chr&gt; | Weight &lt;chr&gt; | Team &lt;chr&gt; | NOC &lt;chr&gt; | Games &lt;chr&gt; | Year &lt;int&gt; | Season &lt;chr&gt; | City &lt;chr&gt; | Sport &lt;chr&gt; | Event &lt;chr&gt; | Medal &lt;chr&gt; |\n",
       "|---|---|---|---|---|---|---|---|---|---|---|---|---|---|---|---|\n",
       "| 1 | 1 | A Dijiang                | M | 24 | 180 | 80 | China          | CHN | 1992 Summer | 1992 | Summer | Barcelona   | Basketball    | Basketball Men's Basketball        | NA   |\n",
       "| 2 | 2 | A Lamusi                 | M | 23 | 170 | 60 | China          | CHN | 2012 Summer | 2012 | Summer | London      | Judo          | Judo Men's Extra-Lightweight       | NA   |\n",
       "| 3 | 3 | Gunnar Nielsen Aaby      | M | 24 | NA  | NA | Denmark        | DEN | 1920 Summer | 1920 | Summer | Antwerpen   | Football      | Football Men's Football            | NA   |\n",
       "| 4 | 4 | Edgar Lindenau Aabye     | M | 34 | NA  | NA | Denmark/Sweden | DEN | 1900 Summer | 1900 | Summer | Paris       | Tug-Of-War    | Tug-Of-War Men's Tug-Of-War        | Gold |\n",
       "| 5 | 5 | Christine Jacoba Aaftink | F | 21 | 185 | 82 | Netherlands    | NED | 1988 Winter | 1988 | Winter | Calgary     | Speed Skating | Speed Skating Women's 500 metres   | NA   |\n",
       "| 6 | 5 | Christine Jacoba Aaftink | F | 21 | 185 | 82 | Netherlands    | NED | 1988 Winter | 1988 | Winter | Calgary     | Speed Skating | Speed Skating Women's 1,000 metres | NA   |\n",
       "| 7 | 5 | Christine Jacoba Aaftink | F | 25 | 185 | 82 | Netherlands    | NED | 1992 Winter | 1992 | Winter | Albertville | Speed Skating | Speed Skating Women's 500 metres   | NA   |\n",
       "| 8 | 5 | Christine Jacoba Aaftink | F | 25 | 185 | 82 | Netherlands    | NED | 1992 Winter | 1992 | Winter | Albertville | Speed Skating | Speed Skating Women's 1,000 metres | NA   |\n",
       "| 9 | 5 | Christine Jacoba Aaftink | F | 27 | 185 | 82 | Netherlands    | NED | 1994 Winter | 1994 | Winter | Lillehammer | Speed Skating | Speed Skating Women's 500 metres   | NA   |\n",
       "| 10 | 5 | Christine Jacoba Aaftink | F | 27 | 185 | 82 | Netherlands    | NED | 1994 Winter | 1994 | Winter | Lillehammer | Speed Skating | Speed Skating Women's 1,000 metres | NA   |\n",
       "\n"
      ],
      "text/plain": [
       "   ID Name                     Sex Age Height Weight Team           NOC\n",
       "1  1  A Dijiang                M   24  180    80     China          CHN\n",
       "2  2  A Lamusi                 M   23  170    60     China          CHN\n",
       "3  3  Gunnar Nielsen Aaby      M   24  NA     NA     Denmark        DEN\n",
       "4  4  Edgar Lindenau Aabye     M   34  NA     NA     Denmark/Sweden DEN\n",
       "5  5  Christine Jacoba Aaftink F   21  185    82     Netherlands    NED\n",
       "6  5  Christine Jacoba Aaftink F   21  185    82     Netherlands    NED\n",
       "7  5  Christine Jacoba Aaftink F   25  185    82     Netherlands    NED\n",
       "8  5  Christine Jacoba Aaftink F   25  185    82     Netherlands    NED\n",
       "9  5  Christine Jacoba Aaftink F   27  185    82     Netherlands    NED\n",
       "10 5  Christine Jacoba Aaftink F   27  185    82     Netherlands    NED\n",
       "   Games       Year Season City        Sport        \n",
       "1  1992 Summer 1992 Summer Barcelona   Basketball   \n",
       "2  2012 Summer 2012 Summer London      Judo         \n",
       "3  1920 Summer 1920 Summer Antwerpen   Football     \n",
       "4  1900 Summer 1900 Summer Paris       Tug-Of-War   \n",
       "5  1988 Winter 1988 Winter Calgary     Speed Skating\n",
       "6  1988 Winter 1988 Winter Calgary     Speed Skating\n",
       "7  1992 Winter 1992 Winter Albertville Speed Skating\n",
       "8  1992 Winter 1992 Winter Albertville Speed Skating\n",
       "9  1994 Winter 1994 Winter Lillehammer Speed Skating\n",
       "10 1994 Winter 1994 Winter Lillehammer Speed Skating\n",
       "   Event                              Medal\n",
       "1  Basketball Men's Basketball        NA   \n",
       "2  Judo Men's Extra-Lightweight       NA   \n",
       "3  Football Men's Football            NA   \n",
       "4  Tug-Of-War Men's Tug-Of-War        Gold \n",
       "5  Speed Skating Women's 500 metres   NA   \n",
       "6  Speed Skating Women's 1,000 metres NA   \n",
       "7  Speed Skating Women's 500 metres   NA   \n",
       "8  Speed Skating Women's 1,000 metres NA   \n",
       "9  Speed Skating Women's 500 metres   NA   \n",
       "10 Speed Skating Women's 1,000 metres NA   "
      ]
     },
     "metadata": {},
     "output_type": "display_data"
    }
   ],
   "source": [
    "# Print the top 10 Rows of data\n",
    "head(df,n=10)"
   ]
  },
  {
   "cell_type": "code",
   "execution_count": 5,
   "id": "de9e1de1",
   "metadata": {
    "colab": {
     "base_uri": "https://localhost:8080/"
    },
    "id": "de9e1de1",
    "outputId": "685ec854-de83-42da-cf09-0f51fcfc331f",
    "scrolled": false
   },
   "outputs": [
    {
     "name": "stdout",
     "output_type": "stream",
     "text": [
      "'data.frame':\t271116 obs. of  15 variables:\n",
      " $ ID    : int  1 2 3 4 5 5 5 5 5 5 ...\n",
      " $ Name  : chr  \"A Dijiang\" \"A Lamusi\" \"Gunnar Nielsen Aaby\" \"Edgar Lindenau Aabye\" ...\n",
      " $ Sex   : chr  \"M\" \"M\" \"M\" \"M\" ...\n",
      " $ Age   : chr  \"24\" \"23\" \"24\" \"34\" ...\n",
      " $ Height: chr  \"180\" \"170\" \"NA\" \"NA\" ...\n",
      " $ Weight: chr  \"80\" \"60\" \"NA\" \"NA\" ...\n",
      " $ Team  : chr  \"China\" \"China\" \"Denmark\" \"Denmark/Sweden\" ...\n",
      " $ NOC   : chr  \"CHN\" \"CHN\" \"DEN\" \"DEN\" ...\n",
      " $ Games : chr  \"1992 Summer\" \"2012 Summer\" \"1920 Summer\" \"1900 Summer\" ...\n",
      " $ Year  : int  1992 2012 1920 1900 1988 1988 1992 1992 1994 1994 ...\n",
      " $ Season: chr  \"Summer\" \"Summer\" \"Summer\" \"Summer\" ...\n",
      " $ City  : chr  \"Barcelona\" \"London\" \"Antwerpen\" \"Paris\" ...\n",
      " $ Sport : chr  \"Basketball\" \"Judo\" \"Football\" \"Tug-Of-War\" ...\n",
      " $ Event : chr  \"Basketball Men's Basketball\" \"Judo Men's Extra-Lightweight\" \"Football Men's Football\" \"Tug-Of-War Men's Tug-Of-War\" ...\n",
      " $ Medal : chr  \"NA\" \"NA\" \"NA\" \"Gold\" ...\n"
     ]
    }
   ],
   "source": [
    "# Print the classes of our features\n",
    "str(df)"
   ]
  },
  {
   "cell_type": "code",
   "execution_count": 6,
   "id": "3177f90c",
   "metadata": {
    "colab": {
     "base_uri": "https://localhost:8080/"
    },
    "id": "3177f90c",
    "outputId": "49f116c7-5e28-437d-9687-bfb04729e337"
   },
   "outputs": [
    {
     "name": "stderr",
     "output_type": "stream",
     "text": [
      "Warning message in eval(expr, envir, enclos):\n",
      "“NAs introduced by coercion”\n",
      "Warning message in eval(expr, envir, enclos):\n",
      "“NAs introduced by coercion”\n",
      "Warning message in eval(expr, envir, enclos):\n",
      "“NAs introduced by coercion”\n"
     ]
    }
   ],
   "source": [
    "# We will turn the features 'Age','Height', and 'Weight' into numerics\n",
    "df$Age <- as.numeric(df$Age)\n",
    "df$Height <- as.numeric(df$Height)\n",
    "df$Weight <- as.numeric(df$Weight)"
   ]
  },
  {
   "cell_type": "code",
   "execution_count": 7,
   "id": "7a20e9a8",
   "metadata": {
    "colab": {
     "base_uri": "https://localhost:8080/",
     "height": 124
    },
    "id": "7a20e9a8",
    "outputId": "57ac2c19-7a48-4077-b2f1-3334f7779d52",
    "scrolled": true
   },
   "outputs": [
    {
     "data": {
      "text/plain": [
       "   Min. 1st Qu.  Median 3rd Qu.    Max. \n",
       "    127     168     175     183     226 "
      ]
     },
     "metadata": {},
     "output_type": "display_data"
    },
    {
     "data": {
      "text/plain": [
       "   Min. 1st Qu.  Median 3rd Qu.    Max. \n",
       "     25      60      70      79     214 "
      ]
     },
     "metadata": {},
     "output_type": "display_data"
    },
    {
     "data": {
      "text/plain": [
       "   Min. 1st Qu.  Median 3rd Qu.    Max. \n",
       "     10      21      24      28      97 "
      ]
     },
     "metadata": {},
     "output_type": "display_data"
    }
   ],
   "source": [
    "# We will print out some measures of our numeric features such as the min, max, and percentiles\n",
    "summary(df$Height)[c(1:3,5:6)]\n",
    "summary(df$Weight)[c(1:3,5:6)]\n",
    "summary(df$Age)[c(1:3,5:6)]"
   ]
  },
  {
   "cell_type": "markdown",
   "id": "2bdfcc2c",
   "metadata": {
    "id": "2bdfcc2c"
   },
   "source": [
    "## 3. One Column Selection\n",
    "We will select the numeric feature 'Age' and print out the top 10 largest values."
   ]
  },
  {
   "cell_type": "code",
   "execution_count": 8,
   "id": "66953594",
   "metadata": {
    "id": "66953594"
   },
   "outputs": [],
   "source": [
    "# select and sort the Age column\n",
    "age_sorted <- sort(df$Age, decreasing=TRUE)"
   ]
  },
  {
   "cell_type": "code",
   "execution_count": 9,
   "id": "efbc5e34",
   "metadata": {
    "colab": {
     "base_uri": "https://localhost:8080/",
     "height": 34
    },
    "id": "efbc5e34",
    "outputId": "2da16337-3e94-4487-b999-99acba885488"
   },
   "outputs": [
    {
     "data": {
      "text/html": [
       "<style>\n",
       ".list-inline {list-style: none; margin:0; padding: 0}\n",
       ".list-inline>li {display: inline-block}\n",
       ".list-inline>li:not(:last-child)::after {content: \"\\00b7\"; padding: 0 .5ex}\n",
       "</style>\n",
       "<ol class=list-inline><li>97</li><li>96</li><li>88</li><li>88</li><li>88</li><li>84</li><li>81</li><li>81</li><li>80</li><li>80</li></ol>\n"
      ],
      "text/latex": [
       "\\begin{enumerate*}\n",
       "\\item 97\n",
       "\\item 96\n",
       "\\item 88\n",
       "\\item 88\n",
       "\\item 88\n",
       "\\item 84\n",
       "\\item 81\n",
       "\\item 81\n",
       "\\item 80\n",
       "\\item 80\n",
       "\\end{enumerate*}\n"
      ],
      "text/markdown": [
       "1. 97\n",
       "2. 96\n",
       "3. 88\n",
       "4. 88\n",
       "5. 88\n",
       "6. 84\n",
       "7. 81\n",
       "8. 81\n",
       "9. 80\n",
       "10. 80\n",
       "\n",
       "\n"
      ],
      "text/plain": [
       " [1] 97 96 88 88 88 84 81 81 80 80"
      ]
     },
     "metadata": {},
     "output_type": "display_data"
    }
   ],
   "source": [
    "# Print top 10 largest values\n",
    "head(age_sorted, n=10)"
   ]
  },
  {
   "cell_type": "markdown",
   "id": "f5fcbbfa",
   "metadata": {
    "id": "f5fcbbfa"
   },
   "source": [
    "**Comment**: Here, we are seeing that oldest Olympians to compete are higher than 80 years of age which is quite abnormal. There could be some data quality issues that may need to be addressed. This may require some more investigation later on."
   ]
  },
  {
   "cell_type": "markdown",
   "id": "2c828135",
   "metadata": {
    "id": "2c828135"
   },
   "source": [
    "## 4. Series"
   ]
  },
  {
   "cell_type": "code",
   "execution_count": 10,
   "id": "b8b10c0e",
   "metadata": {
    "colab": {
     "base_uri": "https://localhost:8080/"
    },
    "id": "b8b10c0e",
    "outputId": "929b2650-369d-4591-8829-c19595e200d8"
   },
   "outputs": [
    {
     "name": "stdout",
     "output_type": "stream",
     "text": [
      "\u001b[90m# A tibble: 5 × 2\u001b[39m\n",
      "  Sport      count\n",
      "  \u001b[3m\u001b[90m<chr>\u001b[39m\u001b[23m      \u001b[3m\u001b[90m<int>\u001b[39m\u001b[23m\n",
      "\u001b[90m1\u001b[39m Athletics   \u001b[4m1\u001b[24m339\n",
      "\u001b[90m2\u001b[39m Swimming    \u001b[4m1\u001b[24m099\n",
      "\u001b[90m3\u001b[39m Rowing       978\n",
      "\u001b[90m4\u001b[39m Gymnastics   791\n",
      "\u001b[90m5\u001b[39m Fencing      594\n"
     ]
    }
   ],
   "source": [
    "# We are curious about what sport categories in the Olympic games have the most gold medals\n",
    "gold_df <- df[df$Medal == 'Gold',]\n",
    "\n",
    "top_sport <- gold_df %>%\n",
    "  group_by(Sport) %>%\n",
    "    summarise(count = n()) %>%\n",
    "    arrange(desc(count))\n",
    "\n",
    "print(head(top_sport, n=5))"
   ]
  },
  {
   "cell_type": "markdown",
   "id": "OJ9k_Le9daar",
   "metadata": {
    "id": "OJ9k_Le9daar"
   },
   "source": [
    "**Comment**: We found that the top 5 categories are Athletics, Swimming, Rowing, Gymnasrtics, and Fencing. Next, we will create subsets and find the averages of our numeric features ('Age','Weight','Height) of each sporting category."
   ]
  },
  {
   "cell_type": "code",
   "execution_count": 11,
   "id": "39963f52",
   "metadata": {
    "id": "39963f52"
   },
   "outputs": [],
   "source": [
    "# Now that we know what are the top sport categories of gold medalists,\n",
    "# we are going to take a deeper look into the top 5 sport categories and determine the averages of Age, Height and Weight\n",
    "\n",
    "# Subset dataframes for each top 5 cagegories\n",
    "athletics_df <- df[df$Medal == 'Gold' & df$Sport == 'Athletics',]\n",
    "swimming_df <- df[df$Medal == 'Gold' & df$Sport == 'Swimming',]\n",
    "rowing_df <- df[df$Medal == 'Gold' & df$Sport == 'Rowing',]\n",
    "gymnastics_df <- df[df$Medal == 'Gold' & df$Sport == 'Gymnastics',]\n",
    "fencing_df <- df[df$Medal == 'Gold' & df$Sport == 'Fencing',]"
   ]
  },
  {
   "cell_type": "code",
   "execution_count": 12,
   "id": "Xpxz1qhJ-Dbv",
   "metadata": {
    "colab": {
     "base_uri": "https://localhost:8080/",
     "height": 87
    },
    "id": "Xpxz1qhJ-Dbv",
    "outputId": "6e3e29ce-e2f1-4239-b29a-041072dcbadb"
   },
   "outputs": [
    {
     "name": "stdout",
     "output_type": "stream",
     "text": [
      "Average Age, Weight, Height for Athletics Sporting Group:"
     ]
    },
    {
     "data": {
      "text/html": [
       "25.004"
      ],
      "text/latex": [
       "25.004"
      ],
      "text/markdown": [
       "25.004"
      ],
      "text/plain": [
       "[1] 25.004"
      ]
     },
     "metadata": {},
     "output_type": "display_data"
    },
    {
     "data": {
      "text/html": [
       "71.786"
      ],
      "text/latex": [
       "71.786"
      ],
      "text/markdown": [
       "71.786"
      ],
      "text/plain": [
       "[1] 71.786"
      ]
     },
     "metadata": {},
     "output_type": "display_data"
    },
    {
     "data": {
      "text/html": [
       "177.913"
      ],
      "text/latex": [
       "177.913"
      ],
      "text/markdown": [
       "177.913"
      ],
      "text/plain": [
       "[1] 177.913"
      ]
     },
     "metadata": {},
     "output_type": "display_data"
    }
   ],
   "source": [
    "# Averages for Athletics\n",
    "cat(\"Average Age, Weight, Height for Athletics Sporting Group:\")\n",
    "a1 = round(mean(athletics_df$Age, na.rm=TRUE),3)\n",
    "w1 = round(mean(athletics_df$Weight, na.rm=TRUE),3)\n",
    "h1 = round(mean(athletics_df$Height, na.rm=TRUE),3)\n",
    "\n",
    "a1\n",
    "w1\n",
    "h1"
   ]
  },
  {
   "cell_type": "code",
   "execution_count": 13,
   "id": "vZO4C37yBBmS",
   "metadata": {
    "colab": {
     "base_uri": "https://localhost:8080/",
     "height": 87
    },
    "id": "vZO4C37yBBmS",
    "outputId": "5769304a-535a-44e9-bf00-fd02b8c9c10b"
   },
   "outputs": [
    {
     "name": "stdout",
     "output_type": "stream",
     "text": [
      "Average Age, Weight, Height for Athletics Swimming Group:"
     ]
    },
    {
     "data": {
      "text/html": [
       "20.777"
      ],
      "text/latex": [
       "20.777"
      ],
      "text/markdown": [
       "20.777"
      ],
      "text/plain": [
       "[1] 20.777"
      ]
     },
     "metadata": {},
     "output_type": "display_data"
    },
    {
     "data": {
      "text/html": [
       "74.025"
      ],
      "text/latex": [
       "74.025"
      ],
      "text/markdown": [
       "74.025"
      ],
      "text/plain": [
       "[1] 74.025"
      ]
     },
     "metadata": {},
     "output_type": "display_data"
    },
    {
     "data": {
      "text/html": [
       "181.69"
      ],
      "text/latex": [
       "181.69"
      ],
      "text/markdown": [
       "181.69"
      ],
      "text/plain": [
       "[1] 181.69"
      ]
     },
     "metadata": {},
     "output_type": "display_data"
    }
   ],
   "source": [
    "# Averages for Swimming\n",
    "cat(\"Average Age, Weight, Height for Athletics Swimming Group:\")\n",
    "a2 = round(mean(swimming_df$Age, na.rm=TRUE),3)\n",
    "w2 = round(mean(swimming_df$Weight, na.rm=TRUE),3)\n",
    "h2 = round(mean(swimming_df$Height, na.rm=TRUE),3)\n",
    "\n",
    "a2\n",
    "w2\n",
    "h2"
   ]
  },
  {
   "cell_type": "code",
   "execution_count": 14,
   "id": "GT_xZGzEDUh-",
   "metadata": {
    "colab": {
     "base_uri": "https://localhost:8080/",
     "height": 87
    },
    "id": "GT_xZGzEDUh-",
    "outputId": "27a89c34-1e71-4419-8923-4d522722ef2a"
   },
   "outputs": [
    {
     "name": "stdout",
     "output_type": "stream",
     "text": [
      "Average Age, Weight, Height for Rowing Sporting Group:"
     ]
    },
    {
     "data": {
      "text/html": [
       "25.339"
      ],
      "text/latex": [
       "25.339"
      ],
      "text/markdown": [
       "25.339"
      ],
      "text/plain": [
       "[1] 25.339"
      ]
     },
     "metadata": {},
     "output_type": "display_data"
    },
    {
     "data": {
      "text/html": [
       "81.65"
      ],
      "text/latex": [
       "81.65"
      ],
      "text/markdown": [
       "81.65"
      ],
      "text/plain": [
       "[1] 81.65"
      ]
     },
     "metadata": {},
     "output_type": "display_data"
    },
    {
     "data": {
      "text/html": [
       "185.079"
      ],
      "text/latex": [
       "185.079"
      ],
      "text/markdown": [
       "185.079"
      ],
      "text/plain": [
       "[1] 185.079"
      ]
     },
     "metadata": {},
     "output_type": "display_data"
    }
   ],
   "source": [
    "# Averages for Rowing\n",
    "cat(\"Average Age, Weight, Height for Rowing Sporting Group:\")\n",
    "a3 = round(mean(rowing_df$Age, na.rm=TRUE),3)\n",
    "w3 = round(mean(rowing_df$Weight, na.rm=TRUE),3)\n",
    "h3 = round(mean(rowing_df$Height, na.rm=TRUE),3)\n",
    "\n",
    "a3\n",
    "w3\n",
    "h3"
   ]
  },
  {
   "cell_type": "code",
   "execution_count": 15,
   "id": "oNZ95qC-EKWV",
   "metadata": {
    "colab": {
     "base_uri": "https://localhost:8080/",
     "height": 87
    },
    "id": "oNZ95qC-EKWV",
    "outputId": "f14b5054-5588-4a3a-8fc5-5730fe7a5963"
   },
   "outputs": [
    {
     "name": "stdout",
     "output_type": "stream",
     "text": [
      "Average Age, Weight, Height for Gymnastics Sporting Group:"
     ]
    },
    {
     "data": {
      "text/html": [
       "23.552"
      ],
      "text/latex": [
       "23.552"
      ],
      "text/markdown": [
       "23.552"
      ],
      "text/plain": [
       "[1] 23.552"
      ]
     },
     "metadata": {},
     "output_type": "display_data"
    },
    {
     "data": {
      "text/html": [
       "54.684"
      ],
      "text/latex": [
       "54.684"
      ],
      "text/markdown": [
       "54.684"
      ],
      "text/plain": [
       "[1] 54.684"
      ]
     },
     "metadata": {},
     "output_type": "display_data"
    },
    {
     "data": {
      "text/html": [
       "161.147"
      ],
      "text/latex": [
       "161.147"
      ],
      "text/markdown": [
       "161.147"
      ],
      "text/plain": [
       "[1] 161.147"
      ]
     },
     "metadata": {},
     "output_type": "display_data"
    }
   ],
   "source": [
    "# Averages for Gymnastics\n",
    "cat(\"Average Age, Weight, Height for Gymnastics Sporting Group:\")\n",
    "a4 = round(mean(gymnastics_df$Age, na.rm=TRUE),3)\n",
    "w4 = round(mean(gymnastics_df$Weight, na.rm=TRUE),3)\n",
    "h4 = round(mean(gymnastics_df$Height, na.rm=TRUE),3)\n",
    "\n",
    "a4\n",
    "w4\n",
    "h4"
   ]
  },
  {
   "cell_type": "code",
   "execution_count": 16,
   "id": "JYS1FbaQEKPJ",
   "metadata": {
    "colab": {
     "base_uri": "https://localhost:8080/",
     "height": 87
    },
    "id": "JYS1FbaQEKPJ",
    "outputId": "4f52085b-1cba-4630-fdb5-b327f0ef52b6"
   },
   "outputs": [
    {
     "name": "stdout",
     "output_type": "stream",
     "text": [
      "Average Age, Weight, Height for Fencing Sporting Group:"
     ]
    },
    {
     "data": {
      "text/html": [
       "28.807"
      ],
      "text/latex": [
       "28.807"
      ],
      "text/markdown": [
       "28.807"
      ],
      "text/plain": [
       "[1] 28.807"
      ]
     },
     "metadata": {},
     "output_type": "display_data"
    },
    {
     "data": {
      "text/html": [
       "71.837"
      ],
      "text/latex": [
       "71.837"
      ],
      "text/markdown": [
       "71.837"
      ],
      "text/plain": [
       "[1] 71.837"
      ]
     },
     "metadata": {},
     "output_type": "display_data"
    },
    {
     "data": {
      "text/html": [
       "177.616"
      ],
      "text/latex": [
       "177.616"
      ],
      "text/markdown": [
       "177.616"
      ],
      "text/plain": [
       "[1] 177.616"
      ]
     },
     "metadata": {},
     "output_type": "display_data"
    }
   ],
   "source": [
    "# Averages for Fencing\n",
    "cat(\"Average Age, Weight, Height for Fencing Sporting Group:\")\n",
    "a5 = round(mean(fencing_df$Age, na.rm=TRUE),3)\n",
    "w5 = round(mean(fencing_df$Weight, na.rm=TRUE),3)\n",
    "h5 = round(mean(fencing_df$Height, na.rm=TRUE),3)\n",
    "\n",
    "a5\n",
    "w5\n",
    "h5"
   ]
  },
  {
   "cell_type": "markdown",
   "id": "YVcNpt9_d2ua",
   "metadata": {
    "id": "YVcNpt9_d2ua"
   },
   "source": [
    "**Comment:** For a better digestible format, we will create a table with our findings on the average values. The average age of swimming category seems to be the youngest at around 21 years of age while the Fencing category has the oldest athletes around 29 years of age."
   ]
  },
  {
   "cell_type": "code",
   "execution_count": 17,
   "id": "3N8HE2WzEKFn",
   "metadata": {
    "colab": {
     "base_uri": "https://localhost:8080/",
     "height": 224
    },
    "id": "3N8HE2WzEKFn",
    "outputId": "b32977c2-c9b2-4105-d232-8dd492aedb2c"
   },
   "outputs": [
    {
     "data": {
      "text/html": [
       "<table class=\"dataframe\">\n",
       "<caption>A matrix: 5 × 3 of type dbl</caption>\n",
       "<thead>\n",
       "\t<tr><th></th><th scope=col>Age</th><th scope=col>Weight</th><th scope=col>Height</th></tr>\n",
       "</thead>\n",
       "<tbody>\n",
       "\t<tr><th scope=row>1. Athletics</th><td>25.004</td><td>71.786</td><td>177.913</td></tr>\n",
       "\t<tr><th scope=row>2. Swimming</th><td>20.777</td><td>74.025</td><td>181.690</td></tr>\n",
       "\t<tr><th scope=row>3. Rowing</th><td>25.339</td><td>81.650</td><td>185.079</td></tr>\n",
       "\t<tr><th scope=row>4. Gymnastics</th><td>23.552</td><td>54.684</td><td>161.147</td></tr>\n",
       "\t<tr><th scope=row>5. Fencing</th><td>28.807</td><td>71.837</td><td>177.616</td></tr>\n",
       "</tbody>\n",
       "</table>\n"
      ],
      "text/latex": [
       "A matrix: 5 × 3 of type dbl\n",
       "\\begin{tabular}{r|lll}\n",
       "  & Age & Weight & Height\\\\\n",
       "\\hline\n",
       "\t1. Athletics & 25.004 & 71.786 & 177.913\\\\\n",
       "\t2. Swimming & 20.777 & 74.025 & 181.690\\\\\n",
       "\t3. Rowing & 25.339 & 81.650 & 185.079\\\\\n",
       "\t4. Gymnastics & 23.552 & 54.684 & 161.147\\\\\n",
       "\t5. Fencing & 28.807 & 71.837 & 177.616\\\\\n",
       "\\end{tabular}\n"
      ],
      "text/markdown": [
       "\n",
       "A matrix: 5 × 3 of type dbl\n",
       "\n",
       "| <!--/--> | Age | Weight | Height |\n",
       "|---|---|---|---|\n",
       "| 1. Athletics | 25.004 | 71.786 | 177.913 |\n",
       "| 2. Swimming | 20.777 | 74.025 | 181.690 |\n",
       "| 3. Rowing | 25.339 | 81.650 | 185.079 |\n",
       "| 4. Gymnastics | 23.552 | 54.684 | 161.147 |\n",
       "| 5. Fencing | 28.807 | 71.837 | 177.616 |\n",
       "\n"
      ],
      "text/plain": [
       "              Age    Weight Height \n",
       "1. Athletics  25.004 71.786 177.913\n",
       "2. Swimming   20.777 74.025 181.690\n",
       "3. Rowing     25.339 81.650 185.079\n",
       "4. Gymnastics 23.552 54.684 161.147\n",
       "5. Fencing    28.807 71.837 177.616"
      ]
     },
     "metadata": {},
     "output_type": "display_data"
    }
   ],
   "source": [
    "top.stats.matrix <- matrix(c(a1,w1,h1,a2,w2,h2,a3,w3,h3,a4,w4,h4,a5,w5,h5), ncol=3, byrow=T)\n",
    "\n",
    "colnames(top.stats.matrix) <- c('Age','Weight','Height')\n",
    "rownames(top.stats.matrix) <- c('1. Athletics', '2. Swimming', '3. Rowing','4. Gymnastics','5. Fencing')\n",
    "\n",
    "top.stats.matrix"
   ]
  },
  {
   "cell_type": "markdown",
   "id": "retoWLO7V5ne",
   "metadata": {
    "id": "retoWLO7V5ne"
   },
   "source": [
    "## 5. Plot\n",
    "Here we will plot a stacked bar chart showing the top 5 sport categories that will be grouped by sex (M/F)."
   ]
  },
  {
   "cell_type": "code",
   "execution_count": 18,
   "id": "TiN92S_hKADz",
   "metadata": {
    "colab": {
     "base_uri": "https://localhost:8080/",
     "height": 437
    },
    "id": "TiN92S_hKADz",
    "outputId": "64f014d1-0868-4627-b31c-52b2e264edab"
   },
   "outputs": [
    {
     "data": {
      "image/png": "[encoded data removed]",
      "text/plain": [
       "plot without title"
      ]
     },
     "metadata": {
      "image/png": {
       "height": 420,
       "width": 420
      }
     },
     "output_type": "display_data"
    }
   ],
   "source": [
    "# Merge each sporting category dataframes\n",
    "stacked <- Reduce(function(x,y) merge(x,y,all=T), list(athletics_df,swimming_df,rowing_df,gymnastics_df,fencing_df))\n",
    "\n",
    "# Create stacked barchat grouped by 'Sex'\n",
    "stacked |>\n",
    "  ggplot(aes(x = Sport)) +\n",
    "    geom_bar(aes(fill = Sex)) +\n",
    "      ggtitle(paste(\"Top Olympic Sport Categories Grouped by Sex\"))\n",
    "\n"
   ]
  },
  {
   "cell_type": "markdown",
   "id": "SbgQc4dUkiEw",
   "metadata": {
    "id": "SbgQc4dUkiEw"
   },
   "source": [
    "**Comment**: We see a greater number of male athletes in each category. Thus, in terms of sponsorship, there may be a smaller pool of female athletes to choose from especially in Fencing, Gymnastics, and Rowing."
   ]
  },
  {
   "cell_type": "markdown",
   "id": "7c0jFqQ2fQNI",
   "metadata": {
    "id": "7c0jFqQ2fQNI"
   },
   "source": [
    "## 6. Summary\n",
    "The dataset contained 271116 records and 15 features. The top 5 sporting categories in the Olympics are Athletics, Swimming, Rowing, Gymnastics, and Fencing. We observed that the average age varies among different sports categories, with swimming having the youngest athletes at approximately 21 years old and fencing having the oldest athletes at around 29 years old. We also found that the oldest Olympian to compete is 97 years old which raises concerns about data quality. In the future, I believe further invesigation is needed to address this concern."
   ]
  },
  {
   "cell_type": "markdown",
   "id": "3QstZgPnfS0t",
   "metadata": {
    "id": "3QstZgPnfS0t"
   },
   "source": [
    "## 7. Recommendations\n",
    "In terms of choosing an athlete to sponsor in each category, we would recommend that Kellog chooses their ideal candidate based on the average age, height, and weight of previous gold medalists that we have found in our analysis. For example, an ideal candidate in the Swimming category should be 20.777 years of age, 74.025kg, 181.690cm. We also recommend that sponsoring a female candidate should be chosen from the Athletics or Swimming categories since the pool of female athletes are higher than Fencing, Gymnastics, and Rowing categories."
   ]
  },
  {
   "cell_type": "code",
   "execution_count": 19,
   "id": "q5vjyisaon78",
   "metadata": {
    "id": "q5vjyisaon78"
   },
   "outputs": [],
   "source": []
  }
 ],
 "metadata": {
  "colab": {
   "provenance": []
  },
  "kernelspec": {
   "display_name": "R",
   "language": "R",
   "name": "ir"
  },
  "language_info": {
   "codemirror_mode": "r",
   "file_extension": ".r",
   "mimetype": "text/x-r-source",
   "name": "R",
   "pygments_lexer": "r",
   "version": "3.6.1"
  }
 },
 "nbformat": 4,
 "nbformat_minor": 5
}
