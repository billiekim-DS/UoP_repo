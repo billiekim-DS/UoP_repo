{
 "cells": [
  {
   "cell_type": "markdown",
   "metadata": {
    "id": "vu3DYq1FkvTp"
   },
   "source": [
    "# Module 9 Report - Movies, Movies & Movies\n",
    "## Movie Night - Coupon Recommender Engine!\n",
    "\n",
    "<br>\n",
    "\n",
    "By: Billie Kim\n",
    "\n",
    "Data Source: *Movie Surveys from ANLT 212 (Analytics Computing) collected by Dr. Dana*"
   ]
  },
  {
   "cell_type": "markdown",
   "metadata": {
    "id": "okcGnOZwk3Q7"
   },
   "source": [
    "## Contents\n",
    "1. [Objective](#1.-Objective)\n",
    "2. [Data Exploration](#2.-Data-Exploration)\n",
    "3. [Dendrogram](#3.-Dendrogram)\n",
    "4. [Supervised or Unsupervised](#4.-Supervised-or-Unsupervised)\n",
    "5. [Prediction](#5.-Prediction)\n",
    "6. [Summary](#6.-Summary)"
   ]
  },
  {
   "cell_type": "code",
   "execution_count": null,
   "metadata": {
    "id": "shBoiWR_k5n1"
   },
   "outputs": [],
   "source": [
    "# imports\n",
    "import pandas as pd\n",
    "import numpy as np\n",
    "import matplotlib.pyplot as plt\n",
    "import seaborn as sns\n",
    "from sklearn.preprocessing import StandardScaler\n",
    "from scipy.cluster.hierarchy import dendrogram, linkage\n",
    "from sklearn.cluster import AgglomerativeClustering\n",
    "from sklearn.neighbors import KNeighborsClassifier\n",
    "from sklearn.model_selection import train_test_split\n",
    "from sklearn.metrics import confusion_matrix, accuracy_score\n",
    "import warnings\n",
    "warnings.filterwarnings('ignore')\n",
    "\n",
    "%matplotlib inline"
   ]
  },
  {
   "cell_type": "markdown",
   "metadata": {
    "id": "DNpGsJ6gm0xd"
   },
   "source": [
    "## 1. Objective"
   ]
  },
  {
   "cell_type": "markdown",
   "metadata": {
    "id": "UBt_-6gHm4EI"
   },
   "source": [
    "We are tasked by the University of the Pacific's MSDS program to provide insights into movie preferences to host a movie night. Our goal is to use survey data collected by Dr. Dana to cluster student movie genre preferences and build a coupon recommendation engine based on these results."
   ]
  },
  {
   "cell_type": "markdown",
   "metadata": {
    "id": "lWBClTUdm4kf"
   },
   "source": [
    "## 2. Data Exploration"
   ]
  },
  {
   "cell_type": "code",
   "execution_count": null,
   "metadata": {
    "id": "3VQbpXkNmBLe"
   },
   "outputs": [],
   "source": [
    "# load data\n",
    "df = pd.read_excel('/content/Class_2023_10_18__01_49_QZ_Movies Movies & Movies.xlsx')"
   ]
  },
  {
   "cell_type": "code",
   "execution_count": null,
   "metadata": {
    "colab": {
     "base_uri": "https://localhost:8080/"
    },
    "id": "ELuYcTgRJMQe",
    "outputId": "35cddd6d-1460-4c05-e2e8-baec7859e873"
   },
   "outputs": [
    {
     "data": {
      "text/plain": [
       "(85, 17)"
      ]
     },
     "execution_count": 3,
     "metadata": {},
     "output_type": "execute_result"
    }
   ],
   "source": [
    "# print dimensions\n",
    "df.shape"
   ]
  },
  {
   "cell_type": "markdown",
   "metadata": {
    "id": "hPeYls9SJPXu"
   },
   "source": [
    "**Comment:** There are 85 records representing individuals and 17 fields that are survey questions."
   ]
  },
  {
   "cell_type": "code",
   "execution_count": null,
   "metadata": {
    "colab": {
     "base_uri": "https://localhost:8080/",
     "height": 1000
    },
    "id": "-bgdN1WamXqo",
    "outputId": "5275ec0e-1dd0-4113-92b7-3dab3c7b8f4e"
   },
   "outputs": [
    {
     "data": {
      "text/html": [
       "\n",
       "  <div id=\"df-453cdac7-56e5-42e4-b205-a2d91422bca4\" class=\"colab-df-container\">\n",
       "    <div>\n",
       "<style scoped>\n",
       "    .dataframe tbody tr th:only-of-type {\n",
       "        vertical-align: middle;\n",
       "    }\n",
       "\n",
       "    .dataframe tbody tr th {\n",
       "        vertical-align: top;\n",
       "    }\n",
       "\n",
       "    .dataframe thead th {\n",
       "        text-align: right;\n",
       "    }\n",
       "</style>\n",
       "<table border=\"1\" class=\"dataframe\">\n",
       "  <thead>\n",
       "    <tr style=\"text-align: right;\">\n",
       "      <th></th>\n",
       "      <th>Student Name</th>\n",
       "      <th>Using a scale 1 to 10, how much do you like action movies? (use decimals, e.g. 4.2)</th>\n",
       "      <th>Using a scale 1 to 10, how much do you like adventure movies? (use decimals, e.g. 4.2)</th>\n",
       "      <th>Using a scale 1 to 10, how much do you like comedy movies? (use decimals, e.g. 4.2)</th>\n",
       "      <th>Using a scale 1 to 10, how much do you like crime movies? (use decimals, e.g. 4.2)</th>\n",
       "      <th>Using a scale 1 to 10, how much do you like drama movies?</th>\n",
       "      <th>Using a scale 1 to 10, how much do you like fantasy movies?</th>\n",
       "      <th>Using a scale 1 to 10, how much do you like science fiction movies?</th>\n",
       "      <th>Using a scale 1 to 10, how much do you like horror movies?</th>\n",
       "      <th>Using a scale 1 to 10, how much do you like mystery movies?</th>\n",
       "      <th>Using a scale 1 to 10, how much do you like romance movies?</th>\n",
       "      <th>Using a scale 1 to 10, how much do you like thriller movies?</th>\n",
       "      <th>Using a scale 1 to 10, how much do you like documentary movies?</th>\n",
       "      <th>Using a scale 1 to 10, how much do you like animated movies?</th>\n",
       "      <th>On average, how many movies you watch on a single week</th>\n",
       "      <th>Which of the following movies you'd say is your preferred?</th>\n",
       "      <th>Describe yourself with 5 adjectives. For example:- Capable- Friendly- Happy- Sociable- Slow</th>\n",
       "    </tr>\n",
       "  </thead>\n",
       "  <tbody>\n",
       "    <tr>\n",
       "      <th>0</th>\n",
       "      <td>Aiman Anwer</td>\n",
       "      <td>7.5</td>\n",
       "      <td>6.5</td>\n",
       "      <td>8.5</td>\n",
       "      <td>8.5</td>\n",
       "      <td>10.0</td>\n",
       "      <td>10.0</td>\n",
       "      <td>3.5</td>\n",
       "      <td>1.5</td>\n",
       "      <td>8.5</td>\n",
       "      <td>9.5</td>\n",
       "      <td>9.5</td>\n",
       "      <td>1.5</td>\n",
       "      <td>4.5</td>\n",
       "      <td>C. 3) Two movies a week</td>\n",
       "      <td>D. Spiderman\\nE. Mulan\\nF. Hamilton\\nG. Jurass...</td>\n",
       "      <td>- Friendly\\n- Motivated\\n- Sociable\\n- Energet...</td>\n",
       "    </tr>\n",
       "    <tr>\n",
       "      <th>1</th>\n",
       "      <td>Aman</td>\n",
       "      <td>7</td>\n",
       "      <td>5</td>\n",
       "      <td>3.0</td>\n",
       "      <td>8.0</td>\n",
       "      <td>3.0</td>\n",
       "      <td>1.0</td>\n",
       "      <td>8.0</td>\n",
       "      <td>9.0</td>\n",
       "      <td>7.0</td>\n",
       "      <td>1.0</td>\n",
       "      <td>10.0</td>\n",
       "      <td>5.0</td>\n",
       "      <td>4.0</td>\n",
       "      <td>A. 1) zero movies. I don't watch movies</td>\n",
       "      <td>D. Spiderman</td>\n",
       "      <td>- Punctual\\n- Disciplined \\n- Introvert\\n- Fas...</td>\n",
       "    </tr>\n",
       "    <tr>\n",
       "      <th>2</th>\n",
       "      <td>Aman Sran</td>\n",
       "      <td>4.6</td>\n",
       "      <td>7.4</td>\n",
       "      <td>10.0</td>\n",
       "      <td>8.7</td>\n",
       "      <td>7.5</td>\n",
       "      <td>3.2</td>\n",
       "      <td>3.4</td>\n",
       "      <td>4.5</td>\n",
       "      <td>8.5</td>\n",
       "      <td>6.7</td>\n",
       "      <td>8.4</td>\n",
       "      <td>9.5</td>\n",
       "      <td>2.4</td>\n",
       "      <td>B. 2) One movie a week</td>\n",
       "      <td>B. Shrek</td>\n",
       "      <td>Sociable, Friendly, Empathetic, Passionate, Co...</td>\n",
       "    </tr>\n",
       "    <tr>\n",
       "      <th>3</th>\n",
       "      <td>Amarthya</td>\n",
       "      <td>7</td>\n",
       "      <td>8</td>\n",
       "      <td>9.0</td>\n",
       "      <td>6.0</td>\n",
       "      <td>7.0</td>\n",
       "      <td>7.0</td>\n",
       "      <td>7.0</td>\n",
       "      <td>1.0</td>\n",
       "      <td>7.0</td>\n",
       "      <td>7.0</td>\n",
       "      <td>8.0</td>\n",
       "      <td>6.0</td>\n",
       "      <td>8.0</td>\n",
       "      <td>B. 2) One movie a week</td>\n",
       "      <td>G. Jurassic Park</td>\n",
       "      <td>AI-driven\\nInformative\\nMultifunctional\\nnonch...</td>\n",
       "    </tr>\n",
       "    <tr>\n",
       "      <th>4</th>\n",
       "      <td>Ananta Verma</td>\n",
       "      <td>3.5</td>\n",
       "      <td>7.8</td>\n",
       "      <td>10.0</td>\n",
       "      <td>4.2</td>\n",
       "      <td>6.9</td>\n",
       "      <td>5.5</td>\n",
       "      <td>9.8</td>\n",
       "      <td>6.2</td>\n",
       "      <td>8.0</td>\n",
       "      <td>4.0</td>\n",
       "      <td>8.8</td>\n",
       "      <td>2.0</td>\n",
       "      <td>8.2</td>\n",
       "      <td>B. 2) One movie a week</td>\n",
       "      <td>D. Spiderman</td>\n",
       "      <td>-calm\\n-kind\\n-introvert\\n-passionate\\n-funny</td>\n",
       "    </tr>\n",
       "    <tr>\n",
       "      <th>5</th>\n",
       "      <td>Bai Wang(Lucas)</td>\n",
       "      <td>9</td>\n",
       "      <td>7.5</td>\n",
       "      <td>8.0</td>\n",
       "      <td>5.5</td>\n",
       "      <td>6.7</td>\n",
       "      <td>9.5</td>\n",
       "      <td>10.0</td>\n",
       "      <td>4.5</td>\n",
       "      <td>8.5</td>\n",
       "      <td>5.0</td>\n",
       "      <td>3.5</td>\n",
       "      <td>1.0</td>\n",
       "      <td>10.0</td>\n",
       "      <td>B. 2) One movie a week</td>\n",
       "      <td>A. Star Wars</td>\n",
       "      <td>friendly, happy, slow</td>\n",
       "    </tr>\n",
       "    <tr>\n",
       "      <th>6</th>\n",
       "      <td>Bhavin Bhatt</td>\n",
       "      <td>10</td>\n",
       "      <td>9</td>\n",
       "      <td>8.0</td>\n",
       "      <td>8.0</td>\n",
       "      <td>8.0</td>\n",
       "      <td>10.0</td>\n",
       "      <td>10.0</td>\n",
       "      <td>3.0</td>\n",
       "      <td>6.0</td>\n",
       "      <td>7.0</td>\n",
       "      <td>6.0</td>\n",
       "      <td>6.0</td>\n",
       "      <td>8.0</td>\n",
       "      <td>B. 2) One movie a week</td>\n",
       "      <td>A. Star Wars\\nB. Shrek\\nC. Gladiator\\nD. Spide...</td>\n",
       "      <td>Chivalrous\\nFunny\\nSports loving\\ninquisitive\\...</td>\n",
       "    </tr>\n",
       "    <tr>\n",
       "      <th>7</th>\n",
       "      <td>Brittany Ho</td>\n",
       "      <td>3.5</td>\n",
       "      <td>5.5</td>\n",
       "      <td>6.9</td>\n",
       "      <td>8.0</td>\n",
       "      <td>8.0</td>\n",
       "      <td>6.8</td>\n",
       "      <td>7.5</td>\n",
       "      <td>9.0</td>\n",
       "      <td>8.0</td>\n",
       "      <td>6.0</td>\n",
       "      <td>7.0</td>\n",
       "      <td>10.0</td>\n",
       "      <td>7.5</td>\n",
       "      <td>A. 1) zero movies. I don't watch movies</td>\n",
       "      <td>E. Mulan</td>\n",
       "      <td>- Busy\\n- Hardworking\\n- Happy\\n- Warm\\n- Adve...</td>\n",
       "    </tr>\n",
       "    <tr>\n",
       "      <th>8</th>\n",
       "      <td>CHEN LI LEE</td>\n",
       "      <td>8.0</td>\n",
       "      <td>8.4</td>\n",
       "      <td>7.4</td>\n",
       "      <td>5.6</td>\n",
       "      <td>4.2</td>\n",
       "      <td>8.9</td>\n",
       "      <td>9.8</td>\n",
       "      <td>2.1</td>\n",
       "      <td>3.4</td>\n",
       "      <td>7.6</td>\n",
       "      <td>3.3</td>\n",
       "      <td>6.7</td>\n",
       "      <td>8.8</td>\n",
       "      <td>C. 3) Two movies a week</td>\n",
       "      <td>A. Star Wars\\nB. Shrek\\nD. Spiderman\\nE. Mulan</td>\n",
       "      <td>-JOLLY\\n-SLOW</td>\n",
       "    </tr>\n",
       "    <tr>\n",
       "      <th>9</th>\n",
       "      <td>Casey</td>\n",
       "      <td>6</td>\n",
       "      <td>6</td>\n",
       "      <td>7.0</td>\n",
       "      <td>8.2</td>\n",
       "      <td>9.8</td>\n",
       "      <td>4.3</td>\n",
       "      <td>8.8</td>\n",
       "      <td>1.9</td>\n",
       "      <td>6.7</td>\n",
       "      <td>9.2</td>\n",
       "      <td>8.3</td>\n",
       "      <td>3.8</td>\n",
       "      <td>4.2</td>\n",
       "      <td>B. 2) One movie a week</td>\n",
       "      <td>C. Gladiator</td>\n",
       "      <td>- attentive\\n- optimistic\\n- fun\\n- analytical...</td>\n",
       "    </tr>\n",
       "  </tbody>\n",
       "</table>\n",
       "</div>\n",
       "    <div class=\"colab-df-buttons\">\n",
       "\n",
       "  <div class=\"colab-df-container\">\n",
       "    <button class=\"colab-df-convert\" onclick=\"convertToInteractive('df-453cdac7-56e5-42e4-b205-a2d91422bca4')\"\n",
       "            title=\"Convert this dataframe to an interactive table.\"\n",
       "            style=\"display:none;\">\n",
       "\n",
       "  <svg xmlns=\"http://www.w3.org/2000/svg\" height=\"24px\" viewBox=\"0 -960 960 960\">\n",
       "    <path d=\"M120-120v-720h720v720H120Zm60-500h600v-160H180v160Zm220 220h160v-160H400v160Zm0 220h160v-160H400v160ZM180-400h160v-160H180v160Zm440 0h160v-160H620v160ZM180-180h160v-160H180v160Zm440 0h160v-160H620v160Z\"/>\n",
       "  </svg>\n",
       "    </button>\n",
       "\n",
       "  <style>\n",
       "    .colab-df-container {\n",
       "      display:flex;\n",
       "      gap: 12px;\n",
       "    }\n",
       "\n",
       "    .colab-df-convert {\n",
       "      background-color: #E8F0FE;\n",
       "      border: none;\n",
       "      border-radius: 50%;\n",
       "      cursor: pointer;\n",
       "      display: none;\n",
       "      fill: #1967D2;\n",
       "      height: 32px;\n",
       "      padding: 0 0 0 0;\n",
       "      width: 32px;\n",
       "    }\n",
       "\n",
       "    .colab-df-convert:hover {\n",
       "      background-color: #E2EBFA;\n",
       "      box-shadow: 0px 1px 2px rgba(60, 64, 67, 0.3), 0px 1px 3px 1px rgba(60, 64, 67, 0.15);\n",
       "      fill: #174EA6;\n",
       "    }\n",
       "\n",
       "    .colab-df-buttons div {\n",
       "      margin-bottom: 4px;\n",
       "    }\n",
       "\n",
       "    [theme=dark] .colab-df-convert {\n",
       "      background-color: #3B4455;\n",
       "      fill: #D2E3FC;\n",
       "    }\n",
       "\n",
       "    [theme=dark] .colab-df-convert:hover {\n",
       "      background-color: #434B5C;\n",
       "      box-shadow: 0px 1px 3px 1px rgba(0, 0, 0, 0.15);\n",
       "      filter: drop-shadow(0px 1px 2px rgba(0, 0, 0, 0.3));\n",
       "      fill: #FFFFFF;\n",
       "    }\n",
       "  </style>\n",
       "\n",
       "    <script>\n",
       "      const buttonEl =\n",
       "        document.querySelector('#df-453cdac7-56e5-42e4-b205-a2d91422bca4 button.colab-df-convert');\n",
       "      buttonEl.style.display =\n",
       "        google.colab.kernel.accessAllowed ? 'block' : 'none';\n",
       "\n",
       "      async function convertToInteractive(key) {\n",
       "        const element = document.querySelector('#df-453cdac7-56e5-42e4-b205-a2d91422bca4');\n",
       "        const dataTable =\n",
       "          await google.colab.kernel.invokeFunction('convertToInteractive',\n",
       "                                                    [key], {});\n",
       "        if (!dataTable) return;\n",
       "\n",
       "        const docLinkHtml = 'Like what you see? Visit the ' +\n",
       "          '<a target=\"_blank\" href=https://colab.research.google.com/notebooks/data_table.ipynb>data table notebook</a>'\n",
       "          + ' to learn more about interactive tables.';\n",
       "        element.innerHTML = '';\n",
       "        dataTable['output_type'] = 'display_data';\n",
       "        await google.colab.output.renderOutput(dataTable, element);\n",
       "        const docLink = document.createElement('div');\n",
       "        docLink.innerHTML = docLinkHtml;\n",
       "        element.appendChild(docLink);\n",
       "      }\n",
       "    </script>\n",
       "  </div>\n",
       "\n",
       "\n",
       "<div id=\"df-f690fd03-fd7d-4c3e-826f-58d00c2cbe0a\">\n",
       "  <button class=\"colab-df-quickchart\" onclick=\"quickchart('df-f690fd03-fd7d-4c3e-826f-58d00c2cbe0a')\"\n",
       "            title=\"Suggest charts.\"\n",
       "            style=\"display:none;\">\n",
       "\n",
       "<svg xmlns=\"http://www.w3.org/2000/svg\" height=\"24px\"viewBox=\"0 0 24 24\"\n",
       "     width=\"24px\">\n",
       "    <g>\n",
       "        <path d=\"M19 3H5c-1.1 0-2 .9-2 2v14c0 1.1.9 2 2 2h14c1.1 0 2-.9 2-2V5c0-1.1-.9-2-2-2zM9 17H7v-7h2v7zm4 0h-2V7h2v10zm4 0h-2v-4h2v4z\"/>\n",
       "    </g>\n",
       "</svg>\n",
       "  </button>\n",
       "\n",
       "<style>\n",
       "  .colab-df-quickchart {\n",
       "      --bg-color: #E8F0FE;\n",
       "      --fill-color: #1967D2;\n",
       "      --hover-bg-color: #E2EBFA;\n",
       "      --hover-fill-color: #174EA6;\n",
       "      --disabled-fill-color: #AAA;\n",
       "      --disabled-bg-color: #DDD;\n",
       "  }\n",
       "\n",
       "  [theme=dark] .colab-df-quickchart {\n",
       "      --bg-color: #3B4455;\n",
       "      --fill-color: #D2E3FC;\n",
       "      --hover-bg-color: #434B5C;\n",
       "      --hover-fill-color: #FFFFFF;\n",
       "      --disabled-bg-color: #3B4455;\n",
       "      --disabled-fill-color: #666;\n",
       "  }\n",
       "\n",
       "  .colab-df-quickchart {\n",
       "    background-color: var(--bg-color);\n",
       "    border: none;\n",
       "    border-radius: 50%;\n",
       "    cursor: pointer;\n",
       "    display: none;\n",
       "    fill: var(--fill-color);\n",
       "    height: 32px;\n",
       "    padding: 0;\n",
       "    width: 32px;\n",
       "  }\n",
       "\n",
       "  .colab-df-quickchart:hover {\n",
       "    background-color: var(--hover-bg-color);\n",
       "    box-shadow: 0 1px 2px rgba(60, 64, 67, 0.3), 0 1px 3px 1px rgba(60, 64, 67, 0.15);\n",
       "    fill: var(--button-hover-fill-color);\n",
       "  }\n",
       "\n",
       "  .colab-df-quickchart-complete:disabled,\n",
       "  .colab-df-quickchart-complete:disabled:hover {\n",
       "    background-color: var(--disabled-bg-color);\n",
       "    fill: var(--disabled-fill-color);\n",
       "    box-shadow: none;\n",
       "  }\n",
       "\n",
       "  .colab-df-spinner {\n",
       "    border: 2px solid var(--fill-color);\n",
       "    border-color: transparent;\n",
       "    border-bottom-color: var(--fill-color);\n",
       "    animation:\n",
       "      spin 1s steps(1) infinite;\n",
       "  }\n",
       "\n",
       "  @keyframes spin {\n",
       "    0% {\n",
       "      border-color: transparent;\n",
       "      border-bottom-color: var(--fill-color);\n",
       "      border-left-color: var(--fill-color);\n",
       "    }\n",
       "    20% {\n",
       "      border-color: transparent;\n",
       "      border-left-color: var(--fill-color);\n",
       "      border-top-color: var(--fill-color);\n",
       "    }\n",
       "    30% {\n",
       "      border-color: transparent;\n",
       "      border-left-color: var(--fill-color);\n",
       "      border-top-color: var(--fill-color);\n",
       "      border-right-color: var(--fill-color);\n",
       "    }\n",
       "    40% {\n",
       "      border-color: transparent;\n",
       "      border-right-color: var(--fill-color);\n",
       "      border-top-color: var(--fill-color);\n",
       "    }\n",
       "    60% {\n",
       "      border-color: transparent;\n",
       "      border-right-color: var(--fill-color);\n",
       "    }\n",
       "    80% {\n",
       "      border-color: transparent;\n",
       "      border-right-color: var(--fill-color);\n",
       "      border-bottom-color: var(--fill-color);\n",
       "    }\n",
       "    90% {\n",
       "      border-color: transparent;\n",
       "      border-bottom-color: var(--fill-color);\n",
       "    }\n",
       "  }\n",
       "</style>\n",
       "\n",
       "  <script>\n",
       "    async function quickchart(key) {\n",
       "      const quickchartButtonEl =\n",
       "        document.querySelector('#' + key + ' button');\n",
       "      quickchartButtonEl.disabled = true;  // To prevent multiple clicks.\n",
       "      quickchartButtonEl.classList.add('colab-df-spinner');\n",
       "      try {\n",
       "        const charts = await google.colab.kernel.invokeFunction(\n",
       "            'suggestCharts', [key], {});\n",
       "      } catch (error) {\n",
       "        console.error('Error during call to suggestCharts:', error);\n",
       "      }\n",
       "      quickchartButtonEl.classList.remove('colab-df-spinner');\n",
       "      quickchartButtonEl.classList.add('colab-df-quickchart-complete');\n",
       "    }\n",
       "    (() => {\n",
       "      let quickchartButtonEl =\n",
       "        document.querySelector('#df-f690fd03-fd7d-4c3e-826f-58d00c2cbe0a button');\n",
       "      quickchartButtonEl.style.display =\n",
       "        google.colab.kernel.accessAllowed ? 'block' : 'none';\n",
       "    })();\n",
       "  </script>\n",
       "</div>\n",
       "    </div>\n",
       "  </div>\n"
      ],
      "text/plain": [
       "      Student Name  \\\n",
       "0      Aiman Anwer   \n",
       "1             Aman   \n",
       "2        Aman Sran   \n",
       "3         Amarthya   \n",
       "4     Ananta Verma   \n",
       "5  Bai Wang(Lucas)   \n",
       "6     Bhavin Bhatt   \n",
       "7      Brittany Ho   \n",
       "8      CHEN LI LEE   \n",
       "9            Casey   \n",
       "\n",
       "  Using a scale 1 to 10, how much do you like action movies? (use decimals, e.g. 4.2)  \\\n",
       "0                                                7.5                                    \n",
       "1                                                  7                                    \n",
       "2                                                4.6                                    \n",
       "3                                                  7                                    \n",
       "4                                                3.5                                    \n",
       "5                                                  9                                    \n",
       "6                                                 10                                    \n",
       "7                                                3.5                                    \n",
       "8                                                8.0                                    \n",
       "9                                                  6                                    \n",
       "\n",
       "  Using a scale 1 to 10, how much do you like adventure movies? (use decimals, e.g. 4.2)  \\\n",
       "0                                                6.5                                       \n",
       "1                                                  5                                       \n",
       "2                                                7.4                                       \n",
       "3                                                  8                                       \n",
       "4                                                7.8                                       \n",
       "5                                                7.5                                       \n",
       "6                                                  9                                       \n",
       "7                                                5.5                                       \n",
       "8                                                8.4                                       \n",
       "9                                                  6                                       \n",
       "\n",
       "   Using a scale 1 to 10, how much do you like comedy movies? (use decimals, e.g. 4.2)  \\\n",
       "0                                                8.5                                     \n",
       "1                                                3.0                                     \n",
       "2                                               10.0                                     \n",
       "3                                                9.0                                     \n",
       "4                                               10.0                                     \n",
       "5                                                8.0                                     \n",
       "6                                                8.0                                     \n",
       "7                                                6.9                                     \n",
       "8                                                7.4                                     \n",
       "9                                                7.0                                     \n",
       "\n",
       "   Using a scale 1 to 10, how much do you like crime movies? (use decimals, e.g. 4.2)  \\\n",
       "0                                                8.5                                    \n",
       "1                                                8.0                                    \n",
       "2                                                8.7                                    \n",
       "3                                                6.0                                    \n",
       "4                                                4.2                                    \n",
       "5                                                5.5                                    \n",
       "6                                                8.0                                    \n",
       "7                                                8.0                                    \n",
       "8                                                5.6                                    \n",
       "9                                                8.2                                    \n",
       "\n",
       "   Using a scale 1 to 10, how much do you like drama movies?  \\\n",
       "0                                               10.0           \n",
       "1                                                3.0           \n",
       "2                                                7.5           \n",
       "3                                                7.0           \n",
       "4                                                6.9           \n",
       "5                                                6.7           \n",
       "6                                                8.0           \n",
       "7                                                8.0           \n",
       "8                                                4.2           \n",
       "9                                                9.8           \n",
       "\n",
       "   Using a scale 1 to 10, how much do you like fantasy movies?  \\\n",
       "0                                               10.0             \n",
       "1                                                1.0             \n",
       "2                                                3.2             \n",
       "3                                                7.0             \n",
       "4                                                5.5             \n",
       "5                                                9.5             \n",
       "6                                               10.0             \n",
       "7                                                6.8             \n",
       "8                                                8.9             \n",
       "9                                                4.3             \n",
       "\n",
       "   Using a scale 1 to 10, how much do you like science fiction movies?  \\\n",
       "0                                                3.5                     \n",
       "1                                                8.0                     \n",
       "2                                                3.4                     \n",
       "3                                                7.0                     \n",
       "4                                                9.8                     \n",
       "5                                               10.0                     \n",
       "6                                               10.0                     \n",
       "7                                                7.5                     \n",
       "8                                                9.8                     \n",
       "9                                                8.8                     \n",
       "\n",
       "   Using a scale 1 to 10, how much do you like horror movies?  \\\n",
       "0                                                1.5            \n",
       "1                                                9.0            \n",
       "2                                                4.5            \n",
       "3                                                1.0            \n",
       "4                                                6.2            \n",
       "5                                                4.5            \n",
       "6                                                3.0            \n",
       "7                                                9.0            \n",
       "8                                                2.1            \n",
       "9                                                1.9            \n",
       "\n",
       "   Using a scale 1 to 10, how much do you like mystery movies?  \\\n",
       "0                                                8.5             \n",
       "1                                                7.0             \n",
       "2                                                8.5             \n",
       "3                                                7.0             \n",
       "4                                                8.0             \n",
       "5                                                8.5             \n",
       "6                                                6.0             \n",
       "7                                                8.0             \n",
       "8                                                3.4             \n",
       "9                                                6.7             \n",
       "\n",
       "   Using a scale 1 to 10, how much do you like romance movies?  \\\n",
       "0                                                9.5             \n",
       "1                                                1.0             \n",
       "2                                                6.7             \n",
       "3                                                7.0             \n",
       "4                                                4.0             \n",
       "5                                                5.0             \n",
       "6                                                7.0             \n",
       "7                                                6.0             \n",
       "8                                                7.6             \n",
       "9                                                9.2             \n",
       "\n",
       "   Using a scale 1 to 10, how much do you like thriller movies?  \\\n",
       "0                                                9.5              \n",
       "1                                               10.0              \n",
       "2                                                8.4              \n",
       "3                                                8.0              \n",
       "4                                                8.8              \n",
       "5                                                3.5              \n",
       "6                                                6.0              \n",
       "7                                                7.0              \n",
       "8                                                3.3              \n",
       "9                                                8.3              \n",
       "\n",
       "   Using a scale 1 to 10, how much do you like documentary movies?  \\\n",
       "0                                                1.5                 \n",
       "1                                                5.0                 \n",
       "2                                                9.5                 \n",
       "3                                                6.0                 \n",
       "4                                                2.0                 \n",
       "5                                                1.0                 \n",
       "6                                                6.0                 \n",
       "7                                               10.0                 \n",
       "8                                                6.7                 \n",
       "9                                                3.8                 \n",
       "\n",
       "   Using a scale 1 to 10, how much do you like animated movies?  \\\n",
       "0                                                4.5              \n",
       "1                                                4.0              \n",
       "2                                                2.4              \n",
       "3                                                8.0              \n",
       "4                                                8.2              \n",
       "5                                               10.0              \n",
       "6                                                8.0              \n",
       "7                                                7.5              \n",
       "8                                                8.8              \n",
       "9                                                4.2              \n",
       "\n",
       "  On average, how many movies you watch on a single week  \\\n",
       "0                            C. 3) Two movies a week       \n",
       "1            A. 1) zero movies. I don't watch movies       \n",
       "2                             B. 2) One movie a week       \n",
       "3                             B. 2) One movie a week       \n",
       "4                             B. 2) One movie a week       \n",
       "5                             B. 2) One movie a week       \n",
       "6                             B. 2) One movie a week       \n",
       "7            A. 1) zero movies. I don't watch movies       \n",
       "8                            C. 3) Two movies a week       \n",
       "9                             B. 2) One movie a week       \n",
       "\n",
       "  Which of the following movies you'd say is your preferred?  \\\n",
       "0  D. Spiderman\\nE. Mulan\\nF. Hamilton\\nG. Jurass...           \n",
       "1                                       D. Spiderman           \n",
       "2                                           B. Shrek           \n",
       "3                                   G. Jurassic Park           \n",
       "4                                       D. Spiderman           \n",
       "5                                       A. Star Wars           \n",
       "6  A. Star Wars\\nB. Shrek\\nC. Gladiator\\nD. Spide...           \n",
       "7                                           E. Mulan           \n",
       "8     A. Star Wars\\nB. Shrek\\nD. Spiderman\\nE. Mulan           \n",
       "9                                       C. Gladiator           \n",
       "\n",
       "  Describe yourself with 5 adjectives. For example:- Capable- Friendly- Happy- Sociable- Slow  \n",
       "0  - Friendly\\n- Motivated\\n- Sociable\\n- Energet...                                           \n",
       "1  - Punctual\\n- Disciplined \\n- Introvert\\n- Fas...                                           \n",
       "2  Sociable, Friendly, Empathetic, Passionate, Co...                                           \n",
       "3  AI-driven\\nInformative\\nMultifunctional\\nnonch...                                           \n",
       "4      -calm\\n-kind\\n-introvert\\n-passionate\\n-funny                                           \n",
       "5                              friendly, happy, slow                                           \n",
       "6  Chivalrous\\nFunny\\nSports loving\\ninquisitive\\...                                           \n",
       "7  - Busy\\n- Hardworking\\n- Happy\\n- Warm\\n- Adve...                                           \n",
       "8                                      -JOLLY\\n-SLOW                                           \n",
       "9  - attentive\\n- optimistic\\n- fun\\n- analytical...                                           "
      ]
     },
     "execution_count": 4,
     "metadata": {},
     "output_type": "execute_result"
    }
   ],
   "source": [
    "df.head(10)"
   ]
  },
  {
   "cell_type": "markdown",
   "metadata": {
    "id": "sYx24ktJvWBB"
   },
   "source": [
    "**Comment:** Column names are survey questions which will be hard to access. We will rename them with key-words."
   ]
  },
  {
   "cell_type": "code",
   "execution_count": null,
   "metadata": {
    "id": "fVhEYzY3zHYc"
   },
   "outputs": [],
   "source": [
    "# rename columns\n",
    "df.columns = ['name','action','adventure','comedy','crime','drama','fantasy','scifi','horror','mystery','romance','thriller','documentary','animated','timespent','favorite','personality']"
   ]
  },
  {
   "cell_type": "code",
   "execution_count": null,
   "metadata": {
    "colab": {
     "base_uri": "https://localhost:8080/"
    },
    "id": "nTdDBVcbmYKN",
    "outputId": "ff245fd1-3aea-4dbd-980a-44a8a10726f2"
   },
   "outputs": [
    {
     "name": "stdout",
     "output_type": "stream",
     "text": [
      "<class 'pandas.core.frame.DataFrame'>\n",
      "RangeIndex: 85 entries, 0 to 84\n",
      "Data columns (total 17 columns):\n",
      " #   Column       Non-Null Count  Dtype  \n",
      "---  ------       --------------  -----  \n",
      " 0   name         85 non-null     object \n",
      " 1   action       85 non-null     object \n",
      " 2   adventure    84 non-null     object \n",
      " 3   comedy       83 non-null     float64\n",
      " 4   crime        83 non-null     float64\n",
      " 5   drama        83 non-null     float64\n",
      " 6   fantasy      82 non-null     float64\n",
      " 7   scifi        82 non-null     float64\n",
      " 8   horror       82 non-null     float64\n",
      " 9   mystery      81 non-null     float64\n",
      " 10  romance      82 non-null     float64\n",
      " 11  thriller     81 non-null     float64\n",
      " 12  documentary  82 non-null     float64\n",
      " 13  animated     81 non-null     float64\n",
      " 14  timespent    82 non-null     object \n",
      " 15  favorite     81 non-null     object \n",
      " 16  personality  77 non-null     object \n",
      "dtypes: float64(11), object(6)\n",
      "memory usage: 11.4+ KB\n"
     ]
    }
   ],
   "source": [
    "# print info\n",
    "df.info()"
   ]
  },
  {
   "cell_type": "markdown",
   "metadata": {
    "id": "qehado47vkJP"
   },
   "source": [
    "**Comment:** We see the datatypes of each variable. It looks like action and adventure have incorrect datatypes. We will have to look into this and convert the columns to floats later."
   ]
  },
  {
   "cell_type": "code",
   "execution_count": null,
   "metadata": {
    "colab": {
     "base_uri": "https://localhost:8080/"
    },
    "id": "2ayYKeymnBmQ",
    "outputId": "8bb67d58-f0fa-4ebf-f63d-cd5228682be7"
   },
   "outputs": [
    {
     "name": "stdout",
     "output_type": "stream",
     "text": [
      "total number of missing values: 49 \n",
      "\n"
     ]
    },
    {
     "data": {
      "text/plain": [
       "personality    8\n",
       "mystery        4\n",
       "favorite       4\n",
       "animated       4\n",
       "thriller       4\n",
       "timespent      3\n",
       "documentary    3\n",
       "romance        3\n",
       "horror         3\n",
       "scifi          3\n",
       "fantasy        3\n",
       "drama          2\n",
       "crime          2\n",
       "comedy         2\n",
       "adventure      1\n",
       "action         0\n",
       "name           0\n",
       "dtype: int64"
      ]
     },
     "execution_count": 7,
     "metadata": {},
     "output_type": "execute_result"
    }
   ],
   "source": [
    "# check missing values\n",
    "print('total number of missing values:',df.isna().sum().sum(),'\\n')\n",
    "df.isna().sum().sort_values(ascending=False)"
   ]
  },
  {
   "cell_type": "markdown",
   "metadata": {
    "id": "UaEQk7T_v9UW"
   },
   "source": [
    "**Comment:** Above shows the number missing values in each column. It's not too bad; however, since we only have 85 datapoints we should try to be as conservative as possible and do our best to preserve each record."
   ]
  },
  {
   "cell_type": "code",
   "execution_count": null,
   "metadata": {
    "colab": {
     "base_uri": "https://localhost:8080/",
     "height": 932
    },
    "id": "2j4oMvNi0QUp",
    "outputId": "a1e171c6-904f-4efa-e0d3-65d90423f1df"
   },
   "outputs": [
    {
     "data": {
      "text/html": [
       "\n",
       "  <div id=\"df-8f03d9a1-7f7b-46be-a3fb-539752891f4c\" class=\"colab-df-container\">\n",
       "    <div>\n",
       "<style scoped>\n",
       "    .dataframe tbody tr th:only-of-type {\n",
       "        vertical-align: middle;\n",
       "    }\n",
       "\n",
       "    .dataframe tbody tr th {\n",
       "        vertical-align: top;\n",
       "    }\n",
       "\n",
       "    .dataframe thead th {\n",
       "        text-align: right;\n",
       "    }\n",
       "</style>\n",
       "<table border=\"1\" class=\"dataframe\">\n",
       "  <thead>\n",
       "    <tr style=\"text-align: right;\">\n",
       "      <th></th>\n",
       "      <th>name</th>\n",
       "      <th>action</th>\n",
       "      <th>adventure</th>\n",
       "      <th>comedy</th>\n",
       "      <th>crime</th>\n",
       "      <th>drama</th>\n",
       "      <th>fantasy</th>\n",
       "      <th>scifi</th>\n",
       "      <th>horror</th>\n",
       "      <th>mystery</th>\n",
       "      <th>romance</th>\n",
       "      <th>thriller</th>\n",
       "      <th>documentary</th>\n",
       "      <th>animated</th>\n",
       "      <th>timespent</th>\n",
       "      <th>favorite</th>\n",
       "      <th>personality</th>\n",
       "    </tr>\n",
       "  </thead>\n",
       "  <tbody>\n",
       "    <tr>\n",
       "      <th>19</th>\n",
       "      <td>Haoxuan Wang</td>\n",
       "      <td>5</td>\n",
       "      <td>7</td>\n",
       "      <td>7.0</td>\n",
       "      <td>7.5</td>\n",
       "      <td>8.5</td>\n",
       "      <td>2.5</td>\n",
       "      <td>NaN</td>\n",
       "      <td>NaN</td>\n",
       "      <td>NaN</td>\n",
       "      <td>NaN</td>\n",
       "      <td>NaN</td>\n",
       "      <td>NaN</td>\n",
       "      <td>5.0</td>\n",
       "      <td>B. 2) One movie a week</td>\n",
       "      <td>D. Spiderman</td>\n",
       "      <td>-Kind\\n-Confident\\n-Creative\\n-Reliable\\n-Empa...</td>\n",
       "    </tr>\n",
       "    <tr>\n",
       "      <th>28</th>\n",
       "      <td>Lily Veronica</td>\n",
       "      <td>7</td>\n",
       "      <td>8.5</td>\n",
       "      <td>8.0</td>\n",
       "      <td>8.5</td>\n",
       "      <td>9.0</td>\n",
       "      <td>6.0</td>\n",
       "      <td>7.0</td>\n",
       "      <td>7.0</td>\n",
       "      <td>8.0</td>\n",
       "      <td>8.0</td>\n",
       "      <td>NaN</td>\n",
       "      <td>10.0</td>\n",
       "      <td>6.0</td>\n",
       "      <td>B. 2) One movie a week</td>\n",
       "      <td>NaN</td>\n",
       "      <td>Friendly, fun, happy, foodie, funny</td>\n",
       "    </tr>\n",
       "    <tr>\n",
       "      <th>40</th>\n",
       "      <td>Piyush Patil</td>\n",
       "      <td>6</td>\n",
       "      <td>10</td>\n",
       "      <td>7.5</td>\n",
       "      <td>10.0</td>\n",
       "      <td>10.0</td>\n",
       "      <td>NaN</td>\n",
       "      <td>11.0</td>\n",
       "      <td>10.0</td>\n",
       "      <td>NaN</td>\n",
       "      <td>1.0</td>\n",
       "      <td>10.0</td>\n",
       "      <td>10.0</td>\n",
       "      <td>1.0</td>\n",
       "      <td>B. 2) One movie a week</td>\n",
       "      <td>E. Mulan</td>\n",
       "      <td>Social \\nintelligent\\nSmart\\nEnthusiasm</td>\n",
       "    </tr>\n",
       "    <tr>\n",
       "      <th>41</th>\n",
       "      <td>Praneeth</td>\n",
       "      <td>10</td>\n",
       "      <td>9</td>\n",
       "      <td>10.0</td>\n",
       "      <td>11.0</td>\n",
       "      <td>12.0</td>\n",
       "      <td>8.0</td>\n",
       "      <td>9.0</td>\n",
       "      <td>10.0</td>\n",
       "      <td>9.0</td>\n",
       "      <td>8.0</td>\n",
       "      <td>10.0</td>\n",
       "      <td>5.0</td>\n",
       "      <td>9.0</td>\n",
       "      <td>D. 4) Three to four movies a week</td>\n",
       "      <td>C. Gladiator</td>\n",
       "      <td>NaN</td>\n",
       "    </tr>\n",
       "    <tr>\n",
       "      <th>44</th>\n",
       "      <td>Revanth</td>\n",
       "      <td>10</td>\n",
       "      <td>9</td>\n",
       "      <td>10.0</td>\n",
       "      <td>8.0</td>\n",
       "      <td>10.0</td>\n",
       "      <td>8.0</td>\n",
       "      <td>9.0</td>\n",
       "      <td>10.0</td>\n",
       "      <td>8.0</td>\n",
       "      <td>9.0</td>\n",
       "      <td>10.0</td>\n",
       "      <td>7.0</td>\n",
       "      <td>8.0</td>\n",
       "      <td>E. 5) More than 4 movies a week</td>\n",
       "      <td>D. Spiderman</td>\n",
       "      <td>NaN</td>\n",
       "    </tr>\n",
       "    <tr>\n",
       "      <th>47</th>\n",
       "      <td>SOURABH</td>\n",
       "      <td>7</td>\n",
       "      <td>3</td>\n",
       "      <td>7.0</td>\n",
       "      <td>10.0</td>\n",
       "      <td>10.0</td>\n",
       "      <td>1.0</td>\n",
       "      <td>4.0</td>\n",
       "      <td>5.0</td>\n",
       "      <td>10.0</td>\n",
       "      <td>9.0</td>\n",
       "      <td>10.0</td>\n",
       "      <td>10.0</td>\n",
       "      <td>5.0</td>\n",
       "      <td>E. 5) More than 4 movies a week</td>\n",
       "      <td>C. Gladiator</td>\n",
       "      <td>NaN</td>\n",
       "    </tr>\n",
       "    <tr>\n",
       "      <th>51</th>\n",
       "      <td>Sila MyжiHu</td>\n",
       "      <td>who knows man</td>\n",
       "      <td>idk</td>\n",
       "      <td>NaN</td>\n",
       "      <td>NaN</td>\n",
       "      <td>NaN</td>\n",
       "      <td>NaN</td>\n",
       "      <td>NaN</td>\n",
       "      <td>NaN</td>\n",
       "      <td>NaN</td>\n",
       "      <td>NaN</td>\n",
       "      <td>NaN</td>\n",
       "      <td>NaN</td>\n",
       "      <td>NaN</td>\n",
       "      <td>NaN</td>\n",
       "      <td>NaN</td>\n",
       "      <td>NaN</td>\n",
       "    </tr>\n",
       "    <tr>\n",
       "      <th>64</th>\n",
       "      <td>Vamsi Krishna</td>\n",
       "      <td>8</td>\n",
       "      <td>9</td>\n",
       "      <td>9.0</td>\n",
       "      <td>7.5</td>\n",
       "      <td>6.0</td>\n",
       "      <td>5.0</td>\n",
       "      <td>8.5</td>\n",
       "      <td>7.0</td>\n",
       "      <td>7.3</td>\n",
       "      <td>9.0</td>\n",
       "      <td>6.5</td>\n",
       "      <td>9.5</td>\n",
       "      <td>10.0</td>\n",
       "      <td>C. 3) Two movies a week</td>\n",
       "      <td>D. Spiderman</td>\n",
       "      <td>NaN</td>\n",
       "    </tr>\n",
       "    <tr>\n",
       "      <th>65</th>\n",
       "      <td>Vamsi Krishna Midathala</td>\n",
       "      <td>8</td>\n",
       "      <td>NaN</td>\n",
       "      <td>NaN</td>\n",
       "      <td>NaN</td>\n",
       "      <td>NaN</td>\n",
       "      <td>NaN</td>\n",
       "      <td>NaN</td>\n",
       "      <td>NaN</td>\n",
       "      <td>NaN</td>\n",
       "      <td>NaN</td>\n",
       "      <td>NaN</td>\n",
       "      <td>NaN</td>\n",
       "      <td>NaN</td>\n",
       "      <td>NaN</td>\n",
       "      <td>NaN</td>\n",
       "      <td>NaN</td>\n",
       "    </tr>\n",
       "    <tr>\n",
       "      <th>70</th>\n",
       "      <td>akhil</td>\n",
       "      <td>10</td>\n",
       "      <td>10</td>\n",
       "      <td>9.0</td>\n",
       "      <td>9.0</td>\n",
       "      <td>9.0</td>\n",
       "      <td>9.0</td>\n",
       "      <td>10.0</td>\n",
       "      <td>10.0</td>\n",
       "      <td>9.0</td>\n",
       "      <td>9.0</td>\n",
       "      <td>9.0</td>\n",
       "      <td>9.0</td>\n",
       "      <td>9.0</td>\n",
       "      <td>B. 2) One movie a week</td>\n",
       "      <td>B. Shrek\\nE. Mulan\\nG. Jurassic Park</td>\n",
       "      <td>NaN</td>\n",
       "    </tr>\n",
       "    <tr>\n",
       "      <th>74</th>\n",
       "      <td>likhitha</td>\n",
       "      <td>8</td>\n",
       "      <td>9</td>\n",
       "      <td>5.0</td>\n",
       "      <td>9.0</td>\n",
       "      <td>7.0</td>\n",
       "      <td>8.0</td>\n",
       "      <td>5.0</td>\n",
       "      <td>8.0</td>\n",
       "      <td>9.0</td>\n",
       "      <td>7.0</td>\n",
       "      <td>9.0</td>\n",
       "      <td>10.0</td>\n",
       "      <td>NaN</td>\n",
       "      <td>B. 2) One movie a week</td>\n",
       "      <td>F. Hamilton</td>\n",
       "      <td>friendly\\nactive \\nexpressive\\nsociable \\nhappy</td>\n",
       "    </tr>\n",
       "    <tr>\n",
       "      <th>83</th>\n",
       "      <td>tony montana</td>\n",
       "      <td>9</td>\n",
       "      <td>7</td>\n",
       "      <td>5.0</td>\n",
       "      <td>100000.0</td>\n",
       "      <td>8.5</td>\n",
       "      <td>1.0</td>\n",
       "      <td>6.0</td>\n",
       "      <td>5.0</td>\n",
       "      <td>10.0</td>\n",
       "      <td>10.0</td>\n",
       "      <td>1000.0</td>\n",
       "      <td>10.0</td>\n",
       "      <td>NaN</td>\n",
       "      <td>NaN</td>\n",
       "      <td>NaN</td>\n",
       "      <td>NaN</td>\n",
       "    </tr>\n",
       "  </tbody>\n",
       "</table>\n",
       "</div>\n",
       "    <div class=\"colab-df-buttons\">\n",
       "\n",
       "  <div class=\"colab-df-container\">\n",
       "    <button class=\"colab-df-convert\" onclick=\"convertToInteractive('df-8f03d9a1-7f7b-46be-a3fb-539752891f4c')\"\n",
       "            title=\"Convert this dataframe to an interactive table.\"\n",
       "            style=\"display:none;\">\n",
       "\n",
       "  <svg xmlns=\"http://www.w3.org/2000/svg\" height=\"24px\" viewBox=\"0 -960 960 960\">\n",
       "    <path d=\"M120-120v-720h720v720H120Zm60-500h600v-160H180v160Zm220 220h160v-160H400v160Zm0 220h160v-160H400v160ZM180-400h160v-160H180v160Zm440 0h160v-160H620v160ZM180-180h160v-160H180v160Zm440 0h160v-160H620v160Z\"/>\n",
       "  </svg>\n",
       "    </button>\n",
       "\n",
       "  <style>\n",
       "    .colab-df-container {\n",
       "      display:flex;\n",
       "      gap: 12px;\n",
       "    }\n",
       "\n",
       "    .colab-df-convert {\n",
       "      background-color: #E8F0FE;\n",
       "      border: none;\n",
       "      border-radius: 50%;\n",
       "      cursor: pointer;\n",
       "      display: none;\n",
       "      fill: #1967D2;\n",
       "      height: 32px;\n",
       "      padding: 0 0 0 0;\n",
       "      width: 32px;\n",
       "    }\n",
       "\n",
       "    .colab-df-convert:hover {\n",
       "      background-color: #E2EBFA;\n",
       "      box-shadow: 0px 1px 2px rgba(60, 64, 67, 0.3), 0px 1px 3px 1px rgba(60, 64, 67, 0.15);\n",
       "      fill: #174EA6;\n",
       "    }\n",
       "\n",
       "    .colab-df-buttons div {\n",
       "      margin-bottom: 4px;\n",
       "    }\n",
       "\n",
       "    [theme=dark] .colab-df-convert {\n",
       "      background-color: #3B4455;\n",
       "      fill: #D2E3FC;\n",
       "    }\n",
       "\n",
       "    [theme=dark] .colab-df-convert:hover {\n",
       "      background-color: #434B5C;\n",
       "      box-shadow: 0px 1px 3px 1px rgba(0, 0, 0, 0.15);\n",
       "      filter: drop-shadow(0px 1px 2px rgba(0, 0, 0, 0.3));\n",
       "      fill: #FFFFFF;\n",
       "    }\n",
       "  </style>\n",
       "\n",
       "    <script>\n",
       "      const buttonEl =\n",
       "        document.querySelector('#df-8f03d9a1-7f7b-46be-a3fb-539752891f4c button.colab-df-convert');\n",
       "      buttonEl.style.display =\n",
       "        google.colab.kernel.accessAllowed ? 'block' : 'none';\n",
       "\n",
       "      async function convertToInteractive(key) {\n",
       "        const element = document.querySelector('#df-8f03d9a1-7f7b-46be-a3fb-539752891f4c');\n",
       "        const dataTable =\n",
       "          await google.colab.kernel.invokeFunction('convertToInteractive',\n",
       "                                                    [key], {});\n",
       "        if (!dataTable) return;\n",
       "\n",
       "        const docLinkHtml = 'Like what you see? Visit the ' +\n",
       "          '<a target=\"_blank\" href=https://colab.research.google.com/notebooks/data_table.ipynb>data table notebook</a>'\n",
       "          + ' to learn more about interactive tables.';\n",
       "        element.innerHTML = '';\n",
       "        dataTable['output_type'] = 'display_data';\n",
       "        await google.colab.output.renderOutput(dataTable, element);\n",
       "        const docLink = document.createElement('div');\n",
       "        docLink.innerHTML = docLinkHtml;\n",
       "        element.appendChild(docLink);\n",
       "      }\n",
       "    </script>\n",
       "  </div>\n",
       "\n",
       "\n",
       "<div id=\"df-e8be8686-d8ce-45e3-9147-62aac896f3fd\">\n",
       "  <button class=\"colab-df-quickchart\" onclick=\"quickchart('df-e8be8686-d8ce-45e3-9147-62aac896f3fd')\"\n",
       "            title=\"Suggest charts.\"\n",
       "            style=\"display:none;\">\n",
       "\n",
       "<svg xmlns=\"http://www.w3.org/2000/svg\" height=\"24px\"viewBox=\"0 0 24 24\"\n",
       "     width=\"24px\">\n",
       "    <g>\n",
       "        <path d=\"M19 3H5c-1.1 0-2 .9-2 2v14c0 1.1.9 2 2 2h14c1.1 0 2-.9 2-2V5c0-1.1-.9-2-2-2zM9 17H7v-7h2v7zm4 0h-2V7h2v10zm4 0h-2v-4h2v4z\"/>\n",
       "    </g>\n",
       "</svg>\n",
       "  </button>\n",
       "\n",
       "<style>\n",
       "  .colab-df-quickchart {\n",
       "      --bg-color: #E8F0FE;\n",
       "      --fill-color: #1967D2;\n",
       "      --hover-bg-color: #E2EBFA;\n",
       "      --hover-fill-color: #174EA6;\n",
       "      --disabled-fill-color: #AAA;\n",
       "      --disabled-bg-color: #DDD;\n",
       "  }\n",
       "\n",
       "  [theme=dark] .colab-df-quickchart {\n",
       "      --bg-color: #3B4455;\n",
       "      --fill-color: #D2E3FC;\n",
       "      --hover-bg-color: #434B5C;\n",
       "      --hover-fill-color: #FFFFFF;\n",
       "      --disabled-bg-color: #3B4455;\n",
       "      --disabled-fill-color: #666;\n",
       "  }\n",
       "\n",
       "  .colab-df-quickchart {\n",
       "    background-color: var(--bg-color);\n",
       "    border: none;\n",
       "    border-radius: 50%;\n",
       "    cursor: pointer;\n",
       "    display: none;\n",
       "    fill: var(--fill-color);\n",
       "    height: 32px;\n",
       "    padding: 0;\n",
       "    width: 32px;\n",
       "  }\n",
       "\n",
       "  .colab-df-quickchart:hover {\n",
       "    background-color: var(--hover-bg-color);\n",
       "    box-shadow: 0 1px 2px rgba(60, 64, 67, 0.3), 0 1px 3px 1px rgba(60, 64, 67, 0.15);\n",
       "    fill: var(--button-hover-fill-color);\n",
       "  }\n",
       "\n",
       "  .colab-df-quickchart-complete:disabled,\n",
       "  .colab-df-quickchart-complete:disabled:hover {\n",
       "    background-color: var(--disabled-bg-color);\n",
       "    fill: var(--disabled-fill-color);\n",
       "    box-shadow: none;\n",
       "  }\n",
       "\n",
       "  .colab-df-spinner {\n",
       "    border: 2px solid var(--fill-color);\n",
       "    border-color: transparent;\n",
       "    border-bottom-color: var(--fill-color);\n",
       "    animation:\n",
       "      spin 1s steps(1) infinite;\n",
       "  }\n",
       "\n",
       "  @keyframes spin {\n",
       "    0% {\n",
       "      border-color: transparent;\n",
       "      border-bottom-color: var(--fill-color);\n",
       "      border-left-color: var(--fill-color);\n",
       "    }\n",
       "    20% {\n",
       "      border-color: transparent;\n",
       "      border-left-color: var(--fill-color);\n",
       "      border-top-color: var(--fill-color);\n",
       "    }\n",
       "    30% {\n",
       "      border-color: transparent;\n",
       "      border-left-color: var(--fill-color);\n",
       "      border-top-color: var(--fill-color);\n",
       "      border-right-color: var(--fill-color);\n",
       "    }\n",
       "    40% {\n",
       "      border-color: transparent;\n",
       "      border-right-color: var(--fill-color);\n",
       "      border-top-color: var(--fill-color);\n",
       "    }\n",
       "    60% {\n",
       "      border-color: transparent;\n",
       "      border-right-color: var(--fill-color);\n",
       "    }\n",
       "    80% {\n",
       "      border-color: transparent;\n",
       "      border-right-color: var(--fill-color);\n",
       "      border-bottom-color: var(--fill-color);\n",
       "    }\n",
       "    90% {\n",
       "      border-color: transparent;\n",
       "      border-bottom-color: var(--fill-color);\n",
       "    }\n",
       "  }\n",
       "</style>\n",
       "\n",
       "  <script>\n",
       "    async function quickchart(key) {\n",
       "      const quickchartButtonEl =\n",
       "        document.querySelector('#' + key + ' button');\n",
       "      quickchartButtonEl.disabled = true;  // To prevent multiple clicks.\n",
       "      quickchartButtonEl.classList.add('colab-df-spinner');\n",
       "      try {\n",
       "        const charts = await google.colab.kernel.invokeFunction(\n",
       "            'suggestCharts', [key], {});\n",
       "      } catch (error) {\n",
       "        console.error('Error during call to suggestCharts:', error);\n",
       "      }\n",
       "      quickchartButtonEl.classList.remove('colab-df-spinner');\n",
       "      quickchartButtonEl.classList.add('colab-df-quickchart-complete');\n",
       "    }\n",
       "    (() => {\n",
       "      let quickchartButtonEl =\n",
       "        document.querySelector('#df-e8be8686-d8ce-45e3-9147-62aac896f3fd button');\n",
       "      quickchartButtonEl.style.display =\n",
       "        google.colab.kernel.accessAllowed ? 'block' : 'none';\n",
       "    })();\n",
       "  </script>\n",
       "</div>\n",
       "    </div>\n",
       "  </div>\n"
      ],
      "text/plain": [
       "                       name         action adventure  comedy     crime  drama  \\\n",
       "19             Haoxuan Wang              5         7     7.0       7.5    8.5   \n",
       "28            Lily Veronica              7       8.5     8.0       8.5    9.0   \n",
       "40             Piyush Patil              6        10     7.5      10.0   10.0   \n",
       "41                 Praneeth             10         9    10.0      11.0   12.0   \n",
       "44                  Revanth             10         9    10.0       8.0   10.0   \n",
       "47                  SOURABH              7         3     7.0      10.0   10.0   \n",
       "51              Sila MyжiHu  who knows man       idk     NaN       NaN    NaN   \n",
       "64            Vamsi Krishna              8         9     9.0       7.5    6.0   \n",
       "65  Vamsi Krishna Midathala              8       NaN     NaN       NaN    NaN   \n",
       "70                    akhil             10        10     9.0       9.0    9.0   \n",
       "74                 likhitha              8         9     5.0       9.0    7.0   \n",
       "83             tony montana              9         7     5.0  100000.0    8.5   \n",
       "\n",
       "    fantasy  scifi  horror  mystery  romance  thriller  documentary  animated  \\\n",
       "19      2.5    NaN     NaN      NaN      NaN       NaN          NaN       5.0   \n",
       "28      6.0    7.0     7.0      8.0      8.0       NaN         10.0       6.0   \n",
       "40      NaN   11.0    10.0      NaN      1.0      10.0         10.0       1.0   \n",
       "41      8.0    9.0    10.0      9.0      8.0      10.0          5.0       9.0   \n",
       "44      8.0    9.0    10.0      8.0      9.0      10.0          7.0       8.0   \n",
       "47      1.0    4.0     5.0     10.0      9.0      10.0         10.0       5.0   \n",
       "51      NaN    NaN     NaN      NaN      NaN       NaN          NaN       NaN   \n",
       "64      5.0    8.5     7.0      7.3      9.0       6.5          9.5      10.0   \n",
       "65      NaN    NaN     NaN      NaN      NaN       NaN          NaN       NaN   \n",
       "70      9.0   10.0    10.0      9.0      9.0       9.0          9.0       9.0   \n",
       "74      8.0    5.0     8.0      9.0      7.0       9.0         10.0       NaN   \n",
       "83      1.0    6.0     5.0     10.0     10.0    1000.0         10.0       NaN   \n",
       "\n",
       "                            timespent                              favorite  \\\n",
       "19             B. 2) One movie a week                          D. Spiderman   \n",
       "28             B. 2) One movie a week                                   NaN   \n",
       "40             B. 2) One movie a week                              E. Mulan   \n",
       "41  D. 4) Three to four movies a week                          C. Gladiator   \n",
       "44    E. 5) More than 4 movies a week                          D. Spiderman   \n",
       "47    E. 5) More than 4 movies a week                          C. Gladiator   \n",
       "51                                NaN                                   NaN   \n",
       "64            C. 3) Two movies a week                          D. Spiderman   \n",
       "65                                NaN                                   NaN   \n",
       "70             B. 2) One movie a week  B. Shrek\\nE. Mulan\\nG. Jurassic Park   \n",
       "74             B. 2) One movie a week                           F. Hamilton   \n",
       "83                                NaN                                   NaN   \n",
       "\n",
       "                                          personality  \n",
       "19  -Kind\\n-Confident\\n-Creative\\n-Reliable\\n-Empa...  \n",
       "28                Friendly, fun, happy, foodie, funny  \n",
       "40            Social \\nintelligent\\nSmart\\nEnthusiasm  \n",
       "41                                                NaN  \n",
       "44                                                NaN  \n",
       "47                                                NaN  \n",
       "51                                                NaN  \n",
       "64                                                NaN  \n",
       "65                                                NaN  \n",
       "70                                                NaN  \n",
       "74    friendly\\nactive \\nexpressive\\nsociable \\nhappy  \n",
       "83                                                NaN  "
      ]
     },
     "execution_count": 8,
     "metadata": {},
     "output_type": "execute_result"
    }
   ],
   "source": [
    "# print rows that have NaN values\n",
    "df[df.isna().any(axis=1)]"
   ]
  },
  {
   "cell_type": "markdown",
   "metadata": {
    "id": "SuKguBf7wjji"
   },
   "source": [
    "**Comment:** Handling NaN values for numerical features:\n",
    "\n",
    "- It looks like Sila and Vamsi only answered a single question each. Unfortunately, we will have to go ahead and drop these records. They contain no useful information.\n",
    "\n",
    "- For everyone else: we are going to assume the individuals did not answer because they do not like the movie genre. We will replace NaN values with minimum score of 1. This will be completed in a series of steps below by subsetting the numerical columns. Let's first check to see if there are any other data cleaning steps we have to do for numerical features."
   ]
  },
  {
   "cell_type": "code",
   "execution_count": null,
   "metadata": {
    "id": "_rYDBMWYnPXo"
   },
   "outputs": [],
   "source": [
    "# drop index 51 and index 65\n",
    "df.drop([df.index[51],df.index[65]], inplace=True)"
   ]
  },
  {
   "cell_type": "code",
   "execution_count": null,
   "metadata": {
    "id": "ZyXW1O2Htq04"
   },
   "outputs": [],
   "source": [
    "# change column datatypes\n",
    "df = df.astype({'action':'float','adventure':'float'})"
   ]
  },
  {
   "cell_type": "code",
   "execution_count": null,
   "metadata": {
    "colab": {
     "base_uri": "https://localhost:8080/",
     "height": 301
    },
    "id": "ZdQLHEKWq-tN",
    "outputId": "d12ea23c-47ea-45df-d9f3-c06edd0f4599"
   },
   "outputs": [
    {
     "data": {
      "text/html": [
       "\n",
       "  <div id=\"df-c877ae3f-7395-49e1-a3c7-ce7ad72b7df2\" class=\"colab-df-container\">\n",
       "    <div>\n",
       "<style scoped>\n",
       "    .dataframe tbody tr th:only-of-type {\n",
       "        vertical-align: middle;\n",
       "    }\n",
       "\n",
       "    .dataframe tbody tr th {\n",
       "        vertical-align: top;\n",
       "    }\n",
       "\n",
       "    .dataframe thead th {\n",
       "        text-align: right;\n",
       "    }\n",
       "</style>\n",
       "<table border=\"1\" class=\"dataframe\">\n",
       "  <thead>\n",
       "    <tr style=\"text-align: right;\">\n",
       "      <th></th>\n",
       "      <th>action</th>\n",
       "      <th>adventure</th>\n",
       "      <th>comedy</th>\n",
       "      <th>crime</th>\n",
       "      <th>drama</th>\n",
       "      <th>fantasy</th>\n",
       "      <th>scifi</th>\n",
       "      <th>horror</th>\n",
       "      <th>mystery</th>\n",
       "      <th>romance</th>\n",
       "      <th>thriller</th>\n",
       "      <th>documentary</th>\n",
       "      <th>animated</th>\n",
       "    </tr>\n",
       "  </thead>\n",
       "  <tbody>\n",
       "    <tr>\n",
       "      <th>count</th>\n",
       "      <td>83.000000</td>\n",
       "      <td>83.000000</td>\n",
       "      <td>83.000000</td>\n",
       "      <td>83.000000</td>\n",
       "      <td>83.000000</td>\n",
       "      <td>82.000000</td>\n",
       "      <td>82.000000</td>\n",
       "      <td>82.000000</td>\n",
       "      <td>81.000000</td>\n",
       "      <td>82.000000</td>\n",
       "      <td>81.000000</td>\n",
       "      <td>82.000000</td>\n",
       "      <td>81.000000</td>\n",
       "    </tr>\n",
       "    <tr>\n",
       "      <th>mean</th>\n",
       "      <td>8.115663</td>\n",
       "      <td>8.022651</td>\n",
       "      <td>8.423240</td>\n",
       "      <td>1212.749639</td>\n",
       "      <td>6.855301</td>\n",
       "      <td>7.271220</td>\n",
       "      <td>8.387195</td>\n",
       "      <td>6.748170</td>\n",
       "      <td>7.993827</td>\n",
       "      <td>7.184390</td>\n",
       "      <td>20.445556</td>\n",
       "      <td>6.590122</td>\n",
       "      <td>7.052963</td>\n",
       "    </tr>\n",
       "    <tr>\n",
       "      <th>std</th>\n",
       "      <td>1.811917</td>\n",
       "      <td>1.608907</td>\n",
       "      <td>1.542735</td>\n",
       "      <td>10975.545086</td>\n",
       "      <td>2.331890</td>\n",
       "      <td>2.351857</td>\n",
       "      <td>1.794819</td>\n",
       "      <td>2.947948</td>\n",
       "      <td>1.817835</td>\n",
       "      <td>3.123678</td>\n",
       "      <td>110.221002</td>\n",
       "      <td>2.497070</td>\n",
       "      <td>2.567645</td>\n",
       "    </tr>\n",
       "    <tr>\n",
       "      <th>min</th>\n",
       "      <td>2.100000</td>\n",
       "      <td>3.000000</td>\n",
       "      <td>3.000000</td>\n",
       "      <td>2.500000</td>\n",
       "      <td>2.200000</td>\n",
       "      <td>0.000000</td>\n",
       "      <td>2.000000</td>\n",
       "      <td>0.000000</td>\n",
       "      <td>1.200000</td>\n",
       "      <td>-10.000000</td>\n",
       "      <td>1.000000</td>\n",
       "      <td>1.000000</td>\n",
       "      <td>0.000000</td>\n",
       "    </tr>\n",
       "    <tr>\n",
       "      <th>25%</th>\n",
       "      <td>7.000000</td>\n",
       "      <td>7.000000</td>\n",
       "      <td>7.900000</td>\n",
       "      <td>7.250000</td>\n",
       "      <td>5.000000</td>\n",
       "      <td>6.275000</td>\n",
       "      <td>8.000000</td>\n",
       "      <td>5.000000</td>\n",
       "      <td>7.500000</td>\n",
       "      <td>6.125000</td>\n",
       "      <td>7.800000</td>\n",
       "      <td>5.000000</td>\n",
       "      <td>5.000000</td>\n",
       "    </tr>\n",
       "    <tr>\n",
       "      <th>50%</th>\n",
       "      <td>8.200000</td>\n",
       "      <td>8.300000</td>\n",
       "      <td>8.900000</td>\n",
       "      <td>8.500000</td>\n",
       "      <td>7.000000</td>\n",
       "      <td>7.750000</td>\n",
       "      <td>8.800000</td>\n",
       "      <td>7.550000</td>\n",
       "      <td>8.250000</td>\n",
       "      <td>7.850000</td>\n",
       "      <td>9.000000</td>\n",
       "      <td>7.000000</td>\n",
       "      <td>7.900000</td>\n",
       "    </tr>\n",
       "    <tr>\n",
       "      <th>75%</th>\n",
       "      <td>9.900000</td>\n",
       "      <td>9.000000</td>\n",
       "      <td>9.950000</td>\n",
       "      <td>9.900000</td>\n",
       "      <td>8.550000</td>\n",
       "      <td>9.000000</td>\n",
       "      <td>9.875000</td>\n",
       "      <td>9.000000</td>\n",
       "      <td>9.000000</td>\n",
       "      <td>9.425000</td>\n",
       "      <td>10.000000</td>\n",
       "      <td>8.150000</td>\n",
       "      <td>9.000000</td>\n",
       "    </tr>\n",
       "    <tr>\n",
       "      <th>max</th>\n",
       "      <td>10.000000</td>\n",
       "      <td>10.100000</td>\n",
       "      <td>10.000000</td>\n",
       "      <td>100000.000000</td>\n",
       "      <td>12.000000</td>\n",
       "      <td>10.000000</td>\n",
       "      <td>11.000000</td>\n",
       "      <td>10.000000</td>\n",
       "      <td>10.000000</td>\n",
       "      <td>10.000000</td>\n",
       "      <td>1000.000000</td>\n",
       "      <td>10.000000</td>\n",
       "      <td>10.500000</td>\n",
       "    </tr>\n",
       "  </tbody>\n",
       "</table>\n",
       "</div>\n",
       "    <div class=\"colab-df-buttons\">\n",
       "\n",
       "  <div class=\"colab-df-container\">\n",
       "    <button class=\"colab-df-convert\" onclick=\"convertToInteractive('df-c877ae3f-7395-49e1-a3c7-ce7ad72b7df2')\"\n",
       "            title=\"Convert this dataframe to an interactive table.\"\n",
       "            style=\"display:none;\">\n",
       "\n",
       "  <svg xmlns=\"http://www.w3.org/2000/svg\" height=\"24px\" viewBox=\"0 -960 960 960\">\n",
       "    <path d=\"M120-120v-720h720v720H120Zm60-500h600v-160H180v160Zm220 220h160v-160H400v160Zm0 220h160v-160H400v160ZM180-400h160v-160H180v160Zm440 0h160v-160H620v160ZM180-180h160v-160H180v160Zm440 0h160v-160H620v160Z\"/>\n",
       "  </svg>\n",
       "    </button>\n",
       "\n",
       "  <style>\n",
       "    .colab-df-container {\n",
       "      display:flex;\n",
       "      gap: 12px;\n",
       "    }\n",
       "\n",
       "    .colab-df-convert {\n",
       "      background-color: #E8F0FE;\n",
       "      border: none;\n",
       "      border-radius: 50%;\n",
       "      cursor: pointer;\n",
       "      display: none;\n",
       "      fill: #1967D2;\n",
       "      height: 32px;\n",
       "      padding: 0 0 0 0;\n",
       "      width: 32px;\n",
       "    }\n",
       "\n",
       "    .colab-df-convert:hover {\n",
       "      background-color: #E2EBFA;\n",
       "      box-shadow: 0px 1px 2px rgba(60, 64, 67, 0.3), 0px 1px 3px 1px rgba(60, 64, 67, 0.15);\n",
       "      fill: #174EA6;\n",
       "    }\n",
       "\n",
       "    .colab-df-buttons div {\n",
       "      margin-bottom: 4px;\n",
       "    }\n",
       "\n",
       "    [theme=dark] .colab-df-convert {\n",
       "      background-color: #3B4455;\n",
       "      fill: #D2E3FC;\n",
       "    }\n",
       "\n",
       "    [theme=dark] .colab-df-convert:hover {\n",
       "      background-color: #434B5C;\n",
       "      box-shadow: 0px 1px 3px 1px rgba(0, 0, 0, 0.15);\n",
       "      filter: drop-shadow(0px 1px 2px rgba(0, 0, 0, 0.3));\n",
       "      fill: #FFFFFF;\n",
       "    }\n",
       "  </style>\n",
       "\n",
       "    <script>\n",
       "      const buttonEl =\n",
       "        document.querySelector('#df-c877ae3f-7395-49e1-a3c7-ce7ad72b7df2 button.colab-df-convert');\n",
       "      buttonEl.style.display =\n",
       "        google.colab.kernel.accessAllowed ? 'block' : 'none';\n",
       "\n",
       "      async function convertToInteractive(key) {\n",
       "        const element = document.querySelector('#df-c877ae3f-7395-49e1-a3c7-ce7ad72b7df2');\n",
       "        const dataTable =\n",
       "          await google.colab.kernel.invokeFunction('convertToInteractive',\n",
       "                                                    [key], {});\n",
       "        if (!dataTable) return;\n",
       "\n",
       "        const docLinkHtml = 'Like what you see? Visit the ' +\n",
       "          '<a target=\"_blank\" href=https://colab.research.google.com/notebooks/data_table.ipynb>data table notebook</a>'\n",
       "          + ' to learn more about interactive tables.';\n",
       "        element.innerHTML = '';\n",
       "        dataTable['output_type'] = 'display_data';\n",
       "        await google.colab.output.renderOutput(dataTable, element);\n",
       "        const docLink = document.createElement('div');\n",
       "        docLink.innerHTML = docLinkHtml;\n",
       "        element.appendChild(docLink);\n",
       "      }\n",
       "    </script>\n",
       "  </div>\n",
       "\n",
       "\n",
       "<div id=\"df-42092cdc-28f2-408c-bf16-e9dcb3d05c32\">\n",
       "  <button class=\"colab-df-quickchart\" onclick=\"quickchart('df-42092cdc-28f2-408c-bf16-e9dcb3d05c32')\"\n",
       "            title=\"Suggest charts.\"\n",
       "            style=\"display:none;\">\n",
       "\n",
       "<svg xmlns=\"http://www.w3.org/2000/svg\" height=\"24px\"viewBox=\"0 0 24 24\"\n",
       "     width=\"24px\">\n",
       "    <g>\n",
       "        <path d=\"M19 3H5c-1.1 0-2 .9-2 2v14c0 1.1.9 2 2 2h14c1.1 0 2-.9 2-2V5c0-1.1-.9-2-2-2zM9 17H7v-7h2v7zm4 0h-2V7h2v10zm4 0h-2v-4h2v4z\"/>\n",
       "    </g>\n",
       "</svg>\n",
       "  </button>\n",
       "\n",
       "<style>\n",
       "  .colab-df-quickchart {\n",
       "      --bg-color: #E8F0FE;\n",
       "      --fill-color: #1967D2;\n",
       "      --hover-bg-color: #E2EBFA;\n",
       "      --hover-fill-color: #174EA6;\n",
       "      --disabled-fill-color: #AAA;\n",
       "      --disabled-bg-color: #DDD;\n",
       "  }\n",
       "\n",
       "  [theme=dark] .colab-df-quickchart {\n",
       "      --bg-color: #3B4455;\n",
       "      --fill-color: #D2E3FC;\n",
       "      --hover-bg-color: #434B5C;\n",
       "      --hover-fill-color: #FFFFFF;\n",
       "      --disabled-bg-color: #3B4455;\n",
       "      --disabled-fill-color: #666;\n",
       "  }\n",
       "\n",
       "  .colab-df-quickchart {\n",
       "    background-color: var(--bg-color);\n",
       "    border: none;\n",
       "    border-radius: 50%;\n",
       "    cursor: pointer;\n",
       "    display: none;\n",
       "    fill: var(--fill-color);\n",
       "    height: 32px;\n",
       "    padding: 0;\n",
       "    width: 32px;\n",
       "  }\n",
       "\n",
       "  .colab-df-quickchart:hover {\n",
       "    background-color: var(--hover-bg-color);\n",
       "    box-shadow: 0 1px 2px rgba(60, 64, 67, 0.3), 0 1px 3px 1px rgba(60, 64, 67, 0.15);\n",
       "    fill: var(--button-hover-fill-color);\n",
       "  }\n",
       "\n",
       "  .colab-df-quickchart-complete:disabled,\n",
       "  .colab-df-quickchart-complete:disabled:hover {\n",
       "    background-color: var(--disabled-bg-color);\n",
       "    fill: var(--disabled-fill-color);\n",
       "    box-shadow: none;\n",
       "  }\n",
       "\n",
       "  .colab-df-spinner {\n",
       "    border: 2px solid var(--fill-color);\n",
       "    border-color: transparent;\n",
       "    border-bottom-color: var(--fill-color);\n",
       "    animation:\n",
       "      spin 1s steps(1) infinite;\n",
       "  }\n",
       "\n",
       "  @keyframes spin {\n",
       "    0% {\n",
       "      border-color: transparent;\n",
       "      border-bottom-color: var(--fill-color);\n",
       "      border-left-color: var(--fill-color);\n",
       "    }\n",
       "    20% {\n",
       "      border-color: transparent;\n",
       "      border-left-color: var(--fill-color);\n",
       "      border-top-color: var(--fill-color);\n",
       "    }\n",
       "    30% {\n",
       "      border-color: transparent;\n",
       "      border-left-color: var(--fill-color);\n",
       "      border-top-color: var(--fill-color);\n",
       "      border-right-color: var(--fill-color);\n",
       "    }\n",
       "    40% {\n",
       "      border-color: transparent;\n",
       "      border-right-color: var(--fill-color);\n",
       "      border-top-color: var(--fill-color);\n",
       "    }\n",
       "    60% {\n",
       "      border-color: transparent;\n",
       "      border-right-color: var(--fill-color);\n",
       "    }\n",
       "    80% {\n",
       "      border-color: transparent;\n",
       "      border-right-color: var(--fill-color);\n",
       "      border-bottom-color: var(--fill-color);\n",
       "    }\n",
       "    90% {\n",
       "      border-color: transparent;\n",
       "      border-bottom-color: var(--fill-color);\n",
       "    }\n",
       "  }\n",
       "</style>\n",
       "\n",
       "  <script>\n",
       "    async function quickchart(key) {\n",
       "      const quickchartButtonEl =\n",
       "        document.querySelector('#' + key + ' button');\n",
       "      quickchartButtonEl.disabled = true;  // To prevent multiple clicks.\n",
       "      quickchartButtonEl.classList.add('colab-df-spinner');\n",
       "      try {\n",
       "        const charts = await google.colab.kernel.invokeFunction(\n",
       "            'suggestCharts', [key], {});\n",
       "      } catch (error) {\n",
       "        console.error('Error during call to suggestCharts:', error);\n",
       "      }\n",
       "      quickchartButtonEl.classList.remove('colab-df-spinner');\n",
       "      quickchartButtonEl.classList.add('colab-df-quickchart-complete');\n",
       "    }\n",
       "    (() => {\n",
       "      let quickchartButtonEl =\n",
       "        document.querySelector('#df-42092cdc-28f2-408c-bf16-e9dcb3d05c32 button');\n",
       "      quickchartButtonEl.style.display =\n",
       "        google.colab.kernel.accessAllowed ? 'block' : 'none';\n",
       "    })();\n",
       "  </script>\n",
       "</div>\n",
       "    </div>\n",
       "  </div>\n"
      ],
      "text/plain": [
       "          action  adventure     comedy          crime      drama    fantasy  \\\n",
       "count  83.000000  83.000000  83.000000      83.000000  83.000000  82.000000   \n",
       "mean    8.115663   8.022651   8.423240    1212.749639   6.855301   7.271220   \n",
       "std     1.811917   1.608907   1.542735   10975.545086   2.331890   2.351857   \n",
       "min     2.100000   3.000000   3.000000       2.500000   2.200000   0.000000   \n",
       "25%     7.000000   7.000000   7.900000       7.250000   5.000000   6.275000   \n",
       "50%     8.200000   8.300000   8.900000       8.500000   7.000000   7.750000   \n",
       "75%     9.900000   9.000000   9.950000       9.900000   8.550000   9.000000   \n",
       "max    10.000000  10.100000  10.000000  100000.000000  12.000000  10.000000   \n",
       "\n",
       "           scifi     horror    mystery    romance     thriller  documentary  \\\n",
       "count  82.000000  82.000000  81.000000  82.000000    81.000000    82.000000   \n",
       "mean    8.387195   6.748170   7.993827   7.184390    20.445556     6.590122   \n",
       "std     1.794819   2.947948   1.817835   3.123678   110.221002     2.497070   \n",
       "min     2.000000   0.000000   1.200000 -10.000000     1.000000     1.000000   \n",
       "25%     8.000000   5.000000   7.500000   6.125000     7.800000     5.000000   \n",
       "50%     8.800000   7.550000   8.250000   7.850000     9.000000     7.000000   \n",
       "75%     9.875000   9.000000   9.000000   9.425000    10.000000     8.150000   \n",
       "max    11.000000  10.000000  10.000000  10.000000  1000.000000    10.000000   \n",
       "\n",
       "        animated  \n",
       "count  81.000000  \n",
       "mean    7.052963  \n",
       "std     2.567645  \n",
       "min     0.000000  \n",
       "25%     5.000000  \n",
       "50%     7.900000  \n",
       "75%     9.000000  \n",
       "max    10.500000  "
      ]
     },
     "execution_count": 11,
     "metadata": {},
     "output_type": "execute_result"
    }
   ],
   "source": [
    "df.describe()"
   ]
  },
  {
   "cell_type": "markdown",
   "metadata": {
    "id": "4rMxWHzFr2bz"
   },
   "source": [
    "**Comment:** The responses should be on a scale from 1 to 10. In other words, the minimum lowest scoring should be 1 and maximum highest scoring should be 10. However, in the printout above, we see negative and 0 values and values that surpass 10."
   ]
  },
  {
   "cell_type": "code",
   "execution_count": null,
   "metadata": {
    "id": "SfPKnXkYui8q"
   },
   "outputs": [],
   "source": [
    "# subset numerical columns\n",
    "cols = ['action','adventure','comedy','crime','drama','fantasy','scifi','horror','mystery','romance','thriller','documentary','animated']\n",
    "df_sub = df[cols]\n",
    "\n",
    "# set min = 1 and max = 10\n",
    "df_sub[df_sub <= 0] = 1\n",
    "df_sub[df_sub > 10] = 10\n",
    "\n",
    "# replace NaN with lowest scoring of 1\n",
    "df_sub.fillna(1, inplace=True)\n",
    "\n",
    "# add back cleaned numerical columns to original df\n",
    "df[cols] = df_sub"
   ]
  },
  {
   "cell_type": "code",
   "execution_count": null,
   "metadata": {
    "colab": {
     "base_uri": "https://localhost:8080/",
     "height": 301
    },
    "id": "VnMb9m3rweJA",
    "outputId": "ef3dc672-b954-432c-aba8-a56870d9a245"
   },
   "outputs": [
    {
     "data": {
      "text/html": [
       "\n",
       "  <div id=\"df-ca0562a5-09da-4d4e-ba85-b97faf450367\" class=\"colab-df-container\">\n",
       "    <div>\n",
       "<style scoped>\n",
       "    .dataframe tbody tr th:only-of-type {\n",
       "        vertical-align: middle;\n",
       "    }\n",
       "\n",
       "    .dataframe tbody tr th {\n",
       "        vertical-align: top;\n",
       "    }\n",
       "\n",
       "    .dataframe thead th {\n",
       "        text-align: right;\n",
       "    }\n",
       "</style>\n",
       "<table border=\"1\" class=\"dataframe\">\n",
       "  <thead>\n",
       "    <tr style=\"text-align: right;\">\n",
       "      <th></th>\n",
       "      <th>action</th>\n",
       "      <th>adventure</th>\n",
       "      <th>comedy</th>\n",
       "      <th>crime</th>\n",
       "      <th>drama</th>\n",
       "      <th>fantasy</th>\n",
       "      <th>scifi</th>\n",
       "      <th>horror</th>\n",
       "      <th>mystery</th>\n",
       "      <th>romance</th>\n",
       "      <th>thriller</th>\n",
       "      <th>documentary</th>\n",
       "      <th>animated</th>\n",
       "    </tr>\n",
       "  </thead>\n",
       "  <tbody>\n",
       "    <tr>\n",
       "      <th>count</th>\n",
       "      <td>83.000000</td>\n",
       "      <td>83.000000</td>\n",
       "      <td>83.000000</td>\n",
       "      <td>83.000000</td>\n",
       "      <td>83.000000</td>\n",
       "      <td>83.000000</td>\n",
       "      <td>83.000000</td>\n",
       "      <td>83.000000</td>\n",
       "      <td>83.000000</td>\n",
       "      <td>83.000000</td>\n",
       "      <td>83.000000</td>\n",
       "      <td>83.000000</td>\n",
       "      <td>83.000000</td>\n",
       "    </tr>\n",
       "    <tr>\n",
       "      <th>mean</th>\n",
       "      <td>8.115663</td>\n",
       "      <td>8.021446</td>\n",
       "      <td>8.423240</td>\n",
       "      <td>8.038795</td>\n",
       "      <td>6.831205</td>\n",
       "      <td>7.207711</td>\n",
       "      <td>8.280120</td>\n",
       "      <td>6.703011</td>\n",
       "      <td>7.825301</td>\n",
       "      <td>7.242410</td>\n",
       "      <td>8.049277</td>\n",
       "      <td>6.522771</td>\n",
       "      <td>6.913133</td>\n",
       "    </tr>\n",
       "    <tr>\n",
       "      <th>std</th>\n",
       "      <td>1.811917</td>\n",
       "      <td>1.607370</td>\n",
       "      <td>1.542735</td>\n",
       "      <td>1.941744</td>\n",
       "      <td>2.288000</td>\n",
       "      <td>2.402947</td>\n",
       "      <td>1.939518</td>\n",
       "      <td>2.946270</td>\n",
       "      <td>2.094802</td>\n",
       "      <td>2.639422</td>\n",
       "      <td>2.413311</td>\n",
       "      <td>2.556525</td>\n",
       "      <td>2.665898</td>\n",
       "    </tr>\n",
       "    <tr>\n",
       "      <th>min</th>\n",
       "      <td>2.100000</td>\n",
       "      <td>3.000000</td>\n",
       "      <td>3.000000</td>\n",
       "      <td>2.500000</td>\n",
       "      <td>2.200000</td>\n",
       "      <td>1.000000</td>\n",
       "      <td>1.000000</td>\n",
       "      <td>1.000000</td>\n",
       "      <td>1.000000</td>\n",
       "      <td>1.000000</td>\n",
       "      <td>1.000000</td>\n",
       "      <td>1.000000</td>\n",
       "      <td>0.800000</td>\n",
       "    </tr>\n",
       "    <tr>\n",
       "      <th>25%</th>\n",
       "      <td>7.000000</td>\n",
       "      <td>7.000000</td>\n",
       "      <td>7.900000</td>\n",
       "      <td>7.250000</td>\n",
       "      <td>5.000000</td>\n",
       "      <td>6.100000</td>\n",
       "      <td>8.000000</td>\n",
       "      <td>4.775000</td>\n",
       "      <td>7.150000</td>\n",
       "      <td>6.050000</td>\n",
       "      <td>7.450000</td>\n",
       "      <td>5.000000</td>\n",
       "      <td>5.000000</td>\n",
       "    </tr>\n",
       "    <tr>\n",
       "      <th>50%</th>\n",
       "      <td>8.200000</td>\n",
       "      <td>8.300000</td>\n",
       "      <td>8.900000</td>\n",
       "      <td>8.500000</td>\n",
       "      <td>7.000000</td>\n",
       "      <td>7.500000</td>\n",
       "      <td>8.800000</td>\n",
       "      <td>7.500000</td>\n",
       "      <td>8.250000</td>\n",
       "      <td>7.700000</td>\n",
       "      <td>9.000000</td>\n",
       "      <td>7.000000</td>\n",
       "      <td>7.800000</td>\n",
       "    </tr>\n",
       "    <tr>\n",
       "      <th>75%</th>\n",
       "      <td>9.900000</td>\n",
       "      <td>9.000000</td>\n",
       "      <td>9.950000</td>\n",
       "      <td>9.900000</td>\n",
       "      <td>8.550000</td>\n",
       "      <td>9.000000</td>\n",
       "      <td>9.850000</td>\n",
       "      <td>9.000000</td>\n",
       "      <td>9.000000</td>\n",
       "      <td>9.350000</td>\n",
       "      <td>10.000000</td>\n",
       "      <td>8.100000</td>\n",
       "      <td>9.000000</td>\n",
       "    </tr>\n",
       "    <tr>\n",
       "      <th>max</th>\n",
       "      <td>10.000000</td>\n",
       "      <td>10.000000</td>\n",
       "      <td>10.000000</td>\n",
       "      <td>10.000000</td>\n",
       "      <td>10.000000</td>\n",
       "      <td>10.000000</td>\n",
       "      <td>10.000000</td>\n",
       "      <td>10.000000</td>\n",
       "      <td>10.000000</td>\n",
       "      <td>10.000000</td>\n",
       "      <td>10.000000</td>\n",
       "      <td>10.000000</td>\n",
       "      <td>10.000000</td>\n",
       "    </tr>\n",
       "  </tbody>\n",
       "</table>\n",
       "</div>\n",
       "    <div class=\"colab-df-buttons\">\n",
       "\n",
       "  <div class=\"colab-df-container\">\n",
       "    <button class=\"colab-df-convert\" onclick=\"convertToInteractive('df-ca0562a5-09da-4d4e-ba85-b97faf450367')\"\n",
       "            title=\"Convert this dataframe to an interactive table.\"\n",
       "            style=\"display:none;\">\n",
       "\n",
       "  <svg xmlns=\"http://www.w3.org/2000/svg\" height=\"24px\" viewBox=\"0 -960 960 960\">\n",
       "    <path d=\"M120-120v-720h720v720H120Zm60-500h600v-160H180v160Zm220 220h160v-160H400v160Zm0 220h160v-160H400v160ZM180-400h160v-160H180v160Zm440 0h160v-160H620v160ZM180-180h160v-160H180v160Zm440 0h160v-160H620v160Z\"/>\n",
       "  </svg>\n",
       "    </button>\n",
       "\n",
       "  <style>\n",
       "    .colab-df-container {\n",
       "      display:flex;\n",
       "      gap: 12px;\n",
       "    }\n",
       "\n",
       "    .colab-df-convert {\n",
       "      background-color: #E8F0FE;\n",
       "      border: none;\n",
       "      border-radius: 50%;\n",
       "      cursor: pointer;\n",
       "      display: none;\n",
       "      fill: #1967D2;\n",
       "      height: 32px;\n",
       "      padding: 0 0 0 0;\n",
       "      width: 32px;\n",
       "    }\n",
       "\n",
       "    .colab-df-convert:hover {\n",
       "      background-color: #E2EBFA;\n",
       "      box-shadow: 0px 1px 2px rgba(60, 64, 67, 0.3), 0px 1px 3px 1px rgba(60, 64, 67, 0.15);\n",
       "      fill: #174EA6;\n",
       "    }\n",
       "\n",
       "    .colab-df-buttons div {\n",
       "      margin-bottom: 4px;\n",
       "    }\n",
       "\n",
       "    [theme=dark] .colab-df-convert {\n",
       "      background-color: #3B4455;\n",
       "      fill: #D2E3FC;\n",
       "    }\n",
       "\n",
       "    [theme=dark] .colab-df-convert:hover {\n",
       "      background-color: #434B5C;\n",
       "      box-shadow: 0px 1px 3px 1px rgba(0, 0, 0, 0.15);\n",
       "      filter: drop-shadow(0px 1px 2px rgba(0, 0, 0, 0.3));\n",
       "      fill: #FFFFFF;\n",
       "    }\n",
       "  </style>\n",
       "\n",
       "    <script>\n",
       "      const buttonEl =\n",
       "        document.querySelector('#df-ca0562a5-09da-4d4e-ba85-b97faf450367 button.colab-df-convert');\n",
       "      buttonEl.style.display =\n",
       "        google.colab.kernel.accessAllowed ? 'block' : 'none';\n",
       "\n",
       "      async function convertToInteractive(key) {\n",
       "        const element = document.querySelector('#df-ca0562a5-09da-4d4e-ba85-b97faf450367');\n",
       "        const dataTable =\n",
       "          await google.colab.kernel.invokeFunction('convertToInteractive',\n",
       "                                                    [key], {});\n",
       "        if (!dataTable) return;\n",
       "\n",
       "        const docLinkHtml = 'Like what you see? Visit the ' +\n",
       "          '<a target=\"_blank\" href=https://colab.research.google.com/notebooks/data_table.ipynb>data table notebook</a>'\n",
       "          + ' to learn more about interactive tables.';\n",
       "        element.innerHTML = '';\n",
       "        dataTable['output_type'] = 'display_data';\n",
       "        await google.colab.output.renderOutput(dataTable, element);\n",
       "        const docLink = document.createElement('div');\n",
       "        docLink.innerHTML = docLinkHtml;\n",
       "        element.appendChild(docLink);\n",
       "      }\n",
       "    </script>\n",
       "  </div>\n",
       "\n",
       "\n",
       "<div id=\"df-cfb50bac-f492-4981-be14-73dbd003e637\">\n",
       "  <button class=\"colab-df-quickchart\" onclick=\"quickchart('df-cfb50bac-f492-4981-be14-73dbd003e637')\"\n",
       "            title=\"Suggest charts.\"\n",
       "            style=\"display:none;\">\n",
       "\n",
       "<svg xmlns=\"http://www.w3.org/2000/svg\" height=\"24px\"viewBox=\"0 0 24 24\"\n",
       "     width=\"24px\">\n",
       "    <g>\n",
       "        <path d=\"M19 3H5c-1.1 0-2 .9-2 2v14c0 1.1.9 2 2 2h14c1.1 0 2-.9 2-2V5c0-1.1-.9-2-2-2zM9 17H7v-7h2v7zm4 0h-2V7h2v10zm4 0h-2v-4h2v4z\"/>\n",
       "    </g>\n",
       "</svg>\n",
       "  </button>\n",
       "\n",
       "<style>\n",
       "  .colab-df-quickchart {\n",
       "      --bg-color: #E8F0FE;\n",
       "      --fill-color: #1967D2;\n",
       "      --hover-bg-color: #E2EBFA;\n",
       "      --hover-fill-color: #174EA6;\n",
       "      --disabled-fill-color: #AAA;\n",
       "      --disabled-bg-color: #DDD;\n",
       "  }\n",
       "\n",
       "  [theme=dark] .colab-df-quickchart {\n",
       "      --bg-color: #3B4455;\n",
       "      --fill-color: #D2E3FC;\n",
       "      --hover-bg-color: #434B5C;\n",
       "      --hover-fill-color: #FFFFFF;\n",
       "      --disabled-bg-color: #3B4455;\n",
       "      --disabled-fill-color: #666;\n",
       "  }\n",
       "\n",
       "  .colab-df-quickchart {\n",
       "    background-color: var(--bg-color);\n",
       "    border: none;\n",
       "    border-radius: 50%;\n",
       "    cursor: pointer;\n",
       "    display: none;\n",
       "    fill: var(--fill-color);\n",
       "    height: 32px;\n",
       "    padding: 0;\n",
       "    width: 32px;\n",
       "  }\n",
       "\n",
       "  .colab-df-quickchart:hover {\n",
       "    background-color: var(--hover-bg-color);\n",
       "    box-shadow: 0 1px 2px rgba(60, 64, 67, 0.3), 0 1px 3px 1px rgba(60, 64, 67, 0.15);\n",
       "    fill: var(--button-hover-fill-color);\n",
       "  }\n",
       "\n",
       "  .colab-df-quickchart-complete:disabled,\n",
       "  .colab-df-quickchart-complete:disabled:hover {\n",
       "    background-color: var(--disabled-bg-color);\n",
       "    fill: var(--disabled-fill-color);\n",
       "    box-shadow: none;\n",
       "  }\n",
       "\n",
       "  .colab-df-spinner {\n",
       "    border: 2px solid var(--fill-color);\n",
       "    border-color: transparent;\n",
       "    border-bottom-color: var(--fill-color);\n",
       "    animation:\n",
       "      spin 1s steps(1) infinite;\n",
       "  }\n",
       "\n",
       "  @keyframes spin {\n",
       "    0% {\n",
       "      border-color: transparent;\n",
       "      border-bottom-color: var(--fill-color);\n",
       "      border-left-color: var(--fill-color);\n",
       "    }\n",
       "    20% {\n",
       "      border-color: transparent;\n",
       "      border-left-color: var(--fill-color);\n",
       "      border-top-color: var(--fill-color);\n",
       "    }\n",
       "    30% {\n",
       "      border-color: transparent;\n",
       "      border-left-color: var(--fill-color);\n",
       "      border-top-color: var(--fill-color);\n",
       "      border-right-color: var(--fill-color);\n",
       "    }\n",
       "    40% {\n",
       "      border-color: transparent;\n",
       "      border-right-color: var(--fill-color);\n",
       "      border-top-color: var(--fill-color);\n",
       "    }\n",
       "    60% {\n",
       "      border-color: transparent;\n",
       "      border-right-color: var(--fill-color);\n",
       "    }\n",
       "    80% {\n",
       "      border-color: transparent;\n",
       "      border-right-color: var(--fill-color);\n",
       "      border-bottom-color: var(--fill-color);\n",
       "    }\n",
       "    90% {\n",
       "      border-color: transparent;\n",
       "      border-bottom-color: var(--fill-color);\n",
       "    }\n",
       "  }\n",
       "</style>\n",
       "\n",
       "  <script>\n",
       "    async function quickchart(key) {\n",
       "      const quickchartButtonEl =\n",
       "        document.querySelector('#' + key + ' button');\n",
       "      quickchartButtonEl.disabled = true;  // To prevent multiple clicks.\n",
       "      quickchartButtonEl.classList.add('colab-df-spinner');\n",
       "      try {\n",
       "        const charts = await google.colab.kernel.invokeFunction(\n",
       "            'suggestCharts', [key], {});\n",
       "      } catch (error) {\n",
       "        console.error('Error during call to suggestCharts:', error);\n",
       "      }\n",
       "      quickchartButtonEl.classList.remove('colab-df-spinner');\n",
       "      quickchartButtonEl.classList.add('colab-df-quickchart-complete');\n",
       "    }\n",
       "    (() => {\n",
       "      let quickchartButtonEl =\n",
       "        document.querySelector('#df-cfb50bac-f492-4981-be14-73dbd003e637 button');\n",
       "      quickchartButtonEl.style.display =\n",
       "        google.colab.kernel.accessAllowed ? 'block' : 'none';\n",
       "    })();\n",
       "  </script>\n",
       "</div>\n",
       "    </div>\n",
       "  </div>\n"
      ],
      "text/plain": [
       "          action  adventure     comedy      crime      drama    fantasy  \\\n",
       "count  83.000000  83.000000  83.000000  83.000000  83.000000  83.000000   \n",
       "mean    8.115663   8.021446   8.423240   8.038795   6.831205   7.207711   \n",
       "std     1.811917   1.607370   1.542735   1.941744   2.288000   2.402947   \n",
       "min     2.100000   3.000000   3.000000   2.500000   2.200000   1.000000   \n",
       "25%     7.000000   7.000000   7.900000   7.250000   5.000000   6.100000   \n",
       "50%     8.200000   8.300000   8.900000   8.500000   7.000000   7.500000   \n",
       "75%     9.900000   9.000000   9.950000   9.900000   8.550000   9.000000   \n",
       "max    10.000000  10.000000  10.000000  10.000000  10.000000  10.000000   \n",
       "\n",
       "           scifi     horror    mystery    romance   thriller  documentary  \\\n",
       "count  83.000000  83.000000  83.000000  83.000000  83.000000    83.000000   \n",
       "mean    8.280120   6.703011   7.825301   7.242410   8.049277     6.522771   \n",
       "std     1.939518   2.946270   2.094802   2.639422   2.413311     2.556525   \n",
       "min     1.000000   1.000000   1.000000   1.000000   1.000000     1.000000   \n",
       "25%     8.000000   4.775000   7.150000   6.050000   7.450000     5.000000   \n",
       "50%     8.800000   7.500000   8.250000   7.700000   9.000000     7.000000   \n",
       "75%     9.850000   9.000000   9.000000   9.350000  10.000000     8.100000   \n",
       "max    10.000000  10.000000  10.000000  10.000000  10.000000    10.000000   \n",
       "\n",
       "        animated  \n",
       "count  83.000000  \n",
       "mean    6.913133  \n",
       "std     2.665898  \n",
       "min     0.800000  \n",
       "25%     5.000000  \n",
       "50%     7.800000  \n",
       "75%     9.000000  \n",
       "max    10.000000  "
      ]
     },
     "execution_count": 13,
     "metadata": {},
     "output_type": "execute_result"
    }
   ],
   "source": [
    "# check min and max values again\n",
    "df.describe()"
   ]
  },
  {
   "cell_type": "markdown",
   "metadata": {
    "id": "Wy_jJyXZrqb5"
   },
   "source": [
    "**Comment:** Beautiful. The min and max values of each column are satisfactory."
   ]
  },
  {
   "cell_type": "code",
   "execution_count": null,
   "metadata": {
    "colab": {
     "base_uri": "https://localhost:8080/",
     "height": 707
    },
    "id": "XOnyxGwIzdP2",
    "outputId": "fb7e4006-9c8e-4667-d925-4c21e984180a"
   },
   "outputs": [
    {
     "data": {
      "image/png": "[encoded data removed]",
      "text/plain": [
       "<Figure size 1000x700 with 2 Axes>"
      ]
     },
     "metadata": {},
     "output_type": "display_data"
    }
   ],
   "source": [
    "# plot correlations\n",
    "plt.figure(figsize=(10,7))\n",
    "plt.title('Heatmap: Feature Correlations')\n",
    "sns.heatmap(round(df.corr(),2), annot=True)\n",
    "plt.tight_layout();"
   ]
  },
  {
   "cell_type": "markdown",
   "metadata": {
    "id": "__2jsfDAx30h"
   },
   "source": [
    "**Comment:** From the correlation heatmap above, we can use this as well as some domaine knowledge to select 3-5 features as inputs for clustering. We will choose action, drama, horror, romance, and documentary."
   ]
  },
  {
   "cell_type": "markdown",
   "metadata": {
    "id": "7fXBfE2W5LuE"
   },
   "source": [
    "## 3. Dendrogram"
   ]
  },
  {
   "cell_type": "code",
   "execution_count": null,
   "metadata": {
    "id": "IfchVXNF5Neq"
   },
   "outputs": [],
   "source": [
    "# subset features\n",
    "df_features = df[['action','drama','horror','romance','documentary']]"
   ]
  },
  {
   "cell_type": "code",
   "execution_count": null,
   "metadata": {
    "colab": {
     "base_uri": "https://localhost:8080/",
     "height": 424
    },
    "id": "0Lts0-405u4w",
    "outputId": "2292e44a-8c83-4320-ad57-a2ca032a5c49"
   },
   "outputs": [
    {
     "data": {
      "text/html": [
       "\n",
       "  <div id=\"df-6b725257-3cb3-4734-96ca-8eb2a673bfe5\" class=\"colab-df-container\">\n",
       "    <div>\n",
       "<style scoped>\n",
       "    .dataframe tbody tr th:only-of-type {\n",
       "        vertical-align: middle;\n",
       "    }\n",
       "\n",
       "    .dataframe tbody tr th {\n",
       "        vertical-align: top;\n",
       "    }\n",
       "\n",
       "    .dataframe thead th {\n",
       "        text-align: right;\n",
       "    }\n",
       "</style>\n",
       "<table border=\"1\" class=\"dataframe\">\n",
       "  <thead>\n",
       "    <tr style=\"text-align: right;\">\n",
       "      <th></th>\n",
       "      <th>0</th>\n",
       "      <th>1</th>\n",
       "      <th>2</th>\n",
       "      <th>3</th>\n",
       "      <th>4</th>\n",
       "    </tr>\n",
       "  </thead>\n",
       "  <tbody>\n",
       "    <tr>\n",
       "      <th>0</th>\n",
       "      <td>-0.341851</td>\n",
       "      <td>1.393382</td>\n",
       "      <td>-1.776701</td>\n",
       "      <td>0.860535</td>\n",
       "      <td>-1.976631</td>\n",
       "    </tr>\n",
       "    <tr>\n",
       "      <th>1</th>\n",
       "      <td>-0.619479</td>\n",
       "      <td>-1.684657</td>\n",
       "      <td>0.784366</td>\n",
       "      <td>-2.379444</td>\n",
       "      <td>-0.599262</td>\n",
       "    </tr>\n",
       "    <tr>\n",
       "      <th>2</th>\n",
       "      <td>-1.952095</td>\n",
       "      <td>0.294083</td>\n",
       "      <td>-0.752274</td>\n",
       "      <td>-0.206752</td>\n",
       "      <td>1.171641</td>\n",
       "    </tr>\n",
       "    <tr>\n",
       "      <th>3</th>\n",
       "      <td>-0.619479</td>\n",
       "      <td>0.074223</td>\n",
       "      <td>-1.947439</td>\n",
       "      <td>-0.092400</td>\n",
       "      <td>-0.205728</td>\n",
       "    </tr>\n",
       "    <tr>\n",
       "      <th>4</th>\n",
       "      <td>-2.562877</td>\n",
       "      <td>0.030251</td>\n",
       "      <td>-0.171766</td>\n",
       "      <td>-1.235922</td>\n",
       "      <td>-1.779864</td>\n",
       "    </tr>\n",
       "    <tr>\n",
       "      <th>...</th>\n",
       "      <td>...</td>\n",
       "      <td>...</td>\n",
       "      <td>...</td>\n",
       "      <td>...</td>\n",
       "      <td>...</td>\n",
       "    </tr>\n",
       "    <tr>\n",
       "      <th>78</th>\n",
       "      <td>0.491034</td>\n",
       "      <td>0.513943</td>\n",
       "      <td>0.784366</td>\n",
       "      <td>1.051122</td>\n",
       "      <td>1.368407</td>\n",
       "    </tr>\n",
       "    <tr>\n",
       "      <th>79</th>\n",
       "      <td>1.046291</td>\n",
       "      <td>0.953662</td>\n",
       "      <td>0.784366</td>\n",
       "      <td>0.669948</td>\n",
       "      <td>0.974874</td>\n",
       "    </tr>\n",
       "    <tr>\n",
       "      <th>80</th>\n",
       "      <td>0.491034</td>\n",
       "      <td>0.513943</td>\n",
       "      <td>0.784366</td>\n",
       "      <td>1.051122</td>\n",
       "      <td>0.581340</td>\n",
       "    </tr>\n",
       "    <tr>\n",
       "      <th>81</th>\n",
       "      <td>0.491034</td>\n",
       "      <td>0.733803</td>\n",
       "      <td>-0.581537</td>\n",
       "      <td>1.051122</td>\n",
       "      <td>1.368407</td>\n",
       "    </tr>\n",
       "    <tr>\n",
       "      <th>82</th>\n",
       "      <td>0.935239</td>\n",
       "      <td>-0.409469</td>\n",
       "      <td>0.272152</td>\n",
       "      <td>0.441243</td>\n",
       "      <td>0.266513</td>\n",
       "    </tr>\n",
       "  </tbody>\n",
       "</table>\n",
       "<p>83 rows × 5 columns</p>\n",
       "</div>\n",
       "    <div class=\"colab-df-buttons\">\n",
       "\n",
       "  <div class=\"colab-df-container\">\n",
       "    <button class=\"colab-df-convert\" onclick=\"convertToInteractive('df-6b725257-3cb3-4734-96ca-8eb2a673bfe5')\"\n",
       "            title=\"Convert this dataframe to an interactive table.\"\n",
       "            style=\"display:none;\">\n",
       "\n",
       "  <svg xmlns=\"http://www.w3.org/2000/svg\" height=\"24px\" viewBox=\"0 -960 960 960\">\n",
       "    <path d=\"M120-120v-720h720v720H120Zm60-500h600v-160H180v160Zm220 220h160v-160H400v160Zm0 220h160v-160H400v160ZM180-400h160v-160H180v160Zm440 0h160v-160H620v160ZM180-180h160v-160H180v160Zm440 0h160v-160H620v160Z\"/>\n",
       "  </svg>\n",
       "    </button>\n",
       "\n",
       "  <style>\n",
       "    .colab-df-container {\n",
       "      display:flex;\n",
       "      gap: 12px;\n",
       "    }\n",
       "\n",
       "    .colab-df-convert {\n",
       "      background-color: #E8F0FE;\n",
       "      border: none;\n",
       "      border-radius: 50%;\n",
       "      cursor: pointer;\n",
       "      display: none;\n",
       "      fill: #1967D2;\n",
       "      height: 32px;\n",
       "      padding: 0 0 0 0;\n",
       "      width: 32px;\n",
       "    }\n",
       "\n",
       "    .colab-df-convert:hover {\n",
       "      background-color: #E2EBFA;\n",
       "      box-shadow: 0px 1px 2px rgba(60, 64, 67, 0.3), 0px 1px 3px 1px rgba(60, 64, 67, 0.15);\n",
       "      fill: #174EA6;\n",
       "    }\n",
       "\n",
       "    .colab-df-buttons div {\n",
       "      margin-bottom: 4px;\n",
       "    }\n",
       "\n",
       "    [theme=dark] .colab-df-convert {\n",
       "      background-color: #3B4455;\n",
       "      fill: #D2E3FC;\n",
       "    }\n",
       "\n",
       "    [theme=dark] .colab-df-convert:hover {\n",
       "      background-color: #434B5C;\n",
       "      box-shadow: 0px 1px 3px 1px rgba(0, 0, 0, 0.15);\n",
       "      filter: drop-shadow(0px 1px 2px rgba(0, 0, 0, 0.3));\n",
       "      fill: #FFFFFF;\n",
       "    }\n",
       "  </style>\n",
       "\n",
       "    <script>\n",
       "      const buttonEl =\n",
       "        document.querySelector('#df-6b725257-3cb3-4734-96ca-8eb2a673bfe5 button.colab-df-convert');\n",
       "      buttonEl.style.display =\n",
       "        google.colab.kernel.accessAllowed ? 'block' : 'none';\n",
       "\n",
       "      async function convertToInteractive(key) {\n",
       "        const element = document.querySelector('#df-6b725257-3cb3-4734-96ca-8eb2a673bfe5');\n",
       "        const dataTable =\n",
       "          await google.colab.kernel.invokeFunction('convertToInteractive',\n",
       "                                                    [key], {});\n",
       "        if (!dataTable) return;\n",
       "\n",
       "        const docLinkHtml = 'Like what you see? Visit the ' +\n",
       "          '<a target=\"_blank\" href=https://colab.research.google.com/notebooks/data_table.ipynb>data table notebook</a>'\n",
       "          + ' to learn more about interactive tables.';\n",
       "        element.innerHTML = '';\n",
       "        dataTable['output_type'] = 'display_data';\n",
       "        await google.colab.output.renderOutput(dataTable, element);\n",
       "        const docLink = document.createElement('div');\n",
       "        docLink.innerHTML = docLinkHtml;\n",
       "        element.appendChild(docLink);\n",
       "      }\n",
       "    </script>\n",
       "  </div>\n",
       "\n",
       "\n",
       "<div id=\"df-dc4afe8b-83ac-4261-8abf-818f259703c1\">\n",
       "  <button class=\"colab-df-quickchart\" onclick=\"quickchart('df-dc4afe8b-83ac-4261-8abf-818f259703c1')\"\n",
       "            title=\"Suggest charts.\"\n",
       "            style=\"display:none;\">\n",
       "\n",
       "<svg xmlns=\"http://www.w3.org/2000/svg\" height=\"24px\"viewBox=\"0 0 24 24\"\n",
       "     width=\"24px\">\n",
       "    <g>\n",
       "        <path d=\"M19 3H5c-1.1 0-2 .9-2 2v14c0 1.1.9 2 2 2h14c1.1 0 2-.9 2-2V5c0-1.1-.9-2-2-2zM9 17H7v-7h2v7zm4 0h-2V7h2v10zm4 0h-2v-4h2v4z\"/>\n",
       "    </g>\n",
       "</svg>\n",
       "  </button>\n",
       "\n",
       "<style>\n",
       "  .colab-df-quickchart {\n",
       "      --bg-color: #E8F0FE;\n",
       "      --fill-color: #1967D2;\n",
       "      --hover-bg-color: #E2EBFA;\n",
       "      --hover-fill-color: #174EA6;\n",
       "      --disabled-fill-color: #AAA;\n",
       "      --disabled-bg-color: #DDD;\n",
       "  }\n",
       "\n",
       "  [theme=dark] .colab-df-quickchart {\n",
       "      --bg-color: #3B4455;\n",
       "      --fill-color: #D2E3FC;\n",
       "      --hover-bg-color: #434B5C;\n",
       "      --hover-fill-color: #FFFFFF;\n",
       "      --disabled-bg-color: #3B4455;\n",
       "      --disabled-fill-color: #666;\n",
       "  }\n",
       "\n",
       "  .colab-df-quickchart {\n",
       "    background-color: var(--bg-color);\n",
       "    border: none;\n",
       "    border-radius: 50%;\n",
       "    cursor: pointer;\n",
       "    display: none;\n",
       "    fill: var(--fill-color);\n",
       "    height: 32px;\n",
       "    padding: 0;\n",
       "    width: 32px;\n",
       "  }\n",
       "\n",
       "  .colab-df-quickchart:hover {\n",
       "    background-color: var(--hover-bg-color);\n",
       "    box-shadow: 0 1px 2px rgba(60, 64, 67, 0.3), 0 1px 3px 1px rgba(60, 64, 67, 0.15);\n",
       "    fill: var(--button-hover-fill-color);\n",
       "  }\n",
       "\n",
       "  .colab-df-quickchart-complete:disabled,\n",
       "  .colab-df-quickchart-complete:disabled:hover {\n",
       "    background-color: var(--disabled-bg-color);\n",
       "    fill: var(--disabled-fill-color);\n",
       "    box-shadow: none;\n",
       "  }\n",
       "\n",
       "  .colab-df-spinner {\n",
       "    border: 2px solid var(--fill-color);\n",
       "    border-color: transparent;\n",
       "    border-bottom-color: var(--fill-color);\n",
       "    animation:\n",
       "      spin 1s steps(1) infinite;\n",
       "  }\n",
       "\n",
       "  @keyframes spin {\n",
       "    0% {\n",
       "      border-color: transparent;\n",
       "      border-bottom-color: var(--fill-color);\n",
       "      border-left-color: var(--fill-color);\n",
       "    }\n",
       "    20% {\n",
       "      border-color: transparent;\n",
       "      border-left-color: var(--fill-color);\n",
       "      border-top-color: var(--fill-color);\n",
       "    }\n",
       "    30% {\n",
       "      border-color: transparent;\n",
       "      border-left-color: var(--fill-color);\n",
       "      border-top-color: var(--fill-color);\n",
       "      border-right-color: var(--fill-color);\n",
       "    }\n",
       "    40% {\n",
       "      border-color: transparent;\n",
       "      border-right-color: var(--fill-color);\n",
       "      border-top-color: var(--fill-color);\n",
       "    }\n",
       "    60% {\n",
       "      border-color: transparent;\n",
       "      border-right-color: var(--fill-color);\n",
       "    }\n",
       "    80% {\n",
       "      border-color: transparent;\n",
       "      border-right-color: var(--fill-color);\n",
       "      border-bottom-color: var(--fill-color);\n",
       "    }\n",
       "    90% {\n",
       "      border-color: transparent;\n",
       "      border-bottom-color: var(--fill-color);\n",
       "    }\n",
       "  }\n",
       "</style>\n",
       "\n",
       "  <script>\n",
       "    async function quickchart(key) {\n",
       "      const quickchartButtonEl =\n",
       "        document.querySelector('#' + key + ' button');\n",
       "      quickchartButtonEl.disabled = true;  // To prevent multiple clicks.\n",
       "      quickchartButtonEl.classList.add('colab-df-spinner');\n",
       "      try {\n",
       "        const charts = await google.colab.kernel.invokeFunction(\n",
       "            'suggestCharts', [key], {});\n",
       "      } catch (error) {\n",
       "        console.error('Error during call to suggestCharts:', error);\n",
       "      }\n",
       "      quickchartButtonEl.classList.remove('colab-df-spinner');\n",
       "      quickchartButtonEl.classList.add('colab-df-quickchart-complete');\n",
       "    }\n",
       "    (() => {\n",
       "      let quickchartButtonEl =\n",
       "        document.querySelector('#df-dc4afe8b-83ac-4261-8abf-818f259703c1 button');\n",
       "      quickchartButtonEl.style.display =\n",
       "        google.colab.kernel.accessAllowed ? 'block' : 'none';\n",
       "    })();\n",
       "  </script>\n",
       "</div>\n",
       "    </div>\n",
       "  </div>\n"
      ],
      "text/plain": [
       "           0         1         2         3         4\n",
       "0  -0.341851  1.393382 -1.776701  0.860535 -1.976631\n",
       "1  -0.619479 -1.684657  0.784366 -2.379444 -0.599262\n",
       "2  -1.952095  0.294083 -0.752274 -0.206752  1.171641\n",
       "3  -0.619479  0.074223 -1.947439 -0.092400 -0.205728\n",
       "4  -2.562877  0.030251 -0.171766 -1.235922 -1.779864\n",
       "..       ...       ...       ...       ...       ...\n",
       "78  0.491034  0.513943  0.784366  1.051122  1.368407\n",
       "79  1.046291  0.953662  0.784366  0.669948  0.974874\n",
       "80  0.491034  0.513943  0.784366  1.051122  0.581340\n",
       "81  0.491034  0.733803 -0.581537  1.051122  1.368407\n",
       "82  0.935239 -0.409469  0.272152  0.441243  0.266513\n",
       "\n",
       "[83 rows x 5 columns]"
      ]
     },
     "execution_count": 17,
     "metadata": {},
     "output_type": "execute_result"
    }
   ],
   "source": [
    "# instantiate standardscaler and scale data\n",
    "sc = StandardScaler()\n",
    "scaled = sc.fit_transform(df_features)\n",
    "\n",
    "scaled_df = pd.DataFrame(scaled)\n",
    "scaled_df"
   ]
  },
  {
   "cell_type": "code",
   "execution_count": null,
   "metadata": {
    "colab": {
     "base_uri": "https://localhost:8080/",
     "height": 487
    },
    "id": "7jdC-4AT57Z5",
    "outputId": "43c200c8-37f5-43c9-f189-b45c5bda5929"
   },
   "outputs": [
    {
     "data": {
      "image/png": "[encoded data removed]",
      "text/plain": [
       "<Figure size 640x480 with 1 Axes>"
      ]
     },
     "metadata": {},
     "output_type": "display_data"
    }
   ],
   "source": [
    "single_linkage = linkage(scaled_df, method='single')\n",
    "dendrogram(single_linkage, no_labels=True)\n",
    "\n",
    "plt.title('Dendrogram: Single Linkage')\n",
    "plt.xlabel('Individuals'); plt.ylabel('Differences')\n",
    "plt.tight_layout();"
   ]
  },
  {
   "cell_type": "markdown",
   "metadata": {
    "id": "W3K6TQ5IympJ"
   },
   "source": [
    "**Comment:** Single Linkage produces 4 very unbalanced looking clusters."
   ]
  },
  {
   "cell_type": "code",
   "execution_count": null,
   "metadata": {
    "colab": {
     "base_uri": "https://localhost:8080/",
     "height": 487
    },
    "id": "Oj4j21AJ6HFn",
    "outputId": "81f65edc-2683-470b-d2cf-42f7fdaec317"
   },
   "outputs": [
    {
     "data": {
      "image/png": "[encoded data removed]",
      "text/plain": [
       "<Figure size 640x480 with 1 Axes>"
      ]
     },
     "metadata": {},
     "output_type": "display_data"
    }
   ],
   "source": [
    "complete_linkage = linkage(scaled_df, method='complete')\n",
    "dendrogram(complete_linkage, no_labels=True)\n",
    "\n",
    "plt.title('Dendrogram: Complete Linkage')\n",
    "plt.xlabel('Individuals'); plt.ylabel('Differences')\n",
    "plt.tight_layout();"
   ]
  },
  {
   "cell_type": "markdown",
   "metadata": {
    "id": "HkHgChguynLx"
   },
   "source": [
    "**Comment:** Complete Linkage produces 5 unbalanced looking clusters."
   ]
  },
  {
   "cell_type": "code",
   "execution_count": null,
   "metadata": {
    "colab": {
     "base_uri": "https://localhost:8080/",
     "height": 487
    },
    "id": "OvbMFy_q6TSo",
    "outputId": "1d333dd4-6147-43ab-a24b-ef2b7cb6d21d"
   },
   "outputs": [
    {
     "data": {
      "image/png": "[encoded data removed]",
      "text/plain": [
       "<Figure size 640x480 with 1 Axes>"
      ]
     },
     "metadata": {},
     "output_type": "display_data"
    }
   ],
   "source": [
    "ward_linkage = linkage(scaled_df, method='ward')\n",
    "dendrogram(ward_linkage, no_labels=True)\n",
    "\n",
    "plt.title('Dendrogram: Ward Linkage')\n",
    "plt.xlabel('Individuals'); plt.ylabel('Differences')\n",
    "plt.tight_layout();"
   ]
  },
  {
   "cell_type": "markdown",
   "metadata": {
    "id": "uvILJ0AkynxZ"
   },
   "source": [
    "**Comment:** Ward Linkage produces the best looking clusters with k=4. In the next section, we will run agglomerative clustering using ward linkage and n_cluster = 4."
   ]
  },
  {
   "cell_type": "markdown",
   "metadata": {
    "id": "Sot89vFe6XWH"
   },
   "source": [
    "# 4. Supervised or Unsupervised"
   ]
  },
  {
   "cell_type": "code",
   "execution_count": null,
   "metadata": {
    "id": "x-C8w0588BqP"
   },
   "outputs": [],
   "source": [
    "# run agglomerative clustering\n",
    "agg_clust = AgglomerativeClustering(n_clusters=4, affinity='euclidean', linkage='ward')\n",
    "agg_labels = agg_clust.fit_predict(scaled_df)"
   ]
  },
  {
   "cell_type": "code",
   "execution_count": null,
   "metadata": {
    "colab": {
     "base_uri": "https://localhost:8080/"
    },
    "id": "DvWwTVqD8HB6",
    "outputId": "ecf5d871-f8bf-47da-d013-153f74815f4c"
   },
   "outputs": [
    {
     "data": {
      "text/plain": [
       "3    26\n",
       "1    25\n",
       "0    22\n",
       "2    10\n",
       "dtype: int64"
      ]
     },
     "execution_count": 22,
     "metadata": {},
     "output_type": "execute_result"
    }
   ],
   "source": [
    "# print value counts of each cluster\n",
    "pd.Series(agg_labels).value_counts()"
   ]
  },
  {
   "cell_type": "code",
   "execution_count": null,
   "metadata": {
    "id": "Xnu4mb4jLA6r"
   },
   "outputs": [],
   "source": [
    "# add cluster labels to df\n",
    "\n",
    "df_features['clusters'] = agg_labels\n",
    "\n",
    "cluster_df = list()\n",
    "\n",
    "for i in range(0,4):\n",
    "  c = df_features[df_features.clusters == i]\n",
    "  cluster_df.append(c)"
   ]
  },
  {
   "cell_type": "code",
   "execution_count": null,
   "metadata": {
    "colab": {
     "base_uri": "https://localhost:8080/"
    },
    "id": "KLBMMlavLA5H",
    "outputId": "66ff4a44-0404-4ddf-ebdd-1309a35ec3fd"
   },
   "outputs": [
    {
     "data": {
      "text/plain": [
       "action         8.731818\n",
       "drama          6.809091\n",
       "horror         5.331818\n",
       "romance        8.109091\n",
       "documentary    3.972727\n",
       "clusters       0.000000\n",
       "dtype: float64"
      ]
     },
     "execution_count": 24,
     "metadata": {},
     "output_type": "execute_result"
    }
   ],
   "source": [
    "# mean summary stats for cluster 0\n",
    "cluster_df[0].mean()"
   ]
  },
  {
   "cell_type": "markdown",
   "metadata": {
    "id": "k-4f29ePj4i3"
   },
   "source": [
    "**Comment:** action-romance preference"
   ]
  },
  {
   "cell_type": "code",
   "execution_count": null,
   "metadata": {
    "colab": {
     "base_uri": "https://localhost:8080/"
    },
    "id": "RI19hFQmLA2q",
    "outputId": "3a3ff0b7-d23b-4fe4-98e0-64cf06e1a94e"
   },
   "outputs": [
    {
     "data": {
      "text/plain": [
       "action         6.288000\n",
       "drama          7.451600\n",
       "horror         6.821996\n",
       "romance        7.356800\n",
       "documentary    7.603600\n",
       "clusters       1.000000\n",
       "dtype: float64"
      ]
     },
     "execution_count": 25,
     "metadata": {},
     "output_type": "execute_result"
    }
   ],
   "source": [
    "# mean summary stats for cluster 1\n",
    "cluster_df[1].mean()"
   ]
  },
  {
   "cell_type": "markdown",
   "metadata": {
    "id": "gvg5Or4xj5Az"
   },
   "source": [
    "**Comment:** documentary-drama preference"
   ]
  },
  {
   "cell_type": "code",
   "execution_count": null,
   "metadata": {
    "colab": {
     "base_uri": "https://localhost:8080/"
    },
    "id": "G2Fo7260LA0c",
    "outputId": "6e8fb50d-fd9a-42fd-a43f-2325de20cb02"
   },
   "outputs": [
    {
     "data": {
      "text/plain": [
       "action         8.03\n",
       "drama          4.38\n",
       "horror         3.35\n",
       "romance        2.27\n",
       "documentary    5.49\n",
       "clusters       2.00\n",
       "dtype: float64"
      ]
     },
     "execution_count": 26,
     "metadata": {},
     "output_type": "execute_result"
    }
   ],
   "source": [
    "# mean summary stats for cluster 2\n",
    "cluster_df[2].mean()"
   ]
  },
  {
   "cell_type": "markdown",
   "metadata": {
    "id": "leA9UaXSj5in"
   },
   "source": [
    "**Comment:** action only preference"
   ]
  },
  {
   "cell_type": "code",
   "execution_count": null,
   "metadata": {
    "colab": {
     "base_uri": "https://localhost:8080/"
    },
    "id": "q0uqFZjBMTQa",
    "outputId": "3a4da3b1-2a33-47a5-d004-a068fee6a209"
   },
   "outputs": [
    {
     "data": {
      "text/plain": [
       "action         9.384615\n",
       "drama          7.196154\n",
       "horror         9.038462\n",
       "romance        8.311538\n",
       "documentary    8.038462\n",
       "clusters       3.000000\n",
       "dtype: float64"
      ]
     },
     "execution_count": 27,
     "metadata": {},
     "output_type": "execute_result"
    }
   ],
   "source": [
    "# mean summary stats for cluster 3\n",
    "cluster_df[3].mean()"
   ]
  },
  {
   "cell_type": "markdown",
   "metadata": {
    "id": "Wmt_GJQQj6LT"
   },
   "source": [
    "**Comment:** action-horror preference"
   ]
  },
  {
   "cell_type": "markdown",
   "metadata": {
    "id": "cAW8eI5G9OkM"
   },
   "source": [
    "# 5. Prediction"
   ]
  },
  {
   "cell_type": "code",
   "execution_count": null,
   "metadata": {
    "id": "8eEuKbVzRmgX"
   },
   "outputs": [],
   "source": [
    "# train-test-split and run KNN classification\n",
    "X_train, X_test, y_train, y_test = train_test_split(df_features.iloc[:,:-1].values, df_features.iloc[:,-1].values, test_size=0.2, random_state=123)\n",
    "\n",
    "scaler = StandardScaler()\n",
    "X_tr_scaled = scaler.fit_transform(X_train)\n",
    "\n",
    "kNN = KNeighborsClassifier(n_neighbors=4)\n",
    "kNN.fit(X_tr_scaled, y_train)\n",
    "y_pred = kNN.predict(scaler.transform(X_test))"
   ]
  },
  {
   "cell_type": "code",
   "execution_count": null,
   "metadata": {
    "colab": {
     "base_uri": "https://localhost:8080/",
     "height": 504
    },
    "id": "PCE9ZG6oSGrv",
    "outputId": "77644e96-a682-4cbb-dc6c-7dd0830f8a3f"
   },
   "outputs": [
    {
     "name": "stdout",
     "output_type": "stream",
     "text": [
      "Accuracy Score: 1.0\n"
     ]
    },
    {
     "data": {
      "image/png": "[encoded data removed]",
      "text/plain": [
       "<Figure size 640x480 with 2 Axes>"
      ]
     },
     "metadata": {},
     "output_type": "display_data"
    }
   ],
   "source": [
    "# print accuracy score and confusion matrix\n",
    "print(\"Accuracy Score: \" + str(accuracy_score(y_pred,y_test)))\n",
    "\n",
    "labels = ['C0','C1','C2','C3']\n",
    "cm= confusion_matrix(y_pred,y_test)\n",
    "cmat = sns.heatmap(cm,annot=True,cmap='Blues')\n",
    "cmat.set_title('Confusion Matrix')\n",
    "cmat.set_xlabel('Predicted Label'); cmat.set_ylabel('True Label')\n",
    "cmat.xaxis.set_ticklabels(labels); cmat.yaxis.set_ticklabels(labels)\n",
    "plt.tight_layout();"
   ]
  },
  {
   "cell_type": "markdown",
   "metadata": {
    "id": "NpRGa1jLZ1v8"
   },
   "source": [
    "**Comment:** Using the calculated mean summary stats within each cluster found in the previous section, I was able to infer what genres that the members in each cluster would prefer. The following are going to be the coupon recommendations for each cluster:\n",
    "\n",
    "- cluster 0: Action-Romance Movie Night\n",
    "\n",
    "- cluster 1: Docu-Drama Movie Night\n",
    "\n",
    "- cluster 2: Total Action Marathon Movie Night\n",
    "\n",
    "- cluster 3: Horror-Action Movie Night"
   ]
  },
  {
   "cell_type": "code",
   "execution_count": null,
   "metadata": {
    "id": "fAWQlQwdnP20"
   },
   "outputs": [],
   "source": [
    "# function for movie night recommender using kNN Classifer from above\n",
    "def coupon_recommender(ratings):\n",
    "  new_data = np.array([ratings[0],ratings[1],ratings[2],ratings[3],ratings[4]]).reshape(1,-1)\n",
    "  scaled_data = scaler.transform(new_data)\n",
    "  x = kNN.predict(scaled_data)\n",
    "  print('cluster: ' + str(int(x)))\n",
    "\n",
    "  if int(x) == 0:\n",
    "    return 'Printing... Coupons for Action-Romance Movie Night!'\n",
    "  elif int(x) == 1:\n",
    "    return 'Printing... Coupons for Docu-Drama Movie Night!'\n",
    "  elif int(x) == 2:\n",
    "    return 'Printing... Coupons for Total Action Marathon Movie Night!'\n",
    "  else:\n",
    "    return 'Printing... Coupons for Horror-Action Movie Night!'"
   ]
  },
  {
   "cell_type": "markdown",
   "metadata": {
    "id": "oO6CgYE_z2P6"
   },
   "source": [
    "**Let's see if the recommender is running properly ...**"
   ]
  },
  {
   "cell_type": "code",
   "execution_count": null,
   "metadata": {
    "colab": {
     "base_uri": "https://localhost:8080/",
     "height": 52
    },
    "id": "46ZbepE8TRon",
    "outputId": "5798f7bf-fc1c-4b79-ef9e-03462b6dbdff"
   },
   "outputs": [
    {
     "name": "stdout",
     "output_type": "stream",
     "text": [
      "cluster: 3\n"
     ]
    },
    {
     "data": {
      "application/vnd.google.colaboratory.intrinsic+json": {
       "type": "string"
      },
      "text/plain": [
       "'Printing... Coupons for Horror-Action Movie Night!'"
      ]
     },
     "execution_count": 31,
     "metadata": {},
     "output_type": "execute_result"
    }
   ],
   "source": [
    "# run 1 -- should print cluster 3\n",
    "coupon_recommender([10,10,7,10,8])"
   ]
  },
  {
   "cell_type": "code",
   "execution_count": null,
   "metadata": {
    "colab": {
     "base_uri": "https://localhost:8080/",
     "height": 52
    },
    "id": "yn_nCSATTkfQ",
    "outputId": "977b3d22-e363-4c14-8ec0-bd70b498d948"
   },
   "outputs": [
    {
     "name": "stdout",
     "output_type": "stream",
     "text": [
      "cluster: 1\n"
     ]
    },
    {
     "data": {
      "application/vnd.google.colaboratory.intrinsic+json": {
       "type": "string"
      },
      "text/plain": [
       "'Printing... Coupons for Docu-Drama Movie Night!'"
      ]
     },
     "execution_count": 32,
     "metadata": {},
     "output_type": "execute_result"
    }
   ],
   "source": [
    "# run 2 -- should print cluster 1\n",
    "coupon_recommender([3,5,8,10,8])"
   ]
  },
  {
   "cell_type": "code",
   "execution_count": null,
   "metadata": {
    "colab": {
     "base_uri": "https://localhost:8080/",
     "height": 52
    },
    "id": "UV-BG6qJiXIJ",
    "outputId": "6c4ecc5a-c082-4354-bbfd-22a25907f14c"
   },
   "outputs": [
    {
     "name": "stdout",
     "output_type": "stream",
     "text": [
      "cluster: 2\n"
     ]
    },
    {
     "data": {
      "application/vnd.google.colaboratory.intrinsic+json": {
       "type": "string"
      },
      "text/plain": [
       "'Printing... Coupons for Total Action Marathon Movie Night!'"
      ]
     },
     "execution_count": 33,
     "metadata": {},
     "output_type": "execute_result"
    }
   ],
   "source": [
    "# run 3 -- should print cluster 2\n",
    "coupon_recommender([10,4,3,1,6.5])"
   ]
  },
  {
   "cell_type": "code",
   "execution_count": null,
   "metadata": {
    "colab": {
     "base_uri": "https://localhost:8080/",
     "height": 52
    },
    "id": "qT8TopzCjNHr",
    "outputId": "4734ae0c-7c27-43a0-d120-cca0bb2eac39"
   },
   "outputs": [
    {
     "name": "stdout",
     "output_type": "stream",
     "text": [
      "cluster: 0\n"
     ]
    },
    {
     "data": {
      "application/vnd.google.colaboratory.intrinsic+json": {
       "type": "string"
      },
      "text/plain": [
       "'Printing... Coupons for Action-Romance Movie Night!'"
      ]
     },
     "execution_count": 34,
     "metadata": {},
     "output_type": "execute_result"
    }
   ],
   "source": [
    "# run -- should print cluster 0\n",
    "coupon_recommender([10,4,3,8,6.5])"
   ]
  },
  {
   "cell_type": "markdown",
   "metadata": {
    "id": "U3riinMm0esU"
   },
   "source": [
    "**Comment:** Awesome! The recommender seems to be running properly given the specified input parameters."
   ]
  },
  {
   "cell_type": "markdown",
   "metadata": {
    "id": "2IDPWq6njmPx"
   },
   "source": [
    "**Now, let's see what coupons my friends from class would get ...**"
   ]
  },
  {
   "cell_type": "code",
   "execution_count": null,
   "metadata": {
    "id": "WYLCNsm1dRHN"
   },
   "outputs": [],
   "source": [
    "df_features['name'] = df.name\n",
    "\n",
    "casey = df_features[df_features.name.str.startswith('Case')].iloc[:,:-2].values[0]\n",
    "harmeet = df_features[df_features.name.str.startswith('Harme')].iloc[:,:-2].values[0]\n",
    "ethan = df_features[df_features.name.str.startswith('Etha')].iloc[:,:-2].values[0]\n",
    "siraz = df_features[df_features.name.str.startswith('Sira')].iloc[:,:-2].values[0]\n",
    "cody = df_features[df_features.name.str.startswith('Cody')].iloc[:,:-2].values[0]\n",
    "billie = [6,5,9.5,10,3]"
   ]
  },
  {
   "cell_type": "code",
   "execution_count": null,
   "metadata": {
    "colab": {
     "base_uri": "https://localhost:8080/",
     "height": 52
    },
    "id": "XI1OPVlgedup",
    "outputId": "af6428da-28c7-4ea3-d51f-d5be69ccb7ff"
   },
   "outputs": [
    {
     "name": "stdout",
     "output_type": "stream",
     "text": [
      "cluster: 0\n"
     ]
    },
    {
     "data": {
      "application/vnd.google.colaboratory.intrinsic+json": {
       "type": "string"
      },
      "text/plain": [
       "'Printing... Coupons for Action-Romance Movie Night!'"
      ]
     },
     "execution_count": 36,
     "metadata": {},
     "output_type": "execute_result"
    }
   ],
   "source": [
    "# run 5\n",
    "coupon_recommender(casey)"
   ]
  },
  {
   "cell_type": "code",
   "execution_count": null,
   "metadata": {
    "colab": {
     "base_uri": "https://localhost:8080/",
     "height": 52
    },
    "id": "DqnH686WjCHg",
    "outputId": "98c7bf16-66fd-4470-c9ee-6975ba1e35ac"
   },
   "outputs": [
    {
     "name": "stdout",
     "output_type": "stream",
     "text": [
      "cluster: 2\n"
     ]
    },
    {
     "data": {
      "application/vnd.google.colaboratory.intrinsic+json": {
       "type": "string"
      },
      "text/plain": [
       "'Printing... Coupons for Total Action Marathon Movie Night!'"
      ]
     },
     "execution_count": 37,
     "metadata": {},
     "output_type": "execute_result"
    }
   ],
   "source": [
    "# run 6\n",
    "coupon_recommender(harmeet)"
   ]
  },
  {
   "cell_type": "code",
   "execution_count": null,
   "metadata": {
    "colab": {
     "base_uri": "https://localhost:8080/",
     "height": 52
    },
    "id": "2stsRigdsCpZ",
    "outputId": "01f37bb3-434c-4da1-ead1-240492599ec0"
   },
   "outputs": [
    {
     "name": "stdout",
     "output_type": "stream",
     "text": [
      "cluster: 1\n"
     ]
    },
    {
     "data": {
      "application/vnd.google.colaboratory.intrinsic+json": {
       "type": "string"
      },
      "text/plain": [
       "'Printing... Coupons for Docu-Drama Movie Night!'"
      ]
     },
     "execution_count": 38,
     "metadata": {},
     "output_type": "execute_result"
    }
   ],
   "source": [
    "# run 7\n",
    "coupon_recommender(ethan)"
   ]
  },
  {
   "cell_type": "code",
   "execution_count": null,
   "metadata": {
    "colab": {
     "base_uri": "https://localhost:8080/",
     "height": 52
    },
    "id": "KrU3x1bXsEkM",
    "outputId": "7a0b0a59-756d-4ed0-d6a4-6663feaac72c"
   },
   "outputs": [
    {
     "name": "stdout",
     "output_type": "stream",
     "text": [
      "cluster: 0\n"
     ]
    },
    {
     "data": {
      "application/vnd.google.colaboratory.intrinsic+json": {
       "type": "string"
      },
      "text/plain": [
       "'Printing... Coupons for Action-Romance Movie Night!'"
      ]
     },
     "execution_count": 39,
     "metadata": {},
     "output_type": "execute_result"
    }
   ],
   "source": [
    "# run 8\n",
    "coupon_recommender(siraz)"
   ]
  },
  {
   "cell_type": "code",
   "execution_count": null,
   "metadata": {
    "colab": {
     "base_uri": "https://localhost:8080/",
     "height": 52
    },
    "id": "QRKtvUCVsK27",
    "outputId": "38d7fd7e-616c-4240-bf24-eb91037ff395"
   },
   "outputs": [
    {
     "name": "stdout",
     "output_type": "stream",
     "text": [
      "cluster: 2\n"
     ]
    },
    {
     "data": {
      "application/vnd.google.colaboratory.intrinsic+json": {
       "type": "string"
      },
      "text/plain": [
       "'Printing... Coupons for Total Action Marathon Movie Night!'"
      ]
     },
     "execution_count": 40,
     "metadata": {},
     "output_type": "execute_result"
    }
   ],
   "source": [
    "# run 9\n",
    "coupon_recommender(cody)"
   ]
  },
  {
   "cell_type": "code",
   "execution_count": null,
   "metadata": {
    "colab": {
     "base_uri": "https://localhost:8080/",
     "height": 52
    },
    "id": "AZRkAI1rsLmE",
    "outputId": "c532087d-abe8-4688-f222-1fbe0ec72988"
   },
   "outputs": [
    {
     "name": "stdout",
     "output_type": "stream",
     "text": [
      "cluster: 0\n"
     ]
    },
    {
     "data": {
      "application/vnd.google.colaboratory.intrinsic+json": {
       "type": "string"
      },
      "text/plain": [
       "'Printing... Coupons for Action-Romance Movie Night!'"
      ]
     },
     "execution_count": 41,
     "metadata": {},
     "output_type": "execute_result"
    }
   ],
   "source": [
    "# run 10\n",
    "coupon_recommender(billie)"
   ]
  },
  {
   "cell_type": "markdown",
   "metadata": {
    "id": "CKdO5V2esMvh"
   },
   "source": [
    "**Comment:**  Very interesting! Based on the coupon recommender, it looks like Casey, Siraz, and myself would be going to the Action-Romance Movie Night while Harmeet and Cody would be going to the Total Action Marathom Movie Night. Unfortunately, Ethan would be going by himself to the Docu-Drama Movie Night... (sorry Ethan!)"
   ]
  },
  {
   "cell_type": "markdown",
   "metadata": {
    "id": "Bz5pt98x1Ufl"
   },
   "source": [
    "## 6. Summary"
   ]
  },
  {
   "cell_type": "markdown",
   "metadata": {
    "id": "rAR0kwlc1y4b"
   },
   "source": [
    "This report provides an overview into movie preferences for UoP's MSDS students. The dataset contained a total of 85 rows that represents individuals and 17 features that are survey questions. For inputs into clustering, we used a total of 5 scoring features which are: action, drama, horror, romance, and documentary. We found that the best number of clusters was 4 by producing the ward linkage dendrogram which minimizes the variance in clusters. We ran agglomerative clustering to produce cluster labels and built a K-nearest-neighbors classifier to predict on unseen data in the future. The recommendation engine (coupon_recommender) uses the kNN model to classify new datapoints and also prints out which movie night a particular student should go to based on their scores for action, drama, horror, romance, and documentary."
   ]
  },
  {
   "cell_type": "code",
   "execution_count": null,
   "metadata": {
    "id": "ovh1N7c34c8s"
   },
   "outputs": [],
   "source": []
  }
 ],
 "metadata": {
  "colab": {
   "provenance": []
  },
  "kernelspec": {
   "display_name": "Python 3 (ipykernel)",
   "language": "python",
   "name": "python3"
  },
  "language_info": {
   "codemirror_mode": {
    "name": "ipython",
    "version": 3
   },
   "file_extension": ".py",
   "mimetype": "text/x-python",
   "name": "python",
   "nbconvert_exporter": "python",
   "pygments_lexer": "ipython3",
   "version": "3.9.13"
  }
 },
 "nbformat": 4,
 "nbformat_minor": 1
}
