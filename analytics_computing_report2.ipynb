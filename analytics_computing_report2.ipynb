{
 "cells": [
  {
   "cell_type": "markdown",
   "id": "1ec1281b",
   "metadata": {},
   "source": [
    "# Module 2 Report  - Jobs\n",
    "### Extracting SF Salaries Insights\n",
    "<br>\n",
    "Billie Kim\n",
    "<br>\n",
    "Data Source: https://www.kaggle.com/datasets/san-francisco/sf-employee-compensation"
   ]
  },
  {
   "cell_type": "code",
   "execution_count": 1,
   "id": "cd71da59",
   "metadata": {},
   "outputs": [],
   "source": [
    "# Load SF Employee Compensation data\n",
    "df <- read.csv(\"../mod_report2/data/employee-compensation.csv\", stringsAsFactors=FALSE, na.strings=\"\")"
   ]
  },
  {
   "cell_type": "code",
   "execution_count": 2,
   "id": "c82fe867",
   "metadata": {
    "scrolled": true
   },
   "outputs": [
    {
     "name": "stderr",
     "output_type": "stream",
     "text": [
      "Registered S3 methods overwritten by 'ggplot2':\n",
      "  method         from \n",
      "  [.quosures     rlang\n",
      "  c.quosures     rlang\n",
      "  print.quosures rlang\n",
      "Registered S3 method overwritten by 'rvest':\n",
      "  method            from\n",
      "  read_xml.response xml2\n",
      "── Attaching packages ─────────────────────────────────────── tidyverse 1.2.1 ──\n",
      "✔ ggplot2 3.1.1       ✔ purrr   0.3.2  \n",
      "✔ tibble  2.1.1       ✔ dplyr   0.8.0.1\n",
      "✔ tidyr   0.8.3       ✔ stringr 1.4.0  \n",
      "✔ readr   1.3.1       ✔ forcats 0.4.0  \n",
      "── Conflicts ────────────────────────────────────────── tidyverse_conflicts() ──\n",
      "✖ dplyr::filter() masks stats::filter()\n",
      "✖ dplyr::lag()    masks stats::lag()\n"
     ]
    }
   ],
   "source": [
    "suppressWarnings(library(tidyverse))"
   ]
  },
  {
   "cell_type": "markdown",
   "id": "4a4bc348",
   "metadata": {},
   "source": [
    "## 1. Objective"
   ]
  },
  {
   "cell_type": "markdown",
   "id": "2382c249",
   "metadata": {},
   "source": [
    "## 2. Data Exploration"
   ]
  },
  {
   "cell_type": "code",
   "execution_count": 3,
   "id": "18360914",
   "metadata": {},
   "outputs": [
    {
     "name": "stdout",
     "output_type": "stream",
     "text": [
      "Number of rows: 683277\n",
      "Number of columns: 22"
     ]
    }
   ],
   "source": [
    "cat(\"Number of rows:\", nrow(df))\n",
    "cat(\"\\nNumber of columns:\", ncol(df))"
   ]
  },
  {
   "cell_type": "markdown",
   "id": "50ddf1b7",
   "metadata": {},
   "source": [
    "**Comment**: We are dealing with a fairly large dataset with 683,277 records and 22 columns."
   ]
  },
  {
   "cell_type": "code",
   "execution_count": 4,
   "id": "26e487a1",
   "metadata": {
    "scrolled": true
   },
   "outputs": [
    {
     "data": {
      "text/html": [
       "<table>\n",
       "<thead><tr><th scope=col>Organization.Group.Code</th><th scope=col>Job.Family.Code</th><th scope=col>Job.Code</th><th scope=col>Year.Type</th><th scope=col>Year</th><th scope=col>Organization.Group</th><th scope=col>Department.Code</th><th scope=col>Department</th><th scope=col>Union.Code</th><th scope=col>Union</th><th scope=col>...</th><th scope=col>Employee.Identifier</th><th scope=col>Salaries</th><th scope=col>Overtime</th><th scope=col>Other.Salaries</th><th scope=col>Total.Salary</th><th scope=col>Retirement</th><th scope=col>Health.and.Dental</th><th scope=col>Other.Benefits</th><th scope=col>Total.Benefits</th><th scope=col>Total.Compensation</th></tr></thead>\n",
       "<tbody>\n",
       "\t<tr><td>1                                                  </td><td>1000                                               </td><td>1021                                               </td><td>Calendar                                           </td><td>2013                                               </td><td>Public Protection                                  </td><td>ADP                                                </td><td>ADP Adult Probation                                </td><td>21                                                 </td><td>Prof &amp; Tech Engineers - Miscellaneous, Local 21</td><td>...                                                </td><td>37730                                              </td><td> 57534.65                                          </td><td>0                                                  </td><td><span style=white-space:pre-wrap>    0.00</span>   </td><td> 57534.65                                          </td><td>11253.16                                           </td><td>11961.34                                           </td><td>4532.63                                            </td><td>27747.13                                           </td><td> 85281.78                                          </td></tr>\n",
       "\t<tr><td>1                                                  </td><td>1000                                               </td><td>1023                                               </td><td>Calendar                                           </td><td>2013                                               </td><td>Public Protection                                  </td><td>ADP                                                </td><td>ADP Adult Probation                                </td><td>21                                                 </td><td>Prof &amp; Tech Engineers - Miscellaneous, Local 21</td><td>...                                                </td><td>26574                                              </td><td> 57678.50                                          </td><td>0                                                  </td><td><span style=white-space:pre-wrap>    0.00</span>   </td><td> 57678.50                                          </td><td>10284.88                                           </td><td> 7176.80                                           </td><td>4755.14                                            </td><td>22216.82                                           </td><td> 79895.32                                          </td></tr>\n",
       "\t<tr><td>1                                                  </td><td>1000                                               </td><td>1031                                               </td><td>Calendar                                           </td><td>2013                                               </td><td>Public Protection                                  </td><td>ADP                                                </td><td>ADP Adult Probation                                </td><td>21                                                 </td><td>Prof &amp; Tech Engineers - Miscellaneous, Local 21</td><td>...                                                </td><td> 8148                                              </td><td> 63532.93                                          </td><td>0                                                  </td><td><span style=white-space:pre-wrap>    0.00</span>   </td><td> 63532.93                                          </td><td>12495.83                                           </td><td>12918.24                                           </td><td>4702.71                                            </td><td>30116.78                                           </td><td> 93649.71                                          </td></tr>\n",
       "\t<tr><td>1                                                  </td><td>1000                                               </td><td>1054                                               </td><td>Calendar                                           </td><td>2013                                               </td><td>Public Protection                                  </td><td>ADP                                                </td><td>ADP Adult Probation                                </td><td>21                                                 </td><td>Prof &amp; Tech Engineers - Miscellaneous, Local 21</td><td>...                                                </td><td>27436                                              </td><td>101274.51                                          </td><td>0                                                  </td><td>-7058.59                                           </td><td> 94215.92                                          </td><td>19644.45                                           </td><td>12918.24                                           </td><td>7458.76                                            </td><td>40021.45                                           </td><td>134237.37                                          </td></tr>\n",
       "\t<tr><td>1                                                  </td><td>1000                                               </td><td>1062                                               </td><td>Calendar                                           </td><td>2013                                               </td><td>Public Protection                                  </td><td>ADP                                                </td><td>ADP Adult Probation                                </td><td>21                                                 </td><td>Prof &amp; Tech Engineers - Miscellaneous, Local 21</td><td>...                                                </td><td>37730                                              </td><td><span style=white-space:pre-wrap>  5084.00</span>  </td><td>0                                                  </td><td><span style=white-space:pre-wrap>    0.00</span>   </td><td><span style=white-space:pre-wrap>  5084.00</span>  </td><td> 1083.90                                           </td><td><span style=white-space:pre-wrap>  956.91</span>   </td><td> 387.50                                            </td><td> 2428.31                                           </td><td><span style=white-space:pre-wrap>  7512.31</span>  </td></tr>\n",
       "\t<tr><td>1                                                  </td><td>1000                                               </td><td>1064                                               </td><td>Calendar                                           </td><td>2013                                               </td><td>Public Protection                                  </td><td>ADP                                                </td><td>ADP Adult Probation                                </td><td>21                                                 </td><td>Prof &amp; Tech Engineers - Miscellaneous, Local 21</td><td>...                                                </td><td>36223                                              </td><td> 34456.00                                          </td><td>0                                                  </td><td><span style=white-space:pre-wrap>    0.00</span>   </td><td> 34456.00                                          </td><td> 7346.00                                           </td><td> 3827.63                                           </td><td>2579.95                                            </td><td>13753.58                                           </td><td> 48209.58                                          </td></tr>\n",
       "\t<tr><td>1                                                  </td><td>1000                                               </td><td>1070                                               </td><td>Calendar                                           </td><td>2013                                               </td><td>Public Protection                                  </td><td>ADP                                                </td><td>ADP Adult Probation                                </td><td>21                                                 </td><td>Prof &amp; Tech Engineers - Miscellaneous, Local 21</td><td>...                                                </td><td>51426                                              </td><td>139889.00                                          </td><td>0                                                  </td><td><span style=white-space:pre-wrap>    0.00</span>   </td><td>139889.00                                          </td><td>26799.23                                           </td><td>12918.24                                           </td><td>9791.54                                            </td><td>49509.01                                           </td><td>189398.01                                          </td></tr>\n",
       "\t<tr><td>1                                                  </td><td>1000                                               </td><td>1094                                               </td><td>Calendar                                           </td><td>2013                                               </td><td>Public Protection                                  </td><td>ADP                                                </td><td>ADP Adult Probation                                </td><td>21                                                 </td><td>Prof &amp; Tech Engineers - Miscellaneous, Local 21</td><td>...                                                </td><td>26574                                              </td><td> 46572.00                                          </td><td>0                                                  </td><td><span style=white-space:pre-wrap>    0.00</span>   </td><td> 46572.00                                          </td><td> 9929.16                                           </td><td> 5741.44                                           </td><td>3822.28                                            </td><td>19492.88                                           </td><td> 66064.88                                          </td></tr>\n",
       "\t<tr><td>1                                                  </td><td>1200                                               </td><td>1232                                               </td><td>Calendar                                           </td><td>2013                                               </td><td>Public Protection                                  </td><td>ADP                                                </td><td>ADP Adult Probation                                </td><td>21                                                 </td><td>Prof &amp; Tech Engineers - Miscellaneous, Local 21</td><td>...                                                </td><td>37983                                              </td><td> 84681.53                                          </td><td>0                                                  </td><td><span style=white-space:pre-wrap>    0.00</span>   </td><td> 84681.53                                          </td><td>16661.84                                           </td><td>12918.24                                           </td><td>6838.44                                            </td><td>36418.52                                           </td><td>121100.05                                          </td></tr>\n",
       "\t<tr><td>1                                                  </td><td>1600                                               </td><td>1654                                               </td><td>Calendar                                           </td><td>2013                                               </td><td>Public Protection                                  </td><td>ADP                                                </td><td>ADP Adult Probation                                </td><td>21                                                 </td><td>Prof &amp; Tech Engineers - Miscellaneous, Local 21</td><td>...                                                </td><td>16858                                              </td><td> 10611.01                                          </td><td>0                                                  </td><td><span style=white-space:pre-wrap>    0.00</span>   </td><td> 10611.01                                          </td><td> 1879.20                                           </td><td> 1435.36                                           </td><td> 827.09                                            </td><td> 4141.65                                           </td><td> 14752.66                                          </td></tr>\n",
       "</tbody>\n",
       "</table>\n"
      ],
      "text/latex": [
       "\\begin{tabular}{r|llllllllllllllllllllll}\n",
       " Organization.Group.Code & Job.Family.Code & Job.Code & Year.Type & Year & Organization.Group & Department.Code & Department & Union.Code & Union & ... & Employee.Identifier & Salaries & Overtime & Other.Salaries & Total.Salary & Retirement & Health.and.Dental & Other.Benefits & Total.Benefits & Total.Compensation\\\\\n",
       "\\hline\n",
       "\t 1                                                 & 1000                                              & 1021                                              & Calendar                                          & 2013                                              & Public Protection                                 & ADP                                               & ADP Adult Probation                               & 21                                                & Prof \\& Tech Engineers - Miscellaneous, Local 21 & ...                                               & 37730                                             &  57534.65                                         & 0                                                 &     0.00                                          &  57534.65                                         & 11253.16                                          & 11961.34                                          & 4532.63                                           & 27747.13                                          &  85281.78                                        \\\\\n",
       "\t 1                                                 & 1000                                              & 1023                                              & Calendar                                          & 2013                                              & Public Protection                                 & ADP                                               & ADP Adult Probation                               & 21                                                & Prof \\& Tech Engineers - Miscellaneous, Local 21 & ...                                               & 26574                                             &  57678.50                                         & 0                                                 &     0.00                                          &  57678.50                                         & 10284.88                                          &  7176.80                                          & 4755.14                                           & 22216.82                                          &  79895.32                                        \\\\\n",
       "\t 1                                                 & 1000                                              & 1031                                              & Calendar                                          & 2013                                              & Public Protection                                 & ADP                                               & ADP Adult Probation                               & 21                                                & Prof \\& Tech Engineers - Miscellaneous, Local 21 & ...                                               &  8148                                             &  63532.93                                         & 0                                                 &     0.00                                          &  63532.93                                         & 12495.83                                          & 12918.24                                          & 4702.71                                           & 30116.78                                          &  93649.71                                        \\\\\n",
       "\t 1                                                 & 1000                                              & 1054                                              & Calendar                                          & 2013                                              & Public Protection                                 & ADP                                               & ADP Adult Probation                               & 21                                                & Prof \\& Tech Engineers - Miscellaneous, Local 21 & ...                                               & 27436                                             & 101274.51                                         & 0                                                 & -7058.59                                          &  94215.92                                         & 19644.45                                          & 12918.24                                          & 7458.76                                           & 40021.45                                          & 134237.37                                        \\\\\n",
       "\t 1                                                 & 1000                                              & 1062                                              & Calendar                                          & 2013                                              & Public Protection                                 & ADP                                               & ADP Adult Probation                               & 21                                                & Prof \\& Tech Engineers - Miscellaneous, Local 21 & ...                                               & 37730                                             &   5084.00                                         & 0                                                 &     0.00                                          &   5084.00                                         &  1083.90                                          &   956.91                                          &  387.50                                           &  2428.31                                          &   7512.31                                        \\\\\n",
       "\t 1                                                 & 1000                                              & 1064                                              & Calendar                                          & 2013                                              & Public Protection                                 & ADP                                               & ADP Adult Probation                               & 21                                                & Prof \\& Tech Engineers - Miscellaneous, Local 21 & ...                                               & 36223                                             &  34456.00                                         & 0                                                 &     0.00                                          &  34456.00                                         &  7346.00                                          &  3827.63                                          & 2579.95                                           & 13753.58                                          &  48209.58                                        \\\\\n",
       "\t 1                                                 & 1000                                              & 1070                                              & Calendar                                          & 2013                                              & Public Protection                                 & ADP                                               & ADP Adult Probation                               & 21                                                & Prof \\& Tech Engineers - Miscellaneous, Local 21 & ...                                               & 51426                                             & 139889.00                                         & 0                                                 &     0.00                                          & 139889.00                                         & 26799.23                                          & 12918.24                                          & 9791.54                                           & 49509.01                                          & 189398.01                                        \\\\\n",
       "\t 1                                                 & 1000                                              & 1094                                              & Calendar                                          & 2013                                              & Public Protection                                 & ADP                                               & ADP Adult Probation                               & 21                                                & Prof \\& Tech Engineers - Miscellaneous, Local 21 & ...                                               & 26574                                             &  46572.00                                         & 0                                                 &     0.00                                          &  46572.00                                         &  9929.16                                          &  5741.44                                          & 3822.28                                           & 19492.88                                          &  66064.88                                        \\\\\n",
       "\t 1                                                 & 1200                                              & 1232                                              & Calendar                                          & 2013                                              & Public Protection                                 & ADP                                               & ADP Adult Probation                               & 21                                                & Prof \\& Tech Engineers - Miscellaneous, Local 21 & ...                                               & 37983                                             &  84681.53                                         & 0                                                 &     0.00                                          &  84681.53                                         & 16661.84                                          & 12918.24                                          & 6838.44                                           & 36418.52                                          & 121100.05                                        \\\\\n",
       "\t 1                                                 & 1600                                              & 1654                                              & Calendar                                          & 2013                                              & Public Protection                                 & ADP                                               & ADP Adult Probation                               & 21                                                & Prof \\& Tech Engineers - Miscellaneous, Local 21 & ...                                               & 16858                                             &  10611.01                                         & 0                                                 &     0.00                                          &  10611.01                                         &  1879.20                                          &  1435.36                                          &  827.09                                           &  4141.65                                          &  14752.66                                        \\\\\n",
       "\\end{tabular}\n"
      ],
      "text/markdown": [
       "\n",
       "| Organization.Group.Code | Job.Family.Code | Job.Code | Year.Type | Year | Organization.Group | Department.Code | Department | Union.Code | Union | ... | Employee.Identifier | Salaries | Overtime | Other.Salaries | Total.Salary | Retirement | Health.and.Dental | Other.Benefits | Total.Benefits | Total.Compensation |\n",
       "|---|---|---|---|---|---|---|---|---|---|---|---|---|---|---|---|---|---|---|---|---|\n",
       "| 1                                               | 1000                                            | 1021                                            | Calendar                                        | 2013                                            | Public Protection                               | ADP                                             | ADP Adult Probation                             | 21                                              | Prof & Tech Engineers - Miscellaneous, Local 21 | ...                                             | 37730                                           |  57534.65                                       | 0                                               |     0.00                                        |  57534.65                                       | 11253.16                                        | 11961.34                                        | 4532.63                                         | 27747.13                                        |  85281.78                                       |\n",
       "| 1                                               | 1000                                            | 1023                                            | Calendar                                        | 2013                                            | Public Protection                               | ADP                                             | ADP Adult Probation                             | 21                                              | Prof & Tech Engineers - Miscellaneous, Local 21 | ...                                             | 26574                                           |  57678.50                                       | 0                                               |     0.00                                        |  57678.50                                       | 10284.88                                        |  7176.80                                        | 4755.14                                         | 22216.82                                        |  79895.32                                       |\n",
       "| 1                                               | 1000                                            | 1031                                            | Calendar                                        | 2013                                            | Public Protection                               | ADP                                             | ADP Adult Probation                             | 21                                              | Prof & Tech Engineers - Miscellaneous, Local 21 | ...                                             |  8148                                           |  63532.93                                       | 0                                               |     0.00                                        |  63532.93                                       | 12495.83                                        | 12918.24                                        | 4702.71                                         | 30116.78                                        |  93649.71                                       |\n",
       "| 1                                               | 1000                                            | 1054                                            | Calendar                                        | 2013                                            | Public Protection                               | ADP                                             | ADP Adult Probation                             | 21                                              | Prof & Tech Engineers - Miscellaneous, Local 21 | ...                                             | 27436                                           | 101274.51                                       | 0                                               | -7058.59                                        |  94215.92                                       | 19644.45                                        | 12918.24                                        | 7458.76                                         | 40021.45                                        | 134237.37                                       |\n",
       "| 1                                               | 1000                                            | 1062                                            | Calendar                                        | 2013                                            | Public Protection                               | ADP                                             | ADP Adult Probation                             | 21                                              | Prof & Tech Engineers - Miscellaneous, Local 21 | ...                                             | 37730                                           |   5084.00                                       | 0                                               |     0.00                                        |   5084.00                                       |  1083.90                                        |   956.91                                        |  387.50                                         |  2428.31                                        |   7512.31                                       |\n",
       "| 1                                               | 1000                                            | 1064                                            | Calendar                                        | 2013                                            | Public Protection                               | ADP                                             | ADP Adult Probation                             | 21                                              | Prof & Tech Engineers - Miscellaneous, Local 21 | ...                                             | 36223                                           |  34456.00                                       | 0                                               |     0.00                                        |  34456.00                                       |  7346.00                                        |  3827.63                                        | 2579.95                                         | 13753.58                                        |  48209.58                                       |\n",
       "| 1                                               | 1000                                            | 1070                                            | Calendar                                        | 2013                                            | Public Protection                               | ADP                                             | ADP Adult Probation                             | 21                                              | Prof & Tech Engineers - Miscellaneous, Local 21 | ...                                             | 51426                                           | 139889.00                                       | 0                                               |     0.00                                        | 139889.00                                       | 26799.23                                        | 12918.24                                        | 9791.54                                         | 49509.01                                        | 189398.01                                       |\n",
       "| 1                                               | 1000                                            | 1094                                            | Calendar                                        | 2013                                            | Public Protection                               | ADP                                             | ADP Adult Probation                             | 21                                              | Prof & Tech Engineers - Miscellaneous, Local 21 | ...                                             | 26574                                           |  46572.00                                       | 0                                               |     0.00                                        |  46572.00                                       |  9929.16                                        |  5741.44                                        | 3822.28                                         | 19492.88                                        |  66064.88                                       |\n",
       "| 1                                               | 1200                                            | 1232                                            | Calendar                                        | 2013                                            | Public Protection                               | ADP                                             | ADP Adult Probation                             | 21                                              | Prof & Tech Engineers - Miscellaneous, Local 21 | ...                                             | 37983                                           |  84681.53                                       | 0                                               |     0.00                                        |  84681.53                                       | 16661.84                                        | 12918.24                                        | 6838.44                                         | 36418.52                                        | 121100.05                                       |\n",
       "| 1                                               | 1600                                            | 1654                                            | Calendar                                        | 2013                                            | Public Protection                               | ADP                                             | ADP Adult Probation                             | 21                                              | Prof & Tech Engineers - Miscellaneous, Local 21 | ...                                             | 16858                                           |  10611.01                                       | 0                                               |     0.00                                        |  10611.01                                       |  1879.20                                        |  1435.36                                        |  827.09                                         |  4141.65                                        |  14752.66                                       |\n",
       "\n"
      ],
      "text/plain": [
       "   Organization.Group.Code Job.Family.Code Job.Code Year.Type Year\n",
       "1  1                       1000            1021     Calendar  2013\n",
       "2  1                       1000            1023     Calendar  2013\n",
       "3  1                       1000            1031     Calendar  2013\n",
       "4  1                       1000            1054     Calendar  2013\n",
       "5  1                       1000            1062     Calendar  2013\n",
       "6  1                       1000            1064     Calendar  2013\n",
       "7  1                       1000            1070     Calendar  2013\n",
       "8  1                       1000            1094     Calendar  2013\n",
       "9  1                       1200            1232     Calendar  2013\n",
       "10 1                       1600            1654     Calendar  2013\n",
       "   Organization.Group Department.Code Department          Union.Code\n",
       "1  Public Protection  ADP             ADP Adult Probation 21        \n",
       "2  Public Protection  ADP             ADP Adult Probation 21        \n",
       "3  Public Protection  ADP             ADP Adult Probation 21        \n",
       "4  Public Protection  ADP             ADP Adult Probation 21        \n",
       "5  Public Protection  ADP             ADP Adult Probation 21        \n",
       "6  Public Protection  ADP             ADP Adult Probation 21        \n",
       "7  Public Protection  ADP             ADP Adult Probation 21        \n",
       "8  Public Protection  ADP             ADP Adult Probation 21        \n",
       "9  Public Protection  ADP             ADP Adult Probation 21        \n",
       "10 Public Protection  ADP             ADP Adult Probation 21        \n",
       "   Union                                           ... Employee.Identifier\n",
       "1  Prof & Tech Engineers - Miscellaneous, Local 21 ... 37730              \n",
       "2  Prof & Tech Engineers - Miscellaneous, Local 21 ... 26574              \n",
       "3  Prof & Tech Engineers - Miscellaneous, Local 21 ...  8148              \n",
       "4  Prof & Tech Engineers - Miscellaneous, Local 21 ... 27436              \n",
       "5  Prof & Tech Engineers - Miscellaneous, Local 21 ... 37730              \n",
       "6  Prof & Tech Engineers - Miscellaneous, Local 21 ... 36223              \n",
       "7  Prof & Tech Engineers - Miscellaneous, Local 21 ... 51426              \n",
       "8  Prof & Tech Engineers - Miscellaneous, Local 21 ... 26574              \n",
       "9  Prof & Tech Engineers - Miscellaneous, Local 21 ... 37983              \n",
       "10 Prof & Tech Engineers - Miscellaneous, Local 21 ... 16858              \n",
       "   Salaries  Overtime Other.Salaries Total.Salary Retirement Health.and.Dental\n",
       "1   57534.65 0            0.00        57534.65    11253.16   11961.34         \n",
       "2   57678.50 0            0.00        57678.50    10284.88    7176.80         \n",
       "3   63532.93 0            0.00        63532.93    12495.83   12918.24         \n",
       "4  101274.51 0        -7058.59        94215.92    19644.45   12918.24         \n",
       "5    5084.00 0            0.00         5084.00     1083.90     956.91         \n",
       "6   34456.00 0            0.00        34456.00     7346.00    3827.63         \n",
       "7  139889.00 0            0.00       139889.00    26799.23   12918.24         \n",
       "8   46572.00 0            0.00        46572.00     9929.16    5741.44         \n",
       "9   84681.53 0            0.00        84681.53    16661.84   12918.24         \n",
       "10  10611.01 0            0.00        10611.01     1879.20    1435.36         \n",
       "   Other.Benefits Total.Benefits Total.Compensation\n",
       "1  4532.63        27747.13        85281.78         \n",
       "2  4755.14        22216.82        79895.32         \n",
       "3  4702.71        30116.78        93649.71         \n",
       "4  7458.76        40021.45       134237.37         \n",
       "5   387.50         2428.31         7512.31         \n",
       "6  2579.95        13753.58        48209.58         \n",
       "7  9791.54        49509.01       189398.01         \n",
       "8  3822.28        19492.88        66064.88         \n",
       "9  6838.44        36418.52       121100.05         \n",
       "10  827.09         4141.65        14752.66         "
      ]
     },
     "metadata": {},
     "output_type": "display_data"
    }
   ],
   "source": [
    "head(df, n=10)"
   ]
  },
  {
   "cell_type": "markdown",
   "id": "c19c5355",
   "metadata": {},
   "source": [
    "**Comment:** We can't see all of the columns since there are too many so we will print out the column names next."
   ]
  },
  {
   "cell_type": "code",
   "execution_count": 5,
   "id": "d453f119",
   "metadata": {},
   "outputs": [
    {
     "data": {
      "text/html": [
       "309750"
      ],
      "text/latex": [
       "309750"
      ],
      "text/markdown": [
       "309750"
      ],
      "text/plain": [
       "[1] 309750"
      ]
     },
     "metadata": {},
     "output_type": "display_data"
    }
   ],
   "source": [
    "length(unique(df$Employee.Identifier))"
   ]
  },
  {
   "cell_type": "code",
   "execution_count": 6,
   "id": "6aefa9ee",
   "metadata": {},
   "outputs": [
    {
     "data": {
      "text/html": [
       "<ol class=list-inline>\n",
       "\t<li>'Organization.Group.Code'</li>\n",
       "\t<li>'Job.Family.Code'</li>\n",
       "\t<li>'Job.Code'</li>\n",
       "\t<li>'Year.Type'</li>\n",
       "\t<li>'Year'</li>\n",
       "\t<li>'Organization.Group'</li>\n",
       "\t<li>'Department.Code'</li>\n",
       "\t<li>'Department'</li>\n",
       "\t<li>'Union.Code'</li>\n",
       "\t<li>'Union'</li>\n",
       "\t<li>'Job.Family'</li>\n",
       "\t<li>'Job'</li>\n",
       "\t<li>'Employee.Identifier'</li>\n",
       "\t<li>'Salaries'</li>\n",
       "\t<li>'Overtime'</li>\n",
       "\t<li>'Other.Salaries'</li>\n",
       "\t<li>'Total.Salary'</li>\n",
       "\t<li>'Retirement'</li>\n",
       "\t<li>'Health.and.Dental'</li>\n",
       "\t<li>'Other.Benefits'</li>\n",
       "\t<li>'Total.Benefits'</li>\n",
       "\t<li>'Total.Compensation'</li>\n",
       "</ol>\n"
      ],
      "text/latex": [
       "\\begin{enumerate*}\n",
       "\\item 'Organization.Group.Code'\n",
       "\\item 'Job.Family.Code'\n",
       "\\item 'Job.Code'\n",
       "\\item 'Year.Type'\n",
       "\\item 'Year'\n",
       "\\item 'Organization.Group'\n",
       "\\item 'Department.Code'\n",
       "\\item 'Department'\n",
       "\\item 'Union.Code'\n",
       "\\item 'Union'\n",
       "\\item 'Job.Family'\n",
       "\\item 'Job'\n",
       "\\item 'Employee.Identifier'\n",
       "\\item 'Salaries'\n",
       "\\item 'Overtime'\n",
       "\\item 'Other.Salaries'\n",
       "\\item 'Total.Salary'\n",
       "\\item 'Retirement'\n",
       "\\item 'Health.and.Dental'\n",
       "\\item 'Other.Benefits'\n",
       "\\item 'Total.Benefits'\n",
       "\\item 'Total.Compensation'\n",
       "\\end{enumerate*}\n"
      ],
      "text/markdown": [
       "1. 'Organization.Group.Code'\n",
       "2. 'Job.Family.Code'\n",
       "3. 'Job.Code'\n",
       "4. 'Year.Type'\n",
       "5. 'Year'\n",
       "6. 'Organization.Group'\n",
       "7. 'Department.Code'\n",
       "8. 'Department'\n",
       "9. 'Union.Code'\n",
       "10. 'Union'\n",
       "11. 'Job.Family'\n",
       "12. 'Job'\n",
       "13. 'Employee.Identifier'\n",
       "14. 'Salaries'\n",
       "15. 'Overtime'\n",
       "16. 'Other.Salaries'\n",
       "17. 'Total.Salary'\n",
       "18. 'Retirement'\n",
       "19. 'Health.and.Dental'\n",
       "20. 'Other.Benefits'\n",
       "21. 'Total.Benefits'\n",
       "22. 'Total.Compensation'\n",
       "\n",
       "\n"
      ],
      "text/plain": [
       " [1] \"Organization.Group.Code\" \"Job.Family.Code\"        \n",
       " [3] \"Job.Code\"                \"Year.Type\"              \n",
       " [5] \"Year\"                    \"Organization.Group\"     \n",
       " [7] \"Department.Code\"         \"Department\"             \n",
       " [9] \"Union.Code\"              \"Union\"                  \n",
       "[11] \"Job.Family\"              \"Job\"                    \n",
       "[13] \"Employee.Identifier\"     \"Salaries\"               \n",
       "[15] \"Overtime\"                \"Other.Salaries\"         \n",
       "[17] \"Total.Salary\"            \"Retirement\"             \n",
       "[19] \"Health.and.Dental\"       \"Other.Benefits\"         \n",
       "[21] \"Total.Benefits\"          \"Total.Compensation\"     "
      ]
     },
     "metadata": {},
     "output_type": "display_data"
    }
   ],
   "source": [
    "names(df)"
   ]
  },
  {
   "cell_type": "code",
   "execution_count": 7,
   "id": "2d2d4f7b",
   "metadata": {},
   "outputs": [
    {
     "name": "stdout",
     "output_type": "stream",
     "text": [
      "Observations: 683,277\n",
      "Variables: 22\n",
      "$ Organization.Group.Code <int> 1, 1, 1, 1, 1, 1, 1, 1, 1, 1, 1, 1, 1, 1, 1, …\n",
      "$ Job.Family.Code         <chr> \"1000\", \"1000\", \"1000\", \"1000\", \"1000\", \"1000…\n",
      "$ Job.Code                <chr> \"1021\", \"1023\", \"1031\", \"1054\", \"1062\", \"1064…\n",
      "$ Year.Type               <chr> \"Calendar\", \"Calendar\", \"Calendar\", \"Calendar…\n",
      "$ Year                    <int> 2013, 2013, 2013, 2013, 2013, 2013, 2013, 201…\n",
      "$ Organization.Group      <chr> \"Public Protection\", \"Public Protection\", \"Pu…\n",
      "$ Department.Code         <chr> \"ADP\", \"ADP\", \"ADP\", \"ADP\", \"ADP\", \"ADP\", \"AD…\n",
      "$ Department              <chr> \"ADP Adult Probation\", \"ADP Adult Probation\",…\n",
      "$ Union.Code              <int> 21, 21, 21, 21, 21, 21, 21, 21, 21, 21, 21, 2…\n",
      "$ Union                   <chr> \"Prof & Tech Engineers - Miscellaneous, Local…\n",
      "$ Job.Family              <chr> \"Information Systems\", \"Information Systems\",…\n",
      "$ Job                     <chr> \"IS Administrator 1\", \"IS Administrator 3\", \"…\n",
      "$ Employee.Identifier     <int> 37730, 26574, 8148, 27436, 37730, 36223, 5142…\n",
      "$ Salaries                <dbl> 57534.65, 57678.50, 63532.93, 101274.51, 5084…\n",
      "$ Overtime                <dbl> 0, 0, 0, 0, 0, 0, 0, 0, 0, 0, 0, 0, 0, 0, 0, …\n",
      "$ Other.Salaries          <dbl> 0.00, 0.00, 0.00, -7058.59, 0.00, 0.00, 0.00,…\n",
      "$ Total.Salary            <dbl> 57534.65, 57678.50, 63532.93, 94215.92, 5084.…\n",
      "$ Retirement              <dbl> 11253.16, 10284.88, 12495.83, 19644.45, 1083.…\n",
      "$ Health.and.Dental       <dbl> 11961.34, 7176.80, 12918.24, 12918.24, 956.91…\n",
      "$ Other.Benefits          <dbl> 4532.63, 4755.14, 4702.71, 7458.76, 387.50, 2…\n",
      "$ Total.Benefits          <dbl> 27747.13, 22216.82, 30116.78, 40021.45, 2428.…\n",
      "$ Total.Compensation      <dbl> 85281.78, 79895.32, 93649.71, 134237.37, 7512…\n"
     ]
    }
   ],
   "source": [
    "# str(df)\n",
    "glimpse(df)"
   ]
  },
  {
   "cell_type": "code",
   "execution_count": 8,
   "id": "c3d9aa15",
   "metadata": {},
   "outputs": [
    {
     "data": {
      "text/html": [
       "<dl class=dl-horizontal>\n",
       "\t<dt>Organization.Group.Code</dt>\n",
       "\t\t<dd>'integer'</dd>\n",
       "\t<dt>Job.Family.Code</dt>\n",
       "\t\t<dd>'character'</dd>\n",
       "\t<dt>Job.Code</dt>\n",
       "\t\t<dd>'character'</dd>\n",
       "\t<dt>Year.Type</dt>\n",
       "\t\t<dd>'character'</dd>\n",
       "\t<dt>Year</dt>\n",
       "\t\t<dd>'integer'</dd>\n",
       "\t<dt>Organization.Group</dt>\n",
       "\t\t<dd>'character'</dd>\n",
       "\t<dt>Department.Code</dt>\n",
       "\t\t<dd>'character'</dd>\n",
       "\t<dt>Department</dt>\n",
       "\t\t<dd>'character'</dd>\n",
       "\t<dt>Union.Code</dt>\n",
       "\t\t<dd>'integer'</dd>\n",
       "\t<dt>Union</dt>\n",
       "\t\t<dd>'character'</dd>\n",
       "\t<dt>Job.Family</dt>\n",
       "\t\t<dd>'character'</dd>\n",
       "\t<dt>Job</dt>\n",
       "\t\t<dd>'character'</dd>\n",
       "\t<dt>Employee.Identifier</dt>\n",
       "\t\t<dd>'integer'</dd>\n",
       "\t<dt>Salaries</dt>\n",
       "\t\t<dd>'numeric'</dd>\n",
       "\t<dt>Overtime</dt>\n",
       "\t\t<dd>'numeric'</dd>\n",
       "\t<dt>Other.Salaries</dt>\n",
       "\t\t<dd>'numeric'</dd>\n",
       "\t<dt>Total.Salary</dt>\n",
       "\t\t<dd>'numeric'</dd>\n",
       "\t<dt>Retirement</dt>\n",
       "\t\t<dd>'numeric'</dd>\n",
       "\t<dt>Health.and.Dental</dt>\n",
       "\t\t<dd>'numeric'</dd>\n",
       "\t<dt>Other.Benefits</dt>\n",
       "\t\t<dd>'numeric'</dd>\n",
       "\t<dt>Total.Benefits</dt>\n",
       "\t\t<dd>'numeric'</dd>\n",
       "\t<dt>Total.Compensation</dt>\n",
       "\t\t<dd>'numeric'</dd>\n",
       "</dl>\n"
      ],
      "text/latex": [
       "\\begin{description*}\n",
       "\\item[Organization.Group.Code] 'integer'\n",
       "\\item[Job.Family.Code] 'character'\n",
       "\\item[Job.Code] 'character'\n",
       "\\item[Year.Type] 'character'\n",
       "\\item[Year] 'integer'\n",
       "\\item[Organization.Group] 'character'\n",
       "\\item[Department.Code] 'character'\n",
       "\\item[Department] 'character'\n",
       "\\item[Union.Code] 'integer'\n",
       "\\item[Union] 'character'\n",
       "\\item[Job.Family] 'character'\n",
       "\\item[Job] 'character'\n",
       "\\item[Employee.Identifier] 'integer'\n",
       "\\item[Salaries] 'numeric'\n",
       "\\item[Overtime] 'numeric'\n",
       "\\item[Other.Salaries] 'numeric'\n",
       "\\item[Total.Salary] 'numeric'\n",
       "\\item[Retirement] 'numeric'\n",
       "\\item[Health.and.Dental] 'numeric'\n",
       "\\item[Other.Benefits] 'numeric'\n",
       "\\item[Total.Benefits] 'numeric'\n",
       "\\item[Total.Compensation] 'numeric'\n",
       "\\end{description*}\n"
      ],
      "text/markdown": [
       "Organization.Group.Code\n",
       ":   'integer'Job.Family.Code\n",
       ":   'character'Job.Code\n",
       ":   'character'Year.Type\n",
       ":   'character'Year\n",
       ":   'integer'Organization.Group\n",
       ":   'character'Department.Code\n",
       ":   'character'Department\n",
       ":   'character'Union.Code\n",
       ":   'integer'Union\n",
       ":   'character'Job.Family\n",
       ":   'character'Job\n",
       ":   'character'Employee.Identifier\n",
       ":   'integer'Salaries\n",
       ":   'numeric'Overtime\n",
       ":   'numeric'Other.Salaries\n",
       ":   'numeric'Total.Salary\n",
       ":   'numeric'Retirement\n",
       ":   'numeric'Health.and.Dental\n",
       ":   'numeric'Other.Benefits\n",
       ":   'numeric'Total.Benefits\n",
       ":   'numeric'Total.Compensation\n",
       ":   'numeric'\n",
       "\n"
      ],
      "text/plain": [
       "Organization.Group.Code         Job.Family.Code                Job.Code \n",
       "              \"integer\"             \"character\"             \"character\" \n",
       "              Year.Type                    Year      Organization.Group \n",
       "            \"character\"               \"integer\"             \"character\" \n",
       "        Department.Code              Department              Union.Code \n",
       "            \"character\"             \"character\"               \"integer\" \n",
       "                  Union              Job.Family                     Job \n",
       "            \"character\"             \"character\"             \"character\" \n",
       "    Employee.Identifier                Salaries                Overtime \n",
       "              \"integer\"               \"numeric\"               \"numeric\" \n",
       "         Other.Salaries            Total.Salary              Retirement \n",
       "              \"numeric\"               \"numeric\"               \"numeric\" \n",
       "      Health.and.Dental          Other.Benefits          Total.Benefits \n",
       "              \"numeric\"               \"numeric\"               \"numeric\" \n",
       "     Total.Compensation \n",
       "              \"numeric\" "
      ]
     },
     "metadata": {},
     "output_type": "display_data"
    }
   ],
   "source": [
    "sapply(df, class)"
   ]
  },
  {
   "cell_type": "markdown",
   "id": "462872fd",
   "metadata": {},
   "source": [
    "## 3. Subsets of Data"
   ]
  },
  {
   "cell_type": "code",
   "execution_count": 9,
   "id": "02e4841e",
   "metadata": {
    "scrolled": true
   },
   "outputs": [
    {
     "data": {
      "text/html": [
       "<table>\n",
       "<thead><tr><th scope=col>Job</th><th scope=col>Job.Family</th><th scope=col>Salaries</th><th scope=col>Total.Compensation</th></tr></thead>\n",
       "<tbody>\n",
       "\t<tr><td>IS Administrator 1           </td><td>Information Systems          </td><td> 57534.65                    </td><td> 85281.78                    </td></tr>\n",
       "\t<tr><td>IS Administrator 3           </td><td>Information Systems          </td><td> 57678.50                    </td><td> 79895.32                    </td></tr>\n",
       "\t<tr><td>IS Trainer-Assistant         </td><td>Information Systems          </td><td> 63532.93                    </td><td> 93649.71                    </td></tr>\n",
       "\t<tr><td>IS Business Analyst-Principal</td><td>Information Systems          </td><td>101274.51                    </td><td>134237.37                    </td></tr>\n",
       "\t<tr><td>IS Programmer Analyst        </td><td>Information Systems          </td><td>  5084.00                    </td><td>  7512.31                    </td></tr>\n",
       "</tbody>\n",
       "</table>\n"
      ],
      "text/latex": [
       "\\begin{tabular}{r|llll}\n",
       " Job & Job.Family & Salaries & Total.Compensation\\\\\n",
       "\\hline\n",
       "\t IS Administrator 1            & Information Systems           &  57534.65                     &  85281.78                    \\\\\n",
       "\t IS Administrator 3            & Information Systems           &  57678.50                     &  79895.32                    \\\\\n",
       "\t IS Trainer-Assistant          & Information Systems           &  63532.93                     &  93649.71                    \\\\\n",
       "\t IS Business Analyst-Principal & Information Systems           & 101274.51                     & 134237.37                    \\\\\n",
       "\t IS Programmer Analyst         & Information Systems           &   5084.00                     &   7512.31                    \\\\\n",
       "\\end{tabular}\n"
      ],
      "text/markdown": [
       "\n",
       "| Job | Job.Family | Salaries | Total.Compensation |\n",
       "|---|---|---|---|\n",
       "| IS Administrator 1            | Information Systems           |  57534.65                     |  85281.78                     |\n",
       "| IS Administrator 3            | Information Systems           |  57678.50                     |  79895.32                     |\n",
       "| IS Trainer-Assistant          | Information Systems           |  63532.93                     |  93649.71                     |\n",
       "| IS Business Analyst-Principal | Information Systems           | 101274.51                     | 134237.37                     |\n",
       "| IS Programmer Analyst         | Information Systems           |   5084.00                     |   7512.31                     |\n",
       "\n"
      ],
      "text/plain": [
       "  Job                           Job.Family          Salaries \n",
       "1 IS Administrator 1            Information Systems  57534.65\n",
       "2 IS Administrator 3            Information Systems  57678.50\n",
       "3 IS Trainer-Assistant          Information Systems  63532.93\n",
       "4 IS Business Analyst-Principal Information Systems 101274.51\n",
       "5 IS Programmer Analyst         Information Systems   5084.00\n",
       "  Total.Compensation\n",
       "1  85281.78         \n",
       "2  79895.32         \n",
       "3  93649.71         \n",
       "4 134237.37         \n",
       "5   7512.31         "
      ]
     },
     "metadata": {},
     "output_type": "display_data"
    }
   ],
   "source": [
    "job.salaries <- df %>% \n",
    "    select(Job,Job.Family,Salaries,Total.Compensation) %>%\n",
    "    filter(Salaries > 0)\n",
    "\n",
    "head(job.salaries, n=5)"
   ]
  },
  {
   "cell_type": "code",
   "execution_count": 10,
   "id": "9a809190",
   "metadata": {},
   "outputs": [
    {
     "data": {
      "text/html": [
       "671457"
      ],
      "text/latex": [
       "671457"
      ],
      "text/markdown": [
       "671457"
      ],
      "text/plain": [
       "[1] 671457"
      ]
     },
     "metadata": {},
     "output_type": "display_data"
    }
   ],
   "source": [
    "nrow(job.salaries)"
   ]
  },
  {
   "cell_type": "code",
   "execution_count": 11,
   "id": "ca41889b",
   "metadata": {},
   "outputs": [],
   "source": [
    "# job.salaries %>% \n",
    "#     arrange(desc(Salaries))"
   ]
  },
  {
   "cell_type": "code",
   "execution_count": 12,
   "id": "73ac7bd6",
   "metadata": {},
   "outputs": [
    {
     "data": {
      "text/html": [
       "<table>\n",
       "<thead><tr><th scope=col>Job.Family</th><th scope=col>n</th></tr></thead>\n",
       "<tbody>\n",
       "\t<tr><td>Nursing                      </td><td>70127                        </td></tr>\n",
       "\t<tr><td>Street Transit               </td><td>55214                        </td></tr>\n",
       "\t<tr><td>Police Services              </td><td>41503                        </td></tr>\n",
       "\t<tr><td>Journeyman Trade             </td><td>39005                        </td></tr>\n",
       "\t<tr><td>Human Services               </td><td>34713                        </td></tr>\n",
       "\t<tr><td>Public Service Aide          </td><td>31305                        </td></tr>\n",
       "\t<tr><td>Clerical, Secretarial &amp; Steno</td><td>29146                            </td></tr>\n",
       "\t<tr><td>Fire Services                </td><td>27619                        </td></tr>\n",
       "\t<tr><td><span style=white-space:pre-wrap>Housekeeping &amp; Laundry       </span></td><td>21863                                                                    </td></tr>\n",
       "\t<tr><td>Management                   </td><td>20884                        </td></tr>\n",
       "</tbody>\n",
       "</table>\n"
      ],
      "text/latex": [
       "\\begin{tabular}{r|ll}\n",
       " Job.Family & n\\\\\n",
       "\\hline\n",
       "\t Nursing                       & 70127                        \\\\\n",
       "\t Street Transit                & 55214                        \\\\\n",
       "\t Police Services               & 41503                        \\\\\n",
       "\t Journeyman Trade              & 39005                        \\\\\n",
       "\t Human Services                & 34713                        \\\\\n",
       "\t Public Service Aide           & 31305                        \\\\\n",
       "\t Clerical, Secretarial \\& Steno & 29146                          \\\\\n",
       "\t Fire Services                 & 27619                        \\\\\n",
       "\t Housekeeping \\& Laundry        & 21863                          \\\\\n",
       "\t Management                    & 20884                        \\\\\n",
       "\\end{tabular}\n"
      ],
      "text/markdown": [
       "\n",
       "| Job.Family | n |\n",
       "|---|---|\n",
       "| Nursing                       | 70127                         |\n",
       "| Street Transit                | 55214                         |\n",
       "| Police Services               | 41503                         |\n",
       "| Journeyman Trade              | 39005                         |\n",
       "| Human Services                | 34713                         |\n",
       "| Public Service Aide           | 31305                         |\n",
       "| Clerical, Secretarial & Steno | 29146                         |\n",
       "| Fire Services                 | 27619                         |\n",
       "| Housekeeping & Laundry        | 21863                         |\n",
       "| Management                    | 20884                         |\n",
       "\n"
      ],
      "text/plain": [
       "   Job.Family                    n    \n",
       "1  Nursing                       70127\n",
       "2  Street Transit                55214\n",
       "3  Police Services               41503\n",
       "4  Journeyman Trade              39005\n",
       "5  Human Services                34713\n",
       "6  Public Service Aide           31305\n",
       "7  Clerical, Secretarial & Steno 29146\n",
       "8  Fire Services                 27619\n",
       "9  Housekeeping & Laundry        21863\n",
       "10 Management                    20884"
      ]
     },
     "metadata": {},
     "output_type": "display_data"
    }
   ],
   "source": [
    "head(job.salaries %>%\n",
    "    count(Job.Family, sort=T), n=10)\n",
    "\n",
    "# job.salaries %>%\n",
    "#     count(Job.Family, sort=T, wt=Salaries)"
   ]
  },
  {
   "cell_type": "markdown",
   "id": "daec2671",
   "metadata": {},
   "source": [
    "### 3.1 Average Salaries, Compensation by Job Family"
   ]
  },
  {
   "cell_type": "code",
   "execution_count": 13,
   "id": "86fd7a79",
   "metadata": {},
   "outputs": [
    {
     "data": {
      "text/html": [
       "<table>\n",
       "<thead><tr><th scope=col>Job.Family</th><th scope=col>avg_salaries</th></tr></thead>\n",
       "<tbody>\n",
       "\t<tr><td>Administrative &amp; Mgmt (Unrep)</td><td>237005.3                         </td></tr>\n",
       "\t<tr><td>Unassigned                   </td><td>147929.4                     </td></tr>\n",
       "\t<tr><td>Construction Project Mgmt    </td><td>126806.2                     </td></tr>\n",
       "\t<tr><td>Administrative-DPW/PUC       </td><td>124543.1                     </td></tr>\n",
       "\t<tr><td>Management                   </td><td>120669.6                     </td></tr>\n",
       "\t<tr><td><span style=white-space:pre-wrap>Medical &amp; Dental             </span></td><td>117536.1                                                                 </td></tr>\n",
       "\t<tr><td><span style=white-space:pre-wrap>Legal &amp; Court                </span></td><td>113306.6                                                                 </td></tr>\n",
       "\t<tr><td>Administrative-Labor &amp; Trades</td><td>110067.2                         </td></tr>\n",
       "\t<tr><td>Fire Services                </td><td>105072.4                     </td></tr>\n",
       "\t<tr><td>Port Operation               </td><td>103672.1                     </td></tr>\n",
       "</tbody>\n",
       "</table>\n"
      ],
      "text/latex": [
       "\\begin{tabular}{r|ll}\n",
       " Job.Family & avg\\_salaries\\\\\n",
       "\\hline\n",
       "\t Administrative \\& Mgmt (Unrep) & 237005.3                       \\\\\n",
       "\t Unassigned                    & 147929.4                     \\\\\n",
       "\t Construction Project Mgmt     & 126806.2                     \\\\\n",
       "\t Administrative-DPW/PUC        & 124543.1                     \\\\\n",
       "\t Management                    & 120669.6                     \\\\\n",
       "\t Medical \\& Dental              & 117536.1                       \\\\\n",
       "\t Legal \\& Court                 & 113306.6                       \\\\\n",
       "\t Administrative-Labor \\& Trades & 110067.2                       \\\\\n",
       "\t Fire Services                 & 105072.4                     \\\\\n",
       "\t Port Operation                & 103672.1                     \\\\\n",
       "\\end{tabular}\n"
      ],
      "text/markdown": [
       "\n",
       "| Job.Family | avg_salaries |\n",
       "|---|---|\n",
       "| Administrative & Mgmt (Unrep) | 237005.3                      |\n",
       "| Unassigned                    | 147929.4                      |\n",
       "| Construction Project Mgmt     | 126806.2                      |\n",
       "| Administrative-DPW/PUC        | 124543.1                      |\n",
       "| Management                    | 120669.6                      |\n",
       "| Medical & Dental              | 117536.1                      |\n",
       "| Legal & Court                 | 113306.6                      |\n",
       "| Administrative-Labor & Trades | 110067.2                      |\n",
       "| Fire Services                 | 105072.4                      |\n",
       "| Port Operation                | 103672.1                      |\n",
       "\n"
      ],
      "text/plain": [
       "   Job.Family                    avg_salaries\n",
       "1  Administrative & Mgmt (Unrep) 237005.3    \n",
       "2  Unassigned                    147929.4    \n",
       "3  Construction Project Mgmt     126806.2    \n",
       "4  Administrative-DPW/PUC        124543.1    \n",
       "5  Management                    120669.6    \n",
       "6  Medical & Dental              117536.1    \n",
       "7  Legal & Court                 113306.6    \n",
       "8  Administrative-Labor & Trades 110067.2    \n",
       "9  Fire Services                 105072.4    \n",
       "10 Port Operation                103672.1    "
      ]
     },
     "metadata": {},
     "output_type": "display_data"
    }
   ],
   "source": [
    "# avg.salaries <- df %>% \n",
    "#     group_by(Job.Family) %>%\n",
    "#     summarize(count = n(), avg_salaries = mean(Salaries), avg_compensation = mean(Total.Compensation), percent = 100 * n()/sum(nrow(df))) %>%\n",
    "#     arrange(desc(avg_salaries))\n",
    "\n",
    "avg.salaries.df <- df %>% \n",
    "    group_by(Job.Family) %>%\n",
    "    summarize(avg_salaries = mean(Salaries)) %>%\n",
    "    arrange(desc(avg_salaries)) %>%\n",
    "    ungroup\n",
    "\n",
    "head(avg.salaries.df, n=10)"
   ]
  },
  {
   "cell_type": "markdown",
   "id": "c87048a3",
   "metadata": {},
   "source": [
    "### 3.2 Top 10 Highest Paying Jobs"
   ]
  },
  {
   "cell_type": "code",
   "execution_count": 14,
   "id": "9d8b6a91",
   "metadata": {},
   "outputs": [],
   "source": [
    "top.paid.jobs <- df %>% \n",
    "    select(Job, Department, Total.Compensation) %>%\n",
    "    arrange(desc(Total.Compensation))"
   ]
  },
  {
   "cell_type": "code",
   "execution_count": 15,
   "id": "66130607",
   "metadata": {},
   "outputs": [
    {
     "data": {
      "text/html": [
       "<table>\n",
       "<thead><tr><th scope=col>Job</th><th scope=col>Department</th><th scope=col>Total.Compensation</th></tr></thead>\n",
       "<tbody>\n",
       "\t<tr><td>Police Officer 3           </td><td>Police                     </td><td>807625.2                   </td></tr>\n",
       "\t<tr><td>Chief Investment Officer   </td><td>Retirement Services        </td><td>735942.8                   </td></tr>\n",
       "\t<tr><td>Chief Investment Officer   </td><td>Retirement Services        </td><td>724031.1                   </td></tr>\n",
       "\t<tr><td>Police Officer 3           </td><td>Police                     </td><td>721649.9                   </td></tr>\n",
       "\t<tr><td>Chief Investment Officer   </td><td>Retirement Services        </td><td>707130.0                   </td></tr>\n",
       "\t<tr><td>Chief Investment Officer   </td><td>Retirement Services        </td><td>701272.4                   </td></tr>\n",
       "\t<tr><td>Chief Investment Officer   </td><td>Retirement Services        </td><td>685601.7                   </td></tr>\n",
       "\t<tr><td>Chief Investment Officer   </td><td>Retirement Services        </td><td>677935.5                   </td></tr>\n",
       "\t<tr><td>Dep Chf of Dept (Fire Dept)</td><td>Fire Department            </td><td>668896.5                   </td></tr>\n",
       "\t<tr><td>Chief Investment Officer   </td><td>RET Retirement System      </td><td>668412.4                   </td></tr>\n",
       "</tbody>\n",
       "</table>\n"
      ],
      "text/latex": [
       "\\begin{tabular}{r|lll}\n",
       " Job & Department & Total.Compensation\\\\\n",
       "\\hline\n",
       "\t Police Officer 3            & Police                      & 807625.2                   \\\\\n",
       "\t Chief Investment Officer    & Retirement Services         & 735942.8                   \\\\\n",
       "\t Chief Investment Officer    & Retirement Services         & 724031.1                   \\\\\n",
       "\t Police Officer 3            & Police                      & 721649.9                   \\\\\n",
       "\t Chief Investment Officer    & Retirement Services         & 707130.0                   \\\\\n",
       "\t Chief Investment Officer    & Retirement Services         & 701272.4                   \\\\\n",
       "\t Chief Investment Officer    & Retirement Services         & 685601.7                   \\\\\n",
       "\t Chief Investment Officer    & Retirement Services         & 677935.5                   \\\\\n",
       "\t Dep Chf of Dept (Fire Dept) & Fire Department             & 668896.5                   \\\\\n",
       "\t Chief Investment Officer    & RET Retirement System       & 668412.4                   \\\\\n",
       "\\end{tabular}\n"
      ],
      "text/markdown": [
       "\n",
       "| Job | Department | Total.Compensation |\n",
       "|---|---|---|\n",
       "| Police Officer 3            | Police                      | 807625.2                    |\n",
       "| Chief Investment Officer    | Retirement Services         | 735942.8                    |\n",
       "| Chief Investment Officer    | Retirement Services         | 724031.1                    |\n",
       "| Police Officer 3            | Police                      | 721649.9                    |\n",
       "| Chief Investment Officer    | Retirement Services         | 707130.0                    |\n",
       "| Chief Investment Officer    | Retirement Services         | 701272.4                    |\n",
       "| Chief Investment Officer    | Retirement Services         | 685601.7                    |\n",
       "| Chief Investment Officer    | Retirement Services         | 677935.5                    |\n",
       "| Dep Chf of Dept (Fire Dept) | Fire Department             | 668896.5                    |\n",
       "| Chief Investment Officer    | RET Retirement System       | 668412.4                    |\n",
       "\n"
      ],
      "text/plain": [
       "   Job                         Department            Total.Compensation\n",
       "1  Police Officer 3            Police                807625.2          \n",
       "2  Chief Investment Officer    Retirement Services   735942.8          \n",
       "3  Chief Investment Officer    Retirement Services   724031.1          \n",
       "4  Police Officer 3            Police                721649.9          \n",
       "5  Chief Investment Officer    Retirement Services   707130.0          \n",
       "6  Chief Investment Officer    Retirement Services   701272.4          \n",
       "7  Chief Investment Officer    Retirement Services   685601.7          \n",
       "8  Chief Investment Officer    Retirement Services   677935.5          \n",
       "9  Dep Chf of Dept (Fire Dept) Fire Department       668896.5          \n",
       "10 Chief Investment Officer    RET Retirement System 668412.4          "
      ]
     },
     "metadata": {},
     "output_type": "display_data"
    }
   ],
   "source": [
    "head(top.paid.jobs, n=10)"
   ]
  },
  {
   "cell_type": "code",
   "execution_count": 16,
   "id": "6ab7af01",
   "metadata": {},
   "outputs": [
    {
     "name": "stdout",
     "output_type": "stream",
     "text": [
      "# A tibble: 10 x 2\n",
      "   Job                            Total_Compensation\n",
      "   <chr>                                       <dbl>\n",
      " 1 Chief Investment Officer                  496297.\n",
      " 2 Physician Administrator, DPH              488861.\n",
      " 3 Managing Director                         451704.\n",
      " 4 Sup Psychiatric Physician Spec            441229.\n",
      " 5 Chief, Fire Department                    436281.\n",
      " 6 Administrator, DPH                        418256.\n",
      " 7 Director                                  400767.\n",
      " 8 Assistant Chief of Police                 398627.\n",
      " 9 Controller                                377979.\n",
      "10 Gen Mgr, Public Trnsp Dept                377815.\n"
     ]
    }
   ],
   "source": [
    "top_10_jobs <- df %>%\n",
    "  group_by(Job) %>%\n",
    "  summarise(Total_Compensation = mean(Total.Compensation)) %>%\n",
    "  arrange(desc(Total_Compensation)) %>%\n",
    "  head(10)\n",
    "\n",
    "print(top_10_jobs)"
   ]
  },
  {
   "cell_type": "markdown",
   "id": "d1c59aa9",
   "metadata": {},
   "source": [
    "### 3.3 Yearly Salary Trends"
   ]
  },
  {
   "cell_type": "code",
   "execution_count": 17,
   "id": "faa9de5a",
   "metadata": {},
   "outputs": [],
   "source": [
    "yearly.salary <- df %>%\n",
    "    group_by(Year) %>%\n",
    "    summarise(avg_salary = mean(Salaries), avg_overtime = mean(Overtime), avg_total_salary = mean(Total.Salary))"
   ]
  },
  {
   "cell_type": "code",
   "execution_count": 18,
   "id": "0e63c088",
   "metadata": {},
   "outputs": [
    {
     "data": {
      "text/html": [
       "<table>\n",
       "<thead><tr><th scope=col>Year</th><th scope=col>avg_salary</th><th scope=col>avg_overtime</th><th scope=col>avg_total_salary</th></tr></thead>\n",
       "<tbody>\n",
       "\t<tr><td>2013    </td><td>63801.78</td><td>4249.039</td><td>72023.35</td></tr>\n",
       "\t<tr><td>2014    </td><td>62089.04</td><td>4305.350</td><td>70218.11</td></tr>\n",
       "\t<tr><td>2015    </td><td>62884.41</td><td>4411.050</td><td>70920.06</td></tr>\n",
       "\t<tr><td>2016    </td><td>65688.75</td><td>4928.004</td><td>74309.36</td></tr>\n",
       "\t<tr><td>2017    </td><td>71180.22</td><td>5675.529</td><td>80290.33</td></tr>\n",
       "\t<tr><td>2018    </td><td>76083.92</td><td>6490.329</td><td>85970.82</td></tr>\n",
       "\t<tr><td>2019    </td><td>76222.49</td><td>7076.575</td><td>86788.81</td></tr>\n",
       "\t<tr><td>2020    </td><td>82828.64</td><td>7306.643</td><td>93996.42</td></tr>\n",
       "</tbody>\n",
       "</table>\n"
      ],
      "text/latex": [
       "\\begin{tabular}{r|llll}\n",
       " Year & avg\\_salary & avg\\_overtime & avg\\_total\\_salary\\\\\n",
       "\\hline\n",
       "\t 2013     & 63801.78 & 4249.039 & 72023.35\\\\\n",
       "\t 2014     & 62089.04 & 4305.350 & 70218.11\\\\\n",
       "\t 2015     & 62884.41 & 4411.050 & 70920.06\\\\\n",
       "\t 2016     & 65688.75 & 4928.004 & 74309.36\\\\\n",
       "\t 2017     & 71180.22 & 5675.529 & 80290.33\\\\\n",
       "\t 2018     & 76083.92 & 6490.329 & 85970.82\\\\\n",
       "\t 2019     & 76222.49 & 7076.575 & 86788.81\\\\\n",
       "\t 2020     & 82828.64 & 7306.643 & 93996.42\\\\\n",
       "\\end{tabular}\n"
      ],
      "text/markdown": [
       "\n",
       "| Year | avg_salary | avg_overtime | avg_total_salary |\n",
       "|---|---|---|---|\n",
       "| 2013     | 63801.78 | 4249.039 | 72023.35 |\n",
       "| 2014     | 62089.04 | 4305.350 | 70218.11 |\n",
       "| 2015     | 62884.41 | 4411.050 | 70920.06 |\n",
       "| 2016     | 65688.75 | 4928.004 | 74309.36 |\n",
       "| 2017     | 71180.22 | 5675.529 | 80290.33 |\n",
       "| 2018     | 76083.92 | 6490.329 | 85970.82 |\n",
       "| 2019     | 76222.49 | 7076.575 | 86788.81 |\n",
       "| 2020     | 82828.64 | 7306.643 | 93996.42 |\n",
       "\n"
      ],
      "text/plain": [
       "  Year avg_salary avg_overtime avg_total_salary\n",
       "1 2013 63801.78   4249.039     72023.35        \n",
       "2 2014 62089.04   4305.350     70218.11        \n",
       "3 2015 62884.41   4411.050     70920.06        \n",
       "4 2016 65688.75   4928.004     74309.36        \n",
       "5 2017 71180.22   5675.529     80290.33        \n",
       "6 2018 76083.92   6490.329     85970.82        \n",
       "7 2019 76222.49   7076.575     86788.81        \n",
       "8 2020 82828.64   7306.643     93996.42        "
      ]
     },
     "metadata": {},
     "output_type": "display_data"
    }
   ],
   "source": [
    "head(yearly.salary, n=8)"
   ]
  },
  {
   "cell_type": "markdown",
   "id": "1edabbca",
   "metadata": {},
   "source": [
    "### 3.4 Union vs Non-Union "
   ]
  },
  {
   "cell_type": "code",
   "execution_count": 19,
   "id": "a1a33a1c",
   "metadata": {},
   "outputs": [],
   "source": [
    "union <- df %>%\n",
    "    group_by(Union) %>%\n",
    "    summarise(avg_salary = mean(Salaries), avg_total_benefits = mean(Total.Benefits), avg_total_compensation = mean(Total.Compensation)) %>%\n",
    "    arrange(desc(avg_salary))"
   ]
  },
  {
   "cell_type": "code",
   "execution_count": 20,
   "id": "cb413604",
   "metadata": {},
   "outputs": [
    {
     "data": {
      "text/html": [
       "<table>\n",
       "<thead><tr><th scope=col>Union</th><th scope=col>avg_salary</th><th scope=col>avg_total_benefits</th><th scope=col>avg_total_compensation</th></tr></thead>\n",
       "<tbody>\n",
       "\t<tr><td>Unrepresented Contract Rte FBP          </td><td>330199.8                                </td><td>94823.93                                </td><td>425559.5                                </td></tr>\n",
       "\t<tr><td>Management Unrepresented Employees - MTA</td><td>305029.5                                </td><td>94299.66                                </td><td>399329.1                                </td></tr>\n",
       "\t<tr><td>Indv. Employment Contract-MTA           </td><td>264807.3                                </td><td>75609.68                                </td><td>353611.6                                </td></tr>\n",
       "\t<tr><td>Municipal Exec Assoc, Police            </td><td>258464.7                                </td><td>73991.33                                </td><td>353232.8                                </td></tr>\n",
       "\t<tr><td>Physician/Dentists 11-AA, UAPD          </td><td>239092.1                                </td><td>73227.59                                </td><td>324426.1                                </td></tr>\n",
       "\t<tr><td>Executive Contract Employees            </td><td>228060.2                                </td><td>74467.03                                </td><td>328158.6                                </td></tr>\n",
       "</tbody>\n",
       "</table>\n"
      ],
      "text/latex": [
       "\\begin{tabular}{r|llll}\n",
       " Union & avg\\_salary & avg\\_total\\_benefits & avg\\_total\\_compensation\\\\\n",
       "\\hline\n",
       "\t Unrepresented Contract Rte FBP           & 330199.8                                 & 94823.93                                 & 425559.5                                \\\\\n",
       "\t Management Unrepresented Employees - MTA & 305029.5                                 & 94299.66                                 & 399329.1                                \\\\\n",
       "\t Indv. Employment Contract-MTA            & 264807.3                                 & 75609.68                                 & 353611.6                                \\\\\n",
       "\t Municipal Exec Assoc, Police             & 258464.7                                 & 73991.33                                 & 353232.8                                \\\\\n",
       "\t Physician/Dentists 11-AA, UAPD           & 239092.1                                 & 73227.59                                 & 324426.1                                \\\\\n",
       "\t Executive Contract Employees             & 228060.2                                 & 74467.03                                 & 328158.6                                \\\\\n",
       "\\end{tabular}\n"
      ],
      "text/markdown": [
       "\n",
       "| Union | avg_salary | avg_total_benefits | avg_total_compensation |\n",
       "|---|---|---|---|\n",
       "| Unrepresented Contract Rte FBP           | 330199.8                                 | 94823.93                                 | 425559.5                                 |\n",
       "| Management Unrepresented Employees - MTA | 305029.5                                 | 94299.66                                 | 399329.1                                 |\n",
       "| Indv. Employment Contract-MTA            | 264807.3                                 | 75609.68                                 | 353611.6                                 |\n",
       "| Municipal Exec Assoc, Police             | 258464.7                                 | 73991.33                                 | 353232.8                                 |\n",
       "| Physician/Dentists 11-AA, UAPD           | 239092.1                                 | 73227.59                                 | 324426.1                                 |\n",
       "| Executive Contract Employees             | 228060.2                                 | 74467.03                                 | 328158.6                                 |\n",
       "\n"
      ],
      "text/plain": [
       "  Union                                    avg_salary avg_total_benefits\n",
       "1 Unrepresented Contract Rte FBP           330199.8   94823.93          \n",
       "2 Management Unrepresented Employees - MTA 305029.5   94299.66          \n",
       "3 Indv. Employment Contract-MTA            264807.3   75609.68          \n",
       "4 Municipal Exec Assoc, Police             258464.7   73991.33          \n",
       "5 Physician/Dentists 11-AA, UAPD           239092.1   73227.59          \n",
       "6 Executive Contract Employees             228060.2   74467.03          \n",
       "  avg_total_compensation\n",
       "1 425559.5              \n",
       "2 399329.1              \n",
       "3 353611.6              \n",
       "4 353232.8              \n",
       "5 324426.1              \n",
       "6 328158.6              "
      ]
     },
     "metadata": {},
     "output_type": "display_data"
    }
   ],
   "source": [
    "head(union)"
   ]
  },
  {
   "cell_type": "code",
   "execution_count": 21,
   "id": "f0e34ce7",
   "metadata": {},
   "outputs": [
    {
     "data": {
      "text/html": [
       "130"
      ],
      "text/latex": [
       "130"
      ],
      "text/markdown": [
       "130"
      ],
      "text/plain": [
       "[1] 130"
      ]
     },
     "metadata": {},
     "output_type": "display_data"
    }
   ],
   "source": [
    "nrow(union)"
   ]
  },
  {
   "cell_type": "markdown",
   "id": "1c5e53c9",
   "metadata": {},
   "source": [
    "### 3.5 Union Employee Count"
   ]
  },
  {
   "cell_type": "code",
   "execution_count": 22,
   "id": "7a318952",
   "metadata": {},
   "outputs": [
    {
     "data": {
      "text/html": [
       "<table>\n",
       "<thead><tr><th scope=col>Union</th><th scope=col>count</th></tr></thead>\n",
       "<tbody>\n",
       "\t<tr><td>SEIU, Local 1021, Misc                            </td><td>115502                                            </td></tr>\n",
       "\t<tr><td>SEIU - Miscellaneous, Local 1021                  </td><td>108284                                            </td></tr>\n",
       "\t<tr><td><span style=white-space:pre-wrap>Prof &amp; Tech Engineers - Miscellaneous, Local 21   </span></td><td> 48814                                                                                        </td></tr>\n",
       "\t<tr><td><span style=white-space:pre-wrap>Prof &amp; Tech Eng, Local 21                         </span></td><td> 43424                                                                                        </td></tr>\n",
       "\t<tr><td>SEIU - Staff and Per Diem Nurses, Local 1021      </td><td> 28721                                            </td></tr>\n",
       "\t<tr><td>Police Officers' Association                      </td><td> 24832                                            </td></tr>\n",
       "\t<tr><td>SEIU, Local 1021, RN                              </td><td> 24010                                            </td></tr>\n",
       "\t<tr><td>Transport Workers - Transit Operators, Local 250-A</td><td> 23560                                            </td></tr>\n",
       "\t<tr><td>SEIU - Health Workers, Local 1021                 </td><td> 21289                                            </td></tr>\n",
       "\t<tr><td>Laborers, Local 261                               </td><td> 20158                                            </td></tr>\n",
       "</tbody>\n",
       "</table>\n"
      ],
      "text/latex": [
       "\\begin{tabular}{r|ll}\n",
       " Union & count\\\\\n",
       "\\hline\n",
       "\t SEIU, Local 1021, Misc                             & 115502                                            \\\\\n",
       "\t SEIU - Miscellaneous, Local 1021                   & 108284                                            \\\\\n",
       "\t Prof \\& Tech Engineers - Miscellaneous, Local 21    &  48814                                              \\\\\n",
       "\t Prof \\& Tech Eng, Local 21                          &  43424                                              \\\\\n",
       "\t SEIU - Staff and Per Diem Nurses, Local 1021       &  28721                                            \\\\\n",
       "\t Police Officers' Association                       &  24832                                            \\\\\n",
       "\t SEIU, Local 1021, RN                               &  24010                                            \\\\\n",
       "\t Transport Workers - Transit Operators, Local 250-A &  23560                                            \\\\\n",
       "\t SEIU - Health Workers, Local 1021                  &  21289                                            \\\\\n",
       "\t Laborers, Local 261                                &  20158                                            \\\\\n",
       "\\end{tabular}\n"
      ],
      "text/markdown": [
       "\n",
       "| Union | count |\n",
       "|---|---|\n",
       "| SEIU, Local 1021, Misc                             | 115502                                             |\n",
       "| SEIU - Miscellaneous, Local 1021                   | 108284                                             |\n",
       "| Prof & Tech Engineers - Miscellaneous, Local 21    |  48814                                             |\n",
       "| Prof & Tech Eng, Local 21                          |  43424                                             |\n",
       "| SEIU - Staff and Per Diem Nurses, Local 1021       |  28721                                             |\n",
       "| Police Officers' Association                       |  24832                                             |\n",
       "| SEIU, Local 1021, RN                               |  24010                                             |\n",
       "| Transport Workers - Transit Operators, Local 250-A |  23560                                             |\n",
       "| SEIU - Health Workers, Local 1021                  |  21289                                             |\n",
       "| Laborers, Local 261                                |  20158                                             |\n",
       "\n"
      ],
      "text/plain": [
       "   Union                                              count \n",
       "1  SEIU, Local 1021, Misc                             115502\n",
       "2  SEIU - Miscellaneous, Local 1021                   108284\n",
       "3  Prof & Tech Engineers - Miscellaneous, Local 21     48814\n",
       "4  Prof & Tech Eng, Local 21                           43424\n",
       "5  SEIU - Staff and Per Diem Nurses, Local 1021        28721\n",
       "6  Police Officers' Association                        24832\n",
       "7  SEIU, Local 1021, RN                                24010\n",
       "8  Transport Workers - Transit Operators, Local 250-A  23560\n",
       "9  SEIU - Health Workers, Local 1021                   21289\n",
       "10 Laborers, Local 261                                 20158"
      ]
     },
     "metadata": {},
     "output_type": "display_data"
    }
   ],
   "source": [
    "count.union <- df %>%\n",
    "    group_by(Union) %>%\n",
    "    summarise(count = n()) %>%\n",
    "    arrange(desc(count))\n",
    "\n",
    "head(count.union, n=10)"
   ]
  },
  {
   "cell_type": "markdown",
   "id": "eced0adc",
   "metadata": {},
   "source": [
    "## 4. Single Vector"
   ]
  },
  {
   "cell_type": "code",
   "execution_count": 23,
   "id": "02dd796d",
   "metadata": {},
   "outputs": [],
   "source": [
    "# unique(df$Job)"
   ]
  },
  {
   "cell_type": "code",
   "execution_count": 24,
   "id": "321e5706",
   "metadata": {},
   "outputs": [],
   "source": [
    "jobs.vector <- c(\"Chief Investment Officer\",\"Physician Administrator, DPH\",\"Managing Director \",\"Sup Psychiatric Physician Spec\",\"Chief, Fire Department\")"
   ]
  },
  {
   "cell_type": "markdown",
   "id": "47a817a7",
   "metadata": {},
   "source": [
    "## 5. Five Different Lists"
   ]
  },
  {
   "cell_type": "code",
   "execution_count": 25,
   "id": "1a6d0ab1",
   "metadata": {},
   "outputs": [
    {
     "data": {
      "text/plain": [
       "     Min.   1st Qu.    Median   3rd Qu.      Max. \n",
       "-68771.78  29009.54  67899.36 100416.89 651936.71 "
      ]
     },
     "metadata": {},
     "output_type": "display_data"
    }
   ],
   "source": [
    "summary(df$Salaries)[c(1:3,5:6)]"
   ]
  },
  {
   "cell_type": "code",
   "execution_count": 26,
   "id": "2ba14617",
   "metadata": {},
   "outputs": [],
   "source": [
    "list.2016 <- list(df$Salaries[df$Year == 2016])\n",
    "list.2017 <- list(df$Salaries[df$Year == 2017])\n",
    "list.2018 <- list(df$Salaries[df$Year == 2018])\n",
    "list.2019 <- list(df$Salaries[df$Year == 2019])\n",
    "list.2020 <- list(df$Salaries[df$Year == 2020])"
   ]
  },
  {
   "cell_type": "code",
   "execution_count": 27,
   "id": "e4ccc355",
   "metadata": {},
   "outputs": [
    {
     "data": {
      "text/html": [
       "<ol class=list-inline>\n",
       "\t<li>75147.32</li>\n",
       "\t<li>79836</li>\n",
       "\t<li>17806.6</li>\n",
       "\t<li>136517.7</li>\n",
       "\t<li>58085.17</li>\n",
       "</ol>\n"
      ],
      "text/latex": [
       "\\begin{enumerate*}\n",
       "\\item 75147.32\n",
       "\\item 79836\n",
       "\\item 17806.6\n",
       "\\item 136517.7\n",
       "\\item 58085.17\n",
       "\\end{enumerate*}\n"
      ],
      "text/markdown": [
       "1. 75147.32\n",
       "2. 79836\n",
       "3. 17806.6\n",
       "4. 136517.7\n",
       "5. 58085.17\n",
       "\n",
       "\n"
      ],
      "text/plain": [
       "[1]  75147.32  79836.00  17806.60 136517.70  58085.17"
      ]
     },
     "metadata": {},
     "output_type": "display_data"
    },
    {
     "data": {
      "text/html": [
       "<ol class=list-inline>\n",
       "\t<li>77496.07</li>\n",
       "\t<li>105997</li>\n",
       "\t<li>97929.54</li>\n",
       "\t<li>149664.9</li>\n",
       "\t<li>85569.72</li>\n",
       "</ol>\n"
      ],
      "text/latex": [
       "\\begin{enumerate*}\n",
       "\\item 77496.07\n",
       "\\item 105997\n",
       "\\item 97929.54\n",
       "\\item 149664.9\n",
       "\\item 85569.72\n",
       "\\end{enumerate*}\n"
      ],
      "text/markdown": [
       "1. 77496.07\n",
       "2. 105997\n",
       "3. 97929.54\n",
       "4. 149664.9\n",
       "5. 85569.72\n",
       "\n",
       "\n"
      ],
      "text/plain": [
       "[1]  77496.07 105997.00  97929.54 149664.90  85569.72"
      ]
     },
     "metadata": {},
     "output_type": "display_data"
    },
    {
     "data": {
      "text/html": [
       "<ol class=list-inline>\n",
       "\t<li>81096.04</li>\n",
       "\t<li>115053.11</li>\n",
       "\t<li>107355.32</li>\n",
       "\t<li>154758</li>\n",
       "\t<li>91988.81</li>\n",
       "</ol>\n"
      ],
      "text/latex": [
       "\\begin{enumerate*}\n",
       "\\item 81096.04\n",
       "\\item 115053.11\n",
       "\\item 107355.32\n",
       "\\item 154758\n",
       "\\item 91988.81\n",
       "\\end{enumerate*}\n"
      ],
      "text/markdown": [
       "1. 81096.04\n",
       "2. 115053.11\n",
       "3. 107355.32\n",
       "4. 154758\n",
       "5. 91988.81\n",
       "\n",
       "\n"
      ],
      "text/plain": [
       "[1]  81096.04 115053.11 107355.32 154758.00  91988.81"
      ]
     },
     "metadata": {},
     "output_type": "display_data"
    },
    {
     "data": {
      "text/html": [
       "<ol class=list-inline>\n",
       "\t<li>91332.01</li>\n",
       "\t<li>123241</li>\n",
       "\t<li>115715.39</li>\n",
       "\t<li>159394</li>\n",
       "\t<li>65542.01</li>\n",
       "</ol>\n"
      ],
      "text/latex": [
       "\\begin{enumerate*}\n",
       "\\item 91332.01\n",
       "\\item 123241\n",
       "\\item 115715.39\n",
       "\\item 159394\n",
       "\\item 65542.01\n",
       "\\end{enumerate*}\n"
      ],
      "text/markdown": [
       "1. 91332.01\n",
       "2. 123241\n",
       "3. 115715.39\n",
       "4. 159394\n",
       "5. 65542.01\n",
       "\n",
       "\n"
      ],
      "text/plain": [
       "[1]  91332.01 123241.00 115715.39 159394.00  65542.01"
      ]
     },
     "metadata": {},
     "output_type": "display_data"
    },
    {
     "data": {
      "text/html": [
       "<ol class=list-inline>\n",
       "\t<li>95416.01</li>\n",
       "\t<li>125989</li>\n",
       "\t<li>118150.24</li>\n",
       "\t<li>162491</li>\n",
       "\t<li>18521</li>\n",
       "</ol>\n"
      ],
      "text/latex": [
       "\\begin{enumerate*}\n",
       "\\item 95416.01\n",
       "\\item 125989\n",
       "\\item 118150.24\n",
       "\\item 162491\n",
       "\\item 18521\n",
       "\\end{enumerate*}\n"
      ],
      "text/markdown": [
       "1. 95416.01\n",
       "2. 125989\n",
       "3. 118150.24\n",
       "4. 162491\n",
       "5. 18521\n",
       "\n",
       "\n"
      ],
      "text/plain": [
       "[1]  95416.01 125989.00 118150.24 162491.00  18521.00"
      ]
     },
     "metadata": {},
     "output_type": "display_data"
    }
   ],
   "source": [
    "head(list.2016[[1]], n=5)\n",
    "head(list.2017[[1]], n=5)\n",
    "head(list.2018[[1]], n=5)\n",
    "head(list.2019[[1]], n=5)\n",
    "head(list.2020[[1]], n=5)"
   ]
  },
  {
   "cell_type": "markdown",
   "id": "2c3f9732",
   "metadata": {},
   "source": [
    "## 6. Conditionals"
   ]
  },
  {
   "cell_type": "code",
   "execution_count": 28,
   "id": "710fe9f7",
   "metadata": {},
   "outputs": [
    {
     "data": {
      "text/plain": [
       "     Min.   1st Qu.    Median   3rd Qu.      Max. \n",
       "  9774.92  58017.62  70839.40  92842.58 237005.30 "
      ]
     },
     "metadata": {},
     "output_type": "display_data"
    }
   ],
   "source": [
    "summary(avg.salaries.df$avg_salaries)[c(1:3,5:6)]\n",
    "median.salary = median(avg.salaries.df$avg_salaries)"
   ]
  },
  {
   "cell_type": "code",
   "execution_count": 29,
   "id": "613799f9",
   "metadata": {},
   "outputs": [
    {
     "data": {
      "text/html": [
       "<table>\n",
       "<thead><tr><th scope=col>Job.Family</th><th scope=col>avg_salaries</th></tr></thead>\n",
       "<tbody>\n",
       "\t<tr><td>Administrative &amp; Mgmt (Unrep)</td><td>237005.3                         </td></tr>\n",
       "\t<tr><td>Unassigned                   </td><td>147929.4                     </td></tr>\n",
       "\t<tr><td>Construction Project Mgmt    </td><td>126806.2                     </td></tr>\n",
       "\t<tr><td>Administrative-DPW/PUC       </td><td>124543.1                     </td></tr>\n",
       "\t<tr><td>Management                   </td><td>120669.6                     </td></tr>\n",
       "\t<tr><td><span style=white-space:pre-wrap>Medical &amp; Dental             </span></td><td>117536.1                                                                 </td></tr>\n",
       "</tbody>\n",
       "</table>\n"
      ],
      "text/latex": [
       "\\begin{tabular}{r|ll}\n",
       " Job.Family & avg\\_salaries\\\\\n",
       "\\hline\n",
       "\t Administrative \\& Mgmt (Unrep) & 237005.3                       \\\\\n",
       "\t Unassigned                    & 147929.4                     \\\\\n",
       "\t Construction Project Mgmt     & 126806.2                     \\\\\n",
       "\t Administrative-DPW/PUC        & 124543.1                     \\\\\n",
       "\t Management                    & 120669.6                     \\\\\n",
       "\t Medical \\& Dental              & 117536.1                       \\\\\n",
       "\\end{tabular}\n"
      ],
      "text/markdown": [
       "\n",
       "| Job.Family | avg_salaries |\n",
       "|---|---|\n",
       "| Administrative & Mgmt (Unrep) | 237005.3                      |\n",
       "| Unassigned                    | 147929.4                      |\n",
       "| Construction Project Mgmt     | 126806.2                      |\n",
       "| Administrative-DPW/PUC        | 124543.1                      |\n",
       "| Management                    | 120669.6                      |\n",
       "| Medical & Dental              | 117536.1                      |\n",
       "\n"
      ],
      "text/plain": [
       "  Job.Family                    avg_salaries\n",
       "1 Administrative & Mgmt (Unrep) 237005.3    \n",
       "2 Unassigned                    147929.4    \n",
       "3 Construction Project Mgmt     126806.2    \n",
       "4 Administrative-DPW/PUC        124543.1    \n",
       "5 Management                    120669.6    \n",
       "6 Medical & Dental              117536.1    "
      ]
     },
     "metadata": {},
     "output_type": "display_data"
    }
   ],
   "source": [
    "median.salary = median(avg.salaries.df$avg_salaries)\n",
    "head(avg.salaries.df[avg.salaries.df$avg_salaries > median.salary, ])"
   ]
  },
  {
   "cell_type": "code",
   "execution_count": null,
   "id": "cbf2d00d",
   "metadata": {},
   "outputs": [],
   "source": []
  }
 ],
 "metadata": {
  "kernelspec": {
   "display_name": "R",
   "language": "R",
   "name": "ir"
  },
  "language_info": {
   "codemirror_mode": "r",
   "file_extension": ".r",
   "mimetype": "text/x-r-source",
   "name": "R",
   "pygments_lexer": "r",
   "version": "3.6.1"
  }
 },
 "nbformat": 4,
 "nbformat_minor": 5
}
