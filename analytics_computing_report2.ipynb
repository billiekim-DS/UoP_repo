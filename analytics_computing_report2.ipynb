{
 "cells": [
  {
   "cell_type": "markdown",
   "id": "1ec1281b",
   "metadata": {},
   "source": [
    "# Module 2 Report  - Jobs\n",
    "### Extracting SF Salaries Insights\n",
    "<br>\n",
    "By: Billie Kim\n",
    "<br>\n",
    "Data Source: https://www.kaggle.com/datasets/san-francisco/sf-employee-compensation"
   ]
  },
  {
   "cell_type": "markdown",
   "id": "a71a6aa9",
   "metadata": {},
   "source": [
    "## Contents\n",
    "1. [Objective](#1.-Objective)\n",
    "2. [Data Exploration](#2.-Data-Exploration)\n",
    "3. [Subsets of Data](#3.-Subsets-of-Data)\n",
    "4. [Single Vector](#4.-Single-Vector)\n",
    "5. [Five Different Lists](#5.-Five-Different-Lists)\n",
    "6. [Conditionals](#6.-Conditionals)\n",
    "7. [Loops](#7.-Loops)\n",
    "8. [Summary](#8.-Summary)\n",
    "9. [Recommendations](#9.-Recommendations)"
   ]
  },
  {
   "cell_type": "code",
   "execution_count": 1,
   "id": "cd71da59",
   "metadata": {},
   "outputs": [],
   "source": [
    "# Load SF Employee Compensation data\n",
    "df <- read.csv(\"../mod_report2/data/employee-compensation.csv\")"
   ]
  },
  {
   "cell_type": "code",
   "execution_count": 3,
   "id": "c82fe867",
   "metadata": {
    "scrolled": true
   },
   "outputs": [],
   "source": [
    "suppressWarnings(library(tidyverse))"
   ]
  },
  {
   "cell_type": "markdown",
   "id": "4a4bc348",
   "metadata": {},
   "source": [
    "## 1. Objective\n",
    "\n",
    "Examining the cost of living is crucial for maintaining economic stability and improving the well being of individuals residing in communities. By studying income data, the San Francisco Chronicle hopes to give their readers a realistic picture of the current economic and financial factors that affects the workforce in San Francisco.\n",
    "\n",
    "We are tasked by the newspaper to analyze the cost of living in the city and report insights into income. While two factors affect the cost of living, income and housing, we aim to show how different jobs' income has been changing over the years. We seek to identify trends and across different demographic groups to gain a deeper understanding of income dynamics\n",
    "\n",
    "This report will use data of workers employed by the city of San Francisco (hosted on Kaggle) to analyze the relationships presented in the data and provide data-driven insights to the newspaper in hopes to educate readers. "
   ]
  },
  {
   "cell_type": "markdown",
   "id": "2382c249",
   "metadata": {},
   "source": [
    "## 2. Data Exploration"
   ]
  },
  {
   "cell_type": "code",
   "execution_count": 4,
   "id": "18360914",
   "metadata": {},
   "outputs": [
    {
     "name": "stdout",
     "output_type": "stream",
     "text": [
      "Number of rows: 683277 \n",
      "Number of columns: 22"
     ]
    }
   ],
   "source": [
    "# Print number of rows and columns\n",
    "cat(\"Number of rows:\", nrow(df), \"\\n\")\n",
    "cat(\"Number of columns:\", ncol(df))"
   ]
  },
  {
   "cell_type": "markdown",
   "id": "50ddf1b7",
   "metadata": {},
   "source": [
    "**Comment**: We are dealing with a good-sized amount of data with 683,277 records and 22 columns."
   ]
  },
  {
   "cell_type": "code",
   "execution_count": 5,
   "id": "26e487a1",
   "metadata": {
    "scrolled": true
   },
   "outputs": [
    {
     "data": {
      "text/html": [
       "<table>\n",
       "<thead><tr><th scope=col>Organization.Group.Code</th><th scope=col>Job.Family.Code</th><th scope=col>Job.Code</th><th scope=col>Year.Type</th><th scope=col>Year</th><th scope=col>Organization.Group</th><th scope=col>Department.Code</th><th scope=col>Department</th><th scope=col>Union.Code</th><th scope=col>Union</th><th scope=col>...</th><th scope=col>Employee.Identifier</th><th scope=col>Salaries</th><th scope=col>Overtime</th><th scope=col>Other.Salaries</th><th scope=col>Total.Salary</th><th scope=col>Retirement</th><th scope=col>Health.and.Dental</th><th scope=col>Other.Benefits</th><th scope=col>Total.Benefits</th><th scope=col>Total.Compensation</th></tr></thead>\n",
       "<tbody>\n",
       "\t<tr><td>1                                                  </td><td>1000                                               </td><td>1021                                               </td><td>Calendar                                           </td><td>2013                                               </td><td>Public Protection                                  </td><td>ADP                                                </td><td>ADP Adult Probation                                </td><td>21                                                 </td><td>Prof &amp; Tech Engineers - Miscellaneous, Local 21</td><td>...                                                </td><td>37730                                              </td><td> 57534.65                                          </td><td>0                                                  </td><td><span style=white-space:pre-wrap>    0.00</span>   </td><td> 57534.65                                          </td><td>11253.16                                           </td><td>11961.34                                           </td><td>4532.63                                            </td><td>27747.13                                           </td><td> 85281.78                                          </td></tr>\n",
       "\t<tr><td>1                                                  </td><td>1000                                               </td><td>1023                                               </td><td>Calendar                                           </td><td>2013                                               </td><td>Public Protection                                  </td><td>ADP                                                </td><td>ADP Adult Probation                                </td><td>21                                                 </td><td>Prof &amp; Tech Engineers - Miscellaneous, Local 21</td><td>...                                                </td><td>26574                                              </td><td> 57678.50                                          </td><td>0                                                  </td><td><span style=white-space:pre-wrap>    0.00</span>   </td><td> 57678.50                                          </td><td>10284.88                                           </td><td> 7176.80                                           </td><td>4755.14                                            </td><td>22216.82                                           </td><td> 79895.32                                          </td></tr>\n",
       "\t<tr><td>1                                                  </td><td>1000                                               </td><td>1031                                               </td><td>Calendar                                           </td><td>2013                                               </td><td>Public Protection                                  </td><td>ADP                                                </td><td>ADP Adult Probation                                </td><td>21                                                 </td><td>Prof &amp; Tech Engineers - Miscellaneous, Local 21</td><td>...                                                </td><td> 8148                                              </td><td> 63532.93                                          </td><td>0                                                  </td><td><span style=white-space:pre-wrap>    0.00</span>   </td><td> 63532.93                                          </td><td>12495.83                                           </td><td>12918.24                                           </td><td>4702.71                                            </td><td>30116.78                                           </td><td> 93649.71                                          </td></tr>\n",
       "\t<tr><td>1                                                  </td><td>1000                                               </td><td>1054                                               </td><td>Calendar                                           </td><td>2013                                               </td><td>Public Protection                                  </td><td>ADP                                                </td><td>ADP Adult Probation                                </td><td>21                                                 </td><td>Prof &amp; Tech Engineers - Miscellaneous, Local 21</td><td>...                                                </td><td>27436                                              </td><td>101274.51                                          </td><td>0                                                  </td><td>-7058.59                                           </td><td> 94215.92                                          </td><td>19644.45                                           </td><td>12918.24                                           </td><td>7458.76                                            </td><td>40021.45                                           </td><td>134237.37                                          </td></tr>\n",
       "\t<tr><td>1                                                  </td><td>1000                                               </td><td>1062                                               </td><td>Calendar                                           </td><td>2013                                               </td><td>Public Protection                                  </td><td>ADP                                                </td><td>ADP Adult Probation                                </td><td>21                                                 </td><td>Prof &amp; Tech Engineers - Miscellaneous, Local 21</td><td>...                                                </td><td>37730                                              </td><td><span style=white-space:pre-wrap>  5084.00</span>  </td><td>0                                                  </td><td><span style=white-space:pre-wrap>    0.00</span>   </td><td><span style=white-space:pre-wrap>  5084.00</span>  </td><td> 1083.90                                           </td><td><span style=white-space:pre-wrap>  956.91</span>   </td><td> 387.50                                            </td><td> 2428.31                                           </td><td><span style=white-space:pre-wrap>  7512.31</span>  </td></tr>\n",
       "\t<tr><td>1                                                  </td><td>1000                                               </td><td>1064                                               </td><td>Calendar                                           </td><td>2013                                               </td><td>Public Protection                                  </td><td>ADP                                                </td><td>ADP Adult Probation                                </td><td>21                                                 </td><td>Prof &amp; Tech Engineers - Miscellaneous, Local 21</td><td>...                                                </td><td>36223                                              </td><td> 34456.00                                          </td><td>0                                                  </td><td><span style=white-space:pre-wrap>    0.00</span>   </td><td> 34456.00                                          </td><td> 7346.00                                           </td><td> 3827.63                                           </td><td>2579.95                                            </td><td>13753.58                                           </td><td> 48209.58                                          </td></tr>\n",
       "\t<tr><td>1                                                  </td><td>1000                                               </td><td>1070                                               </td><td>Calendar                                           </td><td>2013                                               </td><td>Public Protection                                  </td><td>ADP                                                </td><td>ADP Adult Probation                                </td><td>21                                                 </td><td>Prof &amp; Tech Engineers - Miscellaneous, Local 21</td><td>...                                                </td><td>51426                                              </td><td>139889.00                                          </td><td>0                                                  </td><td><span style=white-space:pre-wrap>    0.00</span>   </td><td>139889.00                                          </td><td>26799.23                                           </td><td>12918.24                                           </td><td>9791.54                                            </td><td>49509.01                                           </td><td>189398.01                                          </td></tr>\n",
       "\t<tr><td>1                                                  </td><td>1000                                               </td><td>1094                                               </td><td>Calendar                                           </td><td>2013                                               </td><td>Public Protection                                  </td><td>ADP                                                </td><td>ADP Adult Probation                                </td><td>21                                                 </td><td>Prof &amp; Tech Engineers - Miscellaneous, Local 21</td><td>...                                                </td><td>26574                                              </td><td> 46572.00                                          </td><td>0                                                  </td><td><span style=white-space:pre-wrap>    0.00</span>   </td><td> 46572.00                                          </td><td> 9929.16                                           </td><td> 5741.44                                           </td><td>3822.28                                            </td><td>19492.88                                           </td><td> 66064.88                                          </td></tr>\n",
       "\t<tr><td>1                                                  </td><td>1200                                               </td><td>1232                                               </td><td>Calendar                                           </td><td>2013                                               </td><td>Public Protection                                  </td><td>ADP                                                </td><td>ADP Adult Probation                                </td><td>21                                                 </td><td>Prof &amp; Tech Engineers - Miscellaneous, Local 21</td><td>...                                                </td><td>37983                                              </td><td> 84681.53                                          </td><td>0                                                  </td><td><span style=white-space:pre-wrap>    0.00</span>   </td><td> 84681.53                                          </td><td>16661.84                                           </td><td>12918.24                                           </td><td>6838.44                                            </td><td>36418.52                                           </td><td>121100.05                                          </td></tr>\n",
       "\t<tr><td>1                                                  </td><td>1600                                               </td><td>1654                                               </td><td>Calendar                                           </td><td>2013                                               </td><td>Public Protection                                  </td><td>ADP                                                </td><td>ADP Adult Probation                                </td><td>21                                                 </td><td>Prof &amp; Tech Engineers - Miscellaneous, Local 21</td><td>...                                                </td><td>16858                                              </td><td> 10611.01                                          </td><td>0                                                  </td><td><span style=white-space:pre-wrap>    0.00</span>   </td><td> 10611.01                                          </td><td> 1879.20                                           </td><td> 1435.36                                           </td><td> 827.09                                            </td><td> 4141.65                                           </td><td> 14752.66                                          </td></tr>\n",
       "</tbody>\n",
       "</table>\n"
      ],
      "text/latex": [
       "\\begin{tabular}{r|llllllllllllllllllllll}\n",
       " Organization.Group.Code & Job.Family.Code & Job.Code & Year.Type & Year & Organization.Group & Department.Code & Department & Union.Code & Union & ... & Employee.Identifier & Salaries & Overtime & Other.Salaries & Total.Salary & Retirement & Health.and.Dental & Other.Benefits & Total.Benefits & Total.Compensation\\\\\n",
       "\\hline\n",
       "\t 1                                                 & 1000                                              & 1021                                              & Calendar                                          & 2013                                              & Public Protection                                 & ADP                                               & ADP Adult Probation                               & 21                                                & Prof \\& Tech Engineers - Miscellaneous, Local 21 & ...                                               & 37730                                             &  57534.65                                         & 0                                                 &     0.00                                          &  57534.65                                         & 11253.16                                          & 11961.34                                          & 4532.63                                           & 27747.13                                          &  85281.78                                        \\\\\n",
       "\t 1                                                 & 1000                                              & 1023                                              & Calendar                                          & 2013                                              & Public Protection                                 & ADP                                               & ADP Adult Probation                               & 21                                                & Prof \\& Tech Engineers - Miscellaneous, Local 21 & ...                                               & 26574                                             &  57678.50                                         & 0                                                 &     0.00                                          &  57678.50                                         & 10284.88                                          &  7176.80                                          & 4755.14                                           & 22216.82                                          &  79895.32                                        \\\\\n",
       "\t 1                                                 & 1000                                              & 1031                                              & Calendar                                          & 2013                                              & Public Protection                                 & ADP                                               & ADP Adult Probation                               & 21                                                & Prof \\& Tech Engineers - Miscellaneous, Local 21 & ...                                               &  8148                                             &  63532.93                                         & 0                                                 &     0.00                                          &  63532.93                                         & 12495.83                                          & 12918.24                                          & 4702.71                                           & 30116.78                                          &  93649.71                                        \\\\\n",
       "\t 1                                                 & 1000                                              & 1054                                              & Calendar                                          & 2013                                              & Public Protection                                 & ADP                                               & ADP Adult Probation                               & 21                                                & Prof \\& Tech Engineers - Miscellaneous, Local 21 & ...                                               & 27436                                             & 101274.51                                         & 0                                                 & -7058.59                                          &  94215.92                                         & 19644.45                                          & 12918.24                                          & 7458.76                                           & 40021.45                                          & 134237.37                                        \\\\\n",
       "\t 1                                                 & 1000                                              & 1062                                              & Calendar                                          & 2013                                              & Public Protection                                 & ADP                                               & ADP Adult Probation                               & 21                                                & Prof \\& Tech Engineers - Miscellaneous, Local 21 & ...                                               & 37730                                             &   5084.00                                         & 0                                                 &     0.00                                          &   5084.00                                         &  1083.90                                          &   956.91                                          &  387.50                                           &  2428.31                                          &   7512.31                                        \\\\\n",
       "\t 1                                                 & 1000                                              & 1064                                              & Calendar                                          & 2013                                              & Public Protection                                 & ADP                                               & ADP Adult Probation                               & 21                                                & Prof \\& Tech Engineers - Miscellaneous, Local 21 & ...                                               & 36223                                             &  34456.00                                         & 0                                                 &     0.00                                          &  34456.00                                         &  7346.00                                          &  3827.63                                          & 2579.95                                           & 13753.58                                          &  48209.58                                        \\\\\n",
       "\t 1                                                 & 1000                                              & 1070                                              & Calendar                                          & 2013                                              & Public Protection                                 & ADP                                               & ADP Adult Probation                               & 21                                                & Prof \\& Tech Engineers - Miscellaneous, Local 21 & ...                                               & 51426                                             & 139889.00                                         & 0                                                 &     0.00                                          & 139889.00                                         & 26799.23                                          & 12918.24                                          & 9791.54                                           & 49509.01                                          & 189398.01                                        \\\\\n",
       "\t 1                                                 & 1000                                              & 1094                                              & Calendar                                          & 2013                                              & Public Protection                                 & ADP                                               & ADP Adult Probation                               & 21                                                & Prof \\& Tech Engineers - Miscellaneous, Local 21 & ...                                               & 26574                                             &  46572.00                                         & 0                                                 &     0.00                                          &  46572.00                                         &  9929.16                                          &  5741.44                                          & 3822.28                                           & 19492.88                                          &  66064.88                                        \\\\\n",
       "\t 1                                                 & 1200                                              & 1232                                              & Calendar                                          & 2013                                              & Public Protection                                 & ADP                                               & ADP Adult Probation                               & 21                                                & Prof \\& Tech Engineers - Miscellaneous, Local 21 & ...                                               & 37983                                             &  84681.53                                         & 0                                                 &     0.00                                          &  84681.53                                         & 16661.84                                          & 12918.24                                          & 6838.44                                           & 36418.52                                          & 121100.05                                        \\\\\n",
       "\t 1                                                 & 1600                                              & 1654                                              & Calendar                                          & 2013                                              & Public Protection                                 & ADP                                               & ADP Adult Probation                               & 21                                                & Prof \\& Tech Engineers - Miscellaneous, Local 21 & ...                                               & 16858                                             &  10611.01                                         & 0                                                 &     0.00                                          &  10611.01                                         &  1879.20                                          &  1435.36                                          &  827.09                                           &  4141.65                                          &  14752.66                                        \\\\\n",
       "\\end{tabular}\n"
      ],
      "text/markdown": [
       "\n",
       "| Organization.Group.Code | Job.Family.Code | Job.Code | Year.Type | Year | Organization.Group | Department.Code | Department | Union.Code | Union | ... | Employee.Identifier | Salaries | Overtime | Other.Salaries | Total.Salary | Retirement | Health.and.Dental | Other.Benefits | Total.Benefits | Total.Compensation |\n",
       "|---|---|---|---|---|---|---|---|---|---|---|---|---|---|---|---|---|---|---|---|---|\n",
       "| 1                                               | 1000                                            | 1021                                            | Calendar                                        | 2013                                            | Public Protection                               | ADP                                             | ADP Adult Probation                             | 21                                              | Prof & Tech Engineers - Miscellaneous, Local 21 | ...                                             | 37730                                           |  57534.65                                       | 0                                               |     0.00                                        |  57534.65                                       | 11253.16                                        | 11961.34                                        | 4532.63                                         | 27747.13                                        |  85281.78                                       |\n",
       "| 1                                               | 1000                                            | 1023                                            | Calendar                                        | 2013                                            | Public Protection                               | ADP                                             | ADP Adult Probation                             | 21                                              | Prof & Tech Engineers - Miscellaneous, Local 21 | ...                                             | 26574                                           |  57678.50                                       | 0                                               |     0.00                                        |  57678.50                                       | 10284.88                                        |  7176.80                                        | 4755.14                                         | 22216.82                                        |  79895.32                                       |\n",
       "| 1                                               | 1000                                            | 1031                                            | Calendar                                        | 2013                                            | Public Protection                               | ADP                                             | ADP Adult Probation                             | 21                                              | Prof & Tech Engineers - Miscellaneous, Local 21 | ...                                             |  8148                                           |  63532.93                                       | 0                                               |     0.00                                        |  63532.93                                       | 12495.83                                        | 12918.24                                        | 4702.71                                         | 30116.78                                        |  93649.71                                       |\n",
       "| 1                                               | 1000                                            | 1054                                            | Calendar                                        | 2013                                            | Public Protection                               | ADP                                             | ADP Adult Probation                             | 21                                              | Prof & Tech Engineers - Miscellaneous, Local 21 | ...                                             | 27436                                           | 101274.51                                       | 0                                               | -7058.59                                        |  94215.92                                       | 19644.45                                        | 12918.24                                        | 7458.76                                         | 40021.45                                        | 134237.37                                       |\n",
       "| 1                                               | 1000                                            | 1062                                            | Calendar                                        | 2013                                            | Public Protection                               | ADP                                             | ADP Adult Probation                             | 21                                              | Prof & Tech Engineers - Miscellaneous, Local 21 | ...                                             | 37730                                           |   5084.00                                       | 0                                               |     0.00                                        |   5084.00                                       |  1083.90                                        |   956.91                                        |  387.50                                         |  2428.31                                        |   7512.31                                       |\n",
       "| 1                                               | 1000                                            | 1064                                            | Calendar                                        | 2013                                            | Public Protection                               | ADP                                             | ADP Adult Probation                             | 21                                              | Prof & Tech Engineers - Miscellaneous, Local 21 | ...                                             | 36223                                           |  34456.00                                       | 0                                               |     0.00                                        |  34456.00                                       |  7346.00                                        |  3827.63                                        | 2579.95                                         | 13753.58                                        |  48209.58                                       |\n",
       "| 1                                               | 1000                                            | 1070                                            | Calendar                                        | 2013                                            | Public Protection                               | ADP                                             | ADP Adult Probation                             | 21                                              | Prof & Tech Engineers - Miscellaneous, Local 21 | ...                                             | 51426                                           | 139889.00                                       | 0                                               |     0.00                                        | 139889.00                                       | 26799.23                                        | 12918.24                                        | 9791.54                                         | 49509.01                                        | 189398.01                                       |\n",
       "| 1                                               | 1000                                            | 1094                                            | Calendar                                        | 2013                                            | Public Protection                               | ADP                                             | ADP Adult Probation                             | 21                                              | Prof & Tech Engineers - Miscellaneous, Local 21 | ...                                             | 26574                                           |  46572.00                                       | 0                                               |     0.00                                        |  46572.00                                       |  9929.16                                        |  5741.44                                        | 3822.28                                         | 19492.88                                        |  66064.88                                       |\n",
       "| 1                                               | 1200                                            | 1232                                            | Calendar                                        | 2013                                            | Public Protection                               | ADP                                             | ADP Adult Probation                             | 21                                              | Prof & Tech Engineers - Miscellaneous, Local 21 | ...                                             | 37983                                           |  84681.53                                       | 0                                               |     0.00                                        |  84681.53                                       | 16661.84                                        | 12918.24                                        | 6838.44                                         | 36418.52                                        | 121100.05                                       |\n",
       "| 1                                               | 1600                                            | 1654                                            | Calendar                                        | 2013                                            | Public Protection                               | ADP                                             | ADP Adult Probation                             | 21                                              | Prof & Tech Engineers - Miscellaneous, Local 21 | ...                                             | 16858                                           |  10611.01                                       | 0                                               |     0.00                                        |  10611.01                                       |  1879.20                                        |  1435.36                                        |  827.09                                         |  4141.65                                        |  14752.66                                       |\n",
       "\n"
      ],
      "text/plain": [
       "   Organization.Group.Code Job.Family.Code Job.Code Year.Type Year\n",
       "1  1                       1000            1021     Calendar  2013\n",
       "2  1                       1000            1023     Calendar  2013\n",
       "3  1                       1000            1031     Calendar  2013\n",
       "4  1                       1000            1054     Calendar  2013\n",
       "5  1                       1000            1062     Calendar  2013\n",
       "6  1                       1000            1064     Calendar  2013\n",
       "7  1                       1000            1070     Calendar  2013\n",
       "8  1                       1000            1094     Calendar  2013\n",
       "9  1                       1200            1232     Calendar  2013\n",
       "10 1                       1600            1654     Calendar  2013\n",
       "   Organization.Group Department.Code Department          Union.Code\n",
       "1  Public Protection  ADP             ADP Adult Probation 21        \n",
       "2  Public Protection  ADP             ADP Adult Probation 21        \n",
       "3  Public Protection  ADP             ADP Adult Probation 21        \n",
       "4  Public Protection  ADP             ADP Adult Probation 21        \n",
       "5  Public Protection  ADP             ADP Adult Probation 21        \n",
       "6  Public Protection  ADP             ADP Adult Probation 21        \n",
       "7  Public Protection  ADP             ADP Adult Probation 21        \n",
       "8  Public Protection  ADP             ADP Adult Probation 21        \n",
       "9  Public Protection  ADP             ADP Adult Probation 21        \n",
       "10 Public Protection  ADP             ADP Adult Probation 21        \n",
       "   Union                                           ... Employee.Identifier\n",
       "1  Prof & Tech Engineers - Miscellaneous, Local 21 ... 37730              \n",
       "2  Prof & Tech Engineers - Miscellaneous, Local 21 ... 26574              \n",
       "3  Prof & Tech Engineers - Miscellaneous, Local 21 ...  8148              \n",
       "4  Prof & Tech Engineers - Miscellaneous, Local 21 ... 27436              \n",
       "5  Prof & Tech Engineers - Miscellaneous, Local 21 ... 37730              \n",
       "6  Prof & Tech Engineers - Miscellaneous, Local 21 ... 36223              \n",
       "7  Prof & Tech Engineers - Miscellaneous, Local 21 ... 51426              \n",
       "8  Prof & Tech Engineers - Miscellaneous, Local 21 ... 26574              \n",
       "9  Prof & Tech Engineers - Miscellaneous, Local 21 ... 37983              \n",
       "10 Prof & Tech Engineers - Miscellaneous, Local 21 ... 16858              \n",
       "   Salaries  Overtime Other.Salaries Total.Salary Retirement Health.and.Dental\n",
       "1   57534.65 0            0.00        57534.65    11253.16   11961.34         \n",
       "2   57678.50 0            0.00        57678.50    10284.88    7176.80         \n",
       "3   63532.93 0            0.00        63532.93    12495.83   12918.24         \n",
       "4  101274.51 0        -7058.59        94215.92    19644.45   12918.24         \n",
       "5    5084.00 0            0.00         5084.00     1083.90     956.91         \n",
       "6   34456.00 0            0.00        34456.00     7346.00    3827.63         \n",
       "7  139889.00 0            0.00       139889.00    26799.23   12918.24         \n",
       "8   46572.00 0            0.00        46572.00     9929.16    5741.44         \n",
       "9   84681.53 0            0.00        84681.53    16661.84   12918.24         \n",
       "10  10611.01 0            0.00        10611.01     1879.20    1435.36         \n",
       "   Other.Benefits Total.Benefits Total.Compensation\n",
       "1  4532.63        27747.13        85281.78         \n",
       "2  4755.14        22216.82        79895.32         \n",
       "3  4702.71        30116.78        93649.71         \n",
       "4  7458.76        40021.45       134237.37         \n",
       "5   387.50         2428.31         7512.31         \n",
       "6  2579.95        13753.58        48209.58         \n",
       "7  9791.54        49509.01       189398.01         \n",
       "8  3822.28        19492.88        66064.88         \n",
       "9  6838.44        36418.52       121100.05         \n",
       "10  827.09         4141.65        14752.66         "
      ]
     },
     "metadata": {},
     "output_type": "display_data"
    }
   ],
   "source": [
    "# Print top 10 records\n",
    "head(df, n=10)"
   ]
  },
  {
   "cell_type": "markdown",
   "id": "c19c5355",
   "metadata": {},
   "source": [
    "**Comment:** We can't see all of the columns since there are too many so we will print out the column names next."
   ]
  },
  {
   "cell_type": "code",
   "execution_count": 6,
   "id": "6aefa9ee",
   "metadata": {},
   "outputs": [
    {
     "data": {
      "text/html": [
       "<ol class=list-inline>\n",
       "\t<li>'Organization.Group.Code'</li>\n",
       "\t<li>'Job.Family.Code'</li>\n",
       "\t<li>'Job.Code'</li>\n",
       "\t<li>'Year.Type'</li>\n",
       "\t<li>'Year'</li>\n",
       "\t<li>'Organization.Group'</li>\n",
       "\t<li>'Department.Code'</li>\n",
       "\t<li>'Department'</li>\n",
       "\t<li>'Union.Code'</li>\n",
       "\t<li>'Union'</li>\n",
       "\t<li>'Job.Family'</li>\n",
       "\t<li>'Job'</li>\n",
       "\t<li>'Employee.Identifier'</li>\n",
       "\t<li>'Salaries'</li>\n",
       "\t<li>'Overtime'</li>\n",
       "\t<li>'Other.Salaries'</li>\n",
       "\t<li>'Total.Salary'</li>\n",
       "\t<li>'Retirement'</li>\n",
       "\t<li>'Health.and.Dental'</li>\n",
       "\t<li>'Other.Benefits'</li>\n",
       "\t<li>'Total.Benefits'</li>\n",
       "\t<li>'Total.Compensation'</li>\n",
       "</ol>\n"
      ],
      "text/latex": [
       "\\begin{enumerate*}\n",
       "\\item 'Organization.Group.Code'\n",
       "\\item 'Job.Family.Code'\n",
       "\\item 'Job.Code'\n",
       "\\item 'Year.Type'\n",
       "\\item 'Year'\n",
       "\\item 'Organization.Group'\n",
       "\\item 'Department.Code'\n",
       "\\item 'Department'\n",
       "\\item 'Union.Code'\n",
       "\\item 'Union'\n",
       "\\item 'Job.Family'\n",
       "\\item 'Job'\n",
       "\\item 'Employee.Identifier'\n",
       "\\item 'Salaries'\n",
       "\\item 'Overtime'\n",
       "\\item 'Other.Salaries'\n",
       "\\item 'Total.Salary'\n",
       "\\item 'Retirement'\n",
       "\\item 'Health.and.Dental'\n",
       "\\item 'Other.Benefits'\n",
       "\\item 'Total.Benefits'\n",
       "\\item 'Total.Compensation'\n",
       "\\end{enumerate*}\n"
      ],
      "text/markdown": [
       "1. 'Organization.Group.Code'\n",
       "2. 'Job.Family.Code'\n",
       "3. 'Job.Code'\n",
       "4. 'Year.Type'\n",
       "5. 'Year'\n",
       "6. 'Organization.Group'\n",
       "7. 'Department.Code'\n",
       "8. 'Department'\n",
       "9. 'Union.Code'\n",
       "10. 'Union'\n",
       "11. 'Job.Family'\n",
       "12. 'Job'\n",
       "13. 'Employee.Identifier'\n",
       "14. 'Salaries'\n",
       "15. 'Overtime'\n",
       "16. 'Other.Salaries'\n",
       "17. 'Total.Salary'\n",
       "18. 'Retirement'\n",
       "19. 'Health.and.Dental'\n",
       "20. 'Other.Benefits'\n",
       "21. 'Total.Benefits'\n",
       "22. 'Total.Compensation'\n",
       "\n",
       "\n"
      ],
      "text/plain": [
       " [1] \"Organization.Group.Code\" \"Job.Family.Code\"        \n",
       " [3] \"Job.Code\"                \"Year.Type\"              \n",
       " [5] \"Year\"                    \"Organization.Group\"     \n",
       " [7] \"Department.Code\"         \"Department\"             \n",
       " [9] \"Union.Code\"              \"Union\"                  \n",
       "[11] \"Job.Family\"              \"Job\"                    \n",
       "[13] \"Employee.Identifier\"     \"Salaries\"               \n",
       "[15] \"Overtime\"                \"Other.Salaries\"         \n",
       "[17] \"Total.Salary\"            \"Retirement\"             \n",
       "[19] \"Health.and.Dental\"       \"Other.Benefits\"         \n",
       "[21] \"Total.Benefits\"          \"Total.Compensation\"     "
      ]
     },
     "metadata": {},
     "output_type": "display_data"
    }
   ],
   "source": [
    "# Print column names\n",
    "names(df)"
   ]
  },
  {
   "cell_type": "code",
   "execution_count": 7,
   "id": "c3d9aa15",
   "metadata": {},
   "outputs": [
    {
     "data": {
      "text/html": [
       "<dl class=dl-horizontal>\n",
       "\t<dt>Organization.Group.Code</dt>\n",
       "\t\t<dd>'integer'</dd>\n",
       "\t<dt>Job.Family.Code</dt>\n",
       "\t\t<dd>'factor'</dd>\n",
       "\t<dt>Job.Code</dt>\n",
       "\t\t<dd>'factor'</dd>\n",
       "\t<dt>Year.Type</dt>\n",
       "\t\t<dd>'factor'</dd>\n",
       "\t<dt>Year</dt>\n",
       "\t\t<dd>'integer'</dd>\n",
       "\t<dt>Organization.Group</dt>\n",
       "\t\t<dd>'factor'</dd>\n",
       "\t<dt>Department.Code</dt>\n",
       "\t\t<dd>'factor'</dd>\n",
       "\t<dt>Department</dt>\n",
       "\t\t<dd>'factor'</dd>\n",
       "\t<dt>Union.Code</dt>\n",
       "\t\t<dd>'integer'</dd>\n",
       "\t<dt>Union</dt>\n",
       "\t\t<dd>'factor'</dd>\n",
       "\t<dt>Job.Family</dt>\n",
       "\t\t<dd>'factor'</dd>\n",
       "\t<dt>Job</dt>\n",
       "\t\t<dd>'factor'</dd>\n",
       "\t<dt>Employee.Identifier</dt>\n",
       "\t\t<dd>'integer'</dd>\n",
       "\t<dt>Salaries</dt>\n",
       "\t\t<dd>'numeric'</dd>\n",
       "\t<dt>Overtime</dt>\n",
       "\t\t<dd>'numeric'</dd>\n",
       "\t<dt>Other.Salaries</dt>\n",
       "\t\t<dd>'numeric'</dd>\n",
       "\t<dt>Total.Salary</dt>\n",
       "\t\t<dd>'numeric'</dd>\n",
       "\t<dt>Retirement</dt>\n",
       "\t\t<dd>'numeric'</dd>\n",
       "\t<dt>Health.and.Dental</dt>\n",
       "\t\t<dd>'numeric'</dd>\n",
       "\t<dt>Other.Benefits</dt>\n",
       "\t\t<dd>'numeric'</dd>\n",
       "\t<dt>Total.Benefits</dt>\n",
       "\t\t<dd>'numeric'</dd>\n",
       "\t<dt>Total.Compensation</dt>\n",
       "\t\t<dd>'numeric'</dd>\n",
       "</dl>\n"
      ],
      "text/latex": [
       "\\begin{description*}\n",
       "\\item[Organization.Group.Code] 'integer'\n",
       "\\item[Job.Family.Code] 'factor'\n",
       "\\item[Job.Code] 'factor'\n",
       "\\item[Year.Type] 'factor'\n",
       "\\item[Year] 'integer'\n",
       "\\item[Organization.Group] 'factor'\n",
       "\\item[Department.Code] 'factor'\n",
       "\\item[Department] 'factor'\n",
       "\\item[Union.Code] 'integer'\n",
       "\\item[Union] 'factor'\n",
       "\\item[Job.Family] 'factor'\n",
       "\\item[Job] 'factor'\n",
       "\\item[Employee.Identifier] 'integer'\n",
       "\\item[Salaries] 'numeric'\n",
       "\\item[Overtime] 'numeric'\n",
       "\\item[Other.Salaries] 'numeric'\n",
       "\\item[Total.Salary] 'numeric'\n",
       "\\item[Retirement] 'numeric'\n",
       "\\item[Health.and.Dental] 'numeric'\n",
       "\\item[Other.Benefits] 'numeric'\n",
       "\\item[Total.Benefits] 'numeric'\n",
       "\\item[Total.Compensation] 'numeric'\n",
       "\\end{description*}\n"
      ],
      "text/markdown": [
       "Organization.Group.Code\n",
       ":   'integer'Job.Family.Code\n",
       ":   'factor'Job.Code\n",
       ":   'factor'Year.Type\n",
       ":   'factor'Year\n",
       ":   'integer'Organization.Group\n",
       ":   'factor'Department.Code\n",
       ":   'factor'Department\n",
       ":   'factor'Union.Code\n",
       ":   'integer'Union\n",
       ":   'factor'Job.Family\n",
       ":   'factor'Job\n",
       ":   'factor'Employee.Identifier\n",
       ":   'integer'Salaries\n",
       ":   'numeric'Overtime\n",
       ":   'numeric'Other.Salaries\n",
       ":   'numeric'Total.Salary\n",
       ":   'numeric'Retirement\n",
       ":   'numeric'Health.and.Dental\n",
       ":   'numeric'Other.Benefits\n",
       ":   'numeric'Total.Benefits\n",
       ":   'numeric'Total.Compensation\n",
       ":   'numeric'\n",
       "\n"
      ],
      "text/plain": [
       "Organization.Group.Code         Job.Family.Code                Job.Code \n",
       "              \"integer\"                \"factor\"                \"factor\" \n",
       "              Year.Type                    Year      Organization.Group \n",
       "               \"factor\"               \"integer\"                \"factor\" \n",
       "        Department.Code              Department              Union.Code \n",
       "               \"factor\"                \"factor\"               \"integer\" \n",
       "                  Union              Job.Family                     Job \n",
       "               \"factor\"                \"factor\"                \"factor\" \n",
       "    Employee.Identifier                Salaries                Overtime \n",
       "              \"integer\"               \"numeric\"               \"numeric\" \n",
       "         Other.Salaries            Total.Salary              Retirement \n",
       "              \"numeric\"               \"numeric\"               \"numeric\" \n",
       "      Health.and.Dental          Other.Benefits          Total.Benefits \n",
       "              \"numeric\"               \"numeric\"               \"numeric\" \n",
       "     Total.Compensation \n",
       "              \"numeric\" "
      ]
     },
     "metadata": {},
     "output_type": "display_data"
    }
   ],
   "source": [
    "# Print column/feature classes\n",
    "sapply(df, class)"
   ]
  },
  {
   "cell_type": "markdown",
   "id": "8b8cbb12",
   "metadata": {},
   "source": [
    "**Comment:** We seem to have a good amount of both numeric features as well as categorical features. This gives us a pretty decent amount of ways to subset our numerical features based on our categorical features. Going forward, we will be using the Totals such as \"Total.Salary, Total.Benefits, and Total.Compensation.\" \n",
    "\n",
    "Next, we will quickly take a look at how many persons our dataset includes by using the Employee.ID field. Then, we will see the years that spans the dataet using the Years field. "
   ]
  },
  {
   "cell_type": "code",
   "execution_count": 8,
   "id": "105042b6",
   "metadata": {},
   "outputs": [
    {
     "data": {
      "text/html": [
       "309750"
      ],
      "text/latex": [
       "309750"
      ],
      "text/markdown": [
       "309750"
      ],
      "text/plain": [
       "[1] 309750"
      ]
     },
     "metadata": {},
     "output_type": "display_data"
    }
   ],
   "source": [
    "# Count number of unique Employee ID records\n",
    "length(unique(df$Employee.Identifier))"
   ]
  },
  {
   "cell_type": "code",
   "execution_count": 9,
   "id": "38d22399",
   "metadata": {},
   "outputs": [
    {
     "data": {
      "text/html": [
       "<ol class=list-inline>\n",
       "\t<li>2013</li>\n",
       "\t<li>2014</li>\n",
       "\t<li>2015</li>\n",
       "\t<li>2016</li>\n",
       "\t<li>2017</li>\n",
       "\t<li>2018</li>\n",
       "\t<li>2019</li>\n",
       "\t<li>2020</li>\n",
       "</ol>\n"
      ],
      "text/latex": [
       "\\begin{enumerate*}\n",
       "\\item 2013\n",
       "\\item 2014\n",
       "\\item 2015\n",
       "\\item 2016\n",
       "\\item 2017\n",
       "\\item 2018\n",
       "\\item 2019\n",
       "\\item 2020\n",
       "\\end{enumerate*}\n"
      ],
      "text/markdown": [
       "1. 2013\n",
       "2. 2014\n",
       "3. 2015\n",
       "4. 2016\n",
       "5. 2017\n",
       "6. 2018\n",
       "7. 2019\n",
       "8. 2020\n",
       "\n",
       "\n"
      ],
      "text/plain": [
       "[1] 2013 2014 2015 2016 2017 2018 2019 2020"
      ]
     },
     "metadata": {},
     "output_type": "display_data"
    }
   ],
   "source": [
    "# Unique values in the Years column\n",
    "unique(df$Year)"
   ]
  },
  {
   "cell_type": "markdown",
   "id": "36ae4c68",
   "metadata": {},
   "source": [
    "**Comment:** Our data spans from 2013 to 2020. According to [sf.gov](https://sf.gov/data/san-francisco-monthly-unemployment#:~:text=As%20of%20July%202022%2C%20the,now%20than%20before%20the%20pandemic.), the labor force in San Francisco is approximately 580,000. Our sample of 309,750 individuals who are employed by the city of San Francisco seems to cover slightly over half of the total work force in the city. It is fair to say that our sample is large enough to make inferences and draw conclusions about the entire population workforce in SF based on the analysis of our sample. "
   ]
  },
  {
   "cell_type": "markdown",
   "id": "462872fd",
   "metadata": {},
   "source": [
    "## 3. Subsets of Data"
   ]
  },
  {
   "cell_type": "markdown",
   "id": "daec2671",
   "metadata": {},
   "source": [
    "### 3.1 Salaries by Job Family"
   ]
  },
  {
   "cell_type": "code",
   "execution_count": 10,
   "id": "17d4d102",
   "metadata": {},
   "outputs": [
    {
     "data": {
      "text/html": [
       "<table>\n",
       "<thead><tr><th scope=col>job_family</th><th scope=col>avg_salaries</th></tr></thead>\n",
       "<tbody>\n",
       "\t<tr><td>Administrative &amp; Mgmt (Unrep)</td><td>238194.6                         </td></tr>\n",
       "\t<tr><td>Unassigned                   </td><td>150105.1                     </td></tr>\n",
       "\t<tr><td>Fire Services                </td><td>142523.1                     </td></tr>\n",
       "\t<tr><td>Administrative-Labor &amp; Trades</td><td>134588.8                         </td></tr>\n",
       "\t<tr><td>Police Services              </td><td>128981.3                     </td></tr>\n",
       "\t<tr><td>Construction Project Mgmt    </td><td>127681.1                     </td></tr>\n",
       "\t<tr><td>Administrative-DPW/PUC       </td><td>126180.8                     </td></tr>\n",
       "\t<tr><td><span style=white-space:pre-wrap>Medical &amp; Dental             </span></td><td>124301.1                                                                 </td></tr>\n",
       "\t<tr><td>Management                   </td><td>122460.8                     </td></tr>\n",
       "\t<tr><td><span style=white-space:pre-wrap>Legal &amp; Court                </span></td><td>115942.6                                                                 </td></tr>\n",
       "</tbody>\n",
       "</table>\n"
      ],
      "text/latex": [
       "\\begin{tabular}{r|ll}\n",
       " job\\_family & avg\\_salaries\\\\\n",
       "\\hline\n",
       "\t Administrative \\& Mgmt (Unrep) & 238194.6                       \\\\\n",
       "\t Unassigned                    & 150105.1                     \\\\\n",
       "\t Fire Services                 & 142523.1                     \\\\\n",
       "\t Administrative-Labor \\& Trades & 134588.8                       \\\\\n",
       "\t Police Services               & 128981.3                     \\\\\n",
       "\t Construction Project Mgmt     & 127681.1                     \\\\\n",
       "\t Administrative-DPW/PUC        & 126180.8                     \\\\\n",
       "\t Medical \\& Dental              & 124301.1                       \\\\\n",
       "\t Management                    & 122460.8                     \\\\\n",
       "\t Legal \\& Court                 & 115942.6                       \\\\\n",
       "\\end{tabular}\n"
      ],
      "text/markdown": [
       "\n",
       "| job_family | avg_salaries |\n",
       "|---|---|\n",
       "| Administrative & Mgmt (Unrep) | 238194.6                      |\n",
       "| Unassigned                    | 150105.1                      |\n",
       "| Fire Services                 | 142523.1                      |\n",
       "| Administrative-Labor & Trades | 134588.8                      |\n",
       "| Police Services               | 128981.3                      |\n",
       "| Construction Project Mgmt     | 127681.1                      |\n",
       "| Administrative-DPW/PUC        | 126180.8                      |\n",
       "| Medical & Dental              | 124301.1                      |\n",
       "| Management                    | 122460.8                      |\n",
       "| Legal & Court                 | 115942.6                      |\n",
       "\n"
      ],
      "text/plain": [
       "   job_family                    avg_salaries\n",
       "1  Administrative & Mgmt (Unrep) 238194.6    \n",
       "2  Unassigned                    150105.1    \n",
       "3  Fire Services                 142523.1    \n",
       "4  Administrative-Labor & Trades 134588.8    \n",
       "5  Police Services               128981.3    \n",
       "6  Construction Project Mgmt     127681.1    \n",
       "7  Administrative-DPW/PUC        126180.8    \n",
       "8  Medical & Dental              124301.1    \n",
       "9  Management                    122460.8    \n",
       "10 Legal & Court                 115942.6    "
      ]
     },
     "metadata": {},
     "output_type": "display_data"
    }
   ],
   "source": [
    "# Subset 1\n",
    "s1.avg.salaries <- df %>% \n",
    "    group_by(job_family = Job.Family) %>%\n",
    "    summarize(avg_salaries = mean(Total.Salary)) %>%\n",
    "    arrange(desc(avg_salaries))\n",
    "\n",
    "head(s1.avg.salaries, n=10)"
   ]
  },
  {
   "cell_type": "markdown",
   "id": "dca86f3b",
   "metadata": {},
   "source": [
    "**Comment:** From this subset, the newspaper can show the average salaries from different job families highlighting variations in salaries in San Francisco."
   ]
  },
  {
   "cell_type": "markdown",
   "id": "c87048a3",
   "metadata": {},
   "source": [
    "### 3.2 Top 10 Highest Paying Jobs"
   ]
  },
  {
   "cell_type": "code",
   "execution_count": 11,
   "id": "6ab7af01",
   "metadata": {
    "scrolled": true
   },
   "outputs": [
    {
     "data": {
      "text/html": [
       "<table>\n",
       "<thead><tr><th scope=col>Job</th><th scope=col>total_compensation</th></tr></thead>\n",
       "<tbody>\n",
       "\t<tr><td>Chief Investment Officer      </td><td>496296.9                      </td></tr>\n",
       "\t<tr><td>Physician Administrator, DPH  </td><td>488861.0                      </td></tr>\n",
       "\t<tr><td>Managing Director             </td><td>451704.1                      </td></tr>\n",
       "\t<tr><td>Sup Psychiatric Physician Spec</td><td>441228.9                      </td></tr>\n",
       "\t<tr><td>Chief, Fire Department        </td><td>436281.1                      </td></tr>\n",
       "\t<tr><td>Administrator, DPH            </td><td>418255.7                      </td></tr>\n",
       "\t<tr><td>Director                      </td><td>400767.1                      </td></tr>\n",
       "\t<tr><td>Assistant Chief of Police     </td><td>398627.1                      </td></tr>\n",
       "\t<tr><td>Controller                    </td><td>377978.8                      </td></tr>\n",
       "\t<tr><td>Gen Mgr, Public Trnsp Dept    </td><td>377815.0                      </td></tr>\n",
       "</tbody>\n",
       "</table>\n"
      ],
      "text/latex": [
       "\\begin{tabular}{r|ll}\n",
       " Job & total\\_compensation\\\\\n",
       "\\hline\n",
       "\t Chief Investment Officer       & 496296.9                      \\\\\n",
       "\t Physician Administrator, DPH   & 488861.0                      \\\\\n",
       "\t Managing Director              & 451704.1                      \\\\\n",
       "\t Sup Psychiatric Physician Spec & 441228.9                      \\\\\n",
       "\t Chief, Fire Department         & 436281.1                      \\\\\n",
       "\t Administrator, DPH             & 418255.7                      \\\\\n",
       "\t Director                       & 400767.1                      \\\\\n",
       "\t Assistant Chief of Police      & 398627.1                      \\\\\n",
       "\t Controller                     & 377978.8                      \\\\\n",
       "\t Gen Mgr, Public Trnsp Dept     & 377815.0                      \\\\\n",
       "\\end{tabular}\n"
      ],
      "text/markdown": [
       "\n",
       "| Job | total_compensation |\n",
       "|---|---|\n",
       "| Chief Investment Officer       | 496296.9                       |\n",
       "| Physician Administrator, DPH   | 488861.0                       |\n",
       "| Managing Director              | 451704.1                       |\n",
       "| Sup Psychiatric Physician Spec | 441228.9                       |\n",
       "| Chief, Fire Department         | 436281.1                       |\n",
       "| Administrator, DPH             | 418255.7                       |\n",
       "| Director                       | 400767.1                       |\n",
       "| Assistant Chief of Police      | 398627.1                       |\n",
       "| Controller                     | 377978.8                       |\n",
       "| Gen Mgr, Public Trnsp Dept     | 377815.0                       |\n",
       "\n"
      ],
      "text/plain": [
       "   Job                            total_compensation\n",
       "1  Chief Investment Officer       496296.9          \n",
       "2  Physician Administrator, DPH   488861.0          \n",
       "3  Managing Director              451704.1          \n",
       "4  Sup Psychiatric Physician Spec 441228.9          \n",
       "5  Chief, Fire Department         436281.1          \n",
       "6  Administrator, DPH             418255.7          \n",
       "7  Director                       400767.1          \n",
       "8  Assistant Chief of Police      398627.1          \n",
       "9  Controller                     377978.8          \n",
       "10 Gen Mgr, Public Trnsp Dept     377815.0          "
      ]
     },
     "metadata": {},
     "output_type": "display_data"
    }
   ],
   "source": [
    "# Subset 2\n",
    "s2.top.jobs <- df %>%\n",
    "    group_by(Job) %>%\n",
    "    summarise(total_compensation = mean(Total.Compensation)) %>%\n",
    "    arrange(desc(total_compensation))\n",
    "\n",
    "head(s2.top.jobs, n=10)"
   ]
  },
  {
   "cell_type": "markdown",
   "id": "edb21348",
   "metadata": {},
   "source": [
    "**Comment:** We are able to see which job positions are compensated the most in San Francisco. The information presented in this subset will attract readers and capture their attention."
   ]
  },
  {
   "cell_type": "markdown",
   "id": "d1c59aa9",
   "metadata": {},
   "source": [
    "### 3.3 Trends in Yearly Salaries"
   ]
  },
  {
   "cell_type": "code",
   "execution_count": 12,
   "id": "faa9de5a",
   "metadata": {},
   "outputs": [
    {
     "data": {
      "text/html": [
       "<table>\n",
       "<thead><tr><th scope=col>Year</th><th scope=col>avg_total_salary</th></tr></thead>\n",
       "<tbody>\n",
       "\t<tr><td>2013    </td><td>72023.35</td></tr>\n",
       "\t<tr><td>2014    </td><td>70218.11</td></tr>\n",
       "\t<tr><td>2015    </td><td>70920.06</td></tr>\n",
       "\t<tr><td>2016    </td><td>74309.36</td></tr>\n",
       "\t<tr><td>2017    </td><td>80290.33</td></tr>\n",
       "\t<tr><td>2018    </td><td>85970.82</td></tr>\n",
       "\t<tr><td>2019    </td><td>86788.81</td></tr>\n",
       "\t<tr><td>2020    </td><td>93996.42</td></tr>\n",
       "</tbody>\n",
       "</table>\n"
      ],
      "text/latex": [
       "\\begin{tabular}{r|ll}\n",
       " Year & avg\\_total\\_salary\\\\\n",
       "\\hline\n",
       "\t 2013     & 72023.35\\\\\n",
       "\t 2014     & 70218.11\\\\\n",
       "\t 2015     & 70920.06\\\\\n",
       "\t 2016     & 74309.36\\\\\n",
       "\t 2017     & 80290.33\\\\\n",
       "\t 2018     & 85970.82\\\\\n",
       "\t 2019     & 86788.81\\\\\n",
       "\t 2020     & 93996.42\\\\\n",
       "\\end{tabular}\n"
      ],
      "text/markdown": [
       "\n",
       "| Year | avg_total_salary |\n",
       "|---|---|\n",
       "| 2013     | 72023.35 |\n",
       "| 2014     | 70218.11 |\n",
       "| 2015     | 70920.06 |\n",
       "| 2016     | 74309.36 |\n",
       "| 2017     | 80290.33 |\n",
       "| 2018     | 85970.82 |\n",
       "| 2019     | 86788.81 |\n",
       "| 2020     | 93996.42 |\n",
       "\n"
      ],
      "text/plain": [
       "  Year avg_total_salary\n",
       "1 2013 72023.35        \n",
       "2 2014 70218.11        \n",
       "3 2015 70920.06        \n",
       "4 2016 74309.36        \n",
       "5 2017 80290.33        \n",
       "6 2018 85970.82        \n",
       "7 2019 86788.81        \n",
       "8 2020 93996.42        "
      ]
     },
     "metadata": {},
     "output_type": "display_data"
    }
   ],
   "source": [
    "# Subset 3\n",
    "s3.years.salary <- df %>%\n",
    "    group_by(Year) %>%\n",
    "    summarise(avg_total_salary = mean(Total.Salary))\n",
    "\n",
    "head(s3.years.salary, n=10)"
   ]
  },
  {
   "cell_type": "markdown",
   "id": "89143566",
   "metadata": {},
   "source": [
    "**Comment:** The newspaper can show how salaries have fluctuated over the yeears from 2013-2020. "
   ]
  },
  {
   "cell_type": "markdown",
   "id": "1edabbca",
   "metadata": {},
   "source": [
    "### 3.4 Benefits by Departments"
   ]
  },
  {
   "cell_type": "code",
   "execution_count": 13,
   "id": "a1a33a1c",
   "metadata": {},
   "outputs": [
    {
     "data": {
      "text/html": [
       "<table>\n",
       "<thead><tr><th scope=col>Department</th><th scope=col>avg_retirement</th><th scope=col>avg_health_dental</th><th scope=col>avg_other_benefits</th><th scope=col>total_benefits</th></tr></thead>\n",
       "<tbody>\n",
       "\t<tr><td>Law Library        </td><td>36376.73           </td><td>17529.18           </td><td>10882.022          </td><td>64787.93           </td></tr>\n",
       "\t<tr><td>LLB Law Library    </td><td>34321.37           </td><td>11322.73           </td><td>15345.517          </td><td>60989.62           </td></tr>\n",
       "\t<tr><td>City Attorney      </td><td>26699.52           </td><td>13131.92           </td><td> 9520.186          </td><td>49351.62           </td></tr>\n",
       "\t<tr><td>Public Defender    </td><td>22706.35           </td><td>13472.78           </td><td> 8555.060          </td><td>44734.19           </td></tr>\n",
       "\t<tr><td>Sheriff            </td><td>27219.91           </td><td>13614.85           </td><td> 3377.200          </td><td>44211.96           </td></tr>\n",
       "\t<tr><td>CAT City Attorney  </td><td>23712.49           </td><td>11016.67           </td><td> 8401.298          </td><td>43130.46           </td></tr>\n",
       "\t<tr><td>Retirement Services</td><td>22004.62           </td><td>13471.70           </td><td> 7570.591          </td><td>43046.91           </td></tr>\n",
       "\t<tr><td>District Attorney  </td><td>22359.92           </td><td>12155.40           </td><td> 7526.675          </td><td>42042.00           </td></tr>\n",
       "\t<tr><td>PDR Public Defender</td><td>20832.41           </td><td>10944.68           </td><td> 7523.766          </td><td>39300.86           </td></tr>\n",
       "\t<tr><td>Controller         </td><td>19007.48           </td><td>12451.41           </td><td> 7767.492          </td><td>39226.38           </td></tr>\n",
       "</tbody>\n",
       "</table>\n"
      ],
      "text/latex": [
       "\\begin{tabular}{r|lllll}\n",
       " Department & avg\\_retirement & avg\\_health\\_dental & avg\\_other\\_benefits & total\\_benefits\\\\\n",
       "\\hline\n",
       "\t Law Library         & 36376.73            & 17529.18            & 10882.022           & 64787.93           \\\\\n",
       "\t LLB Law Library     & 34321.37            & 11322.73            & 15345.517           & 60989.62           \\\\\n",
       "\t City Attorney       & 26699.52            & 13131.92            &  9520.186           & 49351.62           \\\\\n",
       "\t Public Defender     & 22706.35            & 13472.78            &  8555.060           & 44734.19           \\\\\n",
       "\t Sheriff             & 27219.91            & 13614.85            &  3377.200           & 44211.96           \\\\\n",
       "\t CAT City Attorney   & 23712.49            & 11016.67            &  8401.298           & 43130.46           \\\\\n",
       "\t Retirement Services & 22004.62            & 13471.70            &  7570.591           & 43046.91           \\\\\n",
       "\t District Attorney   & 22359.92            & 12155.40            &  7526.675           & 42042.00           \\\\\n",
       "\t PDR Public Defender & 20832.41            & 10944.68            &  7523.766           & 39300.86           \\\\\n",
       "\t Controller          & 19007.48            & 12451.41            &  7767.492           & 39226.38           \\\\\n",
       "\\end{tabular}\n"
      ],
      "text/markdown": [
       "\n",
       "| Department | avg_retirement | avg_health_dental | avg_other_benefits | total_benefits |\n",
       "|---|---|---|---|---|\n",
       "| Law Library         | 36376.73            | 17529.18            | 10882.022           | 64787.93            |\n",
       "| LLB Law Library     | 34321.37            | 11322.73            | 15345.517           | 60989.62            |\n",
       "| City Attorney       | 26699.52            | 13131.92            |  9520.186           | 49351.62            |\n",
       "| Public Defender     | 22706.35            | 13472.78            |  8555.060           | 44734.19            |\n",
       "| Sheriff             | 27219.91            | 13614.85            |  3377.200           | 44211.96            |\n",
       "| CAT City Attorney   | 23712.49            | 11016.67            |  8401.298           | 43130.46            |\n",
       "| Retirement Services | 22004.62            | 13471.70            |  7570.591           | 43046.91            |\n",
       "| District Attorney   | 22359.92            | 12155.40            |  7526.675           | 42042.00            |\n",
       "| PDR Public Defender | 20832.41            | 10944.68            |  7523.766           | 39300.86            |\n",
       "| Controller          | 19007.48            | 12451.41            |  7767.492           | 39226.38            |\n",
       "\n"
      ],
      "text/plain": [
       "   Department          avg_retirement avg_health_dental avg_other_benefits\n",
       "1  Law Library         36376.73       17529.18          10882.022         \n",
       "2  LLB Law Library     34321.37       11322.73          15345.517         \n",
       "3  City Attorney       26699.52       13131.92           9520.186         \n",
       "4  Public Defender     22706.35       13472.78           8555.060         \n",
       "5  Sheriff             27219.91       13614.85           3377.200         \n",
       "6  CAT City Attorney   23712.49       11016.67           8401.298         \n",
       "7  Retirement Services 22004.62       13471.70           7570.591         \n",
       "8  District Attorney   22359.92       12155.40           7526.675         \n",
       "9  PDR Public Defender 20832.41       10944.68           7523.766         \n",
       "10 Controller          19007.48       12451.41           7767.492         \n",
       "   total_benefits\n",
       "1  64787.93      \n",
       "2  60989.62      \n",
       "3  49351.62      \n",
       "4  44734.19      \n",
       "5  44211.96      \n",
       "6  43130.46      \n",
       "7  43046.91      \n",
       "8  42042.00      \n",
       "9  39300.86      \n",
       "10 39226.38      "
      ]
     },
     "metadata": {},
     "output_type": "display_data"
    }
   ],
   "source": [
    "# Subset 4\n",
    "s4.top.benefits <- df %>%\n",
    "    group_by(Department) %>%\n",
    "    summarise(avg_retirement = mean(Retirement), avg_health_dental = mean(Health.and.Dental), avg_other_benefits = mean(Other.Benefits), total_benefits = mean(Total.Benefits)) %>%\n",
    "    arrange(desc(total_benefits))\n",
    "\n",
    "head(s4.top.benefits, n=10)"
   ]
  },
  {
   "cell_type": "markdown",
   "id": "fde8c793",
   "metadata": {},
   "source": [
    "**Comment:** This subset breaksdown benefits across different departments. The newspaper can show the differences in the variations of benefit packages across departments."
   ]
  },
  {
   "cell_type": "markdown",
   "id": "1c5e53c9",
   "metadata": {},
   "source": [
    "### 3.5 Union Employee Count"
   ]
  },
  {
   "cell_type": "code",
   "execution_count": 14,
   "id": "7a318952",
   "metadata": {},
   "outputs": [
    {
     "data": {
      "text/html": [
       "<table>\n",
       "<thead><tr><th scope=col>Union</th><th scope=col>count</th></tr></thead>\n",
       "<tbody>\n",
       "\t<tr><td>SEIU, Local 1021, Misc                            </td><td>115502                                            </td></tr>\n",
       "\t<tr><td>SEIU - Miscellaneous, Local 1021                  </td><td>108284                                            </td></tr>\n",
       "\t<tr><td><span style=white-space:pre-wrap>Prof &amp; Tech Engineers - Miscellaneous, Local 21   </span></td><td> 48814                                                                                        </td></tr>\n",
       "\t<tr><td><span style=white-space:pre-wrap>Prof &amp; Tech Eng, Local 21                         </span></td><td> 43424                                                                                        </td></tr>\n",
       "\t<tr><td>SEIU - Staff and Per Diem Nurses, Local 1021      </td><td> 28721                                            </td></tr>\n",
       "\t<tr><td>Police Officers' Association                      </td><td> 24832                                            </td></tr>\n",
       "\t<tr><td>SEIU, Local 1021, RN                              </td><td> 24010                                            </td></tr>\n",
       "\t<tr><td>Transport Workers - Transit Operators, Local 250-A</td><td> 23560                                            </td></tr>\n",
       "\t<tr><td>SEIU - Health Workers, Local 1021                 </td><td> 21289                                            </td></tr>\n",
       "\t<tr><td>Laborers, Local 261                               </td><td> 20158                                            </td></tr>\n",
       "</tbody>\n",
       "</table>\n"
      ],
      "text/latex": [
       "\\begin{tabular}{r|ll}\n",
       " Union & count\\\\\n",
       "\\hline\n",
       "\t SEIU, Local 1021, Misc                             & 115502                                            \\\\\n",
       "\t SEIU - Miscellaneous, Local 1021                   & 108284                                            \\\\\n",
       "\t Prof \\& Tech Engineers - Miscellaneous, Local 21    &  48814                                              \\\\\n",
       "\t Prof \\& Tech Eng, Local 21                          &  43424                                              \\\\\n",
       "\t SEIU - Staff and Per Diem Nurses, Local 1021       &  28721                                            \\\\\n",
       "\t Police Officers' Association                       &  24832                                            \\\\\n",
       "\t SEIU, Local 1021, RN                               &  24010                                            \\\\\n",
       "\t Transport Workers - Transit Operators, Local 250-A &  23560                                            \\\\\n",
       "\t SEIU - Health Workers, Local 1021                  &  21289                                            \\\\\n",
       "\t Laborers, Local 261                                &  20158                                            \\\\\n",
       "\\end{tabular}\n"
      ],
      "text/markdown": [
       "\n",
       "| Union | count |\n",
       "|---|---|\n",
       "| SEIU, Local 1021, Misc                             | 115502                                             |\n",
       "| SEIU - Miscellaneous, Local 1021                   | 108284                                             |\n",
       "| Prof & Tech Engineers - Miscellaneous, Local 21    |  48814                                             |\n",
       "| Prof & Tech Eng, Local 21                          |  43424                                             |\n",
       "| SEIU - Staff and Per Diem Nurses, Local 1021       |  28721                                             |\n",
       "| Police Officers' Association                       |  24832                                             |\n",
       "| SEIU, Local 1021, RN                               |  24010                                             |\n",
       "| Transport Workers - Transit Operators, Local 250-A |  23560                                             |\n",
       "| SEIU - Health Workers, Local 1021                  |  21289                                             |\n",
       "| Laborers, Local 261                                |  20158                                             |\n",
       "\n"
      ],
      "text/plain": [
       "   Union                                              count \n",
       "1  SEIU, Local 1021, Misc                             115502\n",
       "2  SEIU - Miscellaneous, Local 1021                   108284\n",
       "3  Prof & Tech Engineers - Miscellaneous, Local 21     48814\n",
       "4  Prof & Tech Eng, Local 21                           43424\n",
       "5  SEIU - Staff and Per Diem Nurses, Local 1021        28721\n",
       "6  Police Officers' Association                        24832\n",
       "7  SEIU, Local 1021, RN                                24010\n",
       "8  Transport Workers - Transit Operators, Local 250-A  23560\n",
       "9  SEIU - Health Workers, Local 1021                   21289\n",
       "10 Laborers, Local 261                                 20158"
      ]
     },
     "metadata": {},
     "output_type": "display_data"
    }
   ],
   "source": [
    "# Subset 5\n",
    "s5.count.union <- df %>%\n",
    "    group_by(Union) %>%\n",
    "    summarise(count = n()) %>%\n",
    "    arrange(desc(count))\n",
    "\n",
    "head(s5.count.union, n=10)"
   ]
  },
  {
   "cell_type": "markdown",
   "id": "f698b8ae",
   "metadata": {},
   "source": [
    "**Comment:** According to the [U.S Bureau of Labor Statistics](https://www.bls.gov/regions/west/news-release/unionmembership_california.htm), 16.2% of the workforce in California were unionized in 2020. This subset shows the number of individuals in each union in SF which can be of interest to readers."
   ]
  },
  {
   "cell_type": "markdown",
   "id": "eced0adc",
   "metadata": {},
   "source": [
    "## 4. Single Vector"
   ]
  },
  {
   "cell_type": "code",
   "execution_count": 15,
   "id": "321e5706",
   "metadata": {
    "scrolled": true
   },
   "outputs": [
    {
     "data": {
      "text/html": [
       "<dl class=dl-horizontal>\n",
       "\t<dt>1</dt>\n",
       "\t\t<dd>'Chief Investment Officer'</dd>\n",
       "\t<dt>2</dt>\n",
       "\t\t<dd>'Physician Administrator, DPH'</dd>\n",
       "\t<dt>3</dt>\n",
       "\t\t<dd>'Managing Director '</dd>\n",
       "\t<dt>4</dt>\n",
       "\t\t<dd>'Sup Psychiatric Physician Spec'</dd>\n",
       "\t<dt>5</dt>\n",
       "\t\t<dd>'Chief, Fire Department'</dd>\n",
       "</dl>\n"
      ],
      "text/latex": [
       "\\begin{description*}\n",
       "\\item[1] 'Chief Investment Officer'\n",
       "\\item[2] 'Physician Administrator, DPH'\n",
       "\\item[3] 'Managing Director '\n",
       "\\item[4] 'Sup Psychiatric Physician Spec'\n",
       "\\item[5] 'Chief, Fire Department'\n",
       "\\end{description*}\n"
      ],
      "text/markdown": [
       "1\n",
       ":   'Chief Investment Officer'2\n",
       ":   'Physician Administrator, DPH'3\n",
       ":   'Managing Director '4\n",
       ":   'Sup Psychiatric Physician Spec'5\n",
       ":   'Chief, Fire Department'\n",
       "\n"
      ],
      "text/plain": [
       "                               1                                2 \n",
       "      \"Chief Investment Officer\"   \"Physician Administrator, DPH\" \n",
       "                               3                                4 \n",
       "            \"Managing Director \" \"Sup Psychiatric Physician Spec\" \n",
       "                               5 \n",
       "        \"Chief, Fire Department\" "
      ]
     },
     "metadata": {},
     "output_type": "display_data"
    }
   ],
   "source": [
    "# Create a vector of the top 5 highest paid jobs from subset 2\n",
    "jobs.vector <- c(\"Chief Investment Officer\",\"Physician Administrator, DPH\",\"Managing Director \",\"Sup Psychiatric Physician Spec\",\"Chief, Fire Department\")\n",
    "names(jobs.vector) <- c(1:5)\n",
    "\n",
    "jobs.vector"
   ]
  },
  {
   "cell_type": "markdown",
   "id": "37b393e6",
   "metadata": {},
   "source": [
    "**Comment:**\n",
    "1. A Chief Investment Officer (CIO) manages the investment portfolio of a company and plays a crucial role in shaping financial strategy. They make long-term investments using the company's capital to maximize returns.\n",
    "2. A Physician Administrator, DPH is a healthcare exceutrive who works within the Department of Public Health. They manage budgets, compliance and healthcare processes and are responsible for medical and administrative operations.\n",
    "3. A Managing Director is a senior executive in a specific division of a company who is responsible for executing strategies for growth. They often report directly to the company's CEO and/or board of directors.\n",
    "4. A Supervising Pyschiatric Physician Specialist is a medical professional in a pyschiatric/mental health facility. They manage clinical programs, ensures healthcare compliance, and directs healthcare staff and services to patients.\n",
    "5. A Chief of a Fire Department is the highest ranking officer in the fire department. They are responsible for managing budget and personnel and decides on strategic planning of emergency reponse services."
   ]
  },
  {
   "cell_type": "markdown",
   "id": "47a817a7",
   "metadata": {},
   "source": [
    "## 5. Five Different Lists"
   ]
  },
  {
   "cell_type": "code",
   "execution_count": 16,
   "id": "2ba14617",
   "metadata": {},
   "outputs": [],
   "source": [
    "# Create 5 lists of Total.Salary for the most recent 5 years from 2016 to 2020\n",
    "list.2016 <- list(df$Total.Salary[df$Year == 2016])\n",
    "list.2017 <- list(df$Total.Salary[df$Year == 2017])\n",
    "list.2018 <- list(df$Total.Salary[df$Year == 2018])\n",
    "list.2019 <- list(df$Total.Salary[df$Year == 2019])\n",
    "list.2020 <- list(df$Total.Salary[df$Year == 2020])"
   ]
  },
  {
   "cell_type": "code",
   "execution_count": 17,
   "id": "e4ccc355",
   "metadata": {
    "scrolled": true
   },
   "outputs": [
    {
     "data": {
      "text/html": [
       "<ol class=list-inline>\n",
       "\t<li>75147.32</li>\n",
       "\t<li>79836</li>\n",
       "\t<li>17806.6</li>\n",
       "</ol>\n"
      ],
      "text/latex": [
       "\\begin{enumerate*}\n",
       "\\item 75147.32\n",
       "\\item 79836\n",
       "\\item 17806.6\n",
       "\\end{enumerate*}\n"
      ],
      "text/markdown": [
       "1. 75147.32\n",
       "2. 79836\n",
       "3. 17806.6\n",
       "\n",
       "\n"
      ],
      "text/plain": [
       "[1] 75147.32 79836.00 17806.60"
      ]
     },
     "metadata": {},
     "output_type": "display_data"
    },
    {
     "data": {
      "text/html": [
       "<ol class=list-inline>\n",
       "\t<li>77496.07</li>\n",
       "\t<li>105997</li>\n",
       "\t<li>97929.54</li>\n",
       "</ol>\n"
      ],
      "text/latex": [
       "\\begin{enumerate*}\n",
       "\\item 77496.07\n",
       "\\item 105997\n",
       "\\item 97929.54\n",
       "\\end{enumerate*}\n"
      ],
      "text/markdown": [
       "1. 77496.07\n",
       "2. 105997\n",
       "3. 97929.54\n",
       "\n",
       "\n"
      ],
      "text/plain": [
       "[1]  77496.07 105997.00  97929.54"
      ]
     },
     "metadata": {},
     "output_type": "display_data"
    },
    {
     "data": {
      "text/html": [
       "<ol class=list-inline>\n",
       "\t<li>81096.04</li>\n",
       "\t<li>115053.11</li>\n",
       "\t<li>107355.32</li>\n",
       "</ol>\n"
      ],
      "text/latex": [
       "\\begin{enumerate*}\n",
       "\\item 81096.04\n",
       "\\item 115053.11\n",
       "\\item 107355.32\n",
       "\\end{enumerate*}\n"
      ],
      "text/markdown": [
       "1. 81096.04\n",
       "2. 115053.11\n",
       "3. 107355.32\n",
       "\n",
       "\n"
      ],
      "text/plain": [
       "[1]  81096.04 115053.11 107355.32"
      ]
     },
     "metadata": {},
     "output_type": "display_data"
    },
    {
     "data": {
      "text/html": [
       "<ol class=list-inline>\n",
       "\t<li>91332.01</li>\n",
       "\t<li>123241</li>\n",
       "\t<li>115715.39</li>\n",
       "</ol>\n"
      ],
      "text/latex": [
       "\\begin{enumerate*}\n",
       "\\item 91332.01\n",
       "\\item 123241\n",
       "\\item 115715.39\n",
       "\\end{enumerate*}\n"
      ],
      "text/markdown": [
       "1. 91332.01\n",
       "2. 123241\n",
       "3. 115715.39\n",
       "\n",
       "\n"
      ],
      "text/plain": [
       "[1]  91332.01 123241.00 115715.39"
      ]
     },
     "metadata": {},
     "output_type": "display_data"
    },
    {
     "data": {
      "text/html": [
       "<ol class=list-inline>\n",
       "\t<li>95416.01</li>\n",
       "\t<li>125989</li>\n",
       "\t<li>118150.24</li>\n",
       "</ol>\n"
      ],
      "text/latex": [
       "\\begin{enumerate*}\n",
       "\\item 95416.01\n",
       "\\item 125989\n",
       "\\item 118150.24\n",
       "\\end{enumerate*}\n"
      ],
      "text/markdown": [
       "1. 95416.01\n",
       "2. 125989\n",
       "3. 118150.24\n",
       "\n",
       "\n"
      ],
      "text/plain": [
       "[1]  95416.01 125989.00 118150.24"
      ]
     },
     "metadata": {},
     "output_type": "display_data"
    }
   ],
   "source": [
    "# Print first 5 values in each list\n",
    "head(list.2016[[1]], n=3)\n",
    "head(list.2017[[1]], n=3)\n",
    "head(list.2018[[1]], n=3)\n",
    "head(list.2019[[1]], n=3)\n",
    "head(list.2020[[1]], n=3)"
   ]
  },
  {
   "cell_type": "markdown",
   "id": "35491f5b",
   "metadata": {},
   "source": [
    "**Comment:** Each list represents the total salary figures for employees in the years 2016-2020. These lists provide valuable insights into compensation from a business perspective. By comparing each year's data to previous years, the newspaper can track year-to-year changes in salaries. Depending on whether salaries increase or decrease per year, salary trends over time can provide crucial insights into understanding workforce dynamics and economic factors."
   ]
  },
  {
   "cell_type": "markdown",
   "id": "2c3f9732",
   "metadata": {},
   "source": [
    "## 6. Conditionals"
   ]
  },
  {
   "cell_type": "code",
   "execution_count": 18,
   "id": "53e6319d",
   "metadata": {},
   "outputs": [
    {
     "data": {
      "text/html": [
       "<strong>25%:</strong> 60512.7183976031"
      ],
      "text/latex": [
       "\\textbf{25\\textbackslash{}\\%:} 60512.7183976031"
      ],
      "text/markdown": [
       "**25%:** 60512.7183976031"
      ],
      "text/plain": [
       "     25% \n",
       "60512.72 "
      ]
     },
     "metadata": {},
     "output_type": "display_data"
    },
    {
     "data": {
      "text/html": [
       "<strong>50%:</strong> 75552.3175304442"
      ],
      "text/latex": [
       "\\textbf{50\\textbackslash{}\\%:} 75552.3175304442"
      ],
      "text/markdown": [
       "**50%:** 75552.3175304442"
      ],
      "text/plain": [
       "     50% \n",
       "75552.32 "
      ]
     },
     "metadata": {},
     "output_type": "display_data"
    },
    {
     "data": {
      "text/html": [
       "<strong>75%:</strong> 99875.4410482196"
      ],
      "text/latex": [
       "\\textbf{75\\textbackslash{}\\%:} 99875.4410482196"
      ],
      "text/markdown": [
       "**75%:** 99875.4410482196"
      ],
      "text/plain": [
       "     75% \n",
       "99875.44 "
      ]
     },
     "metadata": {},
     "output_type": "display_data"
    }
   ],
   "source": [
    "# Find quartiles from the subset 1: s1.avg.salaries\n",
    "quartiles <- quantile(s1.avg.salaries$avg_salaries, probs = c(0.25,0.5,0.75))\n",
    "\n",
    "# Store quartiles in variables \n",
    "q1 <- quartiles[1]\n",
    "median <- quartiles[2]\n",
    "q3 <- quartiles[3]\n",
    "\n",
    "# Print quartiles\n",
    "q1\n",
    "median\n",
    "q3"
   ]
  },
  {
   "cell_type": "code",
   "execution_count": 19,
   "id": "08e6551a",
   "metadata": {
    "scrolled": true
   },
   "outputs": [
    {
     "data": {
      "text/html": [
       "<table>\n",
       "<thead><tr><th scope=col>job_family</th><th scope=col>avg_salaries</th></tr></thead>\n",
       "<tbody>\n",
       "\t<tr><td>Revenue                     </td><td>60250.26                    </td></tr>\n",
       "\t<tr><td><span style=white-space:pre-wrap>Pub Relations &amp; Spec Assts  </span></td><td>58778.88                                                                </td></tr>\n",
       "\t<tr><td><span style=white-space:pre-wrap>Protection &amp; Apprehension   </span></td><td>55053.15                                                                </td></tr>\n",
       "\t<tr><td>Semi-Skilled &amp; General Labor</td><td>53579.28                        </td></tr>\n",
       "\t<tr><td>SF Redevelopment Agency     </td><td>53426.03                    </td></tr>\n",
       "</tbody>\n",
       "</table>\n"
      ],
      "text/latex": [
       "\\begin{tabular}{r|ll}\n",
       " job\\_family & avg\\_salaries\\\\\n",
       "\\hline\n",
       "\t Revenue                      & 60250.26                    \\\\\n",
       "\t Pub Relations \\& Spec Assts   & 58778.88                      \\\\\n",
       "\t Protection \\& Apprehension    & 55053.15                      \\\\\n",
       "\t Semi-Skilled \\& General Labor & 53579.28                      \\\\\n",
       "\t SF Redevelopment Agency      & 53426.03                    \\\\\n",
       "\\end{tabular}\n"
      ],
      "text/markdown": [
       "\n",
       "| job_family | avg_salaries |\n",
       "|---|---|\n",
       "| Revenue                      | 60250.26                     |\n",
       "| Pub Relations & Spec Assts   | 58778.88                     |\n",
       "| Protection & Apprehension    | 55053.15                     |\n",
       "| Semi-Skilled & General Labor | 53579.28                     |\n",
       "| SF Redevelopment Agency      | 53426.03                     |\n",
       "\n"
      ],
      "text/plain": [
       "  job_family                   avg_salaries\n",
       "1 Revenue                      60250.26    \n",
       "2 Pub Relations & Spec Assts   58778.88    \n",
       "3 Protection & Apprehension    55053.15    \n",
       "4 Semi-Skilled & General Labor 53579.28    \n",
       "5 SF Redevelopment Agency      53426.03    "
      ]
     },
     "metadata": {},
     "output_type": "display_data"
    }
   ],
   "source": [
    "# Conditional 1: Filter records on less than or equal to Q1 (25th percentile)\n",
    "s1.avg.salaries %>%\n",
    "    filter(avg_salaries <= q1) %>%\n",
    "    head(5)"
   ]
  },
  {
   "cell_type": "markdown",
   "id": "350b5af5",
   "metadata": {},
   "source": [
    "**Comment:** We are filtering records from subset 1 which contains average total salaries by job family. The goal is to identify employees whose averages are below or equal to the 25th percentile of average salaries. This conditional helps identify employee salaries that are among the bottom 25% of job families."
   ]
  },
  {
   "cell_type": "code",
   "execution_count": 20,
   "id": "8fc5cb8f",
   "metadata": {},
   "outputs": [
    {
     "data": {
      "text/html": [
       "<table>\n",
       "<thead><tr><th scope=col>job_family</th><th scope=col>avg_salaries</th></tr></thead>\n",
       "<tbody>\n",
       "\t<tr><td>Budget, Admn &amp; Stats Analysis</td><td>75552.32                         </td></tr>\n",
       "\t<tr><td>Community Development        </td><td>75343.62                     </td></tr>\n",
       "\t<tr><td>Street Transit               </td><td>74214.37                     </td></tr>\n",
       "\t<tr><td><span style=white-space:pre-wrap>Appraisal &amp; Taxation         </span></td><td>72434.28                                                                 </td></tr>\n",
       "\t<tr><td>Human Services               </td><td>70640.62                     </td></tr>\n",
       "</tbody>\n",
       "</table>\n"
      ],
      "text/latex": [
       "\\begin{tabular}{r|ll}\n",
       " job\\_family & avg\\_salaries\\\\\n",
       "\\hline\n",
       "\t Budget, Admn \\& Stats Analysis & 75552.32                       \\\\\n",
       "\t Community Development         & 75343.62                     \\\\\n",
       "\t Street Transit                & 74214.37                     \\\\\n",
       "\t Appraisal \\& Taxation          & 72434.28                       \\\\\n",
       "\t Human Services                & 70640.62                     \\\\\n",
       "\\end{tabular}\n"
      ],
      "text/markdown": [
       "\n",
       "| job_family | avg_salaries |\n",
       "|---|---|\n",
       "| Budget, Admn & Stats Analysis | 75552.32                      |\n",
       "| Community Development         | 75343.62                      |\n",
       "| Street Transit                | 74214.37                      |\n",
       "| Appraisal & Taxation          | 72434.28                      |\n",
       "| Human Services                | 70640.62                      |\n",
       "\n"
      ],
      "text/plain": [
       "  job_family                    avg_salaries\n",
       "1 Budget, Admn & Stats Analysis 75552.32    \n",
       "2 Community Development         75343.62    \n",
       "3 Street Transit                74214.37    \n",
       "4 Appraisal & Taxation          72434.28    \n",
       "5 Human Services                70640.62    "
      ]
     },
     "metadata": {},
     "output_type": "display_data"
    }
   ],
   "source": [
    "# Conditional 2: Filter records on less than or equal to Q2/Median (50th percentile)\n",
    "s1.avg.salaries %>%\n",
    "    filter(avg_salaries <= median) %>%\n",
    "    head(5)"
   ]
  },
  {
   "cell_type": "markdown",
   "id": "0a6eb2b4",
   "metadata": {},
   "source": [
    "**Comment:** We filter records from subset 1 that are less than or equal to the median total salary which is the 50% percentile. This conditional helps identify employees whose salaries are below the median."
   ]
  },
  {
   "cell_type": "code",
   "execution_count": 21,
   "id": "d505fc3d",
   "metadata": {},
   "outputs": [
    {
     "data": {
      "text/html": [
       "<table>\n",
       "<thead><tr><th scope=col>job_family</th><th scope=col>avg_salaries</th></tr></thead>\n",
       "<tbody>\n",
       "\t<tr><td>Professional Engineering      </td><td>99590.61                      </td></tr>\n",
       "\t<tr><td>Emergency Coordination        </td><td>97256.02                      </td></tr>\n",
       "\t<tr><td>Health &amp; Sanitation Inspection</td><td>96808.90                          </td></tr>\n",
       "\t<tr><td>Journeyman Trade              </td><td>94592.40                      </td></tr>\n",
       "\t<tr><td>Property Administration       </td><td>92581.28                      </td></tr>\n",
       "</tbody>\n",
       "</table>\n"
      ],
      "text/latex": [
       "\\begin{tabular}{r|ll}\n",
       " job\\_family & avg\\_salaries\\\\\n",
       "\\hline\n",
       "\t Professional Engineering       & 99590.61                      \\\\\n",
       "\t Emergency Coordination         & 97256.02                      \\\\\n",
       "\t Health \\& Sanitation Inspection & 96808.90                        \\\\\n",
       "\t Journeyman Trade               & 94592.40                      \\\\\n",
       "\t Property Administration        & 92581.28                      \\\\\n",
       "\\end{tabular}\n"
      ],
      "text/markdown": [
       "\n",
       "| job_family | avg_salaries |\n",
       "|---|---|\n",
       "| Professional Engineering       | 99590.61                       |\n",
       "| Emergency Coordination         | 97256.02                       |\n",
       "| Health & Sanitation Inspection | 96808.90                       |\n",
       "| Journeyman Trade               | 94592.40                       |\n",
       "| Property Administration        | 92581.28                       |\n",
       "\n"
      ],
      "text/plain": [
       "  job_family                     avg_salaries\n",
       "1 Professional Engineering       99590.61    \n",
       "2 Emergency Coordination         97256.02    \n",
       "3 Health & Sanitation Inspection 96808.90    \n",
       "4 Journeyman Trade               94592.40    \n",
       "5 Property Administration        92581.28    "
      ]
     },
     "metadata": {},
     "output_type": "display_data"
    }
   ],
   "source": [
    "# Conditional 3: Filter records on less than or equal to Q3 (75th percentile)\n",
    "s1.avg.salaries %>%\n",
    "    filter(avg_salaries <= q3) %>%\n",
    "    head(5)"
   ]
  },
  {
   "cell_type": "markdown",
   "id": "b98aa9dc",
   "metadata": {},
   "source": [
    "**Comment:** We filter records from subset 1 that are less than or equal to the 75th percentile which represents the upper quartile. This conditional identifies employees whose salaries are in the top 25%."
   ]
  },
  {
   "cell_type": "markdown",
   "id": "9700c6fb",
   "metadata": {},
   "source": [
    "## 7. Loops"
   ]
  },
  {
   "cell_type": "code",
   "execution_count": 22,
   "id": "8375dbed",
   "metadata": {},
   "outputs": [
    {
     "name": "stdout",
     "output_type": "stream",
     "text": [
      "  year avg_overtime\n",
      "1 2013     4249.039\n",
      "2 2014     4305.350\n",
      "3 2015     4411.050\n",
      "4 2016     4928.004\n",
      "5 2017     5675.529\n",
      "6 2018     6490.329\n",
      "7 2019     7076.575\n",
      "8 2020     7306.643\n"
     ]
    }
   ],
   "source": [
    "# Loop 1\n",
    "# Get unique values of years\n",
    "years <- unique(df$Year)\n",
    "\n",
    "# Create empty vector to store average overtime pay for each year\n",
    "avg_ot_yr <- numeric(length(years))\n",
    "\n",
    "# Loop thru each year and calculate the average overtime pay\n",
    "for (i in c(1:8)) {\n",
    "    year_data <- subset(df, Year == years[i])\n",
    "    avg_ot <- mean(year_data$Overtime, na.rm = TRUE)\n",
    "    avg_ot_yr[i] <- avg_ot\n",
    "}\n",
    "\n",
    "# Create dataframe and store results\n",
    "average_overtime_data <- data.frame(year = years, avg_overtime = avg_ot_yr)\n",
    "\n",
    "# Print dataframe\n",
    "print(average_overtime_data)"
   ]
  },
  {
   "cell_type": "markdown",
   "id": "dec95373",
   "metadata": {},
   "source": [
    "**Comment:** This loop anlayze the average overtime pay per year by iterating thru each year in the dataset and calculating the average overtime pay each year. The results are stored in a dataframe."
   ]
  },
  {
   "cell_type": "code",
   "execution_count": 23,
   "id": "b7fde7d7",
   "metadata": {
    "scrolled": true
   },
   "outputs": [
    {
     "data": {
      "text/html": [
       "<table>\n",
       "<thead><tr><th scope=col>year</th><th scope=col>department</th><th scope=col>count</th></tr></thead>\n",
       "<tbody>\n",
       "\t<tr><td>2019                         </td><td>Public Health                </td><td>19788                        </td></tr>\n",
       "\t<tr><td>2018                         </td><td>Public Health                </td><td>19078                        </td></tr>\n",
       "\t<tr><td>2016                         </td><td>DPH Public Health            </td><td>18955                        </td></tr>\n",
       "\t<tr><td>2017                         </td><td>Public Health                </td><td>18833                        </td></tr>\n",
       "\t<tr><td>2015                         </td><td>DPH Public Health            </td><td>18349                        </td></tr>\n",
       "\t<tr><td>2014                         </td><td>DPH Public Health            </td><td>17966                        </td></tr>\n",
       "\t<tr><td>2013                         </td><td>DPH Public Health            </td><td>17823                        </td></tr>\n",
       "\t<tr><td>2019                         </td><td>Municipal Transportation Agcy</td><td>14037                        </td></tr>\n",
       "\t<tr><td>2016                         </td><td>MTA Municipal Transprtn Agncy</td><td>13246                        </td></tr>\n",
       "\t<tr><td>2015                         </td><td>MTA Municipal Transprtn Agncy</td><td>13043                        </td></tr>\n",
       "</tbody>\n",
       "</table>\n"
      ],
      "text/latex": [
       "\\begin{tabular}{r|lll}\n",
       " year & department & count\\\\\n",
       "\\hline\n",
       "\t 2019                          & Public Health                 & 19788                        \\\\\n",
       "\t 2018                          & Public Health                 & 19078                        \\\\\n",
       "\t 2016                          & DPH Public Health             & 18955                        \\\\\n",
       "\t 2017                          & Public Health                 & 18833                        \\\\\n",
       "\t 2015                          & DPH Public Health             & 18349                        \\\\\n",
       "\t 2014                          & DPH Public Health             & 17966                        \\\\\n",
       "\t 2013                          & DPH Public Health             & 17823                        \\\\\n",
       "\t 2019                          & Municipal Transportation Agcy & 14037                        \\\\\n",
       "\t 2016                          & MTA Municipal Transprtn Agncy & 13246                        \\\\\n",
       "\t 2015                          & MTA Municipal Transprtn Agncy & 13043                        \\\\\n",
       "\\end{tabular}\n"
      ],
      "text/markdown": [
       "\n",
       "| year | department | count |\n",
       "|---|---|---|\n",
       "| 2019                          | Public Health                 | 19788                         |\n",
       "| 2018                          | Public Health                 | 19078                         |\n",
       "| 2016                          | DPH Public Health             | 18955                         |\n",
       "| 2017                          | Public Health                 | 18833                         |\n",
       "| 2015                          | DPH Public Health             | 18349                         |\n",
       "| 2014                          | DPH Public Health             | 17966                         |\n",
       "| 2013                          | DPH Public Health             | 17823                         |\n",
       "| 2019                          | Municipal Transportation Agcy | 14037                         |\n",
       "| 2016                          | MTA Municipal Transprtn Agncy | 13246                         |\n",
       "| 2015                          | MTA Municipal Transprtn Agncy | 13043                         |\n",
       "\n"
      ],
      "text/plain": [
       "   year department                    count\n",
       "1  2019 Public Health                 19788\n",
       "2  2018 Public Health                 19078\n",
       "3  2016 DPH Public Health             18955\n",
       "4  2017 Public Health                 18833\n",
       "5  2015 DPH Public Health             18349\n",
       "6  2014 DPH Public Health             17966\n",
       "7  2013 DPH Public Health             17823\n",
       "8  2019 Municipal Transportation Agcy 14037\n",
       "9  2016 MTA Municipal Transprtn Agncy 13246\n",
       "10 2015 MTA Municipal Transprtn Agncy 13043"
      ]
     },
     "metadata": {},
     "output_type": "display_data"
    }
   ],
   "source": [
    "# Loop 2\n",
    "# Get unique values for years and departments\n",
    "years <- unique(df$Year)\n",
    "departments <- unique(df$Department)\n",
    "\n",
    "# Create empty data frame to store results\n",
    "employee_count_data <- data.frame(Year = numeric(0), Department = character(0), Employee_Count = numeric(0))\n",
    "\n",
    "# Loop through each year and department and count # of employees\n",
    "for (yr in years) {\n",
    "      for (dept in departments) {\n",
    "        employee_count <- sum(df$Year == yr & df$Department == dept)\n",
    "        employee_count_data <- rbind(employee_count_data, data.frame(year = yr, department = dept, count = employee_count))\n",
    "}}\n",
    "\n",
    "# Sort by count and print\n",
    "employee_count_data %>%\n",
    "    arrange(desc(count)) %>%\n",
    "    head(10)"
   ]
  },
  {
   "cell_type": "markdown",
   "id": "465678f6",
   "metadata": {},
   "source": [
    "**Comment:** This loop counts the number of employees in each department for each year that spans our data and outputs a dataframe that is sorted by the count of employees."
   ]
  },
  {
   "cell_type": "code",
   "execution_count": 24,
   "id": "f14ec476",
   "metadata": {},
   "outputs": [
    {
     "name": "stdout",
     "output_type": "stream",
     "text": [
      "Number of Employees in a union in 2017 : 129821 \n",
      "Number of Employees not in a union in 2017 : 172 \n"
     ]
    }
   ],
   "source": [
    "# Loop 3\n",
    "# Choose year input: 2013-2020\n",
    "year_input <- 2017\n",
    "\n",
    "# Create variables to count employees in union or not in union\n",
    "in_union_count <- 0\n",
    "not_in_union_count <- 0\n",
    "\n",
    "# Loop through each row of the dataset for the input year and count\n",
    "for (i in 1:nrow(df)) {\n",
    "    if (df$Year[i] == year_input) {\n",
    "        if (!is.na(df$Union[i]) & (df$Union[i] != \"\")) {\n",
    "            # Employee in a union\n",
    "            in_union_count <- in_union_count + 1\n",
    "        } else {\n",
    "            # Employee not in a union\n",
    "            not_in_union_count <- not_in_union_count + 1\n",
    "}}}\n",
    "\n",
    "# Print the results\n",
    "cat(\"Number of Employees in a union in\", year_input,\":\", in_union_count, \"\\n\")\n",
    "cat(\"Number of Employees not in a union in\", year_input,\":\",  not_in_union_count, \"\\n\")"
   ]
  },
  {
   "cell_type": "markdown",
   "id": "27c992c2",
   "metadata": {},
   "source": [
    "**Comment:** This loop counts how many employees are in a union vs. not in a union given a year input. The newspaper can adjust the year input and outputs the corresponding values."
   ]
  },
  {
   "cell_type": "markdown",
   "id": "e2bfaa87",
   "metadata": {},
   "source": [
    "## 8. Summary\n",
    "\n",
    "This report provides an overview of the dataset depicting the employees employed by the city of San Francisco. The dataset contains a total of 683,277 rows and 22 columns and spans from 2013-2020. Among these records, there a total of 309,750 unique employees. Our anlysis shows insights within Job Families and Salaries such as \"Administrative & Mgmt (Unrep)\" with average salaries of \\\\$238,194 and \"Fire Services\" with average salaries of $142,523. This report also identifies the highest-paying positions such as the \"Chief Infvestment Officer\" with an average total compensation of \\\\$494,296. We also cover the benefit variations between various department as well as union participation."
   ]
  },
  {
   "cell_type": "markdown",
   "id": "1a4019f4",
   "metadata": {},
   "source": [
    "## 9. Recommendations\n",
    "\n",
    "We recommend that the newspaper uses key findings in this report as a guide to publish series of articles that takes a deep dive into the cost of living. We also recommend that the newspaper looks into other areas of analysis that were not covered in this report. This dataset includes a fairly large dataset with 22 features and not all features were used in this report. However, the certain key areas that are highlighted in this report are salary disparities between job families, profiles of high paying jobs, benefit analysis between departments, union membership insights, and yearly workforce trends. We recommend that the newspaper also creates visualization that may aid in capturing readers' attention that can help illustrate the cost of living analysis."
   ]
  },
  {
   "cell_type": "code",
   "execution_count": null,
   "id": "894cae26",
   "metadata": {},
   "outputs": [],
   "source": []
  }
 ],
 "metadata": {
  "kernelspec": {
   "display_name": "R",
   "language": "R",
   "name": "ir"
  },
  "language_info": {
   "codemirror_mode": "r",
   "file_extension": ".r",
   "mimetype": "text/x-r-source",
   "name": "R",
   "pygments_lexer": "r",
   "version": "3.6.1"
  }
 },
 "nbformat": 4,
 "nbformat_minor": 5
}
